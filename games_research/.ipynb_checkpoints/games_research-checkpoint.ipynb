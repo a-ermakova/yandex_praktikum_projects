{
 "cells": [
  {
   "cell_type": "markdown",
   "id": "224aa5c5",
   "metadata": {
    "toc": true
   },
   "source": [
    "<h1>Table of Contents<span class=\"tocSkip\"></span></h1>\n",
    "<div class=\"toc\"><ul class=\"toc-item\"><li><span><a href=\"#Обзор-данных\" data-toc-modified-id=\"Обзор-данных-1\"><span class=\"toc-item-num\">1&nbsp;&nbsp;</span>Обзор данных</a></span></li><li><span><a href=\"#Предобработка-данных\" data-toc-modified-id=\"Предобработка-данных-2\"><span class=\"toc-item-num\">2&nbsp;&nbsp;</span>Предобработка данных</a></span><ul class=\"toc-item\"><li><span><a href=\"#Стиль-заголовков\" data-toc-modified-id=\"Стиль-заголовков-2.1\"><span class=\"toc-item-num\">2.1&nbsp;&nbsp;</span>Стиль заголовков</a></span></li><li><span><a href=\"#Изменение-типов-данных\" data-toc-modified-id=\"Изменение-типов-данных-2.2\"><span class=\"toc-item-num\">2.2&nbsp;&nbsp;</span>Изменение типов данных</a></span></li><li><span><a href=\"#Пропуски-значений\" data-toc-modified-id=\"Пропуски-значений-2.3\"><span class=\"toc-item-num\">2.3&nbsp;&nbsp;</span>Пропуски значений</a></span></li><li><span><a href=\"#Дубликаты\" data-toc-modified-id=\"Дубликаты-2.4\"><span class=\"toc-item-num\">2.4&nbsp;&nbsp;</span>Дубликаты</a></span></li><li><span><a href=\"#Подсчёт-суммарных-продаж\" data-toc-modified-id=\"Подсчёт-суммарных-продаж-2.5\"><span class=\"toc-item-num\">2.5&nbsp;&nbsp;</span>Подсчёт суммарных продаж</a></span></li></ul></li><li><span><a href=\"#Исследовательский-анализ-данных\" data-toc-modified-id=\"Исследовательский-анализ-данных-3\"><span class=\"toc-item-num\">3&nbsp;&nbsp;</span>Исследовательский анализ данных</a></span><ul class=\"toc-item\"><li><span><a href=\"#Определение-актуального-периода\" data-toc-modified-id=\"Определение-актуального-периода-3.1\"><span class=\"toc-item-num\">3.1&nbsp;&nbsp;</span>Определение актуального периода</a></span></li><li><span><a href=\"#Изучение-структуры-платформ\" data-toc-modified-id=\"Изучение-структуры-платформ-3.2\"><span class=\"toc-item-num\">3.2&nbsp;&nbsp;</span>Изучение структуры платформ</a></span></li><li><span><a href=\"#Влияние-отзывов-на-объём-продаж\" data-toc-modified-id=\"Влияние-отзывов-на-объём-продаж-3.3\"><span class=\"toc-item-num\">3.3&nbsp;&nbsp;</span>Влияние отзывов на объём продаж</a></span></li><li><span><a href=\"#Распределение-игр-по-жанрам\" data-toc-modified-id=\"Распределение-игр-по-жанрам-3.4\"><span class=\"toc-item-num\">3.4&nbsp;&nbsp;</span>Распределение игр по жанрам</a></span></li><li><span><a href=\"#Портрет-пользователей-компьютерных-игр-из-разных-регионов\" data-toc-modified-id=\"Портрет-пользователей-компьютерных-игр-из-разных-регионов-3.5\"><span class=\"toc-item-num\">3.5&nbsp;&nbsp;</span>Портрет пользователей компьютерных игр из разных регионов</a></span></li></ul></li><li><span><a href=\"#Проверка-гипотез\" data-toc-modified-id=\"Проверка-гипотез-4\"><span class=\"toc-item-num\">4&nbsp;&nbsp;</span>Проверка гипотез</a></span><ul class=\"toc-item\"><li><span><a href=\"#Сравнение-средних-пользовательских-рейтингов-по-платформам\" data-toc-modified-id=\"Сравнение-средних-пользовательских-рейтингов-по-платформам-4.1\"><span class=\"toc-item-num\">4.1&nbsp;&nbsp;</span>Сравнение средних пользовательских рейтингов по платформам</a></span></li><li><span><a href=\"#Сравнение-средних-пользовательских-рейтингов-по-жанрам\" data-toc-modified-id=\"Сравнение-средних-пользовательских-рейтингов-по-жанрам-4.2\"><span class=\"toc-item-num\">4.2&nbsp;&nbsp;</span>Сравнение средних пользовательских рейтингов по жанрам</a></span></li></ul></li><li><span><a href=\"#Выводы\" data-toc-modified-id=\"Выводы-5\"><span class=\"toc-item-num\">5&nbsp;&nbsp;</span>Выводы</a></span></li></ul></div>"
   ]
  },
  {
   "cell_type": "markdown",
   "id": "21ad6ab0",
   "metadata": {},
   "source": [
    "# Интернет-магазин компьютерных игр"
   ]
  },
  {
   "cell_type": "markdown",
   "id": "02784c43",
   "metadata": {},
   "source": [
    "Интернет-магазин «Стримчик» продаёт компьютерные игры по всему миру. Из открытых источников доступны исторические данные о продажах игр до 2016 г. Необходимо выбрать потенциально более популярный продукт и спланировать рекламную кампанию на 2017 г.\n",
    "\n",
    "**Описание данных:**\n",
    "\n",
    "* `Name` — название игры\n",
    "* `Platform` — платформа\n",
    "* `Year_of_Release` — год выпуска\n",
    "* `Genre` — жанр игры\n",
    "* `NA_sales` — продажи в Северной Америке (миллионы проданных копий)\n",
    "* `EU_sales` — продажи в Европе (миллионы проданных копий)\n",
    "* `JP_sales` — продажи в Японии (миллионы проданных копий)\n",
    "* `Other_sales` — продажи в других странах (миллионы проданных копий)\n",
    "* `Critic_Score` — оценка критиков (максимум 100)\n",
    "* `User_Score` — оценка пользователей (максимум 10)\n",
    "* `Rating` — рейтинг от организации ESRB (определяет возрастной рейтинг компьютерных игр)\n",
    "\n",
    "**Цель исследования** - сделать прогноз относительно популярности разных компьютерных игр на 2017 г. с целью разработки рекламной кампании.\n",
    "\n",
    "Для выполнения поставленной цели необходимо провести исследовательский анализ данных, а также проверить **две гипотезы**:\n",
    "1. Средние пользовательские рейтинги платформ Xbox One и PC одинаковые.\n",
    "2. Средние пользовательские рейтинги жанров Action и Sports разные.\n",
    "\n",
    "**План исследования:**\n",
    "1. Обзор данных\n",
    "2. Предобработка данных\n",
    "3. Исследовательский анализ данных\n",
    "4. Проверка гипотез\n",
    "5. Выводы"
   ]
  },
  {
   "cell_type": "markdown",
   "id": "8a3f1f28",
   "metadata": {},
   "source": [
    "## Обзор данных"
   ]
  },
  {
   "cell_type": "markdown",
   "id": "a291466d",
   "metadata": {},
   "source": [
    "Для начала импортируем все библоитеки, которые понадобятся в работе:"
   ]
  },
  {
   "cell_type": "code",
   "execution_count": 1,
   "id": "34c56e32",
   "metadata": {},
   "outputs": [],
   "source": [
    "import pandas as pd\n",
    "import numpy as np\n",
    "import matplotlib.pyplot as plt\n",
    "import seaborn as sns\n",
    "from scipy import stats as st"
   ]
  },
  {
   "cell_type": "markdown",
   "id": "f000727c",
   "metadata": {},
   "source": [
    "Теперь прочтём полученную таблицу с помощью инструментария библиотеки `pandas`:"
   ]
  },
  {
   "cell_type": "code",
   "execution_count": 2,
   "id": "6bc21d6d",
   "metadata": {},
   "outputs": [
    {
     "data": {
      "text/html": [
       "<div>\n",
       "<style scoped>\n",
       "    .dataframe tbody tr th:only-of-type {\n",
       "        vertical-align: middle;\n",
       "    }\n",
       "\n",
       "    .dataframe tbody tr th {\n",
       "        vertical-align: top;\n",
       "    }\n",
       "\n",
       "    .dataframe thead th {\n",
       "        text-align: right;\n",
       "    }\n",
       "</style>\n",
       "<table border=\"1\" class=\"dataframe\">\n",
       "  <thead>\n",
       "    <tr style=\"text-align: right;\">\n",
       "      <th></th>\n",
       "      <th>Name</th>\n",
       "      <th>Platform</th>\n",
       "      <th>Year_of_Release</th>\n",
       "      <th>Genre</th>\n",
       "      <th>NA_sales</th>\n",
       "      <th>EU_sales</th>\n",
       "      <th>JP_sales</th>\n",
       "      <th>Other_sales</th>\n",
       "      <th>Critic_Score</th>\n",
       "      <th>User_Score</th>\n",
       "      <th>Rating</th>\n",
       "    </tr>\n",
       "  </thead>\n",
       "  <tbody>\n",
       "    <tr>\n",
       "      <th>0</th>\n",
       "      <td>Wii Sports</td>\n",
       "      <td>Wii</td>\n",
       "      <td>2006.0</td>\n",
       "      <td>Sports</td>\n",
       "      <td>41.36</td>\n",
       "      <td>28.96</td>\n",
       "      <td>3.77</td>\n",
       "      <td>8.45</td>\n",
       "      <td>76.0</td>\n",
       "      <td>8</td>\n",
       "      <td>E</td>\n",
       "    </tr>\n",
       "    <tr>\n",
       "      <th>1</th>\n",
       "      <td>Super Mario Bros.</td>\n",
       "      <td>NES</td>\n",
       "      <td>1985.0</td>\n",
       "      <td>Platform</td>\n",
       "      <td>29.08</td>\n",
       "      <td>3.58</td>\n",
       "      <td>6.81</td>\n",
       "      <td>0.77</td>\n",
       "      <td>NaN</td>\n",
       "      <td>NaN</td>\n",
       "      <td>NaN</td>\n",
       "    </tr>\n",
       "    <tr>\n",
       "      <th>2</th>\n",
       "      <td>Mario Kart Wii</td>\n",
       "      <td>Wii</td>\n",
       "      <td>2008.0</td>\n",
       "      <td>Racing</td>\n",
       "      <td>15.68</td>\n",
       "      <td>12.76</td>\n",
       "      <td>3.79</td>\n",
       "      <td>3.29</td>\n",
       "      <td>82.0</td>\n",
       "      <td>8.3</td>\n",
       "      <td>E</td>\n",
       "    </tr>\n",
       "    <tr>\n",
       "      <th>3</th>\n",
       "      <td>Wii Sports Resort</td>\n",
       "      <td>Wii</td>\n",
       "      <td>2009.0</td>\n",
       "      <td>Sports</td>\n",
       "      <td>15.61</td>\n",
       "      <td>10.93</td>\n",
       "      <td>3.28</td>\n",
       "      <td>2.95</td>\n",
       "      <td>80.0</td>\n",
       "      <td>8</td>\n",
       "      <td>E</td>\n",
       "    </tr>\n",
       "    <tr>\n",
       "      <th>4</th>\n",
       "      <td>Pokemon Red/Pokemon Blue</td>\n",
       "      <td>GB</td>\n",
       "      <td>1996.0</td>\n",
       "      <td>Role-Playing</td>\n",
       "      <td>11.27</td>\n",
       "      <td>8.89</td>\n",
       "      <td>10.22</td>\n",
       "      <td>1.00</td>\n",
       "      <td>NaN</td>\n",
       "      <td>NaN</td>\n",
       "      <td>NaN</td>\n",
       "    </tr>\n",
       "    <tr>\n",
       "      <th>5</th>\n",
       "      <td>Tetris</td>\n",
       "      <td>GB</td>\n",
       "      <td>1989.0</td>\n",
       "      <td>Puzzle</td>\n",
       "      <td>23.20</td>\n",
       "      <td>2.26</td>\n",
       "      <td>4.22</td>\n",
       "      <td>0.58</td>\n",
       "      <td>NaN</td>\n",
       "      <td>NaN</td>\n",
       "      <td>NaN</td>\n",
       "    </tr>\n",
       "    <tr>\n",
       "      <th>6</th>\n",
       "      <td>New Super Mario Bros.</td>\n",
       "      <td>DS</td>\n",
       "      <td>2006.0</td>\n",
       "      <td>Platform</td>\n",
       "      <td>11.28</td>\n",
       "      <td>9.14</td>\n",
       "      <td>6.50</td>\n",
       "      <td>2.88</td>\n",
       "      <td>89.0</td>\n",
       "      <td>8.5</td>\n",
       "      <td>E</td>\n",
       "    </tr>\n",
       "    <tr>\n",
       "      <th>7</th>\n",
       "      <td>Wii Play</td>\n",
       "      <td>Wii</td>\n",
       "      <td>2006.0</td>\n",
       "      <td>Misc</td>\n",
       "      <td>13.96</td>\n",
       "      <td>9.18</td>\n",
       "      <td>2.93</td>\n",
       "      <td>2.84</td>\n",
       "      <td>58.0</td>\n",
       "      <td>6.6</td>\n",
       "      <td>E</td>\n",
       "    </tr>\n",
       "    <tr>\n",
       "      <th>8</th>\n",
       "      <td>New Super Mario Bros. Wii</td>\n",
       "      <td>Wii</td>\n",
       "      <td>2009.0</td>\n",
       "      <td>Platform</td>\n",
       "      <td>14.44</td>\n",
       "      <td>6.94</td>\n",
       "      <td>4.70</td>\n",
       "      <td>2.24</td>\n",
       "      <td>87.0</td>\n",
       "      <td>8.4</td>\n",
       "      <td>E</td>\n",
       "    </tr>\n",
       "    <tr>\n",
       "      <th>9</th>\n",
       "      <td>Duck Hunt</td>\n",
       "      <td>NES</td>\n",
       "      <td>1984.0</td>\n",
       "      <td>Shooter</td>\n",
       "      <td>26.93</td>\n",
       "      <td>0.63</td>\n",
       "      <td>0.28</td>\n",
       "      <td>0.47</td>\n",
       "      <td>NaN</td>\n",
       "      <td>NaN</td>\n",
       "      <td>NaN</td>\n",
       "    </tr>\n",
       "  </tbody>\n",
       "</table>\n",
       "</div>"
      ],
      "text/plain": [
       "                        Name Platform  Year_of_Release         Genre  \\\n",
       "0                 Wii Sports      Wii           2006.0        Sports   \n",
       "1          Super Mario Bros.      NES           1985.0      Platform   \n",
       "2             Mario Kart Wii      Wii           2008.0        Racing   \n",
       "3          Wii Sports Resort      Wii           2009.0        Sports   \n",
       "4   Pokemon Red/Pokemon Blue       GB           1996.0  Role-Playing   \n",
       "5                     Tetris       GB           1989.0        Puzzle   \n",
       "6      New Super Mario Bros.       DS           2006.0      Platform   \n",
       "7                   Wii Play      Wii           2006.0          Misc   \n",
       "8  New Super Mario Bros. Wii      Wii           2009.0      Platform   \n",
       "9                  Duck Hunt      NES           1984.0       Shooter   \n",
       "\n",
       "   NA_sales  EU_sales  JP_sales  Other_sales  Critic_Score User_Score Rating  \n",
       "0     41.36     28.96      3.77         8.45          76.0          8      E  \n",
       "1     29.08      3.58      6.81         0.77           NaN        NaN    NaN  \n",
       "2     15.68     12.76      3.79         3.29          82.0        8.3      E  \n",
       "3     15.61     10.93      3.28         2.95          80.0          8      E  \n",
       "4     11.27      8.89     10.22         1.00           NaN        NaN    NaN  \n",
       "5     23.20      2.26      4.22         0.58           NaN        NaN    NaN  \n",
       "6     11.28      9.14      6.50         2.88          89.0        8.5      E  \n",
       "7     13.96      9.18      2.93         2.84          58.0        6.6      E  \n",
       "8     14.44      6.94      4.70         2.24          87.0        8.4      E  \n",
       "9     26.93      0.63      0.28         0.47           NaN        NaN    NaN  "
      ]
     },
     "execution_count": 2,
     "metadata": {},
     "output_type": "execute_result"
    }
   ],
   "source": [
    "games = pd.read_csv('//censored//')\n",
    "\n",
    "games.head(10)"
   ]
  },
  {
   "cell_type": "markdown",
   "id": "de95998b",
   "metadata": {},
   "source": [
    "Из первых десяти строк таблицы уже видны наличие пропусков в столбцах `Critic_Score`, `User_Score` и `Rating` и неправильный формат данных в столбце `Year_of_Release` (года могут быть представлены только целочисленными значениями, поэтому разумно заменить тип данных `float` на `int`). Кроме того, сами названия столбцов (всех) надо привести к \"змеиному регистру\", записав их только строчными буквами.\n",
    "\n",
    "Чтобы иметь более полное представление о данных, посмотрим информацию о датафрейме:"
   ]
  },
  {
   "cell_type": "code",
   "execution_count": 3,
   "id": "c92d836b",
   "metadata": {},
   "outputs": [
    {
     "name": "stdout",
     "output_type": "stream",
     "text": [
      "<class 'pandas.core.frame.DataFrame'>\n",
      "RangeIndex: 16715 entries, 0 to 16714\n",
      "Data columns (total 11 columns):\n",
      " #   Column           Non-Null Count  Dtype  \n",
      "---  ------           --------------  -----  \n",
      " 0   Name             16713 non-null  object \n",
      " 1   Platform         16715 non-null  object \n",
      " 2   Year_of_Release  16446 non-null  float64\n",
      " 3   Genre            16713 non-null  object \n",
      " 4   NA_sales         16715 non-null  float64\n",
      " 5   EU_sales         16715 non-null  float64\n",
      " 6   JP_sales         16715 non-null  float64\n",
      " 7   Other_sales      16715 non-null  float64\n",
      " 8   Critic_Score     8137 non-null   float64\n",
      " 9   User_Score       10014 non-null  object \n",
      " 10  Rating           9949 non-null   object \n",
      "dtypes: float64(6), object(5)\n",
      "memory usage: 1.4+ MB\n"
     ]
    }
   ],
   "source": [
    "games.info()"
   ]
  },
  {
   "cell_type": "markdown",
   "id": "e6a57fa0",
   "metadata": {},
   "source": [
    "Итак, в таблице представлена информация о 16 715 наблюдениях, при этом в столбцах `Name`, `Year_of_Release`, `Genre`, `Critic_Score`, `User_Score` и `Rating` есть пропуски. Помимо этого, тип данных нужно изменить не только в столбце `Year_of_Release`, но и в столбце `User_Score` (с `object` на `float`).\n",
    "\n",
    "Посмотим процент пропусков в каждом столбце:"
   ]
  },
  {
   "cell_type": "code",
   "execution_count": 4,
   "id": "9ae933c5",
   "metadata": {},
   "outputs": [
    {
     "data": {
      "text/html": [
       "<style type=\"text/css\">\n",
       "#T_6cc4b_row0_col0, #T_6cc4b_row1_col0, #T_6cc4b_row3_col0, #T_6cc4b_row4_col0, #T_6cc4b_row5_col0, #T_6cc4b_row6_col0, #T_6cc4b_row7_col0 {\n",
       "  background-color: #3b4cc0;\n",
       "  color: #f1f1f1;\n",
       "}\n",
       "#T_6cc4b_row2_col0 {\n",
       "  background-color: #445acc;\n",
       "  color: #f1f1f1;\n",
       "}\n",
       "#T_6cc4b_row8_col0 {\n",
       "  background-color: #b40426;\n",
       "  color: #f1f1f1;\n",
       "}\n",
       "#T_6cc4b_row9_col0 {\n",
       "  background-color: #f18d6f;\n",
       "  color: #f1f1f1;\n",
       "}\n",
       "#T_6cc4b_row10_col0 {\n",
       "  background-color: #f08a6c;\n",
       "  color: #f1f1f1;\n",
       "}\n",
       "</style>\n",
       "<table id=\"T_6cc4b_\">\n",
       "  <thead>\n",
       "    <tr>\n",
       "      <th class=\"blank level0\" >&nbsp;</th>\n",
       "      <th class=\"col_heading level0 col0\" >NaNs, %</th>\n",
       "    </tr>\n",
       "  </thead>\n",
       "  <tbody>\n",
       "    <tr>\n",
       "      <th id=\"T_6cc4b_level0_row0\" class=\"row_heading level0 row0\" >Name</th>\n",
       "      <td id=\"T_6cc4b_row0_col0\" class=\"data row0 col0\" >0.01</td>\n",
       "    </tr>\n",
       "    <tr>\n",
       "      <th id=\"T_6cc4b_level0_row1\" class=\"row_heading level0 row1\" >Platform</th>\n",
       "      <td id=\"T_6cc4b_row1_col0\" class=\"data row1 col0\" >0.00</td>\n",
       "    </tr>\n",
       "    <tr>\n",
       "      <th id=\"T_6cc4b_level0_row2\" class=\"row_heading level0 row2\" >Year_of_Release</th>\n",
       "      <td id=\"T_6cc4b_row2_col0\" class=\"data row2 col0\" >1.61</td>\n",
       "    </tr>\n",
       "    <tr>\n",
       "      <th id=\"T_6cc4b_level0_row3\" class=\"row_heading level0 row3\" >Genre</th>\n",
       "      <td id=\"T_6cc4b_row3_col0\" class=\"data row3 col0\" >0.01</td>\n",
       "    </tr>\n",
       "    <tr>\n",
       "      <th id=\"T_6cc4b_level0_row4\" class=\"row_heading level0 row4\" >NA_sales</th>\n",
       "      <td id=\"T_6cc4b_row4_col0\" class=\"data row4 col0\" >0.00</td>\n",
       "    </tr>\n",
       "    <tr>\n",
       "      <th id=\"T_6cc4b_level0_row5\" class=\"row_heading level0 row5\" >EU_sales</th>\n",
       "      <td id=\"T_6cc4b_row5_col0\" class=\"data row5 col0\" >0.00</td>\n",
       "    </tr>\n",
       "    <tr>\n",
       "      <th id=\"T_6cc4b_level0_row6\" class=\"row_heading level0 row6\" >JP_sales</th>\n",
       "      <td id=\"T_6cc4b_row6_col0\" class=\"data row6 col0\" >0.00</td>\n",
       "    </tr>\n",
       "    <tr>\n",
       "      <th id=\"T_6cc4b_level0_row7\" class=\"row_heading level0 row7\" >Other_sales</th>\n",
       "      <td id=\"T_6cc4b_row7_col0\" class=\"data row7 col0\" >0.00</td>\n",
       "    </tr>\n",
       "    <tr>\n",
       "      <th id=\"T_6cc4b_level0_row8\" class=\"row_heading level0 row8\" >Critic_Score</th>\n",
       "      <td id=\"T_6cc4b_row8_col0\" class=\"data row8 col0\" >51.32</td>\n",
       "    </tr>\n",
       "    <tr>\n",
       "      <th id=\"T_6cc4b_level0_row9\" class=\"row_heading level0 row9\" >User_Score</th>\n",
       "      <td id=\"T_6cc4b_row9_col0\" class=\"data row9 col0\" >40.09</td>\n",
       "    </tr>\n",
       "    <tr>\n",
       "      <th id=\"T_6cc4b_level0_row10\" class=\"row_heading level0 row10\" >Rating</th>\n",
       "      <td id=\"T_6cc4b_row10_col0\" class=\"data row10 col0\" >40.48</td>\n",
       "    </tr>\n",
       "  </tbody>\n",
       "</table>\n"
      ],
      "text/plain": [
       "<pandas.io.formats.style.Styler at 0x10cba6ca0>"
      ]
     },
     "execution_count": 4,
     "metadata": {},
     "output_type": "execute_result"
    }
   ],
   "source": [
    "pd.DataFrame(round((games.isna().mean()*100), 2), columns=['NaNs, %']).style.format(\n",
    "    '{:.2f}').background_gradient('coolwarm')"
   ]
  },
  {
   "cell_type": "markdown",
   "id": "6652f2f8",
   "metadata": {},
   "source": [
    "Так, значимое количество пропусков присутствует в столбцах `Critic_Score`, `User_Score` и `Rating`. Возможно, это связано с тем, что по многим компьютерным играм никакие рейтинги выставлены не были, или же с техничексой ошибкой или человеческим фактором (данные просто не были перенесены в таблицу).\n",
    "\n",
    "Посмотрим характеристику числовых данных:"
   ]
  },
  {
   "cell_type": "code",
   "execution_count": 5,
   "id": "c1abde96",
   "metadata": {},
   "outputs": [
    {
     "data": {
      "text/html": [
       "<div>\n",
       "<style scoped>\n",
       "    .dataframe tbody tr th:only-of-type {\n",
       "        vertical-align: middle;\n",
       "    }\n",
       "\n",
       "    .dataframe tbody tr th {\n",
       "        vertical-align: top;\n",
       "    }\n",
       "\n",
       "    .dataframe thead th {\n",
       "        text-align: right;\n",
       "    }\n",
       "</style>\n",
       "<table border=\"1\" class=\"dataframe\">\n",
       "  <thead>\n",
       "    <tr style=\"text-align: right;\">\n",
       "      <th></th>\n",
       "      <th>Year_of_Release</th>\n",
       "      <th>NA_sales</th>\n",
       "      <th>EU_sales</th>\n",
       "      <th>JP_sales</th>\n",
       "      <th>Other_sales</th>\n",
       "      <th>Critic_Score</th>\n",
       "    </tr>\n",
       "  </thead>\n",
       "  <tbody>\n",
       "    <tr>\n",
       "      <th>count</th>\n",
       "      <td>16446.000000</td>\n",
       "      <td>16715.000000</td>\n",
       "      <td>16715.000000</td>\n",
       "      <td>16715.000000</td>\n",
       "      <td>16715.000000</td>\n",
       "      <td>8137.000000</td>\n",
       "    </tr>\n",
       "    <tr>\n",
       "      <th>mean</th>\n",
       "      <td>2006.484616</td>\n",
       "      <td>0.263377</td>\n",
       "      <td>0.145060</td>\n",
       "      <td>0.077617</td>\n",
       "      <td>0.047342</td>\n",
       "      <td>68.967679</td>\n",
       "    </tr>\n",
       "    <tr>\n",
       "      <th>std</th>\n",
       "      <td>5.877050</td>\n",
       "      <td>0.813604</td>\n",
       "      <td>0.503339</td>\n",
       "      <td>0.308853</td>\n",
       "      <td>0.186731</td>\n",
       "      <td>13.938165</td>\n",
       "    </tr>\n",
       "    <tr>\n",
       "      <th>min</th>\n",
       "      <td>1980.000000</td>\n",
       "      <td>0.000000</td>\n",
       "      <td>0.000000</td>\n",
       "      <td>0.000000</td>\n",
       "      <td>0.000000</td>\n",
       "      <td>13.000000</td>\n",
       "    </tr>\n",
       "    <tr>\n",
       "      <th>25%</th>\n",
       "      <td>2003.000000</td>\n",
       "      <td>0.000000</td>\n",
       "      <td>0.000000</td>\n",
       "      <td>0.000000</td>\n",
       "      <td>0.000000</td>\n",
       "      <td>60.000000</td>\n",
       "    </tr>\n",
       "    <tr>\n",
       "      <th>50%</th>\n",
       "      <td>2007.000000</td>\n",
       "      <td>0.080000</td>\n",
       "      <td>0.020000</td>\n",
       "      <td>0.000000</td>\n",
       "      <td>0.010000</td>\n",
       "      <td>71.000000</td>\n",
       "    </tr>\n",
       "    <tr>\n",
       "      <th>75%</th>\n",
       "      <td>2010.000000</td>\n",
       "      <td>0.240000</td>\n",
       "      <td>0.110000</td>\n",
       "      <td>0.040000</td>\n",
       "      <td>0.030000</td>\n",
       "      <td>79.000000</td>\n",
       "    </tr>\n",
       "    <tr>\n",
       "      <th>max</th>\n",
       "      <td>2016.000000</td>\n",
       "      <td>41.360000</td>\n",
       "      <td>28.960000</td>\n",
       "      <td>10.220000</td>\n",
       "      <td>10.570000</td>\n",
       "      <td>98.000000</td>\n",
       "    </tr>\n",
       "  </tbody>\n",
       "</table>\n",
       "</div>"
      ],
      "text/plain": [
       "       Year_of_Release      NA_sales      EU_sales      JP_sales  \\\n",
       "count     16446.000000  16715.000000  16715.000000  16715.000000   \n",
       "mean       2006.484616      0.263377      0.145060      0.077617   \n",
       "std           5.877050      0.813604      0.503339      0.308853   \n",
       "min        1980.000000      0.000000      0.000000      0.000000   \n",
       "25%        2003.000000      0.000000      0.000000      0.000000   \n",
       "50%        2007.000000      0.080000      0.020000      0.000000   \n",
       "75%        2010.000000      0.240000      0.110000      0.040000   \n",
       "max        2016.000000     41.360000     28.960000     10.220000   \n",
       "\n",
       "        Other_sales  Critic_Score  \n",
       "count  16715.000000   8137.000000  \n",
       "mean       0.047342     68.967679  \n",
       "std        0.186731     13.938165  \n",
       "min        0.000000     13.000000  \n",
       "25%        0.000000     60.000000  \n",
       "50%        0.010000     71.000000  \n",
       "75%        0.030000     79.000000  \n",
       "max       10.570000     98.000000  "
      ]
     },
     "execution_count": 5,
     "metadata": {},
     "output_type": "execute_result"
    }
   ],
   "source": [
    "games.describe()"
   ]
  },
  {
   "cell_type": "markdown",
   "id": "9fe42799",
   "metadata": {},
   "source": [
    "Все представленные данные варьируются в пределах дапустимых значений (артефактов в данных столбцах нет)."
   ]
  },
  {
   "cell_type": "markdown",
   "id": "220674a1",
   "metadata": {},
   "source": [
    "Таким образом, перед проведением анализа необходимо:\n",
    "1. Привести названия столбцов к \"змеиному регистру\".\n",
    "2. Изменить тип данных в столбцах `Year_of_Release` и `User_Score` (в первом случае на `int`, во втором - на `float`).\n",
    "3. Изучить пропуски и заполнить их, где возможно.\n",
    "4. Проверить таблицу на явные дубликаты и столбцы с данными строчного типа (`Name`, `Platform`, `Genre`, `Rating`) - на неявные."
   ]
  },
  {
   "cell_type": "markdown",
   "id": "a0aa41e6",
   "metadata": {},
   "source": [
    "## Предобработка данных"
   ]
  },
  {
   "cell_type": "markdown",
   "id": "af7a6d36",
   "metadata": {},
   "source": [
    "### Стиль заголовков"
   ]
  },
  {
   "cell_type": "markdown",
   "id": "16103dfa",
   "metadata": {},
   "source": [
    "Приведём все заголовки к нижнему регистру с помощью цикла, чтобы потом было удобнее обращаться к таблице:"
   ]
  },
  {
   "cell_type": "code",
   "execution_count": 6,
   "id": "f83ad7f2",
   "metadata": {},
   "outputs": [
    {
     "data": {
      "text/plain": [
       "Index(['name', 'platform', 'year_of_release', 'genre', 'na_sales', 'eu_sales',\n",
       "       'jp_sales', 'other_sales', 'critic_score', 'user_score', 'rating'],\n",
       "      dtype='object')"
      ]
     },
     "execution_count": 6,
     "metadata": {},
     "output_type": "execute_result"
    }
   ],
   "source": [
    "games.columns = games.columns.str.lower()\n",
    "    \n",
    "games.columns"
   ]
  },
  {
   "cell_type": "markdown",
   "id": "5e676142",
   "metadata": {},
   "source": [
    "Отлично, все столбцы теперь записаны в \"змеином регистре\"."
   ]
  },
  {
   "cell_type": "markdown",
   "id": "e55d2bfb",
   "metadata": {},
   "source": [
    "### Изменение типов данных"
   ]
  },
  {
   "cell_type": "markdown",
   "id": "fc3e4c9b",
   "metadata": {},
   "source": [
    "Заменим тип данных в столбцах `year_of_release` и `user_score` на более подходящий (`int` и `float` соответственно):"
   ]
  },
  {
   "cell_type": "code",
   "execution_count": 7,
   "id": "675f2917",
   "metadata": {},
   "outputs": [
    {
     "name": "stdout",
     "output_type": "stream",
     "text": [
      "<class 'pandas.core.frame.DataFrame'>\n",
      "RangeIndex: 16715 entries, 0 to 16714\n",
      "Data columns (total 11 columns):\n",
      " #   Column           Non-Null Count  Dtype  \n",
      "---  ------           --------------  -----  \n",
      " 0   name             16713 non-null  object \n",
      " 1   platform         16715 non-null  object \n",
      " 2   year_of_release  16446 non-null  Int64  \n",
      " 3   genre            16713 non-null  object \n",
      " 4   na_sales         16715 non-null  float64\n",
      " 5   eu_sales         16715 non-null  float64\n",
      " 6   jp_sales         16715 non-null  float64\n",
      " 7   other_sales      16715 non-null  float64\n",
      " 8   critic_score     8137 non-null   float64\n",
      " 9   user_score       10014 non-null  string \n",
      " 10  rating           9949 non-null   object \n",
      "dtypes: Int64(1), float64(5), object(4), string(1)\n",
      "memory usage: 1.4+ MB\n"
     ]
    }
   ],
   "source": [
    "# Поскольку есть пропуски, используем convert_dtypes():\n",
    "games['year_of_release'] = games['year_of_release'].convert_dtypes()\n",
    "games['user_score'] = games['user_score'].convert_dtypes()\n",
    "\n",
    "games.info()"
   ]
  },
  {
   "cell_type": "markdown",
   "id": "fa9347b1",
   "metadata": {},
   "source": [
    "Так, в столбце `year_of_release` тип данных поменялся на `int`, как и предполагалось, в то время как тип данных в столбце `user_score` так и остался строчным. Посмотрим, какие уникальные значения есть в данном столбце:"
   ]
  },
  {
   "cell_type": "code",
   "execution_count": 8,
   "id": "83a0f359",
   "metadata": {},
   "outputs": [
    {
     "data": {
      "text/plain": [
       "<StringArray>\n",
       "[  '8',  <NA>, '8.3', '8.5', '6.6', '8.4', '8.6', '7.7', '6.3', '7.4', '8.2',\n",
       "   '9', '7.9', '8.1', '8.7', '7.1', '3.4', '5.3', '4.8', '3.2', '8.9', '6.4',\n",
       " '7.8', '7.5', '2.6', '7.2', '9.2',   '7', '7.3', '4.3', '7.6', '5.7',   '5',\n",
       " '9.1', '6.5', 'tbd', '8.8', '6.9', '9.4', '6.8', '6.1', '6.7', '5.4',   '4',\n",
       " '4.9', '4.5', '9.3', '6.2', '4.2',   '6', '3.7', '4.1', '5.8', '5.6', '5.5',\n",
       " '4.4', '4.6', '5.9', '3.9', '3.1', '2.9', '5.2', '3.3', '4.7', '5.1', '3.5',\n",
       " '2.5', '1.9',   '3', '2.7', '2.2',   '2', '9.5', '2.1', '3.6', '2.8', '1.8',\n",
       " '3.8',   '0', '1.6', '9.6', '2.4', '1.7', '1.1', '0.3', '1.5', '0.7', '1.2',\n",
       " '2.3', '0.5', '1.3', '0.2', '0.6', '1.4', '0.9',   '1', '9.7']\n",
       "Length: 97, dtype: string"
      ]
     },
     "execution_count": 8,
     "metadata": {},
     "output_type": "execute_result"
    }
   ],
   "source": [
    "games['user_score'].unique()"
   ]
  },
  {
   "cell_type": "markdown",
   "id": "82a67cd8",
   "metadata": {},
   "source": [
    "Так, помимо различных числовых значений и пропусков, в столбце есть ещё строчная запись \"tbd\", которая, судя по всему, и препятствует конвертации типа данных столбца.\n",
    "\n",
    "Если речь идёт о рейтингах, эта аббревиатура, скорее всего, расшифровывается как \"to be determined\", то есть рейтинг предстоит определить. По сути это означает, что рейтинга ещё нет, поэтому, чтобы данные значения не препятсвовали переводу столбца в числовой формат, можно превратить их в пропуски."
   ]
  },
  {
   "cell_type": "code",
   "execution_count": 9,
   "id": "23f839ce",
   "metadata": {},
   "outputs": [
    {
     "name": "stdout",
     "output_type": "stream",
     "text": [
      "<class 'pandas.core.frame.DataFrame'>\n",
      "RangeIndex: 16715 entries, 0 to 16714\n",
      "Data columns (total 11 columns):\n",
      " #   Column           Non-Null Count  Dtype  \n",
      "---  ------           --------------  -----  \n",
      " 0   name             16713 non-null  object \n",
      " 1   platform         16715 non-null  object \n",
      " 2   year_of_release  16446 non-null  Int64  \n",
      " 3   genre            16713 non-null  object \n",
      " 4   na_sales         16715 non-null  float64\n",
      " 5   eu_sales         16715 non-null  float64\n",
      " 6   jp_sales         16715 non-null  float64\n",
      " 7   other_sales      16715 non-null  float64\n",
      " 8   critic_score     8137 non-null   float64\n",
      " 9   user_score       7590 non-null   float64\n",
      " 10  rating           9949 non-null   object \n",
      "dtypes: Int64(1), float64(6), object(4)\n",
      "memory usage: 1.4+ MB\n"
     ]
    }
   ],
   "source": [
    "games.loc[games['user_score'] == 'tbd', 'user_score'] = np.nan\n",
    "# Используем метод to_numeric:\n",
    "games['user_score'] = pd.to_numeric(games['user_score'])\n",
    "\n",
    "games.info()"
   ]
  },
  {
   "cell_type": "markdown",
   "id": "5251d775",
   "metadata": {},
   "source": [
    "Отлично, теперь во всех столбцах выбран наиболее подходящий тип данных."
   ]
  },
  {
   "cell_type": "markdown",
   "id": "f3b20cf8",
   "metadata": {},
   "source": [
    "### Пропуски значений"
   ]
  },
  {
   "cell_type": "markdown",
   "id": "c793acc1",
   "metadata": {},
   "source": [
    "Теперь займёмся анализом и заполнением пропусков. В столбцах `name` и `genres` пропущено по два значения. Посмотрим на строки, где пропущено название компьютерных игр:"
   ]
  },
  {
   "cell_type": "code",
   "execution_count": 10,
   "id": "add53a2a",
   "metadata": {},
   "outputs": [
    {
     "data": {
      "text/html": [
       "<div>\n",
       "<style scoped>\n",
       "    .dataframe tbody tr th:only-of-type {\n",
       "        vertical-align: middle;\n",
       "    }\n",
       "\n",
       "    .dataframe tbody tr th {\n",
       "        vertical-align: top;\n",
       "    }\n",
       "\n",
       "    .dataframe thead th {\n",
       "        text-align: right;\n",
       "    }\n",
       "</style>\n",
       "<table border=\"1\" class=\"dataframe\">\n",
       "  <thead>\n",
       "    <tr style=\"text-align: right;\">\n",
       "      <th></th>\n",
       "      <th>name</th>\n",
       "      <th>platform</th>\n",
       "      <th>year_of_release</th>\n",
       "      <th>genre</th>\n",
       "      <th>na_sales</th>\n",
       "      <th>eu_sales</th>\n",
       "      <th>jp_sales</th>\n",
       "      <th>other_sales</th>\n",
       "      <th>critic_score</th>\n",
       "      <th>user_score</th>\n",
       "      <th>rating</th>\n",
       "    </tr>\n",
       "  </thead>\n",
       "  <tbody>\n",
       "    <tr>\n",
       "      <th>659</th>\n",
       "      <td>NaN</td>\n",
       "      <td>GEN</td>\n",
       "      <td>1993</td>\n",
       "      <td>NaN</td>\n",
       "      <td>1.78</td>\n",
       "      <td>0.53</td>\n",
       "      <td>0.00</td>\n",
       "      <td>0.08</td>\n",
       "      <td>NaN</td>\n",
       "      <td>NaN</td>\n",
       "      <td>NaN</td>\n",
       "    </tr>\n",
       "    <tr>\n",
       "      <th>14244</th>\n",
       "      <td>NaN</td>\n",
       "      <td>GEN</td>\n",
       "      <td>1993</td>\n",
       "      <td>NaN</td>\n",
       "      <td>0.00</td>\n",
       "      <td>0.00</td>\n",
       "      <td>0.03</td>\n",
       "      <td>0.00</td>\n",
       "      <td>NaN</td>\n",
       "      <td>NaN</td>\n",
       "      <td>NaN</td>\n",
       "    </tr>\n",
       "  </tbody>\n",
       "</table>\n",
       "</div>"
      ],
      "text/plain": [
       "      name platform  year_of_release genre  na_sales  eu_sales  jp_sales  \\\n",
       "659    NaN      GEN             1993   NaN      1.78      0.53      0.00   \n",
       "14244  NaN      GEN             1993   NaN      0.00      0.00      0.03   \n",
       "\n",
       "       other_sales  critic_score  user_score rating  \n",
       "659           0.08           NaN         NaN    NaN  \n",
       "14244         0.00           NaN         NaN    NaN  "
      ]
     },
     "execution_count": 10,
     "metadata": {},
     "output_type": "execute_result"
    }
   ],
   "source": [
    "games.loc[games['name'].isna()]"
   ]
  },
  {
   "cell_type": "markdown",
   "id": "3a4d96e0",
   "metadata": {},
   "source": [
    "Получается, что название игр и их жанр пропущены в одних и тех же строках. Это разные игры (судя по объёмам продаж в регионах), вышедшие в 1993 г. Данные пропуски могли быть вызваны технической ошибкой (например, названия потерялись при форматировании) или человеческим фактором. Заполнить эти пропуски невозможно, поскольку, во-первых, столбцы содержат не числовые, а строчные значения (заполнить их средним или медианным значением не получится), во-вторых, информации об этих играх недостаточно, чтобы заполнить необходимые графы."
   ]
  },
  {
   "cell_type": "markdown",
   "id": "c5d43fd7",
   "metadata": {},
   "source": [
    "Пропуски в столбце `year_of_release` могли возникнуть по тем же причинам. Посмотрим на строки с пропущенными значениями в данном столбце:"
   ]
  },
  {
   "cell_type": "code",
   "execution_count": 11,
   "id": "92b3a1a5",
   "metadata": {},
   "outputs": [
    {
     "data": {
      "text/html": [
       "<div>\n",
       "<style scoped>\n",
       "    .dataframe tbody tr th:only-of-type {\n",
       "        vertical-align: middle;\n",
       "    }\n",
       "\n",
       "    .dataframe tbody tr th {\n",
       "        vertical-align: top;\n",
       "    }\n",
       "\n",
       "    .dataframe thead th {\n",
       "        text-align: right;\n",
       "    }\n",
       "</style>\n",
       "<table border=\"1\" class=\"dataframe\">\n",
       "  <thead>\n",
       "    <tr style=\"text-align: right;\">\n",
       "      <th></th>\n",
       "      <th>name</th>\n",
       "      <th>platform</th>\n",
       "      <th>year_of_release</th>\n",
       "      <th>genre</th>\n",
       "      <th>na_sales</th>\n",
       "      <th>eu_sales</th>\n",
       "      <th>jp_sales</th>\n",
       "      <th>other_sales</th>\n",
       "      <th>critic_score</th>\n",
       "      <th>user_score</th>\n",
       "      <th>rating</th>\n",
       "    </tr>\n",
       "  </thead>\n",
       "  <tbody>\n",
       "    <tr>\n",
       "      <th>183</th>\n",
       "      <td>Madden NFL 2004</td>\n",
       "      <td>PS2</td>\n",
       "      <td>&lt;NA&gt;</td>\n",
       "      <td>Sports</td>\n",
       "      <td>4.26</td>\n",
       "      <td>0.26</td>\n",
       "      <td>0.01</td>\n",
       "      <td>0.71</td>\n",
       "      <td>94.0</td>\n",
       "      <td>8.5</td>\n",
       "      <td>E</td>\n",
       "    </tr>\n",
       "    <tr>\n",
       "      <th>377</th>\n",
       "      <td>FIFA Soccer 2004</td>\n",
       "      <td>PS2</td>\n",
       "      <td>&lt;NA&gt;</td>\n",
       "      <td>Sports</td>\n",
       "      <td>0.59</td>\n",
       "      <td>2.36</td>\n",
       "      <td>0.04</td>\n",
       "      <td>0.51</td>\n",
       "      <td>84.0</td>\n",
       "      <td>6.4</td>\n",
       "      <td>E</td>\n",
       "    </tr>\n",
       "    <tr>\n",
       "      <th>456</th>\n",
       "      <td>LEGO Batman: The Videogame</td>\n",
       "      <td>Wii</td>\n",
       "      <td>&lt;NA&gt;</td>\n",
       "      <td>Action</td>\n",
       "      <td>1.80</td>\n",
       "      <td>0.97</td>\n",
       "      <td>0.00</td>\n",
       "      <td>0.29</td>\n",
       "      <td>74.0</td>\n",
       "      <td>7.9</td>\n",
       "      <td>E10+</td>\n",
       "    </tr>\n",
       "    <tr>\n",
       "      <th>475</th>\n",
       "      <td>wwe Smackdown vs. Raw 2006</td>\n",
       "      <td>PS2</td>\n",
       "      <td>&lt;NA&gt;</td>\n",
       "      <td>Fighting</td>\n",
       "      <td>1.57</td>\n",
       "      <td>1.02</td>\n",
       "      <td>0.00</td>\n",
       "      <td>0.41</td>\n",
       "      <td>NaN</td>\n",
       "      <td>NaN</td>\n",
       "      <td>NaN</td>\n",
       "    </tr>\n",
       "    <tr>\n",
       "      <th>609</th>\n",
       "      <td>Space Invaders</td>\n",
       "      <td>2600</td>\n",
       "      <td>&lt;NA&gt;</td>\n",
       "      <td>Shooter</td>\n",
       "      <td>2.36</td>\n",
       "      <td>0.14</td>\n",
       "      <td>0.00</td>\n",
       "      <td>0.03</td>\n",
       "      <td>NaN</td>\n",
       "      <td>NaN</td>\n",
       "      <td>NaN</td>\n",
       "    </tr>\n",
       "    <tr>\n",
       "      <th>627</th>\n",
       "      <td>Rock Band</td>\n",
       "      <td>X360</td>\n",
       "      <td>&lt;NA&gt;</td>\n",
       "      <td>Misc</td>\n",
       "      <td>1.93</td>\n",
       "      <td>0.33</td>\n",
       "      <td>0.00</td>\n",
       "      <td>0.21</td>\n",
       "      <td>92.0</td>\n",
       "      <td>8.2</td>\n",
       "      <td>T</td>\n",
       "    </tr>\n",
       "    <tr>\n",
       "      <th>657</th>\n",
       "      <td>Frogger's Adventures: Temple of the Frog</td>\n",
       "      <td>GBA</td>\n",
       "      <td>&lt;NA&gt;</td>\n",
       "      <td>Adventure</td>\n",
       "      <td>2.15</td>\n",
       "      <td>0.18</td>\n",
       "      <td>0.00</td>\n",
       "      <td>0.07</td>\n",
       "      <td>73.0</td>\n",
       "      <td>NaN</td>\n",
       "      <td>E</td>\n",
       "    </tr>\n",
       "    <tr>\n",
       "      <th>678</th>\n",
       "      <td>LEGO Indiana Jones: The Original Adventures</td>\n",
       "      <td>Wii</td>\n",
       "      <td>&lt;NA&gt;</td>\n",
       "      <td>Action</td>\n",
       "      <td>1.51</td>\n",
       "      <td>0.61</td>\n",
       "      <td>0.00</td>\n",
       "      <td>0.21</td>\n",
       "      <td>78.0</td>\n",
       "      <td>6.6</td>\n",
       "      <td>E10+</td>\n",
       "    </tr>\n",
       "    <tr>\n",
       "      <th>719</th>\n",
       "      <td>Call of Duty 3</td>\n",
       "      <td>Wii</td>\n",
       "      <td>&lt;NA&gt;</td>\n",
       "      <td>Shooter</td>\n",
       "      <td>1.17</td>\n",
       "      <td>0.84</td>\n",
       "      <td>0.00</td>\n",
       "      <td>0.23</td>\n",
       "      <td>69.0</td>\n",
       "      <td>6.7</td>\n",
       "      <td>T</td>\n",
       "    </tr>\n",
       "    <tr>\n",
       "      <th>805</th>\n",
       "      <td>Rock Band</td>\n",
       "      <td>Wii</td>\n",
       "      <td>&lt;NA&gt;</td>\n",
       "      <td>Misc</td>\n",
       "      <td>1.33</td>\n",
       "      <td>0.56</td>\n",
       "      <td>0.00</td>\n",
       "      <td>0.20</td>\n",
       "      <td>80.0</td>\n",
       "      <td>6.3</td>\n",
       "      <td>T</td>\n",
       "    </tr>\n",
       "  </tbody>\n",
       "</table>\n",
       "</div>"
      ],
      "text/plain": [
       "                                            name platform  year_of_release  \\\n",
       "183                              Madden NFL 2004      PS2             <NA>   \n",
       "377                             FIFA Soccer 2004      PS2             <NA>   \n",
       "456                   LEGO Batman: The Videogame      Wii             <NA>   \n",
       "475                   wwe Smackdown vs. Raw 2006      PS2             <NA>   \n",
       "609                               Space Invaders     2600             <NA>   \n",
       "627                                    Rock Band     X360             <NA>   \n",
       "657     Frogger's Adventures: Temple of the Frog      GBA             <NA>   \n",
       "678  LEGO Indiana Jones: The Original Adventures      Wii             <NA>   \n",
       "719                               Call of Duty 3      Wii             <NA>   \n",
       "805                                    Rock Band      Wii             <NA>   \n",
       "\n",
       "         genre  na_sales  eu_sales  jp_sales  other_sales  critic_score  \\\n",
       "183     Sports      4.26      0.26      0.01         0.71          94.0   \n",
       "377     Sports      0.59      2.36      0.04         0.51          84.0   \n",
       "456     Action      1.80      0.97      0.00         0.29          74.0   \n",
       "475   Fighting      1.57      1.02      0.00         0.41           NaN   \n",
       "609    Shooter      2.36      0.14      0.00         0.03           NaN   \n",
       "627       Misc      1.93      0.33      0.00         0.21          92.0   \n",
       "657  Adventure      2.15      0.18      0.00         0.07          73.0   \n",
       "678     Action      1.51      0.61      0.00         0.21          78.0   \n",
       "719    Shooter      1.17      0.84      0.00         0.23          69.0   \n",
       "805       Misc      1.33      0.56      0.00         0.20          80.0   \n",
       "\n",
       "     user_score rating  \n",
       "183         8.5      E  \n",
       "377         6.4      E  \n",
       "456         7.9   E10+  \n",
       "475         NaN    NaN  \n",
       "609         NaN    NaN  \n",
       "627         8.2      T  \n",
       "657         NaN      E  \n",
       "678         6.6   E10+  \n",
       "719         6.7      T  \n",
       "805         6.3      T  "
      ]
     },
     "metadata": {},
     "output_type": "display_data"
    },
    {
     "data": {
      "text/plain": [
       "269"
      ]
     },
     "execution_count": 11,
     "metadata": {},
     "output_type": "execute_result"
    }
   ],
   "source": [
    "display(games.loc[games['year_of_release'].isna()].head(10))\n",
    "len(games.loc[games['year_of_release'].isna()])"
   ]
  },
  {
   "cell_type": "markdown",
   "id": "6aa62c45",
   "metadata": {},
   "source": [
    "Всего таких строк 269. Данных, чтобы заполнить год выпуска компьютерной игры в данных строках, в целом достаточно, однако вручную заполнить 269 значений сложно и не очень нужно, учитывая, что пропуски составляют всего 1,61% выборки. В связи с этим заполнять пропуски в данном столбце также нерационально."
   ]
  },
  {
   "cell_type": "markdown",
   "id": "2d3fc622",
   "metadata": {},
   "source": [
    "Осталось проанализировать пропуски в столбцах с рейтингами. Пропуски в данных столбцах, помимо вышеуказанных причин, могли возникнуть также в связи с тем, что конкретным играм рейтинги не были присвоены.\n",
    "\n",
    "Поскольку каждая игра уникальна, заполнить пропуски в столбцах `critic_score` и `user_score` невозможно: заполнять их средним или медианным значением некорректно, а дополнительной информации для их заполнения нет. В связи с этим пропуски в данных столбцах придётся оставить."
   ]
  },
  {
   "cell_type": "markdown",
   "id": "c5d20f5d",
   "metadata": {},
   "source": [
    "Что касается возрастного рейтинга от орагнизации ESRB, возможно, есть некторые наиболее типичные значения данного рейтинга для каждого жанра. Проверим данную гипотезу с помощью цикла:"
   ]
  },
  {
   "cell_type": "code",
   "execution_count": 12,
   "id": "bc34af72",
   "metadata": {
    "scrolled": false
   },
   "outputs": [
    {
     "data": {
      "text/plain": [
       "'Sports'"
      ]
     },
     "metadata": {},
     "output_type": "display_data"
    },
    {
     "data": {
      "text/plain": [
       "array(['E', nan, 'E10+', 'T', 'M'], dtype=object)"
      ]
     },
     "metadata": {},
     "output_type": "display_data"
    },
    {
     "data": {
      "text/plain": [
       "'Platform'"
      ]
     },
     "metadata": {},
     "output_type": "display_data"
    },
    {
     "data": {
      "text/plain": [
       "array([nan, 'E', 'E10+', 'T', 'M'], dtype=object)"
      ]
     },
     "metadata": {},
     "output_type": "display_data"
    },
    {
     "data": {
      "text/plain": [
       "'Racing'"
      ]
     },
     "metadata": {},
     "output_type": "display_data"
    },
    {
     "data": {
      "text/plain": [
       "array(['E', nan, 'T', 'E10+', 'M', 'RP'], dtype=object)"
      ]
     },
     "metadata": {},
     "output_type": "display_data"
    },
    {
     "data": {
      "text/plain": [
       "'Role-Playing'"
      ]
     },
     "metadata": {},
     "output_type": "display_data"
    },
    {
     "data": {
      "text/plain": [
       "array([nan, 'T', 'M', 'E', 'E10+'], dtype=object)"
      ]
     },
     "metadata": {},
     "output_type": "display_data"
    },
    {
     "data": {
      "text/plain": [
       "'Puzzle'"
      ]
     },
     "metadata": {},
     "output_type": "display_data"
    },
    {
     "data": {
      "text/plain": [
       "array([nan, 'E', 'E10+', 'T'], dtype=object)"
      ]
     },
     "metadata": {},
     "output_type": "display_data"
    },
    {
     "data": {
      "text/plain": [
       "'Misc'"
      ]
     },
     "metadata": {},
     "output_type": "display_data"
    },
    {
     "data": {
      "text/plain": [
       "array(['E', 'E10+', nan, 'T', 'K-A', 'M', 'EC'], dtype=object)"
      ]
     },
     "metadata": {},
     "output_type": "display_data"
    },
    {
     "data": {
      "text/plain": [
       "'Shooter'"
      ]
     },
     "metadata": {},
     "output_type": "display_data"
    },
    {
     "data": {
      "text/plain": [
       "array([nan, 'M', 'T', 'E10+', 'E'], dtype=object)"
      ]
     },
     "metadata": {},
     "output_type": "display_data"
    },
    {
     "data": {
      "text/plain": [
       "'Simulation'"
      ]
     },
     "metadata": {},
     "output_type": "display_data"
    },
    {
     "data": {
      "text/plain": [
       "array([nan, 'E', 'T', 'E10+', 'M'], dtype=object)"
      ]
     },
     "metadata": {},
     "output_type": "display_data"
    },
    {
     "data": {
      "text/plain": [
       "'Action'"
      ]
     },
     "metadata": {},
     "output_type": "display_data"
    },
    {
     "data": {
      "text/plain": [
       "array(['M', nan, 'E', 'T', 'E10+', 'AO', 'EC'], dtype=object)"
      ]
     },
     "metadata": {},
     "output_type": "display_data"
    },
    {
     "data": {
      "text/plain": [
       "'Fighting'"
      ]
     },
     "metadata": {},
     "output_type": "display_data"
    },
    {
     "data": {
      "text/plain": [
       "array(['T', nan, 'M', 'E10+', 'E'], dtype=object)"
      ]
     },
     "metadata": {},
     "output_type": "display_data"
    },
    {
     "data": {
      "text/plain": [
       "'Adventure'"
      ]
     },
     "metadata": {},
     "output_type": "display_data"
    },
    {
     "data": {
      "text/plain": [
       "array([nan, 'M', 'E', 'T', 'E10+', 'EC'], dtype=object)"
      ]
     },
     "metadata": {},
     "output_type": "display_data"
    },
    {
     "data": {
      "text/plain": [
       "'Strategy'"
      ]
     },
     "metadata": {},
     "output_type": "display_data"
    },
    {
     "data": {
      "text/plain": [
       "array([nan, 'T', 'K-A', 'E', 'E10+', 'M', 'RP'], dtype=object)"
      ]
     },
     "metadata": {},
     "output_type": "display_data"
    }
   ],
   "source": [
    "for value in games['genre'].unique()[:-1]: #поскольку последним значением будет nan\n",
    "    ratings = []\n",
    "    for index in range(len(games)):\n",
    "        if games.loc[index, 'genre'] == value:\n",
    "            ratings.append(games.loc[index, 'rating'])\n",
    "    display(value)\n",
    "    display(pd.Series(ratings).unique())"
   ]
  },
  {
   "cell_type": "markdown",
   "id": "77eee732",
   "metadata": {},
   "source": [
    "Гипотеза не подтвердилась. В каждом жанре встречается достаточно большой перечень значений рейтинга ESRB. Вообще данный рейтинг может присваивать 7 различных категорий:\n",
    "1. **EC** («Early childhood») — для детей младшего возраста (от 3-х лет).\n",
    "2. **E** («Everyone») — для всех (от 6-ти лет). Ранее данная категория обозначалась как **K-A** (\"Kids to Adults\").\n",
    "3. **E10+** («Everyone 10 and older») — для всех от 10 лет и старше.\n",
    "4. **T** («Teen») — подросткам (старше 13-ти лет).\n",
    "5. **M** («Mature») — для взрослых (старше 17-ти лет).\n",
    "6. **AO** («Adults Only 18+») — только для взрослых (старше 18-ти лет).\n",
    "7. **RP** («Rating Pending») — рейтинг ожидается (рейтинг пока не присвоен).\n",
    "\n",
    "Поскольку в датафрейме встречаются как значение E, так и K-A, хотя обозначают они одно и то же, заменим K-A на E:"
   ]
  },
  {
   "cell_type": "code",
   "execution_count": 13,
   "id": "2adaa8b2",
   "metadata": {},
   "outputs": [
    {
     "data": {
      "text/plain": [
       "0"
      ]
     },
     "execution_count": 13,
     "metadata": {},
     "output_type": "execute_result"
    }
   ],
   "source": [
    "games.loc[games['rating'] == 'K-A', 'rating'] = 'E'\n",
    "\n",
    "# Проверим:\n",
    "len(games.loc[games['rating'] == 'K-A'])"
   ]
  },
  {
   "cell_type": "markdown",
   "id": "53680bde",
   "metadata": {},
   "source": [
    "Поскольку пропущенные значения в данном случае заполнить значениями из перечня ESRB не представляется возможным, а данные в столбце `rating` имеют тип `object`, заменим пропуски на строку `unknown` (неизвестный рейтинг):"
   ]
  },
  {
   "cell_type": "code",
   "execution_count": 14,
   "id": "ef1ca8a5",
   "metadata": {},
   "outputs": [
    {
     "data": {
      "text/plain": [
       "0"
      ]
     },
     "execution_count": 14,
     "metadata": {},
     "output_type": "execute_result"
    }
   ],
   "source": [
    "games['rating'] = games['rating'].fillna('unknown')\n",
    "\n",
    "# Проверим:\n",
    "games['rating'].isna().sum()"
   ]
  },
  {
   "cell_type": "markdown",
   "id": "db455b32",
   "metadata": {},
   "source": [
    "Все пропуски в столбце `rating` успешно заполнены.\n",
    "\n",
    "Посмотрим, как изменилось количество пропусков в таблице:"
   ]
  },
  {
   "cell_type": "code",
   "execution_count": 15,
   "id": "dbd0bb05",
   "metadata": {},
   "outputs": [
    {
     "data": {
      "text/html": [
       "<style type=\"text/css\">\n",
       "#T_2c639_row0_col0, #T_2c639_row1_col0, #T_2c639_row3_col0, #T_2c639_row4_col0, #T_2c639_row5_col0, #T_2c639_row6_col0, #T_2c639_row7_col0, #T_2c639_row10_col0 {\n",
       "  background-color: #3b4cc0;\n",
       "  color: #f1f1f1;\n",
       "}\n",
       "#T_2c639_row2_col0 {\n",
       "  background-color: #4358cb;\n",
       "  color: #f1f1f1;\n",
       "}\n",
       "#T_2c639_row8_col0 {\n",
       "  background-color: #ca3b37;\n",
       "  color: #f1f1f1;\n",
       "}\n",
       "#T_2c639_row9_col0 {\n",
       "  background-color: #b40426;\n",
       "  color: #f1f1f1;\n",
       "}\n",
       "</style>\n",
       "<table id=\"T_2c639_\">\n",
       "  <thead>\n",
       "    <tr>\n",
       "      <th class=\"blank level0\" >&nbsp;</th>\n",
       "      <th class=\"col_heading level0 col0\" >NaNs, %</th>\n",
       "    </tr>\n",
       "  </thead>\n",
       "  <tbody>\n",
       "    <tr>\n",
       "      <th id=\"T_2c639_level0_row0\" class=\"row_heading level0 row0\" >name</th>\n",
       "      <td id=\"T_2c639_row0_col0\" class=\"data row0 col0\" >0.01</td>\n",
       "    </tr>\n",
       "    <tr>\n",
       "      <th id=\"T_2c639_level0_row1\" class=\"row_heading level0 row1\" >platform</th>\n",
       "      <td id=\"T_2c639_row1_col0\" class=\"data row1 col0\" >0.00</td>\n",
       "    </tr>\n",
       "    <tr>\n",
       "      <th id=\"T_2c639_level0_row2\" class=\"row_heading level0 row2\" >year_of_release</th>\n",
       "      <td id=\"T_2c639_row2_col0\" class=\"data row2 col0\" >1.61</td>\n",
       "    </tr>\n",
       "    <tr>\n",
       "      <th id=\"T_2c639_level0_row3\" class=\"row_heading level0 row3\" >genre</th>\n",
       "      <td id=\"T_2c639_row3_col0\" class=\"data row3 col0\" >0.01</td>\n",
       "    </tr>\n",
       "    <tr>\n",
       "      <th id=\"T_2c639_level0_row4\" class=\"row_heading level0 row4\" >na_sales</th>\n",
       "      <td id=\"T_2c639_row4_col0\" class=\"data row4 col0\" >0.00</td>\n",
       "    </tr>\n",
       "    <tr>\n",
       "      <th id=\"T_2c639_level0_row5\" class=\"row_heading level0 row5\" >eu_sales</th>\n",
       "      <td id=\"T_2c639_row5_col0\" class=\"data row5 col0\" >0.00</td>\n",
       "    </tr>\n",
       "    <tr>\n",
       "      <th id=\"T_2c639_level0_row6\" class=\"row_heading level0 row6\" >jp_sales</th>\n",
       "      <td id=\"T_2c639_row6_col0\" class=\"data row6 col0\" >0.00</td>\n",
       "    </tr>\n",
       "    <tr>\n",
       "      <th id=\"T_2c639_level0_row7\" class=\"row_heading level0 row7\" >other_sales</th>\n",
       "      <td id=\"T_2c639_row7_col0\" class=\"data row7 col0\" >0.00</td>\n",
       "    </tr>\n",
       "    <tr>\n",
       "      <th id=\"T_2c639_level0_row8\" class=\"row_heading level0 row8\" >critic_score</th>\n",
       "      <td id=\"T_2c639_row8_col0\" class=\"data row8 col0\" >51.32</td>\n",
       "    </tr>\n",
       "    <tr>\n",
       "      <th id=\"T_2c639_level0_row9\" class=\"row_heading level0 row9\" >user_score</th>\n",
       "      <td id=\"T_2c639_row9_col0\" class=\"data row9 col0\" >54.59</td>\n",
       "    </tr>\n",
       "    <tr>\n",
       "      <th id=\"T_2c639_level0_row10\" class=\"row_heading level0 row10\" >rating</th>\n",
       "      <td id=\"T_2c639_row10_col0\" class=\"data row10 col0\" >0.00</td>\n",
       "    </tr>\n",
       "  </tbody>\n",
       "</table>\n"
      ],
      "text/plain": [
       "<pandas.io.formats.style.Styler at 0x1231e5f10>"
      ]
     },
     "execution_count": 15,
     "metadata": {},
     "output_type": "execute_result"
    }
   ],
   "source": [
    "pd.DataFrame(round((games.isna().mean()*100), 2), columns=['NaNs, %']).style.format(\n",
    "    '{:.2f}').background_gradient('coolwarm')"
   ]
  },
  {
   "cell_type": "markdown",
   "id": "b115eb27",
   "metadata": {},
   "source": [
    "Таким образом, мы заполнили пропуски в столбце `rating`, в столбце `user_score` количество пропущенных значений увеличилось из-за замены строки `tbd` на NaN. Количество пропусков в остальных столбцах не изменилось."
   ]
  },
  {
   "cell_type": "markdown",
   "id": "69b048bb",
   "metadata": {},
   "source": [
    "### Дубликаты"
   ]
  },
  {
   "cell_type": "markdown",
   "id": "2464b29d",
   "metadata": {},
   "source": [
    "Проверим данные на предмет дубликатов. Начнём с полных дубликатов:"
   ]
  },
  {
   "cell_type": "code",
   "execution_count": 16,
   "id": "8e861607",
   "metadata": {},
   "outputs": [
    {
     "data": {
      "text/plain": [
       "0"
      ]
     },
     "execution_count": 16,
     "metadata": {},
     "output_type": "execute_result"
    }
   ],
   "source": [
    "games.duplicated().sum()"
   ]
  },
  {
   "cell_type": "markdown",
   "id": "f3f3cc9a",
   "metadata": {},
   "source": [
    "Полных дубликатов нет.\n",
    "\n",
    "Что касается неявных дубликатов, столбцы `genre` и `rating` были проверены уже в ходе заполнения пропусков - неявных дубликатов там теперь нет. Проверим значения в столбце `platform`:"
   ]
  },
  {
   "cell_type": "code",
   "execution_count": 17,
   "id": "8c91e988",
   "metadata": {},
   "outputs": [
    {
     "data": {
      "text/plain": [
       "array(['2600', '3DO', '3DS', 'DC', 'DS', 'GB', 'GBA', 'GC', 'GEN', 'GG',\n",
       "       'N64', 'NES', 'NG', 'PC', 'PCFX', 'PS', 'PS2', 'PS3', 'PS4', 'PSP',\n",
       "       'PSV', 'SAT', 'SCD', 'SNES', 'TG16', 'WS', 'Wii', 'WiiU', 'X360',\n",
       "       'XB', 'XOne'], dtype=object)"
      ]
     },
     "execution_count": 17,
     "metadata": {},
     "output_type": "execute_result"
    }
   ],
   "source": [
    "games['platform'].sort_values().unique()"
   ]
  },
  {
   "cell_type": "markdown",
   "id": "85ff49bf",
   "metadata": {},
   "source": [
    "Так, все значения в данном столбце уникальные.\n",
    "\n",
    "Дубликатов в таблице нет."
   ]
  },
  {
   "cell_type": "markdown",
   "id": "448f5be5",
   "metadata": {},
   "source": [
    "### Подсчёт суммарных продаж"
   ]
  },
  {
   "cell_type": "markdown",
   "id": "aaaa8583",
   "metadata": {},
   "source": [
    "Для дальнейшего анализа популярности компьютерных игр нужно знать не только объём продаж по некоторым регионам, но и суммарный объём продаж:"
   ]
  },
  {
   "cell_type": "code",
   "execution_count": 18,
   "id": "4185fa7b",
   "metadata": {},
   "outputs": [
    {
     "data": {
      "text/html": [
       "<div>\n",
       "<style scoped>\n",
       "    .dataframe tbody tr th:only-of-type {\n",
       "        vertical-align: middle;\n",
       "    }\n",
       "\n",
       "    .dataframe tbody tr th {\n",
       "        vertical-align: top;\n",
       "    }\n",
       "\n",
       "    .dataframe thead th {\n",
       "        text-align: right;\n",
       "    }\n",
       "</style>\n",
       "<table border=\"1\" class=\"dataframe\">\n",
       "  <thead>\n",
       "    <tr style=\"text-align: right;\">\n",
       "      <th></th>\n",
       "      <th>name</th>\n",
       "      <th>platform</th>\n",
       "      <th>year_of_release</th>\n",
       "      <th>genre</th>\n",
       "      <th>na_sales</th>\n",
       "      <th>eu_sales</th>\n",
       "      <th>jp_sales</th>\n",
       "      <th>other_sales</th>\n",
       "      <th>total_sales</th>\n",
       "      <th>critic_score</th>\n",
       "      <th>user_score</th>\n",
       "      <th>rating</th>\n",
       "    </tr>\n",
       "  </thead>\n",
       "  <tbody>\n",
       "    <tr>\n",
       "      <th>0</th>\n",
       "      <td>Wii Sports</td>\n",
       "      <td>Wii</td>\n",
       "      <td>2006</td>\n",
       "      <td>Sports</td>\n",
       "      <td>41.36</td>\n",
       "      <td>28.96</td>\n",
       "      <td>3.77</td>\n",
       "      <td>8.45</td>\n",
       "      <td>82.54</td>\n",
       "      <td>76.0</td>\n",
       "      <td>8.0</td>\n",
       "      <td>E</td>\n",
       "    </tr>\n",
       "    <tr>\n",
       "      <th>1</th>\n",
       "      <td>Super Mario Bros.</td>\n",
       "      <td>NES</td>\n",
       "      <td>1985</td>\n",
       "      <td>Platform</td>\n",
       "      <td>29.08</td>\n",
       "      <td>3.58</td>\n",
       "      <td>6.81</td>\n",
       "      <td>0.77</td>\n",
       "      <td>40.24</td>\n",
       "      <td>NaN</td>\n",
       "      <td>NaN</td>\n",
       "      <td>unknown</td>\n",
       "    </tr>\n",
       "    <tr>\n",
       "      <th>2</th>\n",
       "      <td>Mario Kart Wii</td>\n",
       "      <td>Wii</td>\n",
       "      <td>2008</td>\n",
       "      <td>Racing</td>\n",
       "      <td>15.68</td>\n",
       "      <td>12.76</td>\n",
       "      <td>3.79</td>\n",
       "      <td>3.29</td>\n",
       "      <td>35.52</td>\n",
       "      <td>82.0</td>\n",
       "      <td>8.3</td>\n",
       "      <td>E</td>\n",
       "    </tr>\n",
       "    <tr>\n",
       "      <th>3</th>\n",
       "      <td>Wii Sports Resort</td>\n",
       "      <td>Wii</td>\n",
       "      <td>2009</td>\n",
       "      <td>Sports</td>\n",
       "      <td>15.61</td>\n",
       "      <td>10.93</td>\n",
       "      <td>3.28</td>\n",
       "      <td>2.95</td>\n",
       "      <td>32.77</td>\n",
       "      <td>80.0</td>\n",
       "      <td>8.0</td>\n",
       "      <td>E</td>\n",
       "    </tr>\n",
       "    <tr>\n",
       "      <th>4</th>\n",
       "      <td>Pokemon Red/Pokemon Blue</td>\n",
       "      <td>GB</td>\n",
       "      <td>1996</td>\n",
       "      <td>Role-Playing</td>\n",
       "      <td>11.27</td>\n",
       "      <td>8.89</td>\n",
       "      <td>10.22</td>\n",
       "      <td>1.00</td>\n",
       "      <td>31.38</td>\n",
       "      <td>NaN</td>\n",
       "      <td>NaN</td>\n",
       "      <td>unknown</td>\n",
       "    </tr>\n",
       "  </tbody>\n",
       "</table>\n",
       "</div>"
      ],
      "text/plain": [
       "                       name platform  year_of_release         genre  na_sales  \\\n",
       "0                Wii Sports      Wii             2006        Sports     41.36   \n",
       "1         Super Mario Bros.      NES             1985      Platform     29.08   \n",
       "2            Mario Kart Wii      Wii             2008        Racing     15.68   \n",
       "3         Wii Sports Resort      Wii             2009        Sports     15.61   \n",
       "4  Pokemon Red/Pokemon Blue       GB             1996  Role-Playing     11.27   \n",
       "\n",
       "   eu_sales  jp_sales  other_sales  total_sales  critic_score  user_score  \\\n",
       "0     28.96      3.77         8.45        82.54          76.0         8.0   \n",
       "1      3.58      6.81         0.77        40.24           NaN         NaN   \n",
       "2     12.76      3.79         3.29        35.52          82.0         8.3   \n",
       "3     10.93      3.28         2.95        32.77          80.0         8.0   \n",
       "4      8.89     10.22         1.00        31.38           NaN         NaN   \n",
       "\n",
       "    rating  \n",
       "0        E  \n",
       "1  unknown  \n",
       "2        E  \n",
       "3        E  \n",
       "4  unknown  "
      ]
     },
     "execution_count": 18,
     "metadata": {},
     "output_type": "execute_result"
    }
   ],
   "source": [
    "# Добавим в датафрейм столбец с суммарными продажами:\n",
    "games.insert(8, 'total_sales', games[['na_sales', 'eu_sales', 'jp_sales', 'other_sales']].sum(axis=1))\n",
    "\n",
    "games.head()"
   ]
  },
  {
   "cell_type": "markdown",
   "id": "4ca9387c",
   "metadata": {},
   "source": [
    "Отлично, суммарные продажи по всем играм подсчитаны!\n",
    "\n",
    "Можно приступать к анализу данных."
   ]
  },
  {
   "cell_type": "markdown",
   "id": "73ce8a28",
   "metadata": {},
   "source": [
    "## Исследовательский анализ данных"
   ]
  },
  {
   "cell_type": "markdown",
   "id": "29990c7c",
   "metadata": {},
   "source": [
    "### Определение актуального периода"
   ]
  },
  {
   "cell_type": "markdown",
   "id": "1917c5ef",
   "metadata": {},
   "source": [
    "Для начала посмотрим, какое количество компьютерных игр выпускалось в разные годы. Чтобы распределение было нагляднее, построим столбчатую диаграмму:"
   ]
  },
  {
   "cell_type": "code",
   "execution_count": 19,
   "id": "ffbc5c9b",
   "metadata": {},
   "outputs": [
    {
     "data": {
      "text/plain": [
       "<AxesSubplot:xlabel='year_of_release'>"
      ]
     },
     "execution_count": 19,
     "metadata": {},
     "output_type": "execute_result"
    },
    {
     "data": {
      "image/png": "[encoded data removed]",
      "text/plain": [
       "<Figure size 720x648 with 1 Axes>"
      ]
     },
     "metadata": {
      "needs_background": "light"
     },
     "output_type": "display_data"
    }
   ],
   "source": [
    "games.pivot_table(index='year_of_release', values='name', aggfunc='count').plot(kind='bar', figsize=(10, 9))"
   ]
  },
  {
   "cell_type": "markdown",
   "id": "57f87449",
   "metadata": {},
   "source": [
    "Так, из диаграммы видно, что до 1993 г. включительно выпускалось меньше 50 компьютерных игр в год. С 1994 г. начинается достаточно устойчивый рост годового выпуска игр, пик которого приходится на 2008-2009 гг., когда количество вышедших игр достигло 1400. В 2012 г. произошло резкое падение (почти на 50%). С тех пор количество выпускаемых игр колеблется в районе 500-600. В 2016 г. его значение было минимальным с 2002 г. и составило 502 игр.\n",
    "\n",
    "Можно сказать, что данные за 1980-2008 гг. уже неакутальна, поскольку конфигурация распределения числа игр и их количество уже значительно поменялась с того времени."
   ]
  },
  {
   "cell_type": "markdown",
   "id": "0a4de541",
   "metadata": {},
   "source": [
    "Теперь оценим, как менялись продажи по платформам. Посмотрим, какие платформы имеют наибольший объём общих продаж:"
   ]
  },
  {
   "cell_type": "code",
   "execution_count": 20,
   "id": "f73a75db",
   "metadata": {},
   "outputs": [
    {
     "data": {
      "text/html": [
       "<div>\n",
       "<style scoped>\n",
       "    .dataframe tbody tr th:only-of-type {\n",
       "        vertical-align: middle;\n",
       "    }\n",
       "\n",
       "    .dataframe tbody tr th {\n",
       "        vertical-align: top;\n",
       "    }\n",
       "\n",
       "    .dataframe thead th {\n",
       "        text-align: right;\n",
       "    }\n",
       "</style>\n",
       "<table border=\"1\" class=\"dataframe\">\n",
       "  <thead>\n",
       "    <tr style=\"text-align: right;\">\n",
       "      <th></th>\n",
       "      <th>platform</th>\n",
       "      <th>total_sales</th>\n",
       "    </tr>\n",
       "  </thead>\n",
       "  <tbody>\n",
       "    <tr>\n",
       "      <th>0</th>\n",
       "      <td>PS2</td>\n",
       "      <td>1255.77</td>\n",
       "    </tr>\n",
       "    <tr>\n",
       "      <th>1</th>\n",
       "      <td>X360</td>\n",
       "      <td>971.42</td>\n",
       "    </tr>\n",
       "    <tr>\n",
       "      <th>2</th>\n",
       "      <td>PS3</td>\n",
       "      <td>939.65</td>\n",
       "    </tr>\n",
       "    <tr>\n",
       "      <th>3</th>\n",
       "      <td>Wii</td>\n",
       "      <td>907.51</td>\n",
       "    </tr>\n",
       "    <tr>\n",
       "      <th>4</th>\n",
       "      <td>DS</td>\n",
       "      <td>806.12</td>\n",
       "    </tr>\n",
       "    <tr>\n",
       "      <th>5</th>\n",
       "      <td>PS</td>\n",
       "      <td>730.86</td>\n",
       "    </tr>\n",
       "    <tr>\n",
       "      <th>6</th>\n",
       "      <td>GBA</td>\n",
       "      <td>317.85</td>\n",
       "    </tr>\n",
       "    <tr>\n",
       "      <th>7</th>\n",
       "      <td>PS4</td>\n",
       "      <td>314.14</td>\n",
       "    </tr>\n",
       "    <tr>\n",
       "      <th>8</th>\n",
       "      <td>PSP</td>\n",
       "      <td>294.05</td>\n",
       "    </tr>\n",
       "    <tr>\n",
       "      <th>9</th>\n",
       "      <td>PC</td>\n",
       "      <td>259.52</td>\n",
       "    </tr>\n",
       "  </tbody>\n",
       "</table>\n",
       "</div>"
      ],
      "text/plain": [
       "  platform  total_sales\n",
       "0      PS2      1255.77\n",
       "1     X360       971.42\n",
       "2      PS3       939.65\n",
       "3      Wii       907.51\n",
       "4       DS       806.12\n",
       "5       PS       730.86\n",
       "6      GBA       317.85\n",
       "7      PS4       314.14\n",
       "8      PSP       294.05\n",
       "9       PC       259.52"
      ]
     },
     "execution_count": 20,
     "metadata": {},
     "output_type": "execute_result"
    }
   ],
   "source": [
    "games.pivot_table(\n",
    "    index='platform', values='total_sales', aggfunc='sum').sort_values(by='total_sales', ascending=False).reset_index().head(10)"
   ]
  },
  {
   "cell_type": "markdown",
   "id": "ca9844b4",
   "metadata": {},
   "source": [
    "Так, можно выделить 6 платформ с наибольшим объёмом продаж - PS2, X360, PS3, Wii, DS и PS (разрыв между PS, находящейся на 6-ом месте по общиему объёму продаж, и GBA на 7-ом месте около 60% от продаж PS, поэтому логично выделить 6 первых платформ).\n",
    "\n",
    "Посмотрим, как менялся объём продаж по годам у платформ-лидеров:"
   ]
  },
  {
   "cell_type": "code",
   "execution_count": 21,
   "id": "23e6b0af",
   "metadata": {
    "scrolled": false
   },
   "outputs": [
    {
     "data": {
      "image/png": "[encoded data removed]",
      "text/plain": [
       "<Figure size 432x288 with 1 Axes>"
      ]
     },
     "metadata": {
      "needs_background": "light"
     },
     "output_type": "display_data"
    },
    {
     "data": {
      "image/png": "[encoded data removed]",
      "text/plain": [
       "<Figure size 432x288 with 1 Axes>"
      ]
     },
     "metadata": {
      "needs_background": "light"
     },
     "output_type": "display_data"
    },
    {
     "data": {
      "image/png": "[encoded data removed]",
      "text/plain": [
       "<Figure size 432x288 with 1 Axes>"
      ]
     },
     "metadata": {
      "needs_background": "light"
     },
     "output_type": "display_data"
    },
    {
     "data": {
      "image/png": "[encoded data removed]",
      "text/plain": [
       "<Figure size 432x288 with 1 Axes>"
      ]
     },
     "metadata": {
      "needs_background": "light"
     },
     "output_type": "display_data"
    },
    {
     "data": {
      "image/png": "[encoded data removed]",
      "text/plain": [
       "<Figure size 432x288 with 1 Axes>"
      ]
     },
     "metadata": {
      "needs_background": "light"
     },
     "output_type": "display_data"
    },
    {
     "data": {
      "image/png": "[encoded data removed]",
      "text/plain": [
       "<Figure size 432x288 with 1 Axes>"
      ]
     },
     "metadata": {
      "needs_background": "light"
     },
     "output_type": "display_data"
    }
   ],
   "source": [
    "# Создадим список с названиями необходимых платформ:\n",
    "large_platforms = ['PS2', 'X360', 'PS3', 'Wii', 'DS', 'PS']\n",
    "\n",
    "# И список с HEX-значениями цветов:\n",
    "colors = ['#78C850', '#F08030', '#6890F0','#F8D030', '#F85888', '#705898']\n",
    "\n",
    "# С помощью цикла построим столбчатые диаграммы по годам для шести платформ-лидеров:\n",
    "for index in range(len(large_platforms)):\n",
    "    plt.figure(figsize=(6, 4))\n",
    "    sns.barplot(x='year_of_release', y='total_sales', data=games[games['platform'] == large_platforms[index]].pivot_table(\n",
    "    index=['year_of_release'], values='total_sales', aggfunc='sum').sort_values(\n",
    "        by='total_sales', ascending=False).reset_index(), color=colors[index])\n",
    "    plt.title(large_platforms[index])\n",
    "    plt.show()"
   ]
  },
  {
   "cell_type": "markdown",
   "id": "e59d9e4f",
   "metadata": {},
   "source": [
    "Так, из столбчатой диаграммы видно, какими циклами \"живут\" платформы: игры на них продаются в течение 9-10 лет, затем продажи полностью исчезают. Большиство из платформ-лидеров функционировало в 2004-2015 гг. Как видно из диаграмм, пик активности платформ начинается через 4-6 лет после их выхода на рынок и длится в среднем треть от срока их жизни (т. е. около 3-х лет). В связи с этим, чтобы поймать пики продаж функционирующих платформ, возьмём период, охватывающий 3 лет до 2017 г.\n",
    "\n",
    "Исходя из этого, а также из динамики количества выпускаемых за год игр, можно определить **актуальный период как 2014-2016 гг**. Выделим актуальные данные в отдельную таблицу для дальнейшего анализа:"
   ]
  },
  {
   "cell_type": "code",
   "execution_count": 22,
   "id": "d98c25c5",
   "metadata": {},
   "outputs": [
    {
     "data": {
      "text/plain": [
       "1689"
      ]
     },
     "execution_count": 22,
     "metadata": {},
     "output_type": "execute_result"
    }
   ],
   "source": [
    "games_relevant = games[games['year_of_release'] >= 2014].sort_values(by='year_of_release')\n",
    "\n",
    "games_relevant.shape[0]"
   ]
  },
  {
   "cell_type": "markdown",
   "id": "448fc279",
   "metadata": {},
   "source": [
    "Получили информацию о 4022 компьютерных играх. С ней и будем работать."
   ]
  },
  {
   "cell_type": "markdown",
   "id": "6f9e4da7",
   "metadata": {},
   "source": [
    "### Изучение структуры платформ"
   ]
  },
  {
   "cell_type": "markdown",
   "id": "5773ebce",
   "metadata": {},
   "source": [
    "Посмотрим величину и динамику продаж компьютерных игр с платформ, функционирующих в актуальном периоде. Для этого снова построим сводную таблицу и столбчатую диаграмму. <a id='pivot'></a>"
   ]
  },
  {
   "cell_type": "code",
   "execution_count": 23,
   "id": "ea44da03",
   "metadata": {},
   "outputs": [
    {
     "data": {
      "text/html": [
       "<div>\n",
       "<style scoped>\n",
       "    .dataframe tbody tr th:only-of-type {\n",
       "        vertical-align: middle;\n",
       "    }\n",
       "\n",
       "    .dataframe tbody tr th {\n",
       "        vertical-align: top;\n",
       "    }\n",
       "\n",
       "    .dataframe thead th {\n",
       "        text-align: right;\n",
       "    }\n",
       "</style>\n",
       "<table border=\"1\" class=\"dataframe\">\n",
       "  <thead>\n",
       "    <tr style=\"text-align: right;\">\n",
       "      <th></th>\n",
       "      <th>platform</th>\n",
       "      <th>total_sales</th>\n",
       "    </tr>\n",
       "  </thead>\n",
       "  <tbody>\n",
       "    <tr>\n",
       "      <th>0</th>\n",
       "      <td>PS4</td>\n",
       "      <td>288.15</td>\n",
       "    </tr>\n",
       "    <tr>\n",
       "      <th>1</th>\n",
       "      <td>XOne</td>\n",
       "      <td>140.36</td>\n",
       "    </tr>\n",
       "    <tr>\n",
       "      <th>2</th>\n",
       "      <td>3DS</td>\n",
       "      <td>86.68</td>\n",
       "    </tr>\n",
       "    <tr>\n",
       "      <th>3</th>\n",
       "      <td>PS3</td>\n",
       "      <td>68.18</td>\n",
       "    </tr>\n",
       "    <tr>\n",
       "      <th>4</th>\n",
       "      <td>X360</td>\n",
       "      <td>48.22</td>\n",
       "    </tr>\n",
       "    <tr>\n",
       "      <th>5</th>\n",
       "      <td>WiiU</td>\n",
       "      <td>42.98</td>\n",
       "    </tr>\n",
       "    <tr>\n",
       "      <th>6</th>\n",
       "      <td>PC</td>\n",
       "      <td>27.05</td>\n",
       "    </tr>\n",
       "    <tr>\n",
       "      <th>7</th>\n",
       "      <td>PSV</td>\n",
       "      <td>22.40</td>\n",
       "    </tr>\n",
       "    <tr>\n",
       "      <th>8</th>\n",
       "      <td>Wii</td>\n",
       "      <td>5.07</td>\n",
       "    </tr>\n",
       "    <tr>\n",
       "      <th>9</th>\n",
       "      <td>PSP</td>\n",
       "      <td>0.36</td>\n",
       "    </tr>\n",
       "  </tbody>\n",
       "</table>\n",
       "</div>"
      ],
      "text/plain": [
       "  platform  total_sales\n",
       "0      PS4       288.15\n",
       "1     XOne       140.36\n",
       "2      3DS        86.68\n",
       "3      PS3        68.18\n",
       "4     X360        48.22\n",
       "5     WiiU        42.98\n",
       "6       PC        27.05\n",
       "7      PSV        22.40\n",
       "8      Wii         5.07\n",
       "9      PSP         0.36"
      ]
     },
     "execution_count": 23,
     "metadata": {},
     "output_type": "execute_result"
    }
   ],
   "source": [
    "# Создадим сводную таблицу с разбивкой продаж за акутальный период по платформам\n",
    "games_relevant_by_platform = games_relevant.pivot_table(\n",
    "    index='platform', values='total_sales', aggfunc='sum').sort_values(\n",
    "    by='total_sales', ascending=False).reset_index()\n",
    "\n",
    "games_relevant_by_platform"
   ]
  },
  {
   "cell_type": "markdown",
   "id": "93467cbf",
   "metadata": {},
   "source": [
    "Так, в 2014-2016 гг. были активны 12 платформ. Наибольших суммарных продаж за весь период достигли PS3, X360, Wii и PS4.\n",
    "\n",
    "Посмотрим на динамику продаж каждой платформы за актуальный период (но на графике выведем данные с 2011 года, чтобы отследить динамику): <a id='barplot'></a>"
   ]
  },
  {
   "cell_type": "code",
   "execution_count": 24,
   "id": "78b6fcb8",
   "metadata": {},
   "outputs": [
    {
     "data": {
      "image/png": "[encoded data removed]",
      "text/plain": [
       "<Figure size 1152x720 with 1 Axes>"
      ]
     },
     "metadata": {
      "needs_background": "light"
     },
     "output_type": "display_data"
    }
   ],
   "source": [
    "# Построим столбчатые диаграммы по годам:\n",
    "plt.figure(figsize=(16, 10))\n",
    "sns.barplot(x='year_of_release', y='total_sales', hue='platform', data=games[games['year_of_release'] >= 2011].pivot_table(\n",
    "        index=['platform', 'year_of_release'], values='total_sales', aggfunc='sum').sort_values(\n",
    "        by='total_sales', ascending=False).reset_index(), palette=sns.color_palette('hls', 12))\n",
    "plt.legend(loc='upper right')\n",
    "plt.show()"
   ]
  },
  {
   "cell_type": "markdown",
   "id": "f16ab431",
   "metadata": {},
   "source": [
    "Из диаграммы видно, что деятельность платформ PS3, X360, Wii и DS к 2016 г. упала почти до нуля. В то же время видны и развивающиеся платформы, которые только набирают обороты. К ним относятся PS4, XOne и 3DS (они начали продавать игры только в 2011-2013 гг.). Продажи остальных платформ были крайне малы уже в 2016 г. Таким образом, **потенциально прибыльными можно назвать платформы PS4, XOne и 3DS**. Характерной особенностью, однако, является то, что их продажи растут не так стабильно и не достигают значений платформ-лидеров.\n",
    "\n",
    "Построим диаграмму размаха для общих продаж по платформам:"
   ]
  },
  {
   "cell_type": "code",
   "execution_count": 25,
   "id": "a02452b1",
   "metadata": {},
   "outputs": [
    {
     "data": {
      "text/plain": [
       "<AxesSubplot:title={'center':'total_sales'}, xlabel='platform'>"
      ]
     },
     "execution_count": 25,
     "metadata": {},
     "output_type": "execute_result"
    },
    {
     "data": {
      "image/png": "[encoded data removed]",
      "text/plain": [
       "<Figure size 1152x720 with 1 Axes>"
      ]
     },
     "metadata": {
      "needs_background": "light"
     },
     "output_type": "display_data"
    }
   ],
   "source": [
    "games_relevant.boxplot(column='total_sales', by='platform', figsize=(16, 10))"
   ]
  },
  {
   "cell_type": "markdown",
   "id": "73ae1f5b",
   "metadata": {},
   "source": [
    "Поскольку при таком масштабе невозможно увидеть ни границы межквартильного размаха, ни медиану, установим верхнюю границу по оси ординат:"
   ]
  },
  {
   "cell_type": "code",
   "execution_count": 26,
   "id": "864d2a59",
   "metadata": {
    "scrolled": false
   },
   "outputs": [
    {
     "data": {
      "text/plain": [
       "(0.0, 1.75)"
      ]
     },
     "execution_count": 26,
     "metadata": {},
     "output_type": "execute_result"
    },
    {
     "data": {
      "image/png": "[encoded data removed]",
      "text/plain": [
       "<Figure size 1152x720 with 1 Axes>"
      ]
     },
     "metadata": {
      "needs_background": "light"
     },
     "output_type": "display_data"
    }
   ],
   "source": [
    "games_relevant.boxplot(column='total_sales', by='platform', figsize=(16, 10))\n",
    "plt.ylim(0, 1.75)"
   ]
  },
  {
   "cell_type": "markdown",
   "id": "1a8ad0fb",
   "metadata": {},
   "source": [
    "Так, по диаграммам размаха видно, что самый высокий медианный уровень продаж игр у платформы XOne (200 тыс. копий). Затем по медианному значению идёт платформа WiiU (примерно 190 тыс. копий), однако, согласно [столбчатой диаграмме](#barplot), к 2016 г. её объём продаж сократился почти до нуля. Далее следуют PS4 и WiiU (примерно по 180 тыс. копий каждая). При этом стоит отметить, что, как было выявлено в [сводной таблице](#pivot), в отличие от PS4, суммарное количество продаж за актуальный период у платформы WiiU сравнительно невелико (по данному параметры платформа находится в середине). Медиана по остальным платформам находится ниже данного значения.\n",
    "\n",
    "Межкартильный размах наиболее велик у платформ Wii, PS4 и XOne.\n",
    "\n",
    "Учитывая данную информацию, а также [динамику продаж по платформам за актуальный период](#barplot), можно сказать, что **наиболее перспективными на 2016 г. являются плафтормы PS4 и XOne**."
   ]
  },
  {
   "cell_type": "markdown",
   "id": "51f139dd",
   "metadata": {},
   "source": [
    "### Влияние отзывов на объём продаж"
   ]
  },
  {
   "cell_type": "markdown",
   "id": "65155596",
   "metadata": {},
   "source": [
    "Теперь посмотрим, как влияют отзывы критиков и пользователей об играх на их продажи внутри одной платформы. Для этого сначала проанализируем это влияние внутри одной популярной платформы. Для этих целей возьмём платформу PS4 как платформу с наиболбьшими общими продажами среди перспективных платформ. Так как в столбцах `critic_score` и `user_score` есть много пропущенных значений, диаграммы рассеяния построим по срезам без пропусков:"
   ]
  },
  {
   "cell_type": "code",
   "execution_count": 27,
   "id": "bb9cf65c",
   "metadata": {
    "scrolled": false
   },
   "outputs": [
    {
     "data": {
      "image/png": "[encoded data removed]",
      "text/plain": [
       "<Figure size 432x288 with 1 Axes>"
      ]
     },
     "metadata": {
      "needs_background": "light"
     },
     "output_type": "display_data"
    },
    {
     "data": {
      "text/plain": [
       "'Корреляция продаж и отзывов критиков:'"
      ]
     },
     "metadata": {},
     "output_type": "display_data"
    },
    {
     "data": {
      "text/plain": [
       "0.4026614106810411"
      ]
     },
     "metadata": {},
     "output_type": "display_data"
    },
    {
     "data": {
      "image/png": "[encoded data removed]",
      "text/plain": [
       "<Figure size 432x288 with 1 Axes>"
      ]
     },
     "metadata": {
      "needs_background": "light"
     },
     "output_type": "display_data"
    },
    {
     "data": {
      "text/plain": [
       "'Корреляция продаж и отзывов пользователей:'"
      ]
     },
     "metadata": {},
     "output_type": "display_data"
    },
    {
     "data": {
      "text/plain": [
       "-0.04013158947269734"
      ]
     },
     "metadata": {},
     "output_type": "display_data"
    }
   ],
   "source": [
    "plt.title('Влияние отзывов критиков на продажи PS4')\n",
    "plt.scatter(games_relevant.loc[(games_relevant['platform'] == \"PS4\") & (~ games_relevant['critic_score'].isna())]['critic_score'], games_relevant.loc[(games_relevant['platform'] == \"PS4\") & (~ games_relevant['critic_score'].isna())]['total_sales'])\n",
    "plt.show()\n",
    "display('Корреляция продаж и отзывов критиков:', games_relevant.loc[(games_relevant['platform'] == \"PS4\") & (~ games_relevant['critic_score'].isna())]['total_sales'].corr(\n",
    "    games_relevant.loc[(games_relevant['platform'] == \"PS4\") & (~ games_relevant['critic_score'].isna())]['critic_score']))\n",
    "\n",
    "plt.title('Влияние отзывов пользователей на продажи PS4')\n",
    "plt.scatter(games_relevant.loc[(games_relevant['platform'] == \"PS4\") & (~ games_relevant['user_score'].isna())]['user_score'], games_relevant.loc[(games_relevant['platform'] == \"PS4\") & (~ games_relevant['user_score'].isna())]['total_sales'])\n",
    "plt.show()\n",
    "display('Корреляция продаж и отзывов пользователей:', games_relevant.loc[(games_relevant['platform'] == \"PS4\") & (~ games_relevant['user_score'].isna())]['total_sales'].corr(\n",
    "    games_relevant.loc[(games_relevant['platform'] == \"PS4\") & (~ games_relevant['user_score'].isna())]['user_score']))"
   ]
  },
  {
   "cell_type": "markdown",
   "id": "76a8b3ce",
   "metadata": {},
   "source": [
    "Как видно из диаграмм рассеяния и коэффициентов корреляции, отзывы критиков оказывают гораздо более значительное влияние на объём продаж, чем отзывы пользователей. Так, если отзывы пользователей не оказывают совершенно никакого влияния на объём продаж (коэффициент корреляции почти равен нулю и даже немного уходит в минус), то зависимость между объёмом продаж компьютерных игр и отзывами критиков выявить всё же можно: корреляция в данном случае превышает 0.4, а по диаграмме рассеяния видно, что игры, которым критики поставили более высокий балл, пользуются большей популярностью. В связи с этим можно сказать, что **между объёмом продаж компьютерных игр на платформе PS4 и отзывами критиков существует достаточно сильная прямая зависимость.**\n",
    "\n",
    "Сравним эти выводы с влиянием отзывов на объём продаж компьютерных игр на других платформах. <a id='corr'></a>"
   ]
  },
  {
   "cell_type": "code",
   "execution_count": 28,
   "id": "f199689d",
   "metadata": {
    "scrolled": false
   },
   "outputs": [
    {
     "data": {
      "text/plain": [
       "'Влияние отзывов критиков на продажи PS3 :'"
      ]
     },
     "metadata": {},
     "output_type": "display_data"
    },
    {
     "data": {
      "image/png": "[encoded data removed]",
      "text/plain": [
       "<Figure size 432x288 with 1 Axes>"
      ]
     },
     "metadata": {
      "needs_background": "light"
     },
     "output_type": "display_data"
    },
    {
     "data": {
      "text/plain": [
       "'Корреляция продаж и отзывов критиков:'"
      ]
     },
     "metadata": {},
     "output_type": "display_data"
    },
    {
     "data": {
      "text/plain": [
       "0.4465746049319072"
      ]
     },
     "metadata": {},
     "output_type": "display_data"
    },
    {
     "data": {
      "text/plain": [
       "'Влияние отзывов пользователей на продажи PS3 :'"
      ]
     },
     "metadata": {},
     "output_type": "display_data"
    },
    {
     "data": {
      "image/png": "[encoded data removed]",
      "text/plain": [
       "<Figure size 432x288 with 1 Axes>"
      ]
     },
     "metadata": {
      "needs_background": "light"
     },
     "output_type": "display_data"
    },
    {
     "data": {
      "text/plain": [
       "'Корреляция продаж и отзывов пользователей:'"
      ]
     },
     "metadata": {},
     "output_type": "display_data"
    },
    {
     "data": {
      "text/plain": [
       "0.15659516181359961"
      ]
     },
     "metadata": {},
     "output_type": "display_data"
    },
    {
     "data": {
      "text/plain": [
       "'Влияние отзывов критиков на продажи X360 :'"
      ]
     },
     "metadata": {},
     "output_type": "display_data"
    },
    {
     "data": {
      "image/png": "[encoded data removed]",
      "text/plain": [
       "<Figure size 432x288 with 1 Axes>"
      ]
     },
     "metadata": {
      "needs_background": "light"
     },
     "output_type": "display_data"
    },
    {
     "data": {
      "text/plain": [
       "'Корреляция продаж и отзывов критиков:'"
      ]
     },
     "metadata": {},
     "output_type": "display_data"
    },
    {
     "data": {
      "text/plain": [
       "0.525722835658152"
      ]
     },
     "metadata": {},
     "output_type": "display_data"
    },
    {
     "data": {
      "text/plain": [
       "'Влияние отзывов пользователей на продажи X360 :'"
      ]
     },
     "metadata": {},
     "output_type": "display_data"
    },
    {
     "data": {
      "image/png": "[encoded data removed]",
      "text/plain": [
       "<Figure size 432x288 with 1 Axes>"
      ]
     },
     "metadata": {
      "needs_background": "light"
     },
     "output_type": "display_data"
    },
    {
     "data": {
      "text/plain": [
       "'Корреляция продаж и отзывов пользователей:'"
      ]
     },
     "metadata": {},
     "output_type": "display_data"
    },
    {
     "data": {
      "text/plain": [
       "0.33651362483599323"
      ]
     },
     "metadata": {},
     "output_type": "display_data"
    },
    {
     "data": {
      "text/plain": [
       "'Влияние отзывов критиков на продажи 3DS :'"
      ]
     },
     "metadata": {},
     "output_type": "display_data"
    },
    {
     "data": {
      "image/png": "[encoded data removed]",
      "text/plain": [
       "<Figure size 432x288 with 1 Axes>"
      ]
     },
     "metadata": {
      "needs_background": "light"
     },
     "output_type": "display_data"
    },
    {
     "data": {
      "text/plain": [
       "'Корреляция продаж и отзывов критиков:'"
      ]
     },
     "metadata": {},
     "output_type": "display_data"
    },
    {
     "data": {
      "text/plain": [
       "0.314117492869051"
      ]
     },
     "metadata": {},
     "output_type": "display_data"
    },
    {
     "data": {
      "text/plain": [
       "'Влияние отзывов пользователей на продажи 3DS :'"
      ]
     },
     "metadata": {},
     "output_type": "display_data"
    },
    {
     "data": {
      "image/png": "[encoded data removed]",
      "text/plain": [
       "<Figure size 432x288 with 1 Axes>"
      ]
     },
     "metadata": {
      "needs_background": "light"
     },
     "output_type": "display_data"
    },
    {
     "data": {
      "text/plain": [
       "'Корреляция продаж и отзывов пользователей:'"
      ]
     },
     "metadata": {},
     "output_type": "display_data"
    },
    {
     "data": {
      "text/plain": [
       "0.27984987925032806"
      ]
     },
     "metadata": {},
     "output_type": "display_data"
    },
    {
     "data": {
      "text/plain": [
       "'Влияние отзывов критиков на продажи WiiU :'"
      ]
     },
     "metadata": {},
     "output_type": "display_data"
    },
    {
     "data": {
      "image/png": "[encoded data removed]",
      "text/plain": [
       "<Figure size 432x288 with 1 Axes>"
      ]
     },
     "metadata": {
      "needs_background": "light"
     },
     "output_type": "display_data"
    },
    {
     "data": {
      "text/plain": [
       "'Корреляция продаж и отзывов критиков:'"
      ]
     },
     "metadata": {},
     "output_type": "display_data"
    },
    {
     "data": {
      "text/plain": [
       "0.37020141248088406"
      ]
     },
     "metadata": {},
     "output_type": "display_data"
    },
    {
     "data": {
      "text/plain": [
       "'Влияние отзывов пользователей на продажи WiiU :'"
      ]
     },
     "metadata": {},
     "output_type": "display_data"
    },
    {
     "data": {
      "image/png": "[encoded data removed]",
      "text/plain": [
       "<Figure size 432x288 with 1 Axes>"
      ]
     },
     "metadata": {
      "needs_background": "light"
     },
     "output_type": "display_data"
    },
    {
     "data": {
      "text/plain": [
       "'Корреляция продаж и отзывов пользователей:'"
      ]
     },
     "metadata": {},
     "output_type": "display_data"
    },
    {
     "data": {
      "text/plain": [
       "0.4114513876908575"
      ]
     },
     "metadata": {},
     "output_type": "display_data"
    },
    {
     "data": {
      "text/plain": [
       "'Влияние отзывов критиков на продажи XOne :'"
      ]
     },
     "metadata": {},
     "output_type": "display_data"
    },
    {
     "data": {
      "image/png": "[encoded data removed]",
      "text/plain": [
       "<Figure size 432x288 with 1 Axes>"
      ]
     },
     "metadata": {
      "needs_background": "light"
     },
     "output_type": "display_data"
    },
    {
     "data": {
      "text/plain": [
       "'Корреляция продаж и отзывов критиков:'"
      ]
     },
     "metadata": {},
     "output_type": "display_data"
    },
    {
     "data": {
      "text/plain": [
       "0.4286769437033321"
      ]
     },
     "metadata": {},
     "output_type": "display_data"
    },
    {
     "data": {
      "text/plain": [
       "'Влияние отзывов пользователей на продажи XOne :'"
      ]
     },
     "metadata": {},
     "output_type": "display_data"
    },
    {
     "data": {
      "image/png": "[encoded data removed]",
      "text/plain": [
       "<Figure size 432x288 with 1 Axes>"
      ]
     },
     "metadata": {
      "needs_background": "light"
     },
     "output_type": "display_data"
    },
    {
     "data": {
      "text/plain": [
       "'Корреляция продаж и отзывов пользователей:'"
      ]
     },
     "metadata": {},
     "output_type": "display_data"
    },
    {
     "data": {
      "text/plain": [
       "-0.09173434503310757"
      ]
     },
     "metadata": {},
     "output_type": "display_data"
    },
    {
     "data": {
      "text/plain": [
       "'Влияние отзывов критиков на продажи PC :'"
      ]
     },
     "metadata": {},
     "output_type": "display_data"
    },
    {
     "data": {
      "image/png": "[encoded data removed]",
      "text/plain": [
       "<Figure size 432x288 with 1 Axes>"
      ]
     },
     "metadata": {
      "needs_background": "light"
     },
     "output_type": "display_data"
    },
    {
     "data": {
      "text/plain": [
       "'Корреляция продаж и отзывов критиков:'"
      ]
     },
     "metadata": {},
     "output_type": "display_data"
    },
    {
     "data": {
      "text/plain": [
       "0.17463413769350053"
      ]
     },
     "metadata": {},
     "output_type": "display_data"
    },
    {
     "data": {
      "text/plain": [
       "'Влияние отзывов пользователей на продажи PC :'"
      ]
     },
     "metadata": {},
     "output_type": "display_data"
    },
    {
     "data": {
      "image/png": "[encoded data removed]",
      "text/plain": [
       "<Figure size 432x288 with 1 Axes>"
      ]
     },
     "metadata": {
      "needs_background": "light"
     },
     "output_type": "display_data"
    },
    {
     "data": {
      "text/plain": [
       "'Корреляция продаж и отзывов пользователей:'"
      ]
     },
     "metadata": {},
     "output_type": "display_data"
    },
    {
     "data": {
      "text/plain": [
       "-0.08997391228554931"
      ]
     },
     "metadata": {},
     "output_type": "display_data"
    },
    {
     "data": {
      "text/plain": [
       "'Влияние отзывов критиков на продажи PSV :'"
      ]
     },
     "metadata": {},
     "output_type": "display_data"
    },
    {
     "data": {
      "image/png": "[encoded data removed]",
      "text/plain": [
       "<Figure size 432x288 with 1 Axes>"
      ]
     },
     "metadata": {
      "needs_background": "light"
     },
     "output_type": "display_data"
    },
    {
     "data": {
      "text/plain": [
       "'Корреляция продаж и отзывов критиков:'"
      ]
     },
     "metadata": {},
     "output_type": "display_data"
    },
    {
     "data": {
      "text/plain": [
       "0.042664906570095286"
      ]
     },
     "metadata": {},
     "output_type": "display_data"
    },
    {
     "data": {
      "text/plain": [
       "'Влияние отзывов пользователей на продажи PSV :'"
      ]
     },
     "metadata": {},
     "output_type": "display_data"
    },
    {
     "data": {
      "image/png": "[encoded data removed]",
      "text/plain": [
       "<Figure size 432x288 with 1 Axes>"
      ]
     },
     "metadata": {
      "needs_background": "light"
     },
     "output_type": "display_data"
    },
    {
     "data": {
      "text/plain": [
       "'Корреляция продаж и отзывов пользователей:'"
      ]
     },
     "metadata": {},
     "output_type": "display_data"
    },
    {
     "data": {
      "text/plain": [
       "0.023528216599023054"
      ]
     },
     "metadata": {},
     "output_type": "display_data"
    }
   ],
   "source": [
    "for platform in list(games_relevant['platform'].unique()):\n",
    "    if platform != 'PS4':\n",
    "        if games_relevant.loc[(games_relevant['platform'] == platform) & (~ games_relevant['critic_score'].isna())]['critic_score'].isna().all() == False and games_relevant.loc[(games_relevant['platform'] == platform) & (~ games_relevant['critic_score'].isna())]['total_sales'].isna().all() == False:\n",
    "            display(f'Влияние отзывов критиков на продажи {platform} :')\n",
    "            plt.scatter(games_relevant.loc[(games_relevant['platform'] == platform) & (~ games_relevant['critic_score'].isna())]['critic_score'], games_relevant.loc[(games_relevant['platform'] == platform) & (~ games_relevant['critic_score'].isna())]['total_sales'])\n",
    "            plt.show()\n",
    "            display('Корреляция продаж и отзывов критиков:', games_relevant.loc[(games_relevant['platform'] == platform) & (~ games_relevant['critic_score'].isna())]['total_sales'].corr(\n",
    "                games_relevant.loc[(games_relevant['platform'] == platform) & (~ games_relevant['critic_score'].isna())]['critic_score']))\n",
    "\n",
    "        if games_relevant.loc[(games_relevant['platform'] == platform) & (~ games_relevant['user_score'].isna())]['user_score'].isna().all() == False and games_relevant.loc[(games_relevant['platform'] == platform) & (~ games_relevant['critic_score'].isna())]['total_sales'].isna().all() == False:\n",
    "            display(f'Влияние отзывов пользователей на продажи {platform} :')\n",
    "            plt.scatter(games_relevant.loc[(games_relevant['platform'] == platform) & (~ games_relevant['critic_score'].isna())]['user_score'], games_relevant.loc[(games_relevant['platform'] == platform) & (~ games_relevant['critic_score'].isna())]['total_sales'])\n",
    "            plt.show()\n",
    "            display('Корреляция продаж и отзывов пользователей:', games_relevant.loc[(games_relevant['platform'] == platform) & (~ games_relevant['critic_score'].isna())]['total_sales'].corr(\n",
    "                games_relevant.loc[(games_relevant['platform'] == platform) & (~ games_relevant['critic_score'].isna())]['user_score']))"
   ]
  },
  {
   "cell_type": "markdown",
   "id": "c0e3edfc",
   "metadata": {},
   "source": [
    "Так, для разных платформ влияние отзывов критиков и пользователей на объём продаж имеет разное значение, однако прослеживается общая особенность - **отзывы критиков почти для всех платформ оказывают гораздо большее влияние на продажи игр, чем отзывы пользователей** (исключение составляют DS и WiiU, где корреляция продаж с отзывами критиков немного ниже, чем с отзывами пользователей). Коэффициент корреляции между продажами и отзывами критиков варьируется от 0.17 до 0.53. Корреляция продаж с отзывами пользователей ни для какой платформы, кроме WiiU, где она составляет 0.4, не превышает 0.22 (по PSP, Wii и PSV за актуальный период слишком мало данных, чтобы делать выводы), а в некоторых случаях равна близкому к нулю отрицательному числу.\n",
    "\n",
    "Учитывая полученную информацию, можно сделать два основных вывода:\n",
    "1. Отзывы критиков и пользователей имеют разную степень влияния на продажи игр разных платформ.\n",
    "2. В целом отзывы критиков оказывают гораздо более сильное влияние на обём продаж, чем отзывы пользователей."
   ]
  },
  {
   "cell_type": "markdown",
   "id": "ec93c219",
   "metadata": {},
   "source": [
    "### Распределение игр по жанрам"
   ]
  },
  {
   "cell_type": "markdown",
   "id": "5ebb5349",
   "metadata": {},
   "source": [
    "Теперь посмотрим, как продажи компьютерных игр различаются по жанрам. Для этого построим круговую диаграмму продаж в разбивке по жанрам. <a id='genres'></a>"
   ]
  },
  {
   "cell_type": "code",
   "execution_count": 29,
   "id": "5740c44b",
   "metadata": {},
   "outputs": [
    {
     "data": {
      "text/plain": [
       "Text(0.5, 1.0, 'Распределение продаж по жанрам')"
      ]
     },
     "execution_count": 29,
     "metadata": {},
     "output_type": "execute_result"
    },
    {
     "data": {
      "image/png": "[encoded data removed]",
      "text/plain": [
       "<Figure size 576x576 with 1 Axes>"
      ]
     },
     "metadata": {},
     "output_type": "display_data"
    }
   ],
   "source": [
    "games_relevant_by_genre = games_relevant.pivot_table(\n",
    "    index='genre', values='total_sales', aggfunc='sum').sort_values(\n",
    "    by='total_sales', ascending=False).reset_index()\n",
    "\n",
    "games_relevant_by_genre.plot(y='total_sales', kind='pie', figsize=(8, 8), autopct='%1.1f%%', labels=list(\n",
    "    games_relevant_by_genre['genre']), legend=False)\n",
    "plt.title('Распределение продаж по жанрам')"
   ]
  },
  {
   "cell_type": "markdown",
   "id": "cd56561b",
   "metadata": {},
   "source": [
    "По круговой диаграмме видно, что более четверти продаж в 2014-2016 гг. приходилось на жанр Action, следом идут Shooter (23.4% суммарных продаж) и Sports (15%). Есть и жанры, на которые приходится очень малая доля общих продаж, такие как Puzzle, Strategy, Simulation, Adventure. В целом можно разделить жанры на популярные (занимающие 10-27% суммарных продаж) и непопулярные (занимающие 1-5% суммарных продаж)."
   ]
  },
  {
   "cell_type": "markdown",
   "id": "4f33dd17",
   "metadata": {},
   "source": [
    "Исходя из собранной на данный момент информации, можно сказать, что наиболее перспективными играми в 2017 г. могут являться игры жанров Action, Shooter и Sports, выпущенные на платформах PS4 и XOne и высоко оценённые критиками."
   ]
  },
  {
   "cell_type": "markdown",
   "id": "a7217da0",
   "metadata": {},
   "source": [
    "### Портрет пользователей компьютерных игр из разных регионов"
   ]
  },
  {
   "cell_type": "markdown",
   "id": "9258f478",
   "metadata": {},
   "source": [
    "Чтобы понять, какие игры пользуются наибольшей популярностью в каждом из трёх крупных регионов (Северная Америка, Европа, Япония), составим для них портрет типичного пользователя компьютерных игр.\n",
    "\n",
    "Для того чтобы быстрее выявлять предпочтения пользователей из каждого региона по разным параметрам игр, напишем общую функцию:"
   ]
  },
  {
   "cell_type": "code",
   "execution_count": 30,
   "id": "c1200bf5",
   "metadata": {
    "scrolled": false
   },
   "outputs": [],
   "source": [
    "def build_pieplot(parameter):\n",
    "    # Сделаем сводную таблицу для этого параметра по регионам\n",
    "    parameter_relevant_by_region = games_relevant.groupby(parameter).agg(\n",
    "        na_sales=('na_sales', 'sum'), eu_sales=('eu_sales', 'sum'), jp_sales=('jp_sales', 'sum')).reset_index()\n",
    "\n",
    "    # Напишем цикл для построения круговой диаграммы Топ-5 предпочтений по параметру:\n",
    "    for column in parameter_relevant_by_region.columns[1:]:\n",
    "        parameter_for_region = parameter_relevant_by_region[[parameter, column]].sort_values(by=column, ascending=False)\n",
    "        most_profitable = list(parameter_for_region[parameter].head())\n",
    "        parameter_for_region[parameter] = parameter_for_region[parameter].where(\n",
    "            parameter_for_region[parameter].isin(most_profitable), 'Другие')\n",
    "        parameter_for_region_pivot = parameter_for_region.pivot_table(index=parameter, values=column, aggfunc='sum').reset_index().sort_values(\n",
    "            by=column, ascending=False)\n",
    "        parameter_for_region_pivot.plot(y=column, kind='pie', autopct='%1.1f%%', figsize=(6, 6), labels=parameter_for_region_pivot[parameter], legend = False)\n",
    "        plt.title(column)\n",
    "        plt.show()\n",
    "    return"
   ]
  },
  {
   "cell_type": "markdown",
   "id": "45c84ed2",
   "metadata": {},
   "source": [
    "Для начала посмотрим на Топ-5 самых популярных платформ в каждом регионе:"
   ]
  },
  {
   "cell_type": "code",
   "execution_count": 31,
   "id": "3e4bcd1e",
   "metadata": {},
   "outputs": [
    {
     "data": {
      "image/png": "[encoded data removed]",
      "text/plain": [
       "<Figure size 432x432 with 1 Axes>"
      ]
     },
     "metadata": {},
     "output_type": "display_data"
    },
    {
     "data": {
      "image/png": "[encoded data removed]",
      "text/plain": [
       "<Figure size 432x432 with 1 Axes>"
      ]
     },
     "metadata": {},
     "output_type": "display_data"
    },
    {
     "data": {
      "image/png": "[encoded data removed]",
      "text/plain": [
       "<Figure size 432x432 with 1 Axes>"
      ]
     },
     "metadata": {},
     "output_type": "display_data"
    }
   ],
   "source": [
    "build_pieplot('platform')"
   ]
  },
  {
   "cell_type": "markdown",
   "id": "8210f779",
   "metadata": {},
   "source": [
    "Итак, популярность разных платформ в разных регионах неодинакова. Так, за актуальный период лидирующими платформами в Северной Америке были PS4 (34.7% проданных копий), XOne (28.6%) и X360 (10%). В Европе на первом месте по количеству продаж расположилась PS4 (48%), за ней следуют XOne (17.1%) и PS3 (9.4%). В Японии первые три места распределны следующим образом: 3DS - 47.5% проданных копий, PS4 - 16.1%, PSV - 15.6%. При этом стоит заметить, что предпочтения относительно платформ для игр в Северной Америке и Европе достаточно схожи между собой, а предпочтения пользователей из Японии явно выделяются на этом фоне. Степень концентрации рынка в Северной Америке и Европе весьма похожа (хотя концентрация рынка Японии намного выше).\n",
    "\n",
    "Составим Топ-5 популярных жанров по регионам:"
   ]
  },
  {
   "cell_type": "code",
   "execution_count": 32,
   "id": "515a3a47",
   "metadata": {},
   "outputs": [
    {
     "data": {
      "image/png": "[encoded data removed]",
      "text/plain": [
       "<Figure size 432x432 with 1 Axes>"
      ]
     },
     "metadata": {},
     "output_type": "display_data"
    },
    {
     "data": {
      "image/png": "[encoded data removed]",
      "text/plain": [
       "<Figure size 432x432 with 1 Axes>"
      ]
     },
     "metadata": {},
     "output_type": "display_data"
    },
    {
     "data": {
      "image/png": "[encoded data removed]",
      "text/plain": [
       "<Figure size 432x432 with 1 Axes>"
      ]
     },
     "metadata": {},
     "output_type": "display_data"
    }
   ],
   "source": [
    "build_pieplot('genre')"
   ]
  },
  {
   "cell_type": "markdown",
   "id": "26c58215",
   "metadata": {},
   "source": [
    "Как видно из круговых диаграмм, предпочтения пользователей из Европы и Северной Америки относительно жанров игр почти полностью идентичные (вплоть до долей проданных копий). В обоих регионах самым любимым жанром пользователей является Action (в игры этого жанра играют более четверти пользователей каждого из этих регионов), за ним следуют Shooter (также около 25%), Sports (16-17%), Role-Playing (10-12%). Последнее место в пятёрке лидеров в Северной Америке занимает жанр Misc (5.3%), а в Европе - Racing (5.2%).\n",
    "\n",
    "Выбор пользователей из Японии сильно выделяется: наибольшее число пользователей этой страны отдают предпочтение жанру Role-Playing (33.5%), за ним следуют Action (31.8%). Затем с большим отрывом идут Fighting, Misc и Shooter."
   ]
  },
  {
   "cell_type": "markdown",
   "id": "63916265",
   "metadata": {},
   "source": [
    "Проверим, влияет ли рейтинг ESRB на продажи в отдельном регионе. Поскольку зависимость от категориальных данных нелинейна, считать коэффициент корреляции в данном случае неуместно, поэтому построим столбчатую диаграмму:"
   ]
  },
  {
   "cell_type": "code",
   "execution_count": 33,
   "id": "06f87c24",
   "metadata": {
    "scrolled": false
   },
   "outputs": [
    {
     "data": {
      "image/png": "[encoded data removed]",
      "text/plain": [
       "<Figure size 360x360 with 1 Axes>"
      ]
     },
     "metadata": {
      "needs_background": "light"
     },
     "output_type": "display_data"
    },
    {
     "data": {
      "image/png": "[encoded data removed]",
      "text/plain": [
       "<Figure size 360x360 with 1 Axes>"
      ]
     },
     "metadata": {
      "needs_background": "light"
     },
     "output_type": "display_data"
    },
    {
     "data": {
      "image/png": "[encoded data removed]",
      "text/plain": [
       "<Figure size 360x360 with 1 Axes>"
      ]
     },
     "metadata": {
      "needs_background": "light"
     },
     "output_type": "display_data"
    }
   ],
   "source": [
    "rating_relevant_by_region = games_relevant.groupby('rating').agg(\n",
    "        na_sales=('na_sales', 'sum'), eu_sales=('eu_sales', 'sum'), jp_sales=('jp_sales', 'sum'))\n",
    "\n",
    "for column in rating_relevant_by_region.columns:\n",
    "    rating_relevant_by_region[column].plot(kind='bar', figsize=(5, 5), legend=True)\n",
    "    plt.title(column)\n",
    "    plt.show()"
   ]
  },
  {
   "cell_type": "markdown",
   "id": "c57a5ff3",
   "metadata": {},
   "source": [
    "По диаграммам видно, что в Северной Америке и Европе наибольшей популярностью пользуются компьютерные игры с рейтингом M (для взрослых старше 17-ти лет). На втором месте в обоих регионах расположились игры с рейтингом E (для всех старше 6-ти лет), на третьем - с большим отрывом игры с рейтингом T для подростков старше 13-ти лет. Количество игр с неизвестным возрастным рейтингом составляет для данных регионов около 12-20% (поэтому в теории позиции рейтингов могут поменяться, однако, учитывая большой разрыв между M и E и остальными рейтингами, для первых двух мест это маловероятно). В связи с этим можно предположить, что в Северной Америке и Европе игры с рейтингами M и E продаются лучше всего.\n",
    "\n",
    "Выводы относительно влияния рейтинга ESRB на продажи в Японии по полученным данным сделать нельзя, поскольку игры с неизвестным рейтингом занимают больше половины выборки. Возможно, в Японии большинство игр выпускается для внутреннего рынка и поэтому оценивается по своей собственной рейтинговой системе."
   ]
  },
  {
   "cell_type": "markdown",
   "id": "fcef67eb",
   "metadata": {},
   "source": [
    "Таким образом, можно составить следующие портреты пользователей каждого региона:\n",
    "1. **Северная Америка:** предпочитает игры жанров Action, Shooter и Sports с рейтингом M и E на платформах PS4, XOne и X360.\n",
    "2. **Европа:** предпочитает игры жанров Action, Shooter и Sports с рейтингом M и E на платформах PS4, XOne и PS3.\n",
    "3. **Япония:** предпочитает игры жанров Role-Playing, Action и Fighting на платформах 3DS, PS4 и PSV."
   ]
  },
  {
   "cell_type": "markdown",
   "id": "ff070835",
   "metadata": {},
   "source": [
    "## Проверка гипотез"
   ]
  },
  {
   "cell_type": "markdown",
   "id": "6f09b456",
   "metadata": {},
   "source": [
    "### Сравнение средних пользовательских рейтингов по платформам"
   ]
  },
  {
   "cell_type": "markdown",
   "id": "fb1e0f6f",
   "metadata": {},
   "source": [
    "Чтобы сделать наиболее точный прогноз, надо поподробнее изучить влияние отзывов пользователей на продажи. При рассмотрении корреляции между отзывами и объёмами продаж по платформам было выяснено, что в целом [зависимости между оценками пользователей и продажами не наблюдается](#corr). Чтобы убедиться в этом, проверим две гипотезы: сравним средние пользовательские рейтинги по двум платформам [XOne и PC с разным уровнем продаж за актуальный период](#pivot), а также по двум [лидирующим жанрам Action и Sports](#genres).\n",
    "\n",
    "Начнём со сравнения средних пользовательских значений по платформам. Учитывая ранее полученные результаты, выдвинем предположение, что средние пользовательские рейтинги платформ XOne и PC одинаковые.\n",
    "\n",
    "С формулируем нулевую и альтернативную гипотезы:\n",
    "* H0: `games_relevant.loc[(games_relevant['platform'] == 'XOne') & (games_relevant['user_score'].isna() == False), ['user_score']].mean() == games_relevant.loc[(games_relevant['platform'] == 'PC') & (games_relevant['user_score'].isna() == False), ['user_score']].mean()` (средние пользовательские рейтинги платформ XOne и PC равны)\n",
    "* H1: `games_relevant.loc[(games_relevant['platform'] == 'XOne') & (games_relevant['user_score'].isna() == False), ['user_score']].mean() != games_relevant.loc[(games_relevant['platform'] == 'PC') & (games_relevant['user_score'].isna() == False), ['user_score']].mean()` (средние пользовательские рейтинги платформ XOne и PC не равны)\n",
    "\n",
    "Проверим гипотезы с помощью t-теста. Уровень значимости возьмём равный 5%."
   ]
  },
  {
   "cell_type": "code",
   "execution_count": 34,
   "id": "c3c738d9",
   "metadata": {},
   "outputs": [
    {
     "data": {
      "text/plain": [
       "'P-значение: [0.10450508]'"
      ]
     },
     "metadata": {},
     "output_type": "display_data"
    },
    {
     "data": {
      "text/plain": [
       "'Нулевую гипотезу отвергнуть не получилось'"
      ]
     },
     "metadata": {},
     "output_type": "display_data"
    }
   ],
   "source": [
    "alpha = .05\n",
    "\n",
    "result_test1 = st.ttest_ind(\n",
    "    games_relevant.loc[(games_relevant['platform'] == 'XOne') & (\n",
    "        games_relevant['user_score'].isna() == False), ['user_score']],\n",
    "    games_relevant.loc[(games_relevant['platform'] == 'PC') & (\n",
    "        games_relevant['user_score'].isna() == False), ['user_score']]\n",
    ")\n",
    "\n",
    "display(f'P-значение: {result_test1.pvalue}')\n",
    "\n",
    "if result_test1.pvalue < alpha:\n",
    "    display('Отвергаем нулевую гипотезу')\n",
    "else:\n",
    "    display('Нулевую гипотезу отвергнуть не получилось')"
   ]
  },
  {
   "cell_type": "markdown",
   "id": "4a10e427",
   "metadata": {},
   "source": [
    "P-значение (означает вероятность получить такую или большую разницу в выборочных средних при условии, что нулевая гипотеза верна) в данном случае весьма большое (10.5%), в связи с чем мы не отвергаем нулевую гипотезу, т. е. есть основания полагать, что средние пользовательские рейтинги платформ XOne и PC действительно одинаковые. Проверим, чему они равны:"
   ]
  },
  {
   "cell_type": "code",
   "execution_count": 35,
   "id": "e4ae1d97",
   "metadata": {
    "scrolled": true
   },
   "outputs": [
    {
     "data": {
      "text/plain": [
       "'Средние пользовательские оценки игр на XOne:'"
      ]
     },
     "metadata": {},
     "output_type": "display_data"
    },
    {
     "data": {
      "text/plain": [
       "6.59"
      ]
     },
     "metadata": {},
     "output_type": "display_data"
    },
    {
     "data": {
      "text/plain": [
       "'Средние пользовательские оценки игр на PC:'"
      ]
     },
     "metadata": {},
     "output_type": "display_data"
    },
    {
     "data": {
      "text/plain": [
       "6.3"
      ]
     },
     "execution_count": 35,
     "metadata": {},
     "output_type": "execute_result"
    }
   ],
   "source": [
    "display('Средние пользовательские оценки игр на XOne:')\n",
    "display(round(games_relevant[(games_relevant['platform'] == 'XOne') & (\n",
    "        games_relevant['user_score'].isna() == False)]['user_score'].mean(), 2))\n",
    "display('Средние пользовательские оценки игр на PC:')\n",
    "round(games_relevant[(games_relevant['platform'] == 'PC') & (\n",
    "        games_relevant['user_score'].isna() == False)]['user_score'].mean(), 2)"
   ]
  },
  {
   "cell_type": "markdown",
   "id": "9b2d97b6",
   "metadata": {},
   "source": [
    "Средние значения пользовательских отзывов на игры, выходящие на платформах XOne и PC, равны 6.59 и 6.3 соответственно, при этом их продажи составляют [140 и 27 млн копий соответственно](#pivot). Так, у разных по объёму продаж платформ средние значения пользовательских рейтингов значимо равны."
   ]
  },
  {
   "cell_type": "markdown",
   "id": "32a4b49b",
   "metadata": {},
   "source": [
    "### Сравнение средних пользовательских рейтингов по жанрам"
   ]
  },
  {
   "cell_type": "markdown",
   "id": "c2a7fb7d",
   "metadata": {},
   "source": [
    "Теперь оценим, отличаются ли средние пользовательские рейтинги у игр разных жанров. Поскольку нулевая гипотеза предполагает равенство, сформулируем нулевую и альтернативную гипотезу следующим образом:\n",
    "* H0: `games_relevant.loc[(games_relevant['genre'] == 'Action') & (games_relevant['user_score'].isna() == False), ['user_score']].mean() == games_relevant.loc[(games_relevant['genre'] == 'Sports') & (games_relevant['user_score'].isna() == False), ['user_score']].mean()` (средние пользовательские рейтинги жанров Action и Sports равны)\n",
    "* H1: `games_relevant.loc[(games_relevant['genre'] == 'Action') & (games_relevant['user_score'].isna() == False), ['user_score']].mean() != games_relevant.loc[(games_relevant['genre'] == 'Sports') & (games_relevant['user_score'].isna() == False), ['user_score']].mean()` (средние пользовательские рейтинги жанров Action и Sports не равны)\n",
    "\n",
    "Проведём t-тест:"
   ]
  },
  {
   "cell_type": "code",
   "execution_count": 36,
   "id": "3723e072",
   "metadata": {},
   "outputs": [
    {
     "data": {
      "text/plain": [
       "'P-значение: [2.8711148e-19]'"
      ]
     },
     "metadata": {},
     "output_type": "display_data"
    },
    {
     "data": {
      "text/plain": [
       "'Отвергаем нулевую гипотезу'"
      ]
     },
     "metadata": {},
     "output_type": "display_data"
    }
   ],
   "source": [
    "result_test2 = st.ttest_ind(\n",
    "    games_relevant.loc[(games_relevant['genre'] == 'Action') & (\n",
    "        games_relevant['user_score'].isna() == False), ['user_score']],\n",
    "    games_relevant.loc[(games_relevant['genre'] == 'Sports') & (\n",
    "        games_relevant['user_score'].isna() == False), ['user_score']]\n",
    ")\n",
    "\n",
    "display(f'P-значение: {result_test2.pvalue}')\n",
    "\n",
    "if result_test2.pvalue < alpha:\n",
    "    display('Отвергаем нулевую гипотезу')\n",
    "else:\n",
    "    display('Нулевую гипотезу отвергнуть не получилось')"
   ]
  },
  {
   "cell_type": "markdown",
   "id": "d861842a",
   "metadata": {},
   "source": [
    "В данном случае P-значение, напротив, очень маленькое, в связи с чем мы отвергаем нулевую гипотезу на уровне значимости 5% (хотя даже при уровне значимости в 0.1% она всё равно отвергается). Это означает, что средние пользовательские рейтинги жанров Action и Sports не равны.\n",
    "\n",
    "Посмотрим на средние польовательские оценки и суммарные продажи игр данных жанров:"
   ]
  },
  {
   "cell_type": "code",
   "execution_count": 37,
   "id": "5a775219",
   "metadata": {},
   "outputs": [
    {
     "data": {
      "text/plain": [
       "'Средние пользовательские оценки игр жанра Action:'"
      ]
     },
     "metadata": {},
     "output_type": "display_data"
    },
    {
     "data": {
      "text/plain": [
       "6.76"
      ]
     },
     "metadata": {},
     "output_type": "display_data"
    },
    {
     "data": {
      "text/plain": [
       "'Средние пользовательские оценки игр жанра Sports:'"
      ]
     },
     "metadata": {},
     "output_type": "display_data"
    },
    {
     "data": {
      "text/plain": [
       "5.23"
      ]
     },
     "metadata": {},
     "output_type": "display_data"
    },
    {
     "data": {
      "text/plain": [
       "'Общие продажи игр жанра Action:'"
      ]
     },
     "metadata": {},
     "output_type": "display_data"
    },
    {
     "data": {
      "text/plain": [
       "146.15"
      ]
     },
     "metadata": {},
     "output_type": "display_data"
    },
    {
     "data": {
      "text/plain": [
       "'Общие продажи игр жанра Sports:'"
      ]
     },
     "metadata": {},
     "output_type": "display_data"
    },
    {
     "data": {
      "text/plain": [
       "107.1"
      ]
     },
     "execution_count": 37,
     "metadata": {},
     "output_type": "execute_result"
    }
   ],
   "source": [
    "display('Средние пользовательские оценки игр жанра Action:')\n",
    "display(round(games_relevant[(games_relevant['genre'] == 'Action') & (\n",
    "        games_relevant['user_score'].isna() == False)]['user_score'].mean(), 2))\n",
    "display('Средние пользовательские оценки игр жанра Sports:')\n",
    "display(round(games_relevant[(games_relevant['genre'] == 'Sports') & (\n",
    "        games_relevant['user_score'].isna() == False)]['user_score'].mean(), 2))\n",
    "\n",
    "display('Общие продажи игр жанра Action:') # берём игры, где указан пользовательский рейтинг\n",
    "display(round(games_relevant[(games_relevant['genre'] == 'Action') & (\n",
    "        games_relevant['user_score'].isna() == False)]['total_sales'].sum(), 2))\n",
    "display('Общие продажи игр жанра Sports:')\n",
    "round(games_relevant[(games_relevant['genre'] == 'Sports') & (\n",
    "        games_relevant['user_score'].isna() == False)]['total_sales'].sum(), 2)"
   ]
  },
  {
   "cell_type": "markdown",
   "id": "7566a896",
   "metadata": {},
   "source": [
    "Здесь разница в средних пользовательских оценках уже несколько больше, объём продаж также различается существенно (продажи игр жанра Action в два раза превышают продажи игр жанра Sports). Получается, что в данном случае игры с разрывом в пользовательских рейтингах около 2-х баллов из 10 имеют принципиально разные продажи."
   ]
  },
  {
   "cell_type": "markdown",
   "id": "56d7bf46",
   "metadata": {},
   "source": [
    "## Выводы"
   ]
  },
  {
   "cell_type": "markdown",
   "id": "6e2ab7c2",
   "metadata": {},
   "source": [
    "Для исследования была предоставлена информация о 16 715 компьютерных играх, вышедших в 1980-2016 гг. Перед началом исследования была проведена предобработка данных, в ходе которых были обнаружены и исправлены следующие проблемы:\n",
    "* Названия всех столбцов датафрейма были приведены к нижнему регистру.\n",
    "* В столбце с пользовательскими оценками `user_score` было обнаружено строчное значение \"tbd\" (\"to be determined\"), предполагающее, что пользовательский рейтинг игре ещё не присвоен, и было заменено на NaN, поскольку означает то же самое.\n",
    "* Тип данных в столбце `year_of_release` был заменён с `float` на более подходящий `int`, в столбце `user_score` - с `object`  на `float`.\n",
    "* Были обнаружены пропуски в столбцах `name`, `year_of_release`, `genre`, `critic_score`, `user_score` и `rating`, однако ни в каком из столбцов заполнить их не было возможно, кроме столбца `rating`,  где они были заменены на строку \"unknown\".\n",
    "* В столбце `rating` также были обнаружены и устранены неявные дубликаты (значения \"E\" и \"K-A\", обозначающие один и тот же рейтинг, были приведены к \"E\").\n",
    "* Были расчитаны суммарные продажи каждой игры по всем регионам.\n",
    "\n",
    "В ходе исследовательского анализа данных на основе динамики продаж игр и жизненного цикла платформ (9-10 лет) был выявлен актуальный период исследования - **2014-2016 гг.** Все дальнейшие выводы сделаны по данным исключительно за этот период (**1689 игр**).\n",
    "\n",
    "Из анализа структуры плафторм, жанров, влияния отзывов критиков и пользователей на объём продаж были получены следующие результаты:\n",
    "1. Наибольшие суммарные продажи за актуальный период приходятся на платформы PS3, X360, Wii и PS4. Однако продажи первых трёх из них к 2016 г. упали почти до нуля, что ставит вопрос об их дальнейшей популярности. При этом к набирающим обороты платформам относятся **PS4, XOne и 3DS** (они начали продавать игры только в 2011-2013 гг.).\n",
    "2. Cамый высокий медианный уровень продаж игр был у платформы-лидера **XOne (200 тыс. копий)**, за ней следует платформа **WiiU (примерно 190 тыс. копий)**. Медианный уровень продаж игр на **PS4 и WiiU составляют примерно по 180 тыс. копий**. Медиана по остальным платформам ниже данного значения. Межкартильный размах наиболее велик у платформ Wii, PS4 и XOne. *Таким образом, наиболее перспективными на 2017 г. можно считать платформы PS4 и XOne.*\n",
    "3. В целом *отзывы критиков оказывают гораздо большее влияние на продажи игр разных плафторм, чем отзывы пользователей* (однако степень влияния варьируется по платформам). **Коэффициент корреляции между продажами и отзывами критиков** варьируется **от 0.17 до 0.53**. **Корреляция продаж с отзывами пользователей** ни для какой платформы, кроме WiiU, где она составляет 0.4, **не превышает 0.22**, а в некоторых случаях уходит в отрицательные числа (отсутствие корреляции в данном случае показал и t-тест для платформ XOne и PC). Однако в то же время проверка гипотез показала, что у жанров Action и Sports (продажи игр жанра Action в два раза превышают продажи игр жанра Sports) средние пользовательские рейтинги за актуальный период существенно различаются.\n",
    "4. Наиболее популярными жанрами в мире в актуальный период были **Action (27.3% суммарных продаж), следом идут Shooter (23.4%) и Sports (15%)**.\n",
    "5. *Портреты типичных пользователей Северной Америки и Европы похожи между собой и отличаются от портрета типичного пользователя Японии.* В Северной Америке и Европы жанровые предпочтения в течение актуального периода в целом отражали общемировые, любимыми платформами являлись PS4 и XOne (третье место в Северной Америке занимала X360, а в Европе - PS3), что также отражает мировой топ. Наибольшей популярностью пользовались игры возрастных рейтингов M и Е. В Японии большинcтво пользователей выбирали игры жанров Role-Playing, Action и Fighting на платформах 3DS, PS4 и PSV.\n",
    "\n",
    "Таким образом, исходя из собранных данных, можно сделать вывод, что **в 2017 г. наибольшей популярностью будут пользоваться игры жанров Action, Shoter и Sports, выпущенные на платформах PS4 и XOne с возрастными рейтингами M и E и высокими отзывами критиков**. Однако для более точной разработки стратегии рекламной кампании магазину \"Стримчик\" необходимо также изучить географическую структуру своих продаж и уже на этой основе делать выводы (потому что если основной рынок для магазина - это Япония, рекомендации будут другими)."
   ]
  }
 ],
 "metadata": {
  "ExecuteTimeLog": [
   {
    "duration": 1160,
    "start_time": "2022-07-03T16:21:01.077Z"
   },
   {
    "duration": 139,
    "start_time": "2022-07-03T16:21:02.239Z"
   },
   {
    "duration": 15,
    "start_time": "2022-07-03T16:21:02.380Z"
   },
   {
    "duration": 62,
    "start_time": "2022-07-03T16:21:02.397Z"
   },
   {
    "duration": 32,
    "start_time": "2022-07-03T16:21:02.461Z"
   },
   {
    "duration": 31,
    "start_time": "2022-07-03T16:21:02.495Z"
   },
   {
    "duration": 20,
    "start_time": "2022-07-03T16:21:02.528Z"
   },
   {
    "duration": 7,
    "start_time": "2022-07-03T16:21:02.550Z"
   },
   {
    "duration": 23,
    "start_time": "2022-07-03T16:21:02.559Z"
   },
   {
    "duration": 44,
    "start_time": "2022-07-03T16:21:02.586Z"
   },
   {
    "duration": 25,
    "start_time": "2022-07-03T16:21:02.632Z"
   },
   {
    "duration": 1441,
    "start_time": "2022-07-03T16:21:02.659Z"
   },
   {
    "duration": 9,
    "start_time": "2022-07-03T16:21:04.102Z"
   },
   {
    "duration": 20,
    "start_time": "2022-07-03T16:21:04.113Z"
   },
   {
    "duration": 25,
    "start_time": "2022-07-03T16:21:04.135Z"
   },
   {
    "duration": 25,
    "start_time": "2022-07-03T16:21:04.162Z"
   },
   {
    "duration": 13,
    "start_time": "2022-07-03T16:21:04.190Z"
   },
   {
    "duration": 274,
    "start_time": "2022-07-03T16:21:04.204Z"
   },
   {
    "duration": 377,
    "start_time": "2022-07-03T16:21:04.480Z"
   },
   {
    "duration": 17,
    "start_time": "2022-07-03T16:21:04.859Z"
   },
   {
    "duration": 1122,
    "start_time": "2022-07-03T16:21:04.879Z"
   },
   {
    "duration": 8,
    "start_time": "2022-07-03T16:21:06.003Z"
   },
   {
    "duration": 30,
    "start_time": "2022-07-03T16:21:06.013Z"
   },
   {
    "duration": 657,
    "start_time": "2022-07-03T16:21:06.045Z"
   },
   {
    "duration": 348,
    "start_time": "2022-07-03T16:21:06.704Z"
   },
   {
    "duration": 386,
    "start_time": "2022-07-03T16:21:07.054Z"
   },
   {
    "duration": 409,
    "start_time": "2022-07-03T16:21:07.442Z"
   },
   {
    "duration": 3958,
    "start_time": "2022-07-03T16:21:07.854Z"
   },
   {
    "duration": 431,
    "start_time": "2022-07-03T16:21:11.827Z"
   },
   {
    "duration": 6,
    "start_time": "2022-07-03T16:21:12.260Z"
   },
   {
    "duration": 753,
    "start_time": "2022-07-03T16:21:12.268Z"
   },
   {
    "duration": 733,
    "start_time": "2022-07-03T16:21:13.026Z"
   },
   {
    "duration": 609,
    "start_time": "2022-07-03T16:21:13.761Z"
   },
   {
    "duration": 14,
    "start_time": "2022-07-03T16:21:14.373Z"
   },
   {
    "duration": 41,
    "start_time": "2022-07-03T16:21:14.389Z"
   },
   {
    "duration": 14,
    "start_time": "2022-07-03T16:21:14.432Z"
   },
   {
    "duration": 27,
    "start_time": "2022-07-03T16:21:14.448Z"
   },
   {
    "duration": 1146,
    "start_time": "2022-07-03T17:31:24.696Z"
   },
   {
    "duration": 193,
    "start_time": "2022-07-03T17:31:25.844Z"
   },
   {
    "duration": 16,
    "start_time": "2022-07-03T17:31:26.038Z"
   },
   {
    "duration": 51,
    "start_time": "2022-07-03T17:31:26.056Z"
   },
   {
    "duration": 39,
    "start_time": "2022-07-03T17:31:26.109Z"
   },
   {
    "duration": 14,
    "start_time": "2022-07-03T17:31:26.150Z"
   },
   {
    "duration": 18,
    "start_time": "2022-07-03T17:31:26.166Z"
   },
   {
    "duration": 6,
    "start_time": "2022-07-03T17:31:26.186Z"
   },
   {
    "duration": 59,
    "start_time": "2022-07-03T17:31:26.194Z"
   },
   {
    "duration": 17,
    "start_time": "2022-07-03T17:31:26.254Z"
   },
   {
    "duration": 23,
    "start_time": "2022-07-03T17:31:26.272Z"
   },
   {
    "duration": 1547,
    "start_time": "2022-07-03T17:31:26.296Z"
   },
   {
    "duration": 8,
    "start_time": "2022-07-03T17:31:27.846Z"
   },
   {
    "duration": 9,
    "start_time": "2022-07-03T17:31:27.857Z"
   },
   {
    "duration": 15,
    "start_time": "2022-07-03T17:31:27.868Z"
   },
   {
    "duration": 16,
    "start_time": "2022-07-03T17:31:27.884Z"
   },
   {
    "duration": 45,
    "start_time": "2022-07-03T17:31:27.901Z"
   },
   {
    "duration": 270,
    "start_time": "2022-07-03T17:31:27.948Z"
   },
   {
    "duration": 372,
    "start_time": "2022-07-03T17:31:28.220Z"
   },
   {
    "duration": 16,
    "start_time": "2022-07-03T17:31:28.594Z"
   },
   {
    "duration": 1064,
    "start_time": "2022-07-03T17:31:28.612Z"
   },
   {
    "duration": 8,
    "start_time": "2022-07-03T17:31:29.678Z"
   },
   {
    "duration": 14,
    "start_time": "2022-07-03T17:31:29.687Z"
   },
   {
    "duration": 634,
    "start_time": "2022-07-03T17:31:29.703Z"
   },
   {
    "duration": 320,
    "start_time": "2022-07-03T17:31:30.338Z"
   },
   {
    "duration": 341,
    "start_time": "2022-07-03T17:31:30.660Z"
   },
   {
    "duration": 314,
    "start_time": "2022-07-03T17:31:31.002Z"
   },
   {
    "duration": 3222,
    "start_time": "2022-07-03T17:31:31.317Z"
   },
   {
    "duration": 361,
    "start_time": "2022-07-03T17:31:34.540Z"
   },
   {
    "duration": 5,
    "start_time": "2022-07-03T17:31:34.903Z"
   },
   {
    "duration": 639,
    "start_time": "2022-07-03T17:31:34.909Z"
   },
   {
    "duration": 667,
    "start_time": "2022-07-03T17:31:35.549Z"
   },
   {
    "duration": 588,
    "start_time": "2022-07-03T17:31:36.218Z"
   },
   {
    "duration": 34,
    "start_time": "2022-07-03T17:31:36.808Z"
   },
   {
    "duration": 12,
    "start_time": "2022-07-03T17:31:36.845Z"
   },
   {
    "duration": 11,
    "start_time": "2022-07-03T17:31:36.858Z"
   },
   {
    "duration": 24,
    "start_time": "2022-07-03T17:31:36.870Z"
   },
   {
    "duration": 1242,
    "start_time": "2022-07-04T16:39:38.963Z"
   },
   {
    "duration": 138,
    "start_time": "2022-07-04T16:39:40.207Z"
   },
   {
    "duration": 15,
    "start_time": "2022-07-04T16:39:40.346Z"
   },
   {
    "duration": 76,
    "start_time": "2022-07-04T16:39:40.362Z"
   },
   {
    "duration": 30,
    "start_time": "2022-07-04T16:39:40.441Z"
   },
   {
    "duration": 6,
    "start_time": "2022-07-04T16:39:40.473Z"
   },
   {
    "duration": 19,
    "start_time": "2022-07-04T16:39:40.501Z"
   },
   {
    "duration": 7,
    "start_time": "2022-07-04T16:39:40.521Z"
   },
   {
    "duration": 26,
    "start_time": "2022-07-04T16:39:40.530Z"
   },
   {
    "duration": 43,
    "start_time": "2022-07-04T16:39:40.558Z"
   },
   {
    "duration": 33,
    "start_time": "2022-07-04T16:39:40.603Z"
   },
   {
    "duration": 1487,
    "start_time": "2022-07-04T16:39:40.638Z"
   },
   {
    "duration": 7,
    "start_time": "2022-07-04T16:39:42.127Z"
   },
   {
    "duration": 18,
    "start_time": "2022-07-04T16:39:42.138Z"
   },
   {
    "duration": 15,
    "start_time": "2022-07-04T16:39:42.158Z"
   },
   {
    "duration": 34,
    "start_time": "2022-07-04T16:39:42.176Z"
   },
   {
    "duration": 12,
    "start_time": "2022-07-04T16:39:42.212Z"
   },
   {
    "duration": 20,
    "start_time": "2022-07-04T16:39:42.226Z"
   },
   {
    "duration": 384,
    "start_time": "2022-07-04T16:39:42.247Z"
   },
   {
    "duration": 16,
    "start_time": "2022-07-04T16:39:42.633Z"
   },
   {
    "duration": 1275,
    "start_time": "2022-07-04T16:39:42.651Z"
   },
   {
    "duration": 12,
    "start_time": "2022-07-04T16:39:43.928Z"
   },
   {
    "duration": 44,
    "start_time": "2022-07-04T16:39:43.941Z"
   },
   {
    "duration": 515,
    "start_time": "2022-07-04T16:39:43.987Z"
   },
   {
    "duration": 339,
    "start_time": "2022-07-04T16:39:44.504Z"
   },
   {
    "duration": 338,
    "start_time": "2022-07-04T16:39:44.845Z"
   },
   {
    "duration": 415,
    "start_time": "2022-07-04T16:39:45.185Z"
   },
   {
    "duration": 3281,
    "start_time": "2022-07-04T16:39:45.603Z"
   },
   {
    "duration": 217,
    "start_time": "2022-07-04T16:39:48.886Z"
   },
   {
    "duration": 6,
    "start_time": "2022-07-04T16:39:49.105Z"
   },
   {
    "duration": 388,
    "start_time": "2022-07-04T16:39:49.112Z"
   },
   {
    "duration": 370,
    "start_time": "2022-07-04T16:39:49.502Z"
   },
   {
    "duration": 486,
    "start_time": "2022-07-04T16:39:49.873Z"
   },
   {
    "duration": 12,
    "start_time": "2022-07-04T16:39:50.361Z"
   },
   {
    "duration": 34,
    "start_time": "2022-07-04T16:39:50.374Z"
   },
   {
    "duration": 13,
    "start_time": "2022-07-04T16:39:50.410Z"
   },
   {
    "duration": 22,
    "start_time": "2022-07-04T16:39:50.424Z"
   },
   {
    "duration": 1109,
    "start_time": "2022-07-04T16:50:41.869Z"
   },
   {
    "duration": 133,
    "start_time": "2022-07-04T16:50:42.980Z"
   },
   {
    "duration": 14,
    "start_time": "2022-07-04T16:50:43.114Z"
   },
   {
    "duration": 75,
    "start_time": "2022-07-04T16:50:43.130Z"
   },
   {
    "duration": 30,
    "start_time": "2022-07-04T16:50:43.207Z"
   },
   {
    "duration": 5,
    "start_time": "2022-07-04T16:50:43.238Z"
   },
   {
    "duration": 29,
    "start_time": "2022-07-04T16:50:43.244Z"
   },
   {
    "duration": 8,
    "start_time": "2022-07-04T16:50:43.275Z"
   },
   {
    "duration": 43,
    "start_time": "2022-07-04T16:50:43.285Z"
   },
   {
    "duration": 18,
    "start_time": "2022-07-04T16:50:43.330Z"
   },
   {
    "duration": 27,
    "start_time": "2022-07-04T16:50:43.349Z"
   },
   {
    "duration": 1466,
    "start_time": "2022-07-04T16:50:43.377Z"
   },
   {
    "duration": 8,
    "start_time": "2022-07-04T16:50:44.845Z"
   },
   {
    "duration": 35,
    "start_time": "2022-07-04T16:50:44.855Z"
   },
   {
    "duration": 32,
    "start_time": "2022-07-04T16:50:44.891Z"
   },
   {
    "duration": 21,
    "start_time": "2022-07-04T16:50:44.924Z"
   },
   {
    "duration": 19,
    "start_time": "2022-07-04T16:50:44.946Z"
   },
   {
    "duration": 28,
    "start_time": "2022-07-04T16:50:44.967Z"
   },
   {
    "duration": 441,
    "start_time": "2022-07-04T16:50:44.997Z"
   },
   {
    "duration": 18,
    "start_time": "2022-07-04T16:50:45.440Z"
   },
   {
    "duration": 1131,
    "start_time": "2022-07-04T16:50:45.459Z"
   },
   {
    "duration": 9,
    "start_time": "2022-07-04T16:50:46.592Z"
   },
   {
    "duration": 17,
    "start_time": "2022-07-04T16:50:46.603Z"
   },
   {
    "duration": 493,
    "start_time": "2022-07-04T16:50:46.621Z"
   },
   {
    "duration": 306,
    "start_time": "2022-07-04T16:50:47.116Z"
   },
   {
    "duration": 335,
    "start_time": "2022-07-04T16:50:47.424Z"
   },
   {
    "duration": 330,
    "start_time": "2022-07-04T16:50:47.761Z"
   },
   {
    "duration": 3209,
    "start_time": "2022-07-04T16:50:48.107Z"
   },
   {
    "duration": 207,
    "start_time": "2022-07-04T16:50:51.317Z"
   },
   {
    "duration": 6,
    "start_time": "2022-07-04T16:50:51.526Z"
   },
   {
    "duration": 333,
    "start_time": "2022-07-04T16:50:51.534Z"
   },
   {
    "duration": 361,
    "start_time": "2022-07-04T16:50:51.868Z"
   },
   {
    "duration": 487,
    "start_time": "2022-07-04T16:50:52.231Z"
   },
   {
    "duration": 12,
    "start_time": "2022-07-04T16:50:52.720Z"
   },
   {
    "duration": 18,
    "start_time": "2022-07-04T16:50:52.733Z"
   },
   {
    "duration": 11,
    "start_time": "2022-07-04T16:50:52.753Z"
   },
   {
    "duration": 52,
    "start_time": "2022-07-04T16:50:52.766Z"
   },
   {
    "duration": 1560,
    "start_time": "2022-07-05T13:35:25.238Z"
   },
   {
    "duration": 183,
    "start_time": "2022-07-05T13:35:26.801Z"
   },
   {
    "duration": 17,
    "start_time": "2022-07-05T13:35:26.985Z"
   },
   {
    "duration": 80,
    "start_time": "2022-07-05T13:35:27.005Z"
   },
   {
    "duration": 41,
    "start_time": "2022-07-05T13:35:27.087Z"
   },
   {
    "duration": 6,
    "start_time": "2022-07-05T13:35:27.129Z"
   },
   {
    "duration": 28,
    "start_time": "2022-07-05T13:35:27.136Z"
   },
   {
    "duration": 8,
    "start_time": "2022-07-05T13:35:27.167Z"
   },
   {
    "duration": 51,
    "start_time": "2022-07-05T13:35:27.177Z"
   },
   {
    "duration": 24,
    "start_time": "2022-07-05T13:35:27.231Z"
   },
   {
    "duration": 48,
    "start_time": "2022-07-05T13:35:27.258Z"
   },
   {
    "duration": 1574,
    "start_time": "2022-07-05T13:35:27.308Z"
   },
   {
    "duration": 7,
    "start_time": "2022-07-05T13:35:28.884Z"
   },
   {
    "duration": 12,
    "start_time": "2022-07-05T13:35:28.907Z"
   },
   {
    "duration": 30,
    "start_time": "2022-07-05T13:35:28.921Z"
   },
   {
    "duration": 30,
    "start_time": "2022-07-05T13:35:28.953Z"
   },
   {
    "duration": 35,
    "start_time": "2022-07-05T13:35:28.984Z"
   },
   {
    "duration": 28,
    "start_time": "2022-07-05T13:35:29.023Z"
   },
   {
    "duration": 413,
    "start_time": "2022-07-05T13:35:29.053Z"
   },
   {
    "duration": 18,
    "start_time": "2022-07-05T13:35:29.467Z"
   },
   {
    "duration": 1313,
    "start_time": "2022-07-05T13:35:29.487Z"
   },
   {
    "duration": 9,
    "start_time": "2022-07-05T13:35:30.802Z"
   },
   {
    "duration": 234,
    "start_time": "2022-07-05T13:35:30.812Z"
   },
   {
    "duration": 610,
    "start_time": "2022-07-05T13:35:31.048Z"
   },
   {
    "duration": 358,
    "start_time": "2022-07-05T13:35:31.660Z"
   },
   {
    "duration": 350,
    "start_time": "2022-07-05T13:35:32.020Z"
   },
   {
    "duration": 365,
    "start_time": "2022-07-05T13:35:32.373Z"
   },
   {
    "duration": 3228,
    "start_time": "2022-07-05T13:35:32.740Z"
   },
   {
    "duration": 260,
    "start_time": "2022-07-05T13:35:35.970Z"
   },
   {
    "duration": 6,
    "start_time": "2022-07-05T13:35:36.232Z"
   },
   {
    "duration": 478,
    "start_time": "2022-07-05T13:35:36.240Z"
   },
   {
    "duration": 568,
    "start_time": "2022-07-05T13:35:36.719Z"
   },
   {
    "duration": 482,
    "start_time": "2022-07-05T13:35:37.289Z"
   },
   {
    "duration": 12,
    "start_time": "2022-07-05T13:35:37.773Z"
   },
   {
    "duration": 45,
    "start_time": "2022-07-05T13:35:37.787Z"
   },
   {
    "duration": 13,
    "start_time": "2022-07-05T13:35:37.834Z"
   },
   {
    "duration": 27,
    "start_time": "2022-07-05T13:35:37.850Z"
   }
  ],
  "kernelspec": {
   "display_name": "Python 3 (ipykernel)",
   "language": "python",
   "name": "python3"
  },
  "language_info": {
   "codemirror_mode": {
    "name": "ipython",
    "version": 3
   },
   "file_extension": ".py",
   "mimetype": "text/x-python",
   "name": "python",
   "nbconvert_exporter": "python",
   "pygments_lexer": "ipython3",
   "version": "3.9.7"
  },
  "toc": {
   "base_numbering": 1,
   "nav_menu": {},
   "number_sections": true,
   "sideBar": true,
   "skip_h1_title": true,
   "title_cell": "Table of Contents",
   "title_sidebar": "Contents",
   "toc_cell": true,
   "toc_position": {
    "height": "calc(100% - 180px)",
    "left": "10px",
    "top": "150px",
    "width": "383.188px"
   },
   "toc_section_display": true,
   "toc_window_display": true
  }
 },
 "nbformat": 4,
 "nbformat_minor": 5
}
