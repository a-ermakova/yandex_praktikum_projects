{
 "cells": [
  {
   "cell_type": "markdown",
   "id": "84941e62",
   "metadata": {
    "toc": true
   },
   "source": [
    "<h1>Table of Contents<span class=\"tocSkip\"></span></h1>\n",
    "<div class=\"toc\"><ul class=\"toc-item\"><li><span><a href=\"#Обзор-данных\" data-toc-modified-id=\"Обзор-данных-1\"><span class=\"toc-item-num\">1&nbsp;&nbsp;</span>Обзор данных</a></span></li><li><span><a href=\"#Предобработка-данных\" data-toc-modified-id=\"Предобработка-данных-2\"><span class=\"toc-item-num\">2&nbsp;&nbsp;</span>Предобработка данных</a></span><ul class=\"toc-item\"><li><span><a href=\"#Изменение-типов-данных\" data-toc-modified-id=\"Изменение-типов-данных-2.1\"><span class=\"toc-item-num\">2.1&nbsp;&nbsp;</span>Изменение типов данных</a></span></li><li><span><a href=\"#Дубликаты\" data-toc-modified-id=\"Дубликаты-2.2\"><span class=\"toc-item-num\">2.2&nbsp;&nbsp;</span>Дубликаты</a></span></li><li><span><a href=\"#Редактирование-столбцов\" data-toc-modified-id=\"Редактирование-столбцов-2.3\"><span class=\"toc-item-num\">2.3&nbsp;&nbsp;</span>Редактирование столбцов</a></span></li><li><span><a href=\"#Расчётные-показатели\" data-toc-modified-id=\"Расчётные-показатели-2.4\"><span class=\"toc-item-num\">2.4&nbsp;&nbsp;</span>Расчётные показатели</a></span></li></ul></li><li><span><a href=\"#Анализ-данных\" data-toc-modified-id=\"Анализ-данных-3\"><span class=\"toc-item-num\">3&nbsp;&nbsp;</span>Анализ данных</a></span></li><li><span><a href=\"#Проверка-гипотез\" data-toc-modified-id=\"Проверка-гипотез-4\"><span class=\"toc-item-num\">4&nbsp;&nbsp;</span>Проверка гипотез</a></span><ul class=\"toc-item\"><li><span><a href=\"#Сравнение-выручки-от-разных-тарифных-планов\" data-toc-modified-id=\"Сравнение-выручки-от-разных-тарифных-планов-4.1\"><span class=\"toc-item-num\">4.1&nbsp;&nbsp;</span>Сравнение выручки от разных тарифных планов</a></span></li><li><span><a href=\"#Выручка-с-пользователей-из-Москвы\" data-toc-modified-id=\"Выручка-с-пользователей-из-Москвы-4.2\"><span class=\"toc-item-num\">4.2&nbsp;&nbsp;</span>Выручка с пользователей из Москвы</a></span></li></ul></li><li><span><a href=\"#Выводы\" data-toc-modified-id=\"Выводы-5\"><span class=\"toc-item-num\">5&nbsp;&nbsp;</span>Выводы</a></span></li></ul></div>"
   ]
  },
  {
   "cell_type": "markdown",
   "id": "f9d94930",
   "metadata": {},
   "source": [
    "# Определение перспективного тарифа для телеком-компании"
   ]
  },
  {
   "cell_type": "markdown",
   "id": "a0c0d7f9",
   "metadata": {},
   "source": [
    "Оператор сотовой связи \"Мегалайн\" предлагает своим клиентам два тарифных плана - \"Смарт\" и \"Ультра\".\n",
    "\n",
    "**Описание тарифов:**\n",
    "\n",
    "*Тариф «Смарт»:*\n",
    "1. Ежемесячная плата: 550 рублей\n",
    "2. Включено 500 минут разговора, 50 сообщений и 15 Гб интернет-трафика\n",
    "3. Стоимость услуг сверх тарифного пакета:\n",
    "    * минута разговора: 3 рубля\n",
    "    * сообщение: 3 рубля\n",
    "    * 1 Гб интернет-трафика: 200 рублей\n",
    "\n",
    "*Тариф «Ультра»:*\n",
    "1. Ежемесячная плата: 1950 рублей\n",
    "2. Включено 3000 минут разговора, 1000 сообщений и 30 Гб интернет-трафика\n",
    "3. Стоимость услуг сверх тарифного пакета:\n",
    "    * минута разговора: 1 рубль\n",
    "    * сообщение: 1 рубль\n",
    "    * 1 Гб интернет-трафика: 150 рублей\n",
    "\n",
    "Коммерческому департаменту компании необходима информация о сравнительной доходности тарифных планов для корректировки рекламного бюджета. В связи с этим для анализа поведения клиентов была предоставлена небольшая выборка о 500 пользователях \"Мегалайна\" и их активности за 2018 г. На основе этой информации необходимо определить, какой тариф выгоднее для компании.\n",
    "\n",
    "Предоставленные данные содержатся в пяти таблицах:\n",
    "\n",
    "1. Таблица `users` (информация о пользователях):\n",
    "    * `user_id` — уникальный идентификатор пользователя\n",
    "    * `first_name` — имя пользователя\n",
    "    * `last_name` — фамилия пользователя\n",
    "    * `age` — возраст пользователя (годы)\n",
    "    * `reg_date` — дата подключения тарифа (год, месяц, день)\n",
    "    * `churn_date` — дата прекращения пользования тарифом (если значение пропущено, то тариф ещё действовал на момент выгрузки данных)\n",
    "    * `city` — город проживания пользователя\n",
    "    * `tariff` — название тарифного плана\n",
    "\n",
    "\n",
    "2. Таблица `calls` (информация о звонках):\n",
    "    * `id` — уникальный номер звонка\n",
    "    * `call_date` — дата звонка\n",
    "    * `duration` — длительность звонка в минутах\n",
    "    * `user_id` — идентификатор пользователя, сделавшего звонок\n",
    "\n",
    "\n",
    "3. Таблица `messages` (информация о сообщениях):\n",
    "    * `id` — уникальный номер сообщения\n",
    "    * `message_date` — дата сообщения\n",
    "    * `user_id` — идентификатор пользователя, отправившего сообщение\n",
    "\n",
    "\n",
    "4. Таблица `internet` (информация об интернет-сессиях):\n",
    "    * `id` — уникальный номер сессии\n",
    "    * `mb_used` — объём потраченного за сессию Интернет-трафика (в мегабайтах)\n",
    "    * `session_date` — дата Интернет-сессии\n",
    "    * `user_id` — идентификатор пользователя\n",
    "\n",
    "\n",
    "5. Таблица `tariffs` (информация о тарифах):\n",
    "    * `tariff_name` — название тарифа\n",
    "    * `rub_monthly_fee` — ежемесячная абонентская плата в рублях\n",
    "    * `minutes_included` — количество минут разговора в месяц, включённых в абонентскую плату\n",
    "    * `messages_included` — количество сообщений в месяц, включённых в абонентскую плату\n",
    "    * `mb_per_month_included` — объём Интернет-трафика, включённого в абонентскую плату (в мегабайтах)\n",
    "    * `rub_per_minute` — стоимость минуты разговора сверх тарифного пакета\n",
    "    * `rub_per_message` — стоимость отправки сообщения сверх тарифного пакета\n",
    "    * `rub_per_gb` — стоимость дополнительного гигабайта Интернет-трафика сверх тарифного пакета\n",
    "\n",
    "**Цель исследования** - выявить наиболее выгодный тарифный план, в пользу которого рационально перераспределить расходы на рекламу.\n",
    "\n",
    "Для достижения данной цели необходимо проверить **две гипотезы**:\n",
    "1. Средняя выручка c тарифов «Ультра» и «Смарт» различаются.\n",
    "2. Средняя выручка c пользователей из Москвы отличается от выручки c пользователей из других регионов.\n",
    "\n",
    "**Ход исследования**:\n",
    "1. Обзор данных\n",
    "2. Предобработка данных\n",
    "3. Анализ данных\n",
    "4. Проверка гипотез\n",
    "5. Выводы"
   ]
  },
  {
   "cell_type": "markdown",
   "id": "5efc2a8c",
   "metadata": {},
   "source": [
    "## Обзор данных"
   ]
  },
  {
   "cell_type": "markdown",
   "id": "5296e487",
   "metadata": {},
   "source": [
    "Перед началом исследования импортируем библиотеки, которые понадобятся в работе:"
   ]
  },
  {
   "cell_type": "code",
   "execution_count": 1,
   "id": "55589e21",
   "metadata": {},
   "outputs": [],
   "source": [
    "import pandas as pd\n",
    "import numpy as np\n",
    "import matplotlib.pyplot as plt\n",
    "from scipy import stats as st"
   ]
  },
  {
   "cell_type": "markdown",
   "id": "b33bb745",
   "metadata": {},
   "source": [
    "Теперь откроем таблицы. Изучим каждую таблицу по очереди. Начнём с таблицы `users`:"
   ]
  },
  {
   "cell_type": "code",
   "execution_count": 2,
   "id": "95b0b5c0",
   "metadata": {},
   "outputs": [
    {
     "name": "stdout",
     "output_type": "stream",
     "text": [
      "<class 'pandas.core.frame.DataFrame'>\n",
      "RangeIndex: 500 entries, 0 to 499\n",
      "Data columns (total 8 columns):\n",
      " #   Column      Non-Null Count  Dtype \n",
      "---  ------      --------------  ----- \n",
      " 0   user_id     500 non-null    int64 \n",
      " 1   age         500 non-null    int64 \n",
      " 2   churn_date  38 non-null     object\n",
      " 3   city        500 non-null    object\n",
      " 4   first_name  500 non-null    object\n",
      " 5   last_name   500 non-null    object\n",
      " 6   reg_date    500 non-null    object\n",
      " 7   tariff      500 non-null    object\n",
      "dtypes: int64(2), object(6)\n",
      "memory usage: 31.4+ KB\n"
     ]
    },
    {
     "data": {
      "text/html": [
       "<div>\n",
       "<style scoped>\n",
       "    .dataframe tbody tr th:only-of-type {\n",
       "        vertical-align: middle;\n",
       "    }\n",
       "\n",
       "    .dataframe tbody tr th {\n",
       "        vertical-align: top;\n",
       "    }\n",
       "\n",
       "    .dataframe thead th {\n",
       "        text-align: right;\n",
       "    }\n",
       "</style>\n",
       "<table border=\"1\" class=\"dataframe\">\n",
       "  <thead>\n",
       "    <tr style=\"text-align: right;\">\n",
       "      <th></th>\n",
       "      <th>user_id</th>\n",
       "      <th>age</th>\n",
       "      <th>churn_date</th>\n",
       "      <th>city</th>\n",
       "      <th>first_name</th>\n",
       "      <th>last_name</th>\n",
       "      <th>reg_date</th>\n",
       "      <th>tariff</th>\n",
       "    </tr>\n",
       "  </thead>\n",
       "  <tbody>\n",
       "    <tr>\n",
       "      <th>0</th>\n",
       "      <td>1000</td>\n",
       "      <td>52</td>\n",
       "      <td>NaN</td>\n",
       "      <td>Краснодар</td>\n",
       "      <td>Рафаил</td>\n",
       "      <td>Верещагин</td>\n",
       "      <td>2018-05-25</td>\n",
       "      <td>ultra</td>\n",
       "    </tr>\n",
       "    <tr>\n",
       "      <th>1</th>\n",
       "      <td>1001</td>\n",
       "      <td>41</td>\n",
       "      <td>NaN</td>\n",
       "      <td>Москва</td>\n",
       "      <td>Иван</td>\n",
       "      <td>Ежов</td>\n",
       "      <td>2018-11-01</td>\n",
       "      <td>smart</td>\n",
       "    </tr>\n",
       "    <tr>\n",
       "      <th>2</th>\n",
       "      <td>1002</td>\n",
       "      <td>59</td>\n",
       "      <td>NaN</td>\n",
       "      <td>Стерлитамак</td>\n",
       "      <td>Евгений</td>\n",
       "      <td>Абрамович</td>\n",
       "      <td>2018-06-17</td>\n",
       "      <td>smart</td>\n",
       "    </tr>\n",
       "    <tr>\n",
       "      <th>3</th>\n",
       "      <td>1003</td>\n",
       "      <td>23</td>\n",
       "      <td>NaN</td>\n",
       "      <td>Москва</td>\n",
       "      <td>Белла</td>\n",
       "      <td>Белякова</td>\n",
       "      <td>2018-08-17</td>\n",
       "      <td>ultra</td>\n",
       "    </tr>\n",
       "    <tr>\n",
       "      <th>4</th>\n",
       "      <td>1004</td>\n",
       "      <td>68</td>\n",
       "      <td>NaN</td>\n",
       "      <td>Новокузнецк</td>\n",
       "      <td>Татьяна</td>\n",
       "      <td>Авдеенко</td>\n",
       "      <td>2018-05-14</td>\n",
       "      <td>ultra</td>\n",
       "    </tr>\n",
       "  </tbody>\n",
       "</table>\n",
       "</div>"
      ],
      "text/plain": [
       "   user_id  age churn_date         city first_name  last_name    reg_date  \\\n",
       "0     1000   52        NaN    Краснодар     Рафаил  Верещагин  2018-05-25   \n",
       "1     1001   41        NaN       Москва       Иван       Ежов  2018-11-01   \n",
       "2     1002   59        NaN  Стерлитамак    Евгений  Абрамович  2018-06-17   \n",
       "3     1003   23        NaN       Москва      Белла   Белякова  2018-08-17   \n",
       "4     1004   68        NaN  Новокузнецк    Татьяна   Авдеенко  2018-05-14   \n",
       "\n",
       "  tariff  \n",
       "0  ultra  \n",
       "1  smart  \n",
       "2  smart  \n",
       "3  ultra  \n",
       "4  ultra  "
      ]
     },
     "execution_count": 2,
     "metadata": {},
     "output_type": "execute_result"
    }
   ],
   "source": [
    "users = pd.read_csv('//censored//')\n",
    "users.info()\n",
    "users.head()"
   ]
  },
  {
   "cell_type": "markdown",
   "id": "cdaef32d",
   "metadata": {},
   "source": [
    "Как видно из общей информации о таблице `users`, она состоит из 8 столбцов, в семи из которых нет пропущенных значений. Пропуски есть только в столбце `churn_date`, где их огромное количество (462 из 500), однако это обусловлено тем, что большинство пользователей не отказывались от выбранных тарифных планов на момент выгрузки данных, поэтому в данном случае наличие пропусков оправданно.\n",
    "\n",
    "Кроме того, необходимо обратить внимание на тип данных в столбцах `churn_date` и `reg_date`: в обоих случаях выбран тип данных object. Его необходимо заменяить на формат datetime.\n",
    "\n",
    "В таблице 500 наблюдений, что соответствует количеству пользователей в выборке, поэтому явные дубликаты маловероятны. При этом важно проверить столбцы `city` и `tariff` на неявные дубликаты, ведь они могут исказить результаты исследования.\n",
    "\n",
    "Посмотрим на характеристики числовых столбцов таблицы:"
   ]
  },
  {
   "cell_type": "code",
   "execution_count": 3,
   "id": "e00ac900",
   "metadata": {},
   "outputs": [
    {
     "data": {
      "text/html": [
       "<div>\n",
       "<style scoped>\n",
       "    .dataframe tbody tr th:only-of-type {\n",
       "        vertical-align: middle;\n",
       "    }\n",
       "\n",
       "    .dataframe tbody tr th {\n",
       "        vertical-align: top;\n",
       "    }\n",
       "\n",
       "    .dataframe thead th {\n",
       "        text-align: right;\n",
       "    }\n",
       "</style>\n",
       "<table border=\"1\" class=\"dataframe\">\n",
       "  <thead>\n",
       "    <tr style=\"text-align: right;\">\n",
       "      <th></th>\n",
       "      <th>user_id</th>\n",
       "      <th>age</th>\n",
       "    </tr>\n",
       "  </thead>\n",
       "  <tbody>\n",
       "    <tr>\n",
       "      <th>count</th>\n",
       "      <td>500.000000</td>\n",
       "      <td>500.00000</td>\n",
       "    </tr>\n",
       "    <tr>\n",
       "      <th>mean</th>\n",
       "      <td>1249.500000</td>\n",
       "      <td>46.58800</td>\n",
       "    </tr>\n",
       "    <tr>\n",
       "      <th>std</th>\n",
       "      <td>144.481833</td>\n",
       "      <td>16.66763</td>\n",
       "    </tr>\n",
       "    <tr>\n",
       "      <th>min</th>\n",
       "      <td>1000.000000</td>\n",
       "      <td>18.00000</td>\n",
       "    </tr>\n",
       "    <tr>\n",
       "      <th>25%</th>\n",
       "      <td>1124.750000</td>\n",
       "      <td>32.00000</td>\n",
       "    </tr>\n",
       "    <tr>\n",
       "      <th>50%</th>\n",
       "      <td>1249.500000</td>\n",
       "      <td>46.00000</td>\n",
       "    </tr>\n",
       "    <tr>\n",
       "      <th>75%</th>\n",
       "      <td>1374.250000</td>\n",
       "      <td>62.00000</td>\n",
       "    </tr>\n",
       "    <tr>\n",
       "      <th>max</th>\n",
       "      <td>1499.000000</td>\n",
       "      <td>75.00000</td>\n",
       "    </tr>\n",
       "  </tbody>\n",
       "</table>\n",
       "</div>"
      ],
      "text/plain": [
       "           user_id        age\n",
       "count   500.000000  500.00000\n",
       "mean   1249.500000   46.58800\n",
       "std     144.481833   16.66763\n",
       "min    1000.000000   18.00000\n",
       "25%    1124.750000   32.00000\n",
       "50%    1249.500000   46.00000\n",
       "75%    1374.250000   62.00000\n",
       "max    1499.000000   75.00000"
      ]
     },
     "execution_count": 3,
     "metadata": {},
     "output_type": "execute_result"
    }
   ],
   "source": [
    "users.describe()"
   ]
  },
  {
   "cell_type": "markdown",
   "id": "9bdbb31b",
   "metadata": {},
   "source": [
    "Возраст клиентов варьируется от 18 до 75 лет, что соответствует действительности.\n",
    "\n",
    "Так, в таблице `users` необходимо только поменять формат данных в столбцах, содержащих время, и проверить столбцы `city` и `tariff` на предмет неявных дебликатов."
   ]
  },
  {
   "cell_type": "markdown",
   "id": "4b8c43c0",
   "metadata": {},
   "source": [
    "Рассмотрим таблице `calls`:"
   ]
  },
  {
   "cell_type": "code",
   "execution_count": 4,
   "id": "1ce54d2d",
   "metadata": {},
   "outputs": [
    {
     "name": "stdout",
     "output_type": "stream",
     "text": [
      "<class 'pandas.core.frame.DataFrame'>\n",
      "RangeIndex: 202607 entries, 0 to 202606\n",
      "Data columns (total 4 columns):\n",
      " #   Column     Non-Null Count   Dtype  \n",
      "---  ------     --------------   -----  \n",
      " 0   id         202607 non-null  object \n",
      " 1   call_date  202607 non-null  object \n",
      " 2   duration   202607 non-null  float64\n",
      " 3   user_id    202607 non-null  int64  \n",
      "dtypes: float64(1), int64(1), object(2)\n",
      "memory usage: 6.2+ MB\n"
     ]
    },
    {
     "data": {
      "text/html": [
       "<div>\n",
       "<style scoped>\n",
       "    .dataframe tbody tr th:only-of-type {\n",
       "        vertical-align: middle;\n",
       "    }\n",
       "\n",
       "    .dataframe tbody tr th {\n",
       "        vertical-align: top;\n",
       "    }\n",
       "\n",
       "    .dataframe thead th {\n",
       "        text-align: right;\n",
       "    }\n",
       "</style>\n",
       "<table border=\"1\" class=\"dataframe\">\n",
       "  <thead>\n",
       "    <tr style=\"text-align: right;\">\n",
       "      <th></th>\n",
       "      <th>id</th>\n",
       "      <th>call_date</th>\n",
       "      <th>duration</th>\n",
       "      <th>user_id</th>\n",
       "    </tr>\n",
       "  </thead>\n",
       "  <tbody>\n",
       "    <tr>\n",
       "      <th>0</th>\n",
       "      <td>1000_0</td>\n",
       "      <td>2018-07-25</td>\n",
       "      <td>0.00</td>\n",
       "      <td>1000</td>\n",
       "    </tr>\n",
       "    <tr>\n",
       "      <th>1</th>\n",
       "      <td>1000_1</td>\n",
       "      <td>2018-08-17</td>\n",
       "      <td>0.00</td>\n",
       "      <td>1000</td>\n",
       "    </tr>\n",
       "    <tr>\n",
       "      <th>2</th>\n",
       "      <td>1000_2</td>\n",
       "      <td>2018-06-11</td>\n",
       "      <td>2.85</td>\n",
       "      <td>1000</td>\n",
       "    </tr>\n",
       "    <tr>\n",
       "      <th>3</th>\n",
       "      <td>1000_3</td>\n",
       "      <td>2018-09-21</td>\n",
       "      <td>13.80</td>\n",
       "      <td>1000</td>\n",
       "    </tr>\n",
       "    <tr>\n",
       "      <th>4</th>\n",
       "      <td>1000_4</td>\n",
       "      <td>2018-12-15</td>\n",
       "      <td>5.18</td>\n",
       "      <td>1000</td>\n",
       "    </tr>\n",
       "  </tbody>\n",
       "</table>\n",
       "</div>"
      ],
      "text/plain": [
       "       id   call_date  duration  user_id\n",
       "0  1000_0  2018-07-25      0.00     1000\n",
       "1  1000_1  2018-08-17      0.00     1000\n",
       "2  1000_2  2018-06-11      2.85     1000\n",
       "3  1000_3  2018-09-21     13.80     1000\n",
       "4  1000_4  2018-12-15      5.18     1000"
      ]
     },
     "execution_count": 4,
     "metadata": {},
     "output_type": "execute_result"
    }
   ],
   "source": [
    "calls = pd.read_csv('//censored//')\n",
    "calls.info()\n",
    "calls.head()"
   ]
  },
  {
   "cell_type": "markdown",
   "id": "3cef4595",
   "metadata": {},
   "source": [
    "В таблице `calls` приведена информация о 202 607 звонках клиентов \"Мегалайна\". Пропусков нет, все столбцы названы корректно. Тем не менее из общей информации о таблице видно, что необходимо поменять формат данных в столбце `call_date` со строки на  datetime.\n",
    "\n",
    "Кроме того, поскольку \"Мегалайн\" всегда округляет секунды до минут, надо округлить значения в столбце `duration` до целого числа. Нули в столбце означают пропущенные звонки.\n",
    "\n",
    "Проверим характеристики столбца `duration`:"
   ]
  },
  {
   "cell_type": "code",
   "execution_count": 5,
   "id": "05e1cfa9",
   "metadata": {},
   "outputs": [
    {
     "data": {
      "text/html": [
       "<div>\n",
       "<style scoped>\n",
       "    .dataframe tbody tr th:only-of-type {\n",
       "        vertical-align: middle;\n",
       "    }\n",
       "\n",
       "    .dataframe tbody tr th {\n",
       "        vertical-align: top;\n",
       "    }\n",
       "\n",
       "    .dataframe thead th {\n",
       "        text-align: right;\n",
       "    }\n",
       "</style>\n",
       "<table border=\"1\" class=\"dataframe\">\n",
       "  <thead>\n",
       "    <tr style=\"text-align: right;\">\n",
       "      <th></th>\n",
       "      <th>duration</th>\n",
       "      <th>user_id</th>\n",
       "    </tr>\n",
       "  </thead>\n",
       "  <tbody>\n",
       "    <tr>\n",
       "      <th>count</th>\n",
       "      <td>202607.000000</td>\n",
       "      <td>202607.000000</td>\n",
       "    </tr>\n",
       "    <tr>\n",
       "      <th>mean</th>\n",
       "      <td>6.755887</td>\n",
       "      <td>1253.940619</td>\n",
       "    </tr>\n",
       "    <tr>\n",
       "      <th>std</th>\n",
       "      <td>5.843365</td>\n",
       "      <td>144.722751</td>\n",
       "    </tr>\n",
       "    <tr>\n",
       "      <th>min</th>\n",
       "      <td>0.000000</td>\n",
       "      <td>1000.000000</td>\n",
       "    </tr>\n",
       "    <tr>\n",
       "      <th>25%</th>\n",
       "      <td>1.300000</td>\n",
       "      <td>1126.000000</td>\n",
       "    </tr>\n",
       "    <tr>\n",
       "      <th>50%</th>\n",
       "      <td>6.000000</td>\n",
       "      <td>1260.000000</td>\n",
       "    </tr>\n",
       "    <tr>\n",
       "      <th>75%</th>\n",
       "      <td>10.700000</td>\n",
       "      <td>1379.000000</td>\n",
       "    </tr>\n",
       "    <tr>\n",
       "      <th>max</th>\n",
       "      <td>38.000000</td>\n",
       "      <td>1499.000000</td>\n",
       "    </tr>\n",
       "  </tbody>\n",
       "</table>\n",
       "</div>"
      ],
      "text/plain": [
       "            duration        user_id\n",
       "count  202607.000000  202607.000000\n",
       "mean        6.755887    1253.940619\n",
       "std         5.843365     144.722751\n",
       "min         0.000000    1000.000000\n",
       "25%         1.300000    1126.000000\n",
       "50%         6.000000    1260.000000\n",
       "75%        10.700000    1379.000000\n",
       "max        38.000000    1499.000000"
      ]
     },
     "execution_count": 5,
     "metadata": {},
     "output_type": "execute_result"
    }
   ],
   "source": [
    "calls.describe()"
   ]
  },
  {
   "cell_type": "markdown",
   "id": "31e9e534",
   "metadata": {},
   "source": [
    "Разброс продолжительности звонков (до 38 минут) выглядит правдоподобно.\n",
    "\n",
    "Так, в данной таблице исправлений требует только тип данных в столбце с датой звонка."
   ]
  },
  {
   "cell_type": "markdown",
   "id": "d3fc3641",
   "metadata": {},
   "source": [
    "Откроем таблицу `messages`:"
   ]
  },
  {
   "cell_type": "code",
   "execution_count": 6,
   "id": "d7a59508",
   "metadata": {},
   "outputs": [
    {
     "name": "stdout",
     "output_type": "stream",
     "text": [
      "<class 'pandas.core.frame.DataFrame'>\n",
      "RangeIndex: 123036 entries, 0 to 123035\n",
      "Data columns (total 3 columns):\n",
      " #   Column        Non-Null Count   Dtype \n",
      "---  ------        --------------   ----- \n",
      " 0   id            123036 non-null  object\n",
      " 1   message_date  123036 non-null  object\n",
      " 2   user_id       123036 non-null  int64 \n",
      "dtypes: int64(1), object(2)\n",
      "memory usage: 2.8+ MB\n"
     ]
    },
    {
     "data": {
      "text/html": [
       "<div>\n",
       "<style scoped>\n",
       "    .dataframe tbody tr th:only-of-type {\n",
       "        vertical-align: middle;\n",
       "    }\n",
       "\n",
       "    .dataframe tbody tr th {\n",
       "        vertical-align: top;\n",
       "    }\n",
       "\n",
       "    .dataframe thead th {\n",
       "        text-align: right;\n",
       "    }\n",
       "</style>\n",
       "<table border=\"1\" class=\"dataframe\">\n",
       "  <thead>\n",
       "    <tr style=\"text-align: right;\">\n",
       "      <th></th>\n",
       "      <th>id</th>\n",
       "      <th>message_date</th>\n",
       "      <th>user_id</th>\n",
       "    </tr>\n",
       "  </thead>\n",
       "  <tbody>\n",
       "    <tr>\n",
       "      <th>0</th>\n",
       "      <td>1000_0</td>\n",
       "      <td>2018-06-27</td>\n",
       "      <td>1000</td>\n",
       "    </tr>\n",
       "    <tr>\n",
       "      <th>1</th>\n",
       "      <td>1000_1</td>\n",
       "      <td>2018-10-08</td>\n",
       "      <td>1000</td>\n",
       "    </tr>\n",
       "    <tr>\n",
       "      <th>2</th>\n",
       "      <td>1000_2</td>\n",
       "      <td>2018-08-04</td>\n",
       "      <td>1000</td>\n",
       "    </tr>\n",
       "    <tr>\n",
       "      <th>3</th>\n",
       "      <td>1000_3</td>\n",
       "      <td>2018-06-16</td>\n",
       "      <td>1000</td>\n",
       "    </tr>\n",
       "    <tr>\n",
       "      <th>4</th>\n",
       "      <td>1000_4</td>\n",
       "      <td>2018-12-05</td>\n",
       "      <td>1000</td>\n",
       "    </tr>\n",
       "  </tbody>\n",
       "</table>\n",
       "</div>"
      ],
      "text/plain": [
       "       id message_date  user_id\n",
       "0  1000_0   2018-06-27     1000\n",
       "1  1000_1   2018-10-08     1000\n",
       "2  1000_2   2018-08-04     1000\n",
       "3  1000_3   2018-06-16     1000\n",
       "4  1000_4   2018-12-05     1000"
      ]
     },
     "metadata": {},
     "output_type": "display_data"
    }
   ],
   "source": [
    "messages = pd.read_csv('//censored//')\n",
    "messages.info()\n",
    "display(messages.head())"
   ]
  },
  {
   "cell_type": "markdown",
   "id": "43dbc5ec",
   "metadata": {},
   "source": [
    "В данном таблице представлена информация о 123 036 сообщениях пользователей выборки (как видно из характеристик столбца `user_id`). Пропусков в данных нет.\n",
    "\n",
    "Единственной проблемой, как и в предыдущих таблицах, является неправильный тип данных в столбце с временем."
   ]
  },
  {
   "cell_type": "markdown",
   "id": "f3b02b03",
   "metadata": {},
   "source": [
    "Откроем таблицу `internet` и инофрмацияю о ней:"
   ]
  },
  {
   "cell_type": "code",
   "execution_count": 7,
   "id": "eac65998",
   "metadata": {},
   "outputs": [
    {
     "name": "stdout",
     "output_type": "stream",
     "text": [
      "<class 'pandas.core.frame.DataFrame'>\n",
      "RangeIndex: 149396 entries, 0 to 149395\n",
      "Data columns (total 5 columns):\n",
      " #   Column        Non-Null Count   Dtype  \n",
      "---  ------        --------------   -----  \n",
      " 0   Unnamed: 0    149396 non-null  int64  \n",
      " 1   id            149396 non-null  object \n",
      " 2   mb_used       149396 non-null  float64\n",
      " 3   session_date  149396 non-null  object \n",
      " 4   user_id       149396 non-null  int64  \n",
      "dtypes: float64(1), int64(2), object(2)\n",
      "memory usage: 5.7+ MB\n"
     ]
    },
    {
     "data": {
      "text/html": [
       "<div>\n",
       "<style scoped>\n",
       "    .dataframe tbody tr th:only-of-type {\n",
       "        vertical-align: middle;\n",
       "    }\n",
       "\n",
       "    .dataframe tbody tr th {\n",
       "        vertical-align: top;\n",
       "    }\n",
       "\n",
       "    .dataframe thead th {\n",
       "        text-align: right;\n",
       "    }\n",
       "</style>\n",
       "<table border=\"1\" class=\"dataframe\">\n",
       "  <thead>\n",
       "    <tr style=\"text-align: right;\">\n",
       "      <th></th>\n",
       "      <th>Unnamed: 0</th>\n",
       "      <th>id</th>\n",
       "      <th>mb_used</th>\n",
       "      <th>session_date</th>\n",
       "      <th>user_id</th>\n",
       "    </tr>\n",
       "  </thead>\n",
       "  <tbody>\n",
       "    <tr>\n",
       "      <th>0</th>\n",
       "      <td>0</td>\n",
       "      <td>1000_0</td>\n",
       "      <td>112.95</td>\n",
       "      <td>2018-11-25</td>\n",
       "      <td>1000</td>\n",
       "    </tr>\n",
       "    <tr>\n",
       "      <th>1</th>\n",
       "      <td>1</td>\n",
       "      <td>1000_1</td>\n",
       "      <td>1052.81</td>\n",
       "      <td>2018-09-07</td>\n",
       "      <td>1000</td>\n",
       "    </tr>\n",
       "    <tr>\n",
       "      <th>2</th>\n",
       "      <td>2</td>\n",
       "      <td>1000_2</td>\n",
       "      <td>1197.26</td>\n",
       "      <td>2018-06-25</td>\n",
       "      <td>1000</td>\n",
       "    </tr>\n",
       "    <tr>\n",
       "      <th>3</th>\n",
       "      <td>3</td>\n",
       "      <td>1000_3</td>\n",
       "      <td>550.27</td>\n",
       "      <td>2018-08-22</td>\n",
       "      <td>1000</td>\n",
       "    </tr>\n",
       "    <tr>\n",
       "      <th>4</th>\n",
       "      <td>4</td>\n",
       "      <td>1000_4</td>\n",
       "      <td>302.56</td>\n",
       "      <td>2018-09-24</td>\n",
       "      <td>1000</td>\n",
       "    </tr>\n",
       "  </tbody>\n",
       "</table>\n",
       "</div>"
      ],
      "text/plain": [
       "   Unnamed: 0      id  mb_used session_date  user_id\n",
       "0           0  1000_0   112.95   2018-11-25     1000\n",
       "1           1  1000_1  1052.81   2018-09-07     1000\n",
       "2           2  1000_2  1197.26   2018-06-25     1000\n",
       "3           3  1000_3   550.27   2018-08-22     1000\n",
       "4           4  1000_4   302.56   2018-09-24     1000"
      ]
     },
     "metadata": {},
     "output_type": "display_data"
    },
    {
     "data": {
      "text/html": [
       "<div>\n",
       "<style scoped>\n",
       "    .dataframe tbody tr th:only-of-type {\n",
       "        vertical-align: middle;\n",
       "    }\n",
       "\n",
       "    .dataframe tbody tr th {\n",
       "        vertical-align: top;\n",
       "    }\n",
       "\n",
       "    .dataframe thead th {\n",
       "        text-align: right;\n",
       "    }\n",
       "</style>\n",
       "<table border=\"1\" class=\"dataframe\">\n",
       "  <thead>\n",
       "    <tr style=\"text-align: right;\">\n",
       "      <th></th>\n",
       "      <th>Unnamed: 0</th>\n",
       "      <th>mb_used</th>\n",
       "      <th>user_id</th>\n",
       "    </tr>\n",
       "  </thead>\n",
       "  <tbody>\n",
       "    <tr>\n",
       "      <th>count</th>\n",
       "      <td>149396.000000</td>\n",
       "      <td>149396.000000</td>\n",
       "      <td>149396.000000</td>\n",
       "    </tr>\n",
       "    <tr>\n",
       "      <th>mean</th>\n",
       "      <td>74697.500000</td>\n",
       "      <td>370.192426</td>\n",
       "      <td>1252.099842</td>\n",
       "    </tr>\n",
       "    <tr>\n",
       "      <th>std</th>\n",
       "      <td>43127.054745</td>\n",
       "      <td>278.300951</td>\n",
       "      <td>144.050823</td>\n",
       "    </tr>\n",
       "    <tr>\n",
       "      <th>min</th>\n",
       "      <td>0.000000</td>\n",
       "      <td>0.000000</td>\n",
       "      <td>1000.000000</td>\n",
       "    </tr>\n",
       "    <tr>\n",
       "      <th>25%</th>\n",
       "      <td>37348.750000</td>\n",
       "      <td>138.187500</td>\n",
       "      <td>1130.000000</td>\n",
       "    </tr>\n",
       "    <tr>\n",
       "      <th>50%</th>\n",
       "      <td>74697.500000</td>\n",
       "      <td>348.015000</td>\n",
       "      <td>1251.000000</td>\n",
       "    </tr>\n",
       "    <tr>\n",
       "      <th>75%</th>\n",
       "      <td>112046.250000</td>\n",
       "      <td>559.552500</td>\n",
       "      <td>1380.000000</td>\n",
       "    </tr>\n",
       "    <tr>\n",
       "      <th>max</th>\n",
       "      <td>149395.000000</td>\n",
       "      <td>1724.830000</td>\n",
       "      <td>1499.000000</td>\n",
       "    </tr>\n",
       "  </tbody>\n",
       "</table>\n",
       "</div>"
      ],
      "text/plain": [
       "          Unnamed: 0        mb_used        user_id\n",
       "count  149396.000000  149396.000000  149396.000000\n",
       "mean    74697.500000     370.192426    1252.099842\n",
       "std     43127.054745     278.300951     144.050823\n",
       "min         0.000000       0.000000    1000.000000\n",
       "25%     37348.750000     138.187500    1130.000000\n",
       "50%     74697.500000     348.015000    1251.000000\n",
       "75%    112046.250000     559.552500    1380.000000\n",
       "max    149395.000000    1724.830000    1499.000000"
      ]
     },
     "execution_count": 7,
     "metadata": {},
     "output_type": "execute_result"
    }
   ],
   "source": [
    "internet = pd.read_csv('//censored//')\n",
    "internet.info()\n",
    "display(internet.head())\n",
    "internet.describe()"
   ]
  },
  {
   "cell_type": "markdown",
   "id": "dce1a006",
   "metadata": {},
   "source": [
    "В таблице содержится информация о 149 396 Интернет-сессиях пользователей выборки. Пропуков в таблице нет. Однако некоторые ошибки в данных присутствуют: 1) необходимо удалить безумянный столбец, дублирующий индексы строк, 2) надо изменить тип данных в столбце `session_date` на datetime.\n",
    "\n",
    "Попробуем удалить безымянный столбец, прочитав его как индекс:"
   ]
  },
  {
   "cell_type": "code",
   "execution_count": 8,
   "id": "8adad14e",
   "metadata": {},
   "outputs": [
    {
     "data": {
      "text/html": [
       "<div>\n",
       "<style scoped>\n",
       "    .dataframe tbody tr th:only-of-type {\n",
       "        vertical-align: middle;\n",
       "    }\n",
       "\n",
       "    .dataframe tbody tr th {\n",
       "        vertical-align: top;\n",
       "    }\n",
       "\n",
       "    .dataframe thead th {\n",
       "        text-align: right;\n",
       "    }\n",
       "</style>\n",
       "<table border=\"1\" class=\"dataframe\">\n",
       "  <thead>\n",
       "    <tr style=\"text-align: right;\">\n",
       "      <th></th>\n",
       "      <th>id</th>\n",
       "      <th>mb_used</th>\n",
       "      <th>session_date</th>\n",
       "      <th>user_id</th>\n",
       "    </tr>\n",
       "  </thead>\n",
       "  <tbody>\n",
       "    <tr>\n",
       "      <th>0</th>\n",
       "      <td>1000_0</td>\n",
       "      <td>112.95</td>\n",
       "      <td>2018-11-25</td>\n",
       "      <td>1000</td>\n",
       "    </tr>\n",
       "    <tr>\n",
       "      <th>1</th>\n",
       "      <td>1000_1</td>\n",
       "      <td>1052.81</td>\n",
       "      <td>2018-09-07</td>\n",
       "      <td>1000</td>\n",
       "    </tr>\n",
       "    <tr>\n",
       "      <th>2</th>\n",
       "      <td>1000_2</td>\n",
       "      <td>1197.26</td>\n",
       "      <td>2018-06-25</td>\n",
       "      <td>1000</td>\n",
       "    </tr>\n",
       "    <tr>\n",
       "      <th>3</th>\n",
       "      <td>1000_3</td>\n",
       "      <td>550.27</td>\n",
       "      <td>2018-08-22</td>\n",
       "      <td>1000</td>\n",
       "    </tr>\n",
       "    <tr>\n",
       "      <th>4</th>\n",
       "      <td>1000_4</td>\n",
       "      <td>302.56</td>\n",
       "      <td>2018-09-24</td>\n",
       "      <td>1000</td>\n",
       "    </tr>\n",
       "  </tbody>\n",
       "</table>\n",
       "</div>"
      ],
      "text/plain": [
       "       id  mb_used session_date  user_id\n",
       "0  1000_0   112.95   2018-11-25     1000\n",
       "1  1000_1  1052.81   2018-09-07     1000\n",
       "2  1000_2  1197.26   2018-06-25     1000\n",
       "3  1000_3   550.27   2018-08-22     1000\n",
       "4  1000_4   302.56   2018-09-24     1000"
      ]
     },
     "execution_count": 8,
     "metadata": {},
     "output_type": "execute_result"
    }
   ],
   "source": [
    "internet = pd.read_csv('//censored//', index_col=0)\n",
    "internet.head()"
   ]
  },
  {
   "cell_type": "markdown",
   "id": "e88ccf20",
   "metadata": {},
   "source": [
    "Отлично, столбец удалён. Для таблицы осталось решить одну задачу.\n",
    "\n",
    "Рассмотрим оставшуюся таблицу, содержащую информацию о тарифных планах:"
   ]
  },
  {
   "cell_type": "code",
   "execution_count": 9,
   "id": "54196dc2",
   "metadata": {},
   "outputs": [
    {
     "name": "stdout",
     "output_type": "stream",
     "text": [
      "<class 'pandas.core.frame.DataFrame'>\n",
      "RangeIndex: 2 entries, 0 to 1\n",
      "Data columns (total 8 columns):\n",
      " #   Column                 Non-Null Count  Dtype \n",
      "---  ------                 --------------  ----- \n",
      " 0   messages_included      2 non-null      int64 \n",
      " 1   mb_per_month_included  2 non-null      int64 \n",
      " 2   minutes_included       2 non-null      int64 \n",
      " 3   rub_monthly_fee        2 non-null      int64 \n",
      " 4   rub_per_gb             2 non-null      int64 \n",
      " 5   rub_per_message        2 non-null      int64 \n",
      " 6   rub_per_minute         2 non-null      int64 \n",
      " 7   tariff_name            2 non-null      object\n",
      "dtypes: int64(7), object(1)\n",
      "memory usage: 256.0+ bytes\n"
     ]
    },
    {
     "data": {
      "text/html": [
       "<div>\n",
       "<style scoped>\n",
       "    .dataframe tbody tr th:only-of-type {\n",
       "        vertical-align: middle;\n",
       "    }\n",
       "\n",
       "    .dataframe tbody tr th {\n",
       "        vertical-align: top;\n",
       "    }\n",
       "\n",
       "    .dataframe thead th {\n",
       "        text-align: right;\n",
       "    }\n",
       "</style>\n",
       "<table border=\"1\" class=\"dataframe\">\n",
       "  <thead>\n",
       "    <tr style=\"text-align: right;\">\n",
       "      <th></th>\n",
       "      <th>messages_included</th>\n",
       "      <th>mb_per_month_included</th>\n",
       "      <th>minutes_included</th>\n",
       "      <th>rub_monthly_fee</th>\n",
       "      <th>rub_per_gb</th>\n",
       "      <th>rub_per_message</th>\n",
       "      <th>rub_per_minute</th>\n",
       "      <th>tariff_name</th>\n",
       "    </tr>\n",
       "  </thead>\n",
       "  <tbody>\n",
       "    <tr>\n",
       "      <th>0</th>\n",
       "      <td>50</td>\n",
       "      <td>15360</td>\n",
       "      <td>500</td>\n",
       "      <td>550</td>\n",
       "      <td>200</td>\n",
       "      <td>3</td>\n",
       "      <td>3</td>\n",
       "      <td>smart</td>\n",
       "    </tr>\n",
       "    <tr>\n",
       "      <th>1</th>\n",
       "      <td>1000</td>\n",
       "      <td>30720</td>\n",
       "      <td>3000</td>\n",
       "      <td>1950</td>\n",
       "      <td>150</td>\n",
       "      <td>1</td>\n",
       "      <td>1</td>\n",
       "      <td>ultra</td>\n",
       "    </tr>\n",
       "  </tbody>\n",
       "</table>\n",
       "</div>"
      ],
      "text/plain": [
       "   messages_included  mb_per_month_included  minutes_included  \\\n",
       "0                 50                  15360               500   \n",
       "1               1000                  30720              3000   \n",
       "\n",
       "   rub_monthly_fee  rub_per_gb  rub_per_message  rub_per_minute tariff_name  \n",
       "0              550         200                3               3       smart  \n",
       "1             1950         150                1               1       ultra  "
      ]
     },
     "execution_count": 9,
     "metadata": {},
     "output_type": "execute_result"
    }
   ],
   "source": [
    "tariffs = pd.read_csv('//censored//')\n",
    "tariffs.info()\n",
    "tariffs.head()"
   ]
  },
  {
   "cell_type": "markdown",
   "id": "25765786",
   "metadata": {},
   "source": [
    "Таблица содержит информацию о двух тарифах, которые \"Мегалайн\" предлагает своим клиентам. Таблица не требует изменений за исключением того, что объём Интернет-трафика, включённого в абонентскую плату, было бы удобнее считать в гигабайтах.\n",
    "\n",
    "Кроме того, таблицы `calls`, `messages` и `internet` стоит проверить на предмет дубликатов."
   ]
  },
  {
   "cell_type": "markdown",
   "id": "d9dee2e3",
   "metadata": {},
   "source": [
    "Таким образом, перед началом исследования необходимо:\n",
    "1. Поменять тип данных в столбцах с датой на datetime.\n",
    "2. Проверить столбцы `city` и `tariff` в таблице `users`, а также таблицы `calls`, `messages` и `internet` и их столбцы `id` на дубликаты.\n",
    "3. Перевести Интернет-трафик, включенный в абонентскую плату, из мегабайт в гигабайты и округлить продолжительность звонков в сторону повышения."
   ]
  },
  {
   "cell_type": "markdown",
   "id": "838e6e1e",
   "metadata": {},
   "source": [
    "## Предобработка данных"
   ]
  },
  {
   "cell_type": "markdown",
   "id": "a066a5a5",
   "metadata": {},
   "source": [
    "### Изменение типов данных"
   ]
  },
  {
   "cell_type": "markdown",
   "id": "2422a6b7",
   "metadata": {},
   "source": [
    "Заменим тип данных в столбцах с датой с object на datetime во всех таблицах с помщью цикла:"
   ]
  },
  {
   "cell_type": "code",
   "execution_count": 10,
   "id": "64c02b4f",
   "metadata": {},
   "outputs": [
    {
     "name": "stdout",
     "output_type": "stream",
     "text": [
      "<class 'pandas.core.frame.DataFrame'>\n",
      "RangeIndex: 500 entries, 0 to 499\n",
      "Data columns (total 8 columns):\n",
      " #   Column      Non-Null Count  Dtype         \n",
      "---  ------      --------------  -----         \n",
      " 0   user_id     500 non-null    int64         \n",
      " 1   age         500 non-null    int64         \n",
      " 2   churn_date  38 non-null     datetime64[ns]\n",
      " 3   city        500 non-null    object        \n",
      " 4   first_name  500 non-null    object        \n",
      " 5   last_name   500 non-null    object        \n",
      " 6   reg_date    500 non-null    datetime64[ns]\n",
      " 7   tariff      500 non-null    object        \n",
      "dtypes: datetime64[ns](2), int64(2), object(4)\n",
      "memory usage: 31.4+ KB\n",
      "<class 'pandas.core.frame.DataFrame'>\n",
      "RangeIndex: 202607 entries, 0 to 202606\n",
      "Data columns (total 4 columns):\n",
      " #   Column     Non-Null Count   Dtype         \n",
      "---  ------     --------------   -----         \n",
      " 0   id         202607 non-null  object        \n",
      " 1   call_date  202607 non-null  datetime64[ns]\n",
      " 2   duration   202607 non-null  float64       \n",
      " 3   user_id    202607 non-null  int64         \n",
      "dtypes: datetime64[ns](1), float64(1), int64(1), object(1)\n",
      "memory usage: 6.2+ MB\n",
      "<class 'pandas.core.frame.DataFrame'>\n",
      "RangeIndex: 123036 entries, 0 to 123035\n",
      "Data columns (total 3 columns):\n",
      " #   Column        Non-Null Count   Dtype         \n",
      "---  ------        --------------   -----         \n",
      " 0   id            123036 non-null  object        \n",
      " 1   message_date  123036 non-null  datetime64[ns]\n",
      " 2   user_id       123036 non-null  int64         \n",
      "dtypes: datetime64[ns](1), int64(1), object(1)\n",
      "memory usage: 2.8+ MB\n",
      "<class 'pandas.core.frame.DataFrame'>\n",
      "Int64Index: 149396 entries, 0 to 149395\n",
      "Data columns (total 4 columns):\n",
      " #   Column        Non-Null Count   Dtype         \n",
      "---  ------        --------------   -----         \n",
      " 0   id            149396 non-null  object        \n",
      " 1   mb_used       149396 non-null  float64       \n",
      " 2   session_date  149396 non-null  datetime64[ns]\n",
      " 3   user_id       149396 non-null  int64         \n",
      "dtypes: datetime64[ns](1), float64(1), int64(1), object(1)\n",
      "memory usage: 5.7+ MB\n",
      "<class 'pandas.core.frame.DataFrame'>\n",
      "RangeIndex: 2 entries, 0 to 1\n",
      "Data columns (total 8 columns):\n",
      " #   Column                 Non-Null Count  Dtype \n",
      "---  ------                 --------------  ----- \n",
      " 0   messages_included      2 non-null      int64 \n",
      " 1   mb_per_month_included  2 non-null      int64 \n",
      " 2   minutes_included       2 non-null      int64 \n",
      " 3   rub_monthly_fee        2 non-null      int64 \n",
      " 4   rub_per_gb             2 non-null      int64 \n",
      " 5   rub_per_message        2 non-null      int64 \n",
      " 6   rub_per_minute         2 non-null      int64 \n",
      " 7   tariff_name            2 non-null      object\n",
      "dtypes: int64(7), object(1)\n",
      "memory usage: 256.0+ bytes\n"
     ]
    }
   ],
   "source": [
    "data = [users, calls, messages, internet, tariffs]\n",
    "\n",
    "for value in data:\n",
    "    for column in value.columns:\n",
    "        if 'date' in column:\n",
    "            value[column] = pd.to_datetime(value[column], format='%Y-%m-%d')\n",
    "            \n",
    "# Посмотрим на результат:\n",
    "for value in data:\n",
    "    value.info()"
   ]
  },
  {
   "cell_type": "markdown",
   "id": "253f10d4",
   "metadata": {},
   "source": [
    "Отлично, тип данных во всех столбцах, содержащих дату, поменялся на datetime."
   ]
  },
  {
   "cell_type": "markdown",
   "id": "70a20d6e",
   "metadata": {},
   "source": [
    "### Дубликаты"
   ]
  },
  {
   "cell_type": "markdown",
   "id": "3e672786",
   "metadata": {},
   "source": [
    "Сначала проверим все таблицы на наличие явных дубликатов (вероятнее всего их обнаружить в таблицах с информацией о звонках, сообщениях и использовании Интернет-трафика, но, поскольку есть список со всеми таблицами, напишем цикл, проверяющий все таблицы на предмет явных дубликатов):"
   ]
  },
  {
   "cell_type": "code",
   "execution_count": 11,
   "id": "5d62403a",
   "metadata": {},
   "outputs": [
    {
     "data": {
      "text/plain": [
       "0"
      ]
     },
     "metadata": {},
     "output_type": "display_data"
    },
    {
     "data": {
      "text/plain": [
       "0"
      ]
     },
     "metadata": {},
     "output_type": "display_data"
    },
    {
     "data": {
      "text/plain": [
       "0"
      ]
     },
     "metadata": {},
     "output_type": "display_data"
    },
    {
     "data": {
      "text/plain": [
       "0"
      ]
     },
     "metadata": {},
     "output_type": "display_data"
    },
    {
     "data": {
      "text/plain": [
       "0"
      ]
     },
     "metadata": {},
     "output_type": "display_data"
    }
   ],
   "source": [
    "for value in data:\n",
    "    display(value.duplicated().sum())"
   ]
  },
  {
   "cell_type": "markdown",
   "id": "0c04b606",
   "metadata": {},
   "source": [
    "Так, ни в одной таблицы нет явных дубликатов.\n",
    "\n",
    "Теперь проверим столбцы `city` и `tariff` в таблице `users` на предмет неявных дубликатов. Для этого посмотрим все уникальные значения этих столбцов:"
   ]
  },
  {
   "cell_type": "code",
   "execution_count": 12,
   "id": "49c87f03",
   "metadata": {},
   "outputs": [
    {
     "data": {
      "text/plain": [
       "array(['Архангельск', 'Астрахань', 'Балашиха', 'Барнаул', 'Белгород',\n",
       "       'Брянск', 'Владивосток', 'Владикавказ', 'Владимир', 'Волгоград',\n",
       "       'Волжский', 'Вологда', 'Воронеж', 'Грозный', 'Екатеринбург',\n",
       "       'Иваново', 'Ижевск', 'Иркутск', 'Казань', 'Калининград', 'Калуга',\n",
       "       'Кемерово', 'Киров', 'Кострома', 'Краснодар', 'Красноярск',\n",
       "       'Курган', 'Курск', 'Липецк', 'Магнитогорск', 'Махачкала', 'Москва',\n",
       "       'Мурманск', 'Набережные Челны', 'Нижневартовск', 'Нижний Новгород',\n",
       "       'Нижний Тагил', 'Новокузнецк', 'Новороссийск', 'Новосибирск',\n",
       "       'Омск', 'Оренбург', 'Орёл', 'Пенза', 'Пермь', 'Петрозаводск',\n",
       "       'Подольск', 'Ростов-на-Дону', 'Рязань', 'Самара',\n",
       "       'Санкт-Петербург', 'Саранск', 'Саратов', 'Севастополь', 'Смоленск',\n",
       "       'Сочи', 'Ставрополь', 'Стерлитамак', 'Сургут', 'Тамбов', 'Тверь',\n",
       "       'Тольятти', 'Томск', 'Тула', 'Тюмень', 'Улан-Удэ', 'Ульяновск',\n",
       "       'Уфа', 'Хабаровск', 'Химки', 'Чебоксары', 'Челябинск', 'Череповец',\n",
       "       'Чита', 'Якутск', 'Ярославль'], dtype=object)"
      ]
     },
     "metadata": {},
     "output_type": "display_data"
    },
    {
     "data": {
      "text/plain": [
       "array(['smart', 'ultra'], dtype=object)"
      ]
     },
     "execution_count": 12,
     "metadata": {},
     "output_type": "execute_result"
    }
   ],
   "source": [
    "display(users['city'].sort_values().unique())\n",
    "users['tariff'].sort_values().unique()"
   ]
  },
  {
   "cell_type": "markdown",
   "id": "a7ff544b",
   "metadata": {},
   "source": [
    "Неявных дубликатов в таблице `users` нет.\n",
    "\n",
    "Осталось проверить столбцы `id` в таблицах с информацией о звонках, сообщениях и использовании Интернет-трафика:"
   ]
  },
  {
   "cell_type": "code",
   "execution_count": 13,
   "id": "6cae6f93",
   "metadata": {},
   "outputs": [
    {
     "data": {
      "text/plain": [
       "'Дубликатов нет'"
      ]
     },
     "metadata": {},
     "output_type": "display_data"
    },
    {
     "data": {
      "text/plain": [
       "'Дубликатов нет'"
      ]
     },
     "metadata": {},
     "output_type": "display_data"
    },
    {
     "data": {
      "text/plain": [
       "'Дубликатов нет'"
      ]
     },
     "metadata": {},
     "output_type": "display_data"
    }
   ],
   "source": [
    "for value in data:\n",
    "    if 'id' in value.columns:\n",
    "        if value['id'].duplicated().any():\n",
    "            display('В столбце есть неявные дубликаты')\n",
    "        else:\n",
    "            display('Дубликатов нет')"
   ]
  },
  {
   "cell_type": "markdown",
   "id": "4fa55b6e",
   "metadata": {},
   "source": [
    "Таким образом, ни в одной таблице нет дубликатов."
   ]
  },
  {
   "cell_type": "markdown",
   "id": "99be8b92",
   "metadata": {},
   "source": [
    "### Редактирование столбцов"
   ]
  },
  {
   "cell_type": "markdown",
   "id": "b720d425",
   "metadata": {},
   "source": [
    "Для начала окргулим продолжительность звонков `duration` в таблице `calls` в сторону повышения:"
   ]
  },
  {
   "cell_type": "code",
   "execution_count": 14,
   "id": "bacffd85",
   "metadata": {},
   "outputs": [
    {
     "data": {
      "text/html": [
       "<div>\n",
       "<style scoped>\n",
       "    .dataframe tbody tr th:only-of-type {\n",
       "        vertical-align: middle;\n",
       "    }\n",
       "\n",
       "    .dataframe tbody tr th {\n",
       "        vertical-align: top;\n",
       "    }\n",
       "\n",
       "    .dataframe thead th {\n",
       "        text-align: right;\n",
       "    }\n",
       "</style>\n",
       "<table border=\"1\" class=\"dataframe\">\n",
       "  <thead>\n",
       "    <tr style=\"text-align: right;\">\n",
       "      <th></th>\n",
       "      <th>id</th>\n",
       "      <th>call_date</th>\n",
       "      <th>duration</th>\n",
       "      <th>user_id</th>\n",
       "    </tr>\n",
       "  </thead>\n",
       "  <tbody>\n",
       "    <tr>\n",
       "      <th>0</th>\n",
       "      <td>1000_0</td>\n",
       "      <td>2018-07-25</td>\n",
       "      <td>0</td>\n",
       "      <td>1000</td>\n",
       "    </tr>\n",
       "    <tr>\n",
       "      <th>1</th>\n",
       "      <td>1000_1</td>\n",
       "      <td>2018-08-17</td>\n",
       "      <td>0</td>\n",
       "      <td>1000</td>\n",
       "    </tr>\n",
       "    <tr>\n",
       "      <th>2</th>\n",
       "      <td>1000_2</td>\n",
       "      <td>2018-06-11</td>\n",
       "      <td>3</td>\n",
       "      <td>1000</td>\n",
       "    </tr>\n",
       "    <tr>\n",
       "      <th>3</th>\n",
       "      <td>1000_3</td>\n",
       "      <td>2018-09-21</td>\n",
       "      <td>14</td>\n",
       "      <td>1000</td>\n",
       "    </tr>\n",
       "    <tr>\n",
       "      <th>4</th>\n",
       "      <td>1000_4</td>\n",
       "      <td>2018-12-15</td>\n",
       "      <td>6</td>\n",
       "      <td>1000</td>\n",
       "    </tr>\n",
       "    <tr>\n",
       "      <th>5</th>\n",
       "      <td>1000_5</td>\n",
       "      <td>2018-11-02</td>\n",
       "      <td>0</td>\n",
       "      <td>1000</td>\n",
       "    </tr>\n",
       "    <tr>\n",
       "      <th>6</th>\n",
       "      <td>1000_6</td>\n",
       "      <td>2018-10-18</td>\n",
       "      <td>0</td>\n",
       "      <td>1000</td>\n",
       "    </tr>\n",
       "    <tr>\n",
       "      <th>7</th>\n",
       "      <td>1000_7</td>\n",
       "      <td>2018-08-22</td>\n",
       "      <td>19</td>\n",
       "      <td>1000</td>\n",
       "    </tr>\n",
       "    <tr>\n",
       "      <th>8</th>\n",
       "      <td>1000_8</td>\n",
       "      <td>2018-09-15</td>\n",
       "      <td>19</td>\n",
       "      <td>1000</td>\n",
       "    </tr>\n",
       "    <tr>\n",
       "      <th>9</th>\n",
       "      <td>1000_9</td>\n",
       "      <td>2018-08-15</td>\n",
       "      <td>0</td>\n",
       "      <td>1000</td>\n",
       "    </tr>\n",
       "  </tbody>\n",
       "</table>\n",
       "</div>"
      ],
      "text/plain": [
       "       id  call_date  duration  user_id\n",
       "0  1000_0 2018-07-25         0     1000\n",
       "1  1000_1 2018-08-17         0     1000\n",
       "2  1000_2 2018-06-11         3     1000\n",
       "3  1000_3 2018-09-21        14     1000\n",
       "4  1000_4 2018-12-15         6     1000\n",
       "5  1000_5 2018-11-02         0     1000\n",
       "6  1000_6 2018-10-18         0     1000\n",
       "7  1000_7 2018-08-22        19     1000\n",
       "8  1000_8 2018-09-15        19     1000\n",
       "9  1000_9 2018-08-15         0     1000"
      ]
     },
     "execution_count": 14,
     "metadata": {},
     "output_type": "execute_result"
    }
   ],
   "source": [
    "calls['duration'] = np.ceil(calls['duration']).astype('int')\n",
    "\n",
    "calls.head(10)"
   ]
  },
  {
   "cell_type": "markdown",
   "id": "726644dc",
   "metadata": {},
   "source": [
    "Кроме того, поскольку \"Мегалайн\" рассчитывает Интернет-трафик, входящий в абонентскую плату в гигабайтах, переведём данную информацию в таблице `tariffs` из мегабайт в гигабайты:"
   ]
  },
  {
   "cell_type": "code",
   "execution_count": 15,
   "id": "e74a6279",
   "metadata": {},
   "outputs": [
    {
     "data": {
      "text/html": [
       "<div>\n",
       "<style scoped>\n",
       "    .dataframe tbody tr th:only-of-type {\n",
       "        vertical-align: middle;\n",
       "    }\n",
       "\n",
       "    .dataframe tbody tr th {\n",
       "        vertical-align: top;\n",
       "    }\n",
       "\n",
       "    .dataframe thead th {\n",
       "        text-align: right;\n",
       "    }\n",
       "</style>\n",
       "<table border=\"1\" class=\"dataframe\">\n",
       "  <thead>\n",
       "    <tr style=\"text-align: right;\">\n",
       "      <th></th>\n",
       "      <th>messages_included</th>\n",
       "      <th>gb_per_month_included</th>\n",
       "      <th>minutes_included</th>\n",
       "      <th>rub_monthly_fee</th>\n",
       "      <th>rub_per_gb</th>\n",
       "      <th>rub_per_message</th>\n",
       "      <th>rub_per_minute</th>\n",
       "      <th>tariff_name</th>\n",
       "    </tr>\n",
       "  </thead>\n",
       "  <tbody>\n",
       "    <tr>\n",
       "      <th>0</th>\n",
       "      <td>50</td>\n",
       "      <td>15</td>\n",
       "      <td>500</td>\n",
       "      <td>550</td>\n",
       "      <td>200</td>\n",
       "      <td>3</td>\n",
       "      <td>3</td>\n",
       "      <td>smart</td>\n",
       "    </tr>\n",
       "    <tr>\n",
       "      <th>1</th>\n",
       "      <td>1000</td>\n",
       "      <td>30</td>\n",
       "      <td>3000</td>\n",
       "      <td>1950</td>\n",
       "      <td>150</td>\n",
       "      <td>1</td>\n",
       "      <td>1</td>\n",
       "      <td>ultra</td>\n",
       "    </tr>\n",
       "  </tbody>\n",
       "</table>\n",
       "</div>"
      ],
      "text/plain": [
       "   messages_included  gb_per_month_included  minutes_included  \\\n",
       "0                 50                     15               500   \n",
       "1               1000                     30              3000   \n",
       "\n",
       "   rub_monthly_fee  rub_per_gb  rub_per_message  rub_per_minute tariff_name  \n",
       "0              550         200                3               3       smart  \n",
       "1             1950         150                1               1       ultra  "
      ]
     },
     "execution_count": 15,
     "metadata": {},
     "output_type": "execute_result"
    }
   ],
   "source": [
    "tariffs.insert(2, 'gb_per_month_included', np.ceil(tariffs['mb_per_month_included']/1024))\n",
    "tariffs['gb_per_month_included'] = tariffs['gb_per_month_included'].astype('int')\n",
    "tariffs.drop('mb_per_month_included', axis=1, inplace=True)\n",
    "\n",
    "tariffs"
   ]
  },
  {
   "cell_type": "markdown",
   "id": "8dcf6381",
   "metadata": {},
   "source": [
    "Теперь исходные данные готовы к анализу."
   ]
  },
  {
   "cell_type": "markdown",
   "id": "c4d2ea49",
   "metadata": {},
   "source": [
    "### Расчётные показатели"
   ]
  },
  {
   "cell_type": "markdown",
   "id": "a3100e0d",
   "metadata": {},
   "source": [
    "Прежде чем перейти непосредственно к анализу, посчитаем для каждого пользователя \"Мегалайн\" из предоставленной выборки следующие показатели:\n",
    "* количество сделанных звонков и израсходованных минут разговора по месяцам;\n",
    "* количество отправленных сообщений по месяцам;\n",
    "* объем израсходованного интернет-трафика по месяцам;\n",
    "* помесячную выручку с каждого пользователя.\n",
    "\n",
    "Начнём с данных о звонках:"
   ]
  },
  {
   "cell_type": "code",
   "execution_count": 16,
   "id": "671193b4",
   "metadata": {
    "scrolled": false
   },
   "outputs": [
    {
     "data": {
      "text/html": [
       "<div>\n",
       "<style scoped>\n",
       "    .dataframe tbody tr th:only-of-type {\n",
       "        vertical-align: middle;\n",
       "    }\n",
       "\n",
       "    .dataframe tbody tr th {\n",
       "        vertical-align: top;\n",
       "    }\n",
       "\n",
       "    .dataframe thead th {\n",
       "        text-align: right;\n",
       "    }\n",
       "</style>\n",
       "<table border=\"1\" class=\"dataframe\">\n",
       "  <thead>\n",
       "    <tr style=\"text-align: right;\">\n",
       "      <th></th>\n",
       "      <th>user_id</th>\n",
       "      <th>month</th>\n",
       "      <th>calls</th>\n",
       "      <th>calls_duration</th>\n",
       "    </tr>\n",
       "  </thead>\n",
       "  <tbody>\n",
       "    <tr>\n",
       "      <th>0</th>\n",
       "      <td>1000</td>\n",
       "      <td>5</td>\n",
       "      <td>22</td>\n",
       "      <td>159</td>\n",
       "    </tr>\n",
       "    <tr>\n",
       "      <th>1</th>\n",
       "      <td>1000</td>\n",
       "      <td>6</td>\n",
       "      <td>43</td>\n",
       "      <td>172</td>\n",
       "    </tr>\n",
       "    <tr>\n",
       "      <th>2</th>\n",
       "      <td>1000</td>\n",
       "      <td>7</td>\n",
       "      <td>47</td>\n",
       "      <td>340</td>\n",
       "    </tr>\n",
       "    <tr>\n",
       "      <th>3</th>\n",
       "      <td>1000</td>\n",
       "      <td>8</td>\n",
       "      <td>52</td>\n",
       "      <td>408</td>\n",
       "    </tr>\n",
       "    <tr>\n",
       "      <th>4</th>\n",
       "      <td>1000</td>\n",
       "      <td>9</td>\n",
       "      <td>58</td>\n",
       "      <td>466</td>\n",
       "    </tr>\n",
       "    <tr>\n",
       "      <th>5</th>\n",
       "      <td>1000</td>\n",
       "      <td>10</td>\n",
       "      <td>57</td>\n",
       "      <td>350</td>\n",
       "    </tr>\n",
       "    <tr>\n",
       "      <th>6</th>\n",
       "      <td>1000</td>\n",
       "      <td>11</td>\n",
       "      <td>43</td>\n",
       "      <td>338</td>\n",
       "    </tr>\n",
       "    <tr>\n",
       "      <th>7</th>\n",
       "      <td>1000</td>\n",
       "      <td>12</td>\n",
       "      <td>46</td>\n",
       "      <td>333</td>\n",
       "    </tr>\n",
       "    <tr>\n",
       "      <th>8</th>\n",
       "      <td>1001</td>\n",
       "      <td>11</td>\n",
       "      <td>59</td>\n",
       "      <td>430</td>\n",
       "    </tr>\n",
       "    <tr>\n",
       "      <th>9</th>\n",
       "      <td>1001</td>\n",
       "      <td>12</td>\n",
       "      <td>63</td>\n",
       "      <td>414</td>\n",
       "    </tr>\n",
       "    <tr>\n",
       "      <th>10</th>\n",
       "      <td>1002</td>\n",
       "      <td>6</td>\n",
       "      <td>15</td>\n",
       "      <td>117</td>\n",
       "    </tr>\n",
       "    <tr>\n",
       "      <th>11</th>\n",
       "      <td>1002</td>\n",
       "      <td>7</td>\n",
       "      <td>26</td>\n",
       "      <td>214</td>\n",
       "    </tr>\n",
       "    <tr>\n",
       "      <th>12</th>\n",
       "      <td>1002</td>\n",
       "      <td>8</td>\n",
       "      <td>42</td>\n",
       "      <td>289</td>\n",
       "    </tr>\n",
       "    <tr>\n",
       "      <th>13</th>\n",
       "      <td>1002</td>\n",
       "      <td>9</td>\n",
       "      <td>36</td>\n",
       "      <td>206</td>\n",
       "    </tr>\n",
       "    <tr>\n",
       "      <th>14</th>\n",
       "      <td>1002</td>\n",
       "      <td>10</td>\n",
       "      <td>33</td>\n",
       "      <td>212</td>\n",
       "    </tr>\n",
       "  </tbody>\n",
       "</table>\n",
       "</div>"
      ],
      "text/plain": [
       "    user_id  month  calls  calls_duration\n",
       "0      1000      5     22             159\n",
       "1      1000      6     43             172\n",
       "2      1000      7     47             340\n",
       "3      1000      8     52             408\n",
       "4      1000      9     58             466\n",
       "5      1000     10     57             350\n",
       "6      1000     11     43             338\n",
       "7      1000     12     46             333\n",
       "8      1001     11     59             430\n",
       "9      1001     12     63             414\n",
       "10     1002      6     15             117\n",
       "11     1002      7     26             214\n",
       "12     1002      8     42             289\n",
       "13     1002      9     36             206\n",
       "14     1002     10     33             212"
      ]
     },
     "execution_count": 16,
     "metadata": {},
     "output_type": "execute_result"
    }
   ],
   "source": [
    "calls_per_month = calls.groupby(['user_id', calls['call_date'].dt.month]).agg(\n",
    "    calls=('duration','count'), calls_duration=('duration','sum'))\n",
    "\n",
    "\n",
    "# Уберём все мультииндексы и понятно переименуем столбцы:\n",
    "calls_per_month = calls_per_month.reset_index()\n",
    "calls_per_month = calls_per_month.rename(\n",
    "    columns={'call_date':'month'}\n",
    ")\n",
    "\n",
    "calls_per_month.head(15)"
   ]
  },
  {
   "cell_type": "markdown",
   "id": "b20593aa",
   "metadata": {},
   "source": [
    "Теперь посчитаем, сколько сообщений отправляет в месяц каждый пользователь из выборки:"
   ]
  },
  {
   "cell_type": "code",
   "execution_count": 17,
   "id": "cfd2211e",
   "metadata": {
    "scrolled": false
   },
   "outputs": [
    {
     "data": {
      "text/html": [
       "<div>\n",
       "<style scoped>\n",
       "    .dataframe tbody tr th:only-of-type {\n",
       "        vertical-align: middle;\n",
       "    }\n",
       "\n",
       "    .dataframe tbody tr th {\n",
       "        vertical-align: top;\n",
       "    }\n",
       "\n",
       "    .dataframe thead th {\n",
       "        text-align: right;\n",
       "    }\n",
       "</style>\n",
       "<table border=\"1\" class=\"dataframe\">\n",
       "  <thead>\n",
       "    <tr style=\"text-align: right;\">\n",
       "      <th></th>\n",
       "      <th>user_id</th>\n",
       "      <th>month</th>\n",
       "      <th>messages</th>\n",
       "    </tr>\n",
       "  </thead>\n",
       "  <tbody>\n",
       "    <tr>\n",
       "      <th>0</th>\n",
       "      <td>1000</td>\n",
       "      <td>5</td>\n",
       "      <td>22</td>\n",
       "    </tr>\n",
       "    <tr>\n",
       "      <th>1</th>\n",
       "      <td>1000</td>\n",
       "      <td>6</td>\n",
       "      <td>60</td>\n",
       "    </tr>\n",
       "    <tr>\n",
       "      <th>2</th>\n",
       "      <td>1000</td>\n",
       "      <td>7</td>\n",
       "      <td>75</td>\n",
       "    </tr>\n",
       "    <tr>\n",
       "      <th>3</th>\n",
       "      <td>1000</td>\n",
       "      <td>8</td>\n",
       "      <td>81</td>\n",
       "    </tr>\n",
       "    <tr>\n",
       "      <th>4</th>\n",
       "      <td>1000</td>\n",
       "      <td>9</td>\n",
       "      <td>57</td>\n",
       "    </tr>\n",
       "    <tr>\n",
       "      <th>5</th>\n",
       "      <td>1000</td>\n",
       "      <td>10</td>\n",
       "      <td>73</td>\n",
       "    </tr>\n",
       "    <tr>\n",
       "      <th>6</th>\n",
       "      <td>1000</td>\n",
       "      <td>11</td>\n",
       "      <td>58</td>\n",
       "    </tr>\n",
       "    <tr>\n",
       "      <th>7</th>\n",
       "      <td>1000</td>\n",
       "      <td>12</td>\n",
       "      <td>70</td>\n",
       "    </tr>\n",
       "    <tr>\n",
       "      <th>8</th>\n",
       "      <td>1002</td>\n",
       "      <td>6</td>\n",
       "      <td>4</td>\n",
       "    </tr>\n",
       "    <tr>\n",
       "      <th>9</th>\n",
       "      <td>1002</td>\n",
       "      <td>7</td>\n",
       "      <td>11</td>\n",
       "    </tr>\n",
       "    <tr>\n",
       "      <th>10</th>\n",
       "      <td>1002</td>\n",
       "      <td>8</td>\n",
       "      <td>13</td>\n",
       "    </tr>\n",
       "    <tr>\n",
       "      <th>11</th>\n",
       "      <td>1002</td>\n",
       "      <td>9</td>\n",
       "      <td>4</td>\n",
       "    </tr>\n",
       "    <tr>\n",
       "      <th>12</th>\n",
       "      <td>1002</td>\n",
       "      <td>10</td>\n",
       "      <td>10</td>\n",
       "    </tr>\n",
       "    <tr>\n",
       "      <th>13</th>\n",
       "      <td>1002</td>\n",
       "      <td>11</td>\n",
       "      <td>16</td>\n",
       "    </tr>\n",
       "    <tr>\n",
       "      <th>14</th>\n",
       "      <td>1002</td>\n",
       "      <td>12</td>\n",
       "      <td>12</td>\n",
       "    </tr>\n",
       "  </tbody>\n",
       "</table>\n",
       "</div>"
      ],
      "text/plain": [
       "    user_id  month  messages\n",
       "0      1000      5        22\n",
       "1      1000      6        60\n",
       "2      1000      7        75\n",
       "3      1000      8        81\n",
       "4      1000      9        57\n",
       "5      1000     10        73\n",
       "6      1000     11        58\n",
       "7      1000     12        70\n",
       "8      1002      6         4\n",
       "9      1002      7        11\n",
       "10     1002      8        13\n",
       "11     1002      9         4\n",
       "12     1002     10        10\n",
       "13     1002     11        16\n",
       "14     1002     12        12"
      ]
     },
     "execution_count": 17,
     "metadata": {},
     "output_type": "execute_result"
    }
   ],
   "source": [
    "messages_per_month = messages.pivot_table(index=['user_id', messages['message_date'].dt.month], values='id', aggfunc='count')\n",
    "messages_per_month = messages_per_month.reset_index()\n",
    "messages_per_month.columns = ['user_id', 'month', 'messages']\n",
    "\n",
    "messages_per_month.head(15)"
   ]
  },
  {
   "cell_type": "markdown",
   "id": "31d7cc35",
   "metadata": {},
   "source": [
    "Сделаем подобную таблицу для использования Интернет-трафика по месяцам:"
   ]
  },
  {
   "cell_type": "code",
   "execution_count": 18,
   "id": "f9067e7d",
   "metadata": {},
   "outputs": [
    {
     "data": {
      "text/html": [
       "<div>\n",
       "<style scoped>\n",
       "    .dataframe tbody tr th:only-of-type {\n",
       "        vertical-align: middle;\n",
       "    }\n",
       "\n",
       "    .dataframe tbody tr th {\n",
       "        vertical-align: top;\n",
       "    }\n",
       "\n",
       "    .dataframe thead th {\n",
       "        text-align: right;\n",
       "    }\n",
       "</style>\n",
       "<table border=\"1\" class=\"dataframe\">\n",
       "  <thead>\n",
       "    <tr style=\"text-align: right;\">\n",
       "      <th></th>\n",
       "      <th>user_id</th>\n",
       "      <th>month</th>\n",
       "      <th>gb_used</th>\n",
       "    </tr>\n",
       "  </thead>\n",
       "  <tbody>\n",
       "    <tr>\n",
       "      <th>0</th>\n",
       "      <td>1000</td>\n",
       "      <td>5</td>\n",
       "      <td>3</td>\n",
       "    </tr>\n",
       "    <tr>\n",
       "      <th>1</th>\n",
       "      <td>1000</td>\n",
       "      <td>6</td>\n",
       "      <td>23</td>\n",
       "    </tr>\n",
       "    <tr>\n",
       "      <th>2</th>\n",
       "      <td>1000</td>\n",
       "      <td>7</td>\n",
       "      <td>14</td>\n",
       "    </tr>\n",
       "    <tr>\n",
       "      <th>3</th>\n",
       "      <td>1000</td>\n",
       "      <td>8</td>\n",
       "      <td>14</td>\n",
       "    </tr>\n",
       "    <tr>\n",
       "      <th>4</th>\n",
       "      <td>1000</td>\n",
       "      <td>9</td>\n",
       "      <td>15</td>\n",
       "    </tr>\n",
       "    <tr>\n",
       "      <th>5</th>\n",
       "      <td>1000</td>\n",
       "      <td>10</td>\n",
       "      <td>15</td>\n",
       "    </tr>\n",
       "    <tr>\n",
       "      <th>6</th>\n",
       "      <td>1000</td>\n",
       "      <td>11</td>\n",
       "      <td>15</td>\n",
       "    </tr>\n",
       "    <tr>\n",
       "      <th>7</th>\n",
       "      <td>1000</td>\n",
       "      <td>12</td>\n",
       "      <td>10</td>\n",
       "    </tr>\n",
       "    <tr>\n",
       "      <th>8</th>\n",
       "      <td>1001</td>\n",
       "      <td>11</td>\n",
       "      <td>18</td>\n",
       "    </tr>\n",
       "    <tr>\n",
       "      <th>9</th>\n",
       "      <td>1001</td>\n",
       "      <td>12</td>\n",
       "      <td>14</td>\n",
       "    </tr>\n",
       "    <tr>\n",
       "      <th>10</th>\n",
       "      <td>1002</td>\n",
       "      <td>6</td>\n",
       "      <td>11</td>\n",
       "    </tr>\n",
       "    <tr>\n",
       "      <th>11</th>\n",
       "      <td>1002</td>\n",
       "      <td>7</td>\n",
       "      <td>18</td>\n",
       "    </tr>\n",
       "    <tr>\n",
       "      <th>12</th>\n",
       "      <td>1002</td>\n",
       "      <td>8</td>\n",
       "      <td>20</td>\n",
       "    </tr>\n",
       "    <tr>\n",
       "      <th>13</th>\n",
       "      <td>1002</td>\n",
       "      <td>9</td>\n",
       "      <td>17</td>\n",
       "    </tr>\n",
       "    <tr>\n",
       "      <th>14</th>\n",
       "      <td>1002</td>\n",
       "      <td>10</td>\n",
       "      <td>14</td>\n",
       "    </tr>\n",
       "  </tbody>\n",
       "</table>\n",
       "</div>"
      ],
      "text/plain": [
       "    user_id  month  gb_used\n",
       "0      1000      5        3\n",
       "1      1000      6       23\n",
       "2      1000      7       14\n",
       "3      1000      8       14\n",
       "4      1000      9       15\n",
       "5      1000     10       15\n",
       "6      1000     11       15\n",
       "7      1000     12       10\n",
       "8      1001     11       18\n",
       "9      1001     12       14\n",
       "10     1002      6       11\n",
       "11     1002      7       18\n",
       "12     1002      8       20\n",
       "13     1002      9       17\n",
       "14     1002     10       14"
      ]
     },
     "execution_count": 18,
     "metadata": {},
     "output_type": "execute_result"
    }
   ],
   "source": [
    "internet_per_month = internet.pivot_table(index=['user_id', internet['session_date'].dt.month], values='mb_used', aggfunc='sum')\n",
    "internet_per_month = internet_per_month.reset_index()\n",
    "internet_per_month.columns = ['user_id', 'month','gb_used']\n",
    "\n",
    "# Переведём помесячный Интернет-трафик в гигабайты и округлим в большую сторону:\n",
    "internet_per_month['gb_used'] = np.ceil(internet_per_month['gb_used']/1024).astype('int')\n",
    "\n",
    "internet_per_month.head(15)"
   ]
  },
  {
   "cell_type": "markdown",
   "id": "fdb602ce",
   "metadata": {},
   "source": [
    "Посмотрим длину каждой из получившихся сводных таблиц:"
   ]
  },
  {
   "cell_type": "code",
   "execution_count": 19,
   "id": "b836476e",
   "metadata": {},
   "outputs": [
    {
     "data": {
      "text/plain": [
       "(3174, 2717, 3203)"
      ]
     },
     "execution_count": 19,
     "metadata": {},
     "output_type": "execute_result"
    }
   ],
   "source": [
    "calls_per_month.shape[0], messages_per_month.shape[0], internet_per_month.shape[0]"
   ]
  },
  {
   "cell_type": "markdown",
   "id": "70240bbf",
   "metadata": {},
   "source": [
    "Поскольку все таблицы разной длины, а метод `join` объединяет по индексам, использовать его будет неудобно. Метод `merge`, в свою очередь, может объединить только две таблицы. В связи с этим создадим цикл для повторения итераций с `merge`:"
   ]
  },
  {
   "cell_type": "code",
   "execution_count": 20,
   "id": "01b64be1",
   "metadata": {},
   "outputs": [
    {
     "data": {
      "text/html": [
       "<div>\n",
       "<style scoped>\n",
       "    .dataframe tbody tr th:only-of-type {\n",
       "        vertical-align: middle;\n",
       "    }\n",
       "\n",
       "    .dataframe tbody tr th {\n",
       "        vertical-align: top;\n",
       "    }\n",
       "\n",
       "    .dataframe thead th {\n",
       "        text-align: right;\n",
       "    }\n",
       "</style>\n",
       "<table border=\"1\" class=\"dataframe\">\n",
       "  <thead>\n",
       "    <tr style=\"text-align: right;\">\n",
       "      <th></th>\n",
       "      <th>user_id</th>\n",
       "      <th>month</th>\n",
       "      <th>calls</th>\n",
       "      <th>calls_duration</th>\n",
       "      <th>messages</th>\n",
       "      <th>gb_used</th>\n",
       "    </tr>\n",
       "  </thead>\n",
       "  <tbody>\n",
       "    <tr>\n",
       "      <th>0</th>\n",
       "      <td>1000</td>\n",
       "      <td>5</td>\n",
       "      <td>22.0</td>\n",
       "      <td>159.0</td>\n",
       "      <td>22.0</td>\n",
       "      <td>3.0</td>\n",
       "    </tr>\n",
       "    <tr>\n",
       "      <th>1</th>\n",
       "      <td>1000</td>\n",
       "      <td>6</td>\n",
       "      <td>43.0</td>\n",
       "      <td>172.0</td>\n",
       "      <td>60.0</td>\n",
       "      <td>23.0</td>\n",
       "    </tr>\n",
       "    <tr>\n",
       "      <th>2</th>\n",
       "      <td>1000</td>\n",
       "      <td>7</td>\n",
       "      <td>47.0</td>\n",
       "      <td>340.0</td>\n",
       "      <td>75.0</td>\n",
       "      <td>14.0</td>\n",
       "    </tr>\n",
       "    <tr>\n",
       "      <th>3</th>\n",
       "      <td>1000</td>\n",
       "      <td>8</td>\n",
       "      <td>52.0</td>\n",
       "      <td>408.0</td>\n",
       "      <td>81.0</td>\n",
       "      <td>14.0</td>\n",
       "    </tr>\n",
       "    <tr>\n",
       "      <th>4</th>\n",
       "      <td>1000</td>\n",
       "      <td>9</td>\n",
       "      <td>58.0</td>\n",
       "      <td>466.0</td>\n",
       "      <td>57.0</td>\n",
       "      <td>15.0</td>\n",
       "    </tr>\n",
       "    <tr>\n",
       "      <th>5</th>\n",
       "      <td>1000</td>\n",
       "      <td>10</td>\n",
       "      <td>57.0</td>\n",
       "      <td>350.0</td>\n",
       "      <td>73.0</td>\n",
       "      <td>15.0</td>\n",
       "    </tr>\n",
       "    <tr>\n",
       "      <th>6</th>\n",
       "      <td>1000</td>\n",
       "      <td>11</td>\n",
       "      <td>43.0</td>\n",
       "      <td>338.0</td>\n",
       "      <td>58.0</td>\n",
       "      <td>15.0</td>\n",
       "    </tr>\n",
       "    <tr>\n",
       "      <th>7</th>\n",
       "      <td>1000</td>\n",
       "      <td>12</td>\n",
       "      <td>46.0</td>\n",
       "      <td>333.0</td>\n",
       "      <td>70.0</td>\n",
       "      <td>10.0</td>\n",
       "    </tr>\n",
       "    <tr>\n",
       "      <th>8</th>\n",
       "      <td>1001</td>\n",
       "      <td>11</td>\n",
       "      <td>59.0</td>\n",
       "      <td>430.0</td>\n",
       "      <td>NaN</td>\n",
       "      <td>18.0</td>\n",
       "    </tr>\n",
       "    <tr>\n",
       "      <th>9</th>\n",
       "      <td>1001</td>\n",
       "      <td>12</td>\n",
       "      <td>63.0</td>\n",
       "      <td>414.0</td>\n",
       "      <td>NaN</td>\n",
       "      <td>14.0</td>\n",
       "    </tr>\n",
       "    <tr>\n",
       "      <th>10</th>\n",
       "      <td>1002</td>\n",
       "      <td>6</td>\n",
       "      <td>15.0</td>\n",
       "      <td>117.0</td>\n",
       "      <td>4.0</td>\n",
       "      <td>11.0</td>\n",
       "    </tr>\n",
       "    <tr>\n",
       "      <th>11</th>\n",
       "      <td>1002</td>\n",
       "      <td>7</td>\n",
       "      <td>26.0</td>\n",
       "      <td>214.0</td>\n",
       "      <td>11.0</td>\n",
       "      <td>18.0</td>\n",
       "    </tr>\n",
       "    <tr>\n",
       "      <th>12</th>\n",
       "      <td>1002</td>\n",
       "      <td>8</td>\n",
       "      <td>42.0</td>\n",
       "      <td>289.0</td>\n",
       "      <td>13.0</td>\n",
       "      <td>20.0</td>\n",
       "    </tr>\n",
       "    <tr>\n",
       "      <th>13</th>\n",
       "      <td>1002</td>\n",
       "      <td>9</td>\n",
       "      <td>36.0</td>\n",
       "      <td>206.0</td>\n",
       "      <td>4.0</td>\n",
       "      <td>17.0</td>\n",
       "    </tr>\n",
       "    <tr>\n",
       "      <th>14</th>\n",
       "      <td>1002</td>\n",
       "      <td>10</td>\n",
       "      <td>33.0</td>\n",
       "      <td>212.0</td>\n",
       "      <td>10.0</td>\n",
       "      <td>14.0</td>\n",
       "    </tr>\n",
       "  </tbody>\n",
       "</table>\n",
       "</div>"
      ],
      "text/plain": [
       "    user_id  month  calls  calls_duration  messages  gb_used\n",
       "0      1000      5   22.0           159.0      22.0      3.0\n",
       "1      1000      6   43.0           172.0      60.0     23.0\n",
       "2      1000      7   47.0           340.0      75.0     14.0\n",
       "3      1000      8   52.0           408.0      81.0     14.0\n",
       "4      1000      9   58.0           466.0      57.0     15.0\n",
       "5      1000     10   57.0           350.0      73.0     15.0\n",
       "6      1000     11   43.0           338.0      58.0     15.0\n",
       "7      1000     12   46.0           333.0      70.0     10.0\n",
       "8      1001     11   59.0           430.0       NaN     18.0\n",
       "9      1001     12   63.0           414.0       NaN     14.0\n",
       "10     1002      6   15.0           117.0       4.0     11.0\n",
       "11     1002      7   26.0           214.0      11.0     18.0\n",
       "12     1002      8   42.0           289.0      13.0     20.0\n",
       "13     1002      9   36.0           206.0       4.0     17.0\n",
       "14     1002     10   33.0           212.0      10.0     14.0"
      ]
     },
     "execution_count": 20,
     "metadata": {},
     "output_type": "execute_result"
    }
   ],
   "source": [
    "from functools import reduce\n",
    "\n",
    "# Создадим список с таблицами, которые надо объединить:\n",
    "dfs = [calls_per_month, messages_per_month, internet_per_month]\n",
    "\n",
    "month_inf = reduce(lambda x , y : pd.merge(x, y, on=['user_id','month'], how='outer'), dfs)\n",
    "\n",
    "month_inf.head(15)"
   ]
  },
  {
   "cell_type": "markdown",
   "id": "8a8880e4",
   "metadata": {},
   "source": [
    "Отлично, таблицы объединены. Учитывая, что пропуски в данной таблице появились за счёт того, что конкрентный пользователь мог не пользоваться какой-то конкретной услугой в определённом месяце (например, как видно из первых строк, клиент с идентификационным номером 1001 не писал никому сообщения), заполним их нулями и изменим тип данных всех на int:"
   ]
  },
  {
   "cell_type": "code",
   "execution_count": 21,
   "id": "9cc8962c",
   "metadata": {},
   "outputs": [
    {
     "data": {
      "text/html": [
       "<div>\n",
       "<style scoped>\n",
       "    .dataframe tbody tr th:only-of-type {\n",
       "        vertical-align: middle;\n",
       "    }\n",
       "\n",
       "    .dataframe tbody tr th {\n",
       "        vertical-align: top;\n",
       "    }\n",
       "\n",
       "    .dataframe thead th {\n",
       "        text-align: right;\n",
       "    }\n",
       "</style>\n",
       "<table border=\"1\" class=\"dataframe\">\n",
       "  <thead>\n",
       "    <tr style=\"text-align: right;\">\n",
       "      <th></th>\n",
       "      <th>user_id</th>\n",
       "      <th>month</th>\n",
       "      <th>calls</th>\n",
       "      <th>calls_duration</th>\n",
       "      <th>messages</th>\n",
       "      <th>gb_used</th>\n",
       "    </tr>\n",
       "  </thead>\n",
       "  <tbody>\n",
       "    <tr>\n",
       "      <th>0</th>\n",
       "      <td>1000</td>\n",
       "      <td>5</td>\n",
       "      <td>22</td>\n",
       "      <td>159</td>\n",
       "      <td>22</td>\n",
       "      <td>3</td>\n",
       "    </tr>\n",
       "    <tr>\n",
       "      <th>1</th>\n",
       "      <td>1000</td>\n",
       "      <td>6</td>\n",
       "      <td>43</td>\n",
       "      <td>172</td>\n",
       "      <td>60</td>\n",
       "      <td>23</td>\n",
       "    </tr>\n",
       "    <tr>\n",
       "      <th>2</th>\n",
       "      <td>1000</td>\n",
       "      <td>7</td>\n",
       "      <td>47</td>\n",
       "      <td>340</td>\n",
       "      <td>75</td>\n",
       "      <td>14</td>\n",
       "    </tr>\n",
       "    <tr>\n",
       "      <th>3</th>\n",
       "      <td>1000</td>\n",
       "      <td>8</td>\n",
       "      <td>52</td>\n",
       "      <td>408</td>\n",
       "      <td>81</td>\n",
       "      <td>14</td>\n",
       "    </tr>\n",
       "    <tr>\n",
       "      <th>4</th>\n",
       "      <td>1000</td>\n",
       "      <td>9</td>\n",
       "      <td>58</td>\n",
       "      <td>466</td>\n",
       "      <td>57</td>\n",
       "      <td>15</td>\n",
       "    </tr>\n",
       "    <tr>\n",
       "      <th>5</th>\n",
       "      <td>1000</td>\n",
       "      <td>10</td>\n",
       "      <td>57</td>\n",
       "      <td>350</td>\n",
       "      <td>73</td>\n",
       "      <td>15</td>\n",
       "    </tr>\n",
       "    <tr>\n",
       "      <th>6</th>\n",
       "      <td>1000</td>\n",
       "      <td>11</td>\n",
       "      <td>43</td>\n",
       "      <td>338</td>\n",
       "      <td>58</td>\n",
       "      <td>15</td>\n",
       "    </tr>\n",
       "    <tr>\n",
       "      <th>7</th>\n",
       "      <td>1000</td>\n",
       "      <td>12</td>\n",
       "      <td>46</td>\n",
       "      <td>333</td>\n",
       "      <td>70</td>\n",
       "      <td>10</td>\n",
       "    </tr>\n",
       "    <tr>\n",
       "      <th>8</th>\n",
       "      <td>1001</td>\n",
       "      <td>11</td>\n",
       "      <td>59</td>\n",
       "      <td>430</td>\n",
       "      <td>0</td>\n",
       "      <td>18</td>\n",
       "    </tr>\n",
       "    <tr>\n",
       "      <th>9</th>\n",
       "      <td>1001</td>\n",
       "      <td>12</td>\n",
       "      <td>63</td>\n",
       "      <td>414</td>\n",
       "      <td>0</td>\n",
       "      <td>14</td>\n",
       "    </tr>\n",
       "    <tr>\n",
       "      <th>10</th>\n",
       "      <td>1002</td>\n",
       "      <td>6</td>\n",
       "      <td>15</td>\n",
       "      <td>117</td>\n",
       "      <td>4</td>\n",
       "      <td>11</td>\n",
       "    </tr>\n",
       "    <tr>\n",
       "      <th>11</th>\n",
       "      <td>1002</td>\n",
       "      <td>7</td>\n",
       "      <td>26</td>\n",
       "      <td>214</td>\n",
       "      <td>11</td>\n",
       "      <td>18</td>\n",
       "    </tr>\n",
       "    <tr>\n",
       "      <th>12</th>\n",
       "      <td>1002</td>\n",
       "      <td>8</td>\n",
       "      <td>42</td>\n",
       "      <td>289</td>\n",
       "      <td>13</td>\n",
       "      <td>20</td>\n",
       "    </tr>\n",
       "    <tr>\n",
       "      <th>13</th>\n",
       "      <td>1002</td>\n",
       "      <td>9</td>\n",
       "      <td>36</td>\n",
       "      <td>206</td>\n",
       "      <td>4</td>\n",
       "      <td>17</td>\n",
       "    </tr>\n",
       "    <tr>\n",
       "      <th>14</th>\n",
       "      <td>1002</td>\n",
       "      <td>10</td>\n",
       "      <td>33</td>\n",
       "      <td>212</td>\n",
       "      <td>10</td>\n",
       "      <td>14</td>\n",
       "    </tr>\n",
       "  </tbody>\n",
       "</table>\n",
       "</div>"
      ],
      "text/plain": [
       "    user_id  month  calls  calls_duration  messages  gb_used\n",
       "0      1000      5     22             159        22        3\n",
       "1      1000      6     43             172        60       23\n",
       "2      1000      7     47             340        75       14\n",
       "3      1000      8     52             408        81       14\n",
       "4      1000      9     58             466        57       15\n",
       "5      1000     10     57             350        73       15\n",
       "6      1000     11     43             338        58       15\n",
       "7      1000     12     46             333        70       10\n",
       "8      1001     11     59             430         0       18\n",
       "9      1001     12     63             414         0       14\n",
       "10     1002      6     15             117         4       11\n",
       "11     1002      7     26             214        11       18\n",
       "12     1002      8     42             289        13       20\n",
       "13     1002      9     36             206         4       17\n",
       "14     1002     10     33             212        10       14"
      ]
     },
     "execution_count": 21,
     "metadata": {},
     "output_type": "execute_result"
    }
   ],
   "source": [
    "month_inf = month_inf.fillna(0)\n",
    "month_inf = month_inf.astype('int')\n",
    "\n",
    "month_inf.head(15)"
   ]
  },
  {
   "cell_type": "markdown",
   "id": "2b21e489",
   "metadata": {},
   "source": [
    "Теперь необходимо посчитать помесячную выручку, получаемую \"Мегалайн\" с каждого пользователя. Для этого необходимо знать, каким тарифным планом пользуется каждый пользователь. Добавим в таблицу информацию о выбранных клиентами тарифных планах из таблицы `users`:"
   ]
  },
  {
   "cell_type": "code",
   "execution_count": 22,
   "id": "3e394d04",
   "metadata": {},
   "outputs": [
    {
     "data": {
      "text/html": [
       "<div>\n",
       "<style scoped>\n",
       "    .dataframe tbody tr th:only-of-type {\n",
       "        vertical-align: middle;\n",
       "    }\n",
       "\n",
       "    .dataframe tbody tr th {\n",
       "        vertical-align: top;\n",
       "    }\n",
       "\n",
       "    .dataframe thead th {\n",
       "        text-align: right;\n",
       "    }\n",
       "</style>\n",
       "<table border=\"1\" class=\"dataframe\">\n",
       "  <thead>\n",
       "    <tr style=\"text-align: right;\">\n",
       "      <th></th>\n",
       "      <th>user_id</th>\n",
       "      <th>month</th>\n",
       "      <th>calls</th>\n",
       "      <th>calls_duration</th>\n",
       "      <th>messages</th>\n",
       "      <th>gb_used</th>\n",
       "      <th>tariff_name</th>\n",
       "    </tr>\n",
       "  </thead>\n",
       "  <tbody>\n",
       "    <tr>\n",
       "      <th>0</th>\n",
       "      <td>1000</td>\n",
       "      <td>5</td>\n",
       "      <td>22</td>\n",
       "      <td>159</td>\n",
       "      <td>22</td>\n",
       "      <td>3</td>\n",
       "      <td>ultra</td>\n",
       "    </tr>\n",
       "    <tr>\n",
       "      <th>1</th>\n",
       "      <td>1000</td>\n",
       "      <td>6</td>\n",
       "      <td>43</td>\n",
       "      <td>172</td>\n",
       "      <td>60</td>\n",
       "      <td>23</td>\n",
       "      <td>ultra</td>\n",
       "    </tr>\n",
       "    <tr>\n",
       "      <th>2</th>\n",
       "      <td>1000</td>\n",
       "      <td>7</td>\n",
       "      <td>47</td>\n",
       "      <td>340</td>\n",
       "      <td>75</td>\n",
       "      <td>14</td>\n",
       "      <td>ultra</td>\n",
       "    </tr>\n",
       "    <tr>\n",
       "      <th>3</th>\n",
       "      <td>1000</td>\n",
       "      <td>8</td>\n",
       "      <td>52</td>\n",
       "      <td>408</td>\n",
       "      <td>81</td>\n",
       "      <td>14</td>\n",
       "      <td>ultra</td>\n",
       "    </tr>\n",
       "    <tr>\n",
       "      <th>4</th>\n",
       "      <td>1000</td>\n",
       "      <td>9</td>\n",
       "      <td>58</td>\n",
       "      <td>466</td>\n",
       "      <td>57</td>\n",
       "      <td>15</td>\n",
       "      <td>ultra</td>\n",
       "    </tr>\n",
       "    <tr>\n",
       "      <th>5</th>\n",
       "      <td>1000</td>\n",
       "      <td>10</td>\n",
       "      <td>57</td>\n",
       "      <td>350</td>\n",
       "      <td>73</td>\n",
       "      <td>15</td>\n",
       "      <td>ultra</td>\n",
       "    </tr>\n",
       "    <tr>\n",
       "      <th>6</th>\n",
       "      <td>1000</td>\n",
       "      <td>11</td>\n",
       "      <td>43</td>\n",
       "      <td>338</td>\n",
       "      <td>58</td>\n",
       "      <td>15</td>\n",
       "      <td>ultra</td>\n",
       "    </tr>\n",
       "    <tr>\n",
       "      <th>7</th>\n",
       "      <td>1000</td>\n",
       "      <td>12</td>\n",
       "      <td>46</td>\n",
       "      <td>333</td>\n",
       "      <td>70</td>\n",
       "      <td>10</td>\n",
       "      <td>ultra</td>\n",
       "    </tr>\n",
       "    <tr>\n",
       "      <th>8</th>\n",
       "      <td>1001</td>\n",
       "      <td>11</td>\n",
       "      <td>59</td>\n",
       "      <td>430</td>\n",
       "      <td>0</td>\n",
       "      <td>18</td>\n",
       "      <td>smart</td>\n",
       "    </tr>\n",
       "    <tr>\n",
       "      <th>9</th>\n",
       "      <td>1001</td>\n",
       "      <td>12</td>\n",
       "      <td>63</td>\n",
       "      <td>414</td>\n",
       "      <td>0</td>\n",
       "      <td>14</td>\n",
       "      <td>smart</td>\n",
       "    </tr>\n",
       "    <tr>\n",
       "      <th>10</th>\n",
       "      <td>1002</td>\n",
       "      <td>6</td>\n",
       "      <td>15</td>\n",
       "      <td>117</td>\n",
       "      <td>4</td>\n",
       "      <td>11</td>\n",
       "      <td>smart</td>\n",
       "    </tr>\n",
       "    <tr>\n",
       "      <th>11</th>\n",
       "      <td>1002</td>\n",
       "      <td>7</td>\n",
       "      <td>26</td>\n",
       "      <td>214</td>\n",
       "      <td>11</td>\n",
       "      <td>18</td>\n",
       "      <td>smart</td>\n",
       "    </tr>\n",
       "    <tr>\n",
       "      <th>12</th>\n",
       "      <td>1002</td>\n",
       "      <td>8</td>\n",
       "      <td>42</td>\n",
       "      <td>289</td>\n",
       "      <td>13</td>\n",
       "      <td>20</td>\n",
       "      <td>smart</td>\n",
       "    </tr>\n",
       "    <tr>\n",
       "      <th>13</th>\n",
       "      <td>1002</td>\n",
       "      <td>9</td>\n",
       "      <td>36</td>\n",
       "      <td>206</td>\n",
       "      <td>4</td>\n",
       "      <td>17</td>\n",
       "      <td>smart</td>\n",
       "    </tr>\n",
       "    <tr>\n",
       "      <th>14</th>\n",
       "      <td>1002</td>\n",
       "      <td>10</td>\n",
       "      <td>33</td>\n",
       "      <td>212</td>\n",
       "      <td>10</td>\n",
       "      <td>14</td>\n",
       "      <td>smart</td>\n",
       "    </tr>\n",
       "  </tbody>\n",
       "</table>\n",
       "</div>"
      ],
      "text/plain": [
       "    user_id  month  calls  calls_duration  messages  gb_used tariff_name\n",
       "0      1000      5     22             159        22        3       ultra\n",
       "1      1000      6     43             172        60       23       ultra\n",
       "2      1000      7     47             340        75       14       ultra\n",
       "3      1000      8     52             408        81       14       ultra\n",
       "4      1000      9     58             466        57       15       ultra\n",
       "5      1000     10     57             350        73       15       ultra\n",
       "6      1000     11     43             338        58       15       ultra\n",
       "7      1000     12     46             333        70       10       ultra\n",
       "8      1001     11     59             430         0       18       smart\n",
       "9      1001     12     63             414         0       14       smart\n",
       "10     1002      6     15             117         4       11       smart\n",
       "11     1002      7     26             214        11       18       smart\n",
       "12     1002      8     42             289        13       20       smart\n",
       "13     1002      9     36             206         4       17       smart\n",
       "14     1002     10     33             212        10       14       smart"
      ]
     },
     "execution_count": 22,
     "metadata": {},
     "output_type": "execute_result"
    }
   ],
   "source": [
    "month_inf = pd.merge(month_inf, users[['user_id', 'tariff']], on='user_id', how='left')\n",
    "month_inf = month_inf.rename(\n",
    "    columns={'tariff':'tariff_name'}\n",
    ")\n",
    "\n",
    "month_inf.head(15)"
   ]
  },
  {
   "cell_type": "markdown",
   "id": "117d0b6c",
   "metadata": {},
   "source": [
    "Теперь, чтобы была возможность вычислить помесячную выручку с каждого пользователя в этой же таблице, добавим в неё данные о каждом тарифе:"
   ]
  },
  {
   "cell_type": "code",
   "execution_count": 23,
   "id": "9c9e7bab",
   "metadata": {},
   "outputs": [
    {
     "data": {
      "text/html": [
       "<div>\n",
       "<style scoped>\n",
       "    .dataframe tbody tr th:only-of-type {\n",
       "        vertical-align: middle;\n",
       "    }\n",
       "\n",
       "    .dataframe tbody tr th {\n",
       "        vertical-align: top;\n",
       "    }\n",
       "\n",
       "    .dataframe thead th {\n",
       "        text-align: right;\n",
       "    }\n",
       "</style>\n",
       "<table border=\"1\" class=\"dataframe\">\n",
       "  <thead>\n",
       "    <tr style=\"text-align: right;\">\n",
       "      <th></th>\n",
       "      <th>user_id</th>\n",
       "      <th>month</th>\n",
       "      <th>calls</th>\n",
       "      <th>calls_duration</th>\n",
       "      <th>messages</th>\n",
       "      <th>gb_used</th>\n",
       "      <th>tariff_name</th>\n",
       "      <th>messages_included</th>\n",
       "      <th>gb_per_month_included</th>\n",
       "      <th>minutes_included</th>\n",
       "      <th>rub_monthly_fee</th>\n",
       "      <th>rub_per_gb</th>\n",
       "      <th>rub_per_message</th>\n",
       "      <th>rub_per_minute</th>\n",
       "    </tr>\n",
       "  </thead>\n",
       "  <tbody>\n",
       "    <tr>\n",
       "      <th>0</th>\n",
       "      <td>1000</td>\n",
       "      <td>5</td>\n",
       "      <td>22</td>\n",
       "      <td>159</td>\n",
       "      <td>22</td>\n",
       "      <td>3</td>\n",
       "      <td>ultra</td>\n",
       "      <td>1000</td>\n",
       "      <td>30</td>\n",
       "      <td>3000</td>\n",
       "      <td>1950</td>\n",
       "      <td>150</td>\n",
       "      <td>1</td>\n",
       "      <td>1</td>\n",
       "    </tr>\n",
       "    <tr>\n",
       "      <th>1</th>\n",
       "      <td>1000</td>\n",
       "      <td>6</td>\n",
       "      <td>43</td>\n",
       "      <td>172</td>\n",
       "      <td>60</td>\n",
       "      <td>23</td>\n",
       "      <td>ultra</td>\n",
       "      <td>1000</td>\n",
       "      <td>30</td>\n",
       "      <td>3000</td>\n",
       "      <td>1950</td>\n",
       "      <td>150</td>\n",
       "      <td>1</td>\n",
       "      <td>1</td>\n",
       "    </tr>\n",
       "    <tr>\n",
       "      <th>2</th>\n",
       "      <td>1000</td>\n",
       "      <td>7</td>\n",
       "      <td>47</td>\n",
       "      <td>340</td>\n",
       "      <td>75</td>\n",
       "      <td>14</td>\n",
       "      <td>ultra</td>\n",
       "      <td>1000</td>\n",
       "      <td>30</td>\n",
       "      <td>3000</td>\n",
       "      <td>1950</td>\n",
       "      <td>150</td>\n",
       "      <td>1</td>\n",
       "      <td>1</td>\n",
       "    </tr>\n",
       "    <tr>\n",
       "      <th>3</th>\n",
       "      <td>1000</td>\n",
       "      <td>8</td>\n",
       "      <td>52</td>\n",
       "      <td>408</td>\n",
       "      <td>81</td>\n",
       "      <td>14</td>\n",
       "      <td>ultra</td>\n",
       "      <td>1000</td>\n",
       "      <td>30</td>\n",
       "      <td>3000</td>\n",
       "      <td>1950</td>\n",
       "      <td>150</td>\n",
       "      <td>1</td>\n",
       "      <td>1</td>\n",
       "    </tr>\n",
       "    <tr>\n",
       "      <th>4</th>\n",
       "      <td>1000</td>\n",
       "      <td>9</td>\n",
       "      <td>58</td>\n",
       "      <td>466</td>\n",
       "      <td>57</td>\n",
       "      <td>15</td>\n",
       "      <td>ultra</td>\n",
       "      <td>1000</td>\n",
       "      <td>30</td>\n",
       "      <td>3000</td>\n",
       "      <td>1950</td>\n",
       "      <td>150</td>\n",
       "      <td>1</td>\n",
       "      <td>1</td>\n",
       "    </tr>\n",
       "    <tr>\n",
       "      <th>5</th>\n",
       "      <td>1000</td>\n",
       "      <td>10</td>\n",
       "      <td>57</td>\n",
       "      <td>350</td>\n",
       "      <td>73</td>\n",
       "      <td>15</td>\n",
       "      <td>ultra</td>\n",
       "      <td>1000</td>\n",
       "      <td>30</td>\n",
       "      <td>3000</td>\n",
       "      <td>1950</td>\n",
       "      <td>150</td>\n",
       "      <td>1</td>\n",
       "      <td>1</td>\n",
       "    </tr>\n",
       "    <tr>\n",
       "      <th>6</th>\n",
       "      <td>1000</td>\n",
       "      <td>11</td>\n",
       "      <td>43</td>\n",
       "      <td>338</td>\n",
       "      <td>58</td>\n",
       "      <td>15</td>\n",
       "      <td>ultra</td>\n",
       "      <td>1000</td>\n",
       "      <td>30</td>\n",
       "      <td>3000</td>\n",
       "      <td>1950</td>\n",
       "      <td>150</td>\n",
       "      <td>1</td>\n",
       "      <td>1</td>\n",
       "    </tr>\n",
       "    <tr>\n",
       "      <th>7</th>\n",
       "      <td>1000</td>\n",
       "      <td>12</td>\n",
       "      <td>46</td>\n",
       "      <td>333</td>\n",
       "      <td>70</td>\n",
       "      <td>10</td>\n",
       "      <td>ultra</td>\n",
       "      <td>1000</td>\n",
       "      <td>30</td>\n",
       "      <td>3000</td>\n",
       "      <td>1950</td>\n",
       "      <td>150</td>\n",
       "      <td>1</td>\n",
       "      <td>1</td>\n",
       "    </tr>\n",
       "    <tr>\n",
       "      <th>8</th>\n",
       "      <td>1001</td>\n",
       "      <td>11</td>\n",
       "      <td>59</td>\n",
       "      <td>430</td>\n",
       "      <td>0</td>\n",
       "      <td>18</td>\n",
       "      <td>smart</td>\n",
       "      <td>50</td>\n",
       "      <td>15</td>\n",
       "      <td>500</td>\n",
       "      <td>550</td>\n",
       "      <td>200</td>\n",
       "      <td>3</td>\n",
       "      <td>3</td>\n",
       "    </tr>\n",
       "    <tr>\n",
       "      <th>9</th>\n",
       "      <td>1001</td>\n",
       "      <td>12</td>\n",
       "      <td>63</td>\n",
       "      <td>414</td>\n",
       "      <td>0</td>\n",
       "      <td>14</td>\n",
       "      <td>smart</td>\n",
       "      <td>50</td>\n",
       "      <td>15</td>\n",
       "      <td>500</td>\n",
       "      <td>550</td>\n",
       "      <td>200</td>\n",
       "      <td>3</td>\n",
       "      <td>3</td>\n",
       "    </tr>\n",
       "    <tr>\n",
       "      <th>10</th>\n",
       "      <td>1002</td>\n",
       "      <td>6</td>\n",
       "      <td>15</td>\n",
       "      <td>117</td>\n",
       "      <td>4</td>\n",
       "      <td>11</td>\n",
       "      <td>smart</td>\n",
       "      <td>50</td>\n",
       "      <td>15</td>\n",
       "      <td>500</td>\n",
       "      <td>550</td>\n",
       "      <td>200</td>\n",
       "      <td>3</td>\n",
       "      <td>3</td>\n",
       "    </tr>\n",
       "    <tr>\n",
       "      <th>11</th>\n",
       "      <td>1002</td>\n",
       "      <td>7</td>\n",
       "      <td>26</td>\n",
       "      <td>214</td>\n",
       "      <td>11</td>\n",
       "      <td>18</td>\n",
       "      <td>smart</td>\n",
       "      <td>50</td>\n",
       "      <td>15</td>\n",
       "      <td>500</td>\n",
       "      <td>550</td>\n",
       "      <td>200</td>\n",
       "      <td>3</td>\n",
       "      <td>3</td>\n",
       "    </tr>\n",
       "    <tr>\n",
       "      <th>12</th>\n",
       "      <td>1002</td>\n",
       "      <td>8</td>\n",
       "      <td>42</td>\n",
       "      <td>289</td>\n",
       "      <td>13</td>\n",
       "      <td>20</td>\n",
       "      <td>smart</td>\n",
       "      <td>50</td>\n",
       "      <td>15</td>\n",
       "      <td>500</td>\n",
       "      <td>550</td>\n",
       "      <td>200</td>\n",
       "      <td>3</td>\n",
       "      <td>3</td>\n",
       "    </tr>\n",
       "    <tr>\n",
       "      <th>13</th>\n",
       "      <td>1002</td>\n",
       "      <td>9</td>\n",
       "      <td>36</td>\n",
       "      <td>206</td>\n",
       "      <td>4</td>\n",
       "      <td>17</td>\n",
       "      <td>smart</td>\n",
       "      <td>50</td>\n",
       "      <td>15</td>\n",
       "      <td>500</td>\n",
       "      <td>550</td>\n",
       "      <td>200</td>\n",
       "      <td>3</td>\n",
       "      <td>3</td>\n",
       "    </tr>\n",
       "    <tr>\n",
       "      <th>14</th>\n",
       "      <td>1002</td>\n",
       "      <td>10</td>\n",
       "      <td>33</td>\n",
       "      <td>212</td>\n",
       "      <td>10</td>\n",
       "      <td>14</td>\n",
       "      <td>smart</td>\n",
       "      <td>50</td>\n",
       "      <td>15</td>\n",
       "      <td>500</td>\n",
       "      <td>550</td>\n",
       "      <td>200</td>\n",
       "      <td>3</td>\n",
       "      <td>3</td>\n",
       "    </tr>\n",
       "  </tbody>\n",
       "</table>\n",
       "</div>"
      ],
      "text/plain": [
       "    user_id  month  calls  calls_duration  messages  gb_used tariff_name  \\\n",
       "0      1000      5     22             159        22        3       ultra   \n",
       "1      1000      6     43             172        60       23       ultra   \n",
       "2      1000      7     47             340        75       14       ultra   \n",
       "3      1000      8     52             408        81       14       ultra   \n",
       "4      1000      9     58             466        57       15       ultra   \n",
       "5      1000     10     57             350        73       15       ultra   \n",
       "6      1000     11     43             338        58       15       ultra   \n",
       "7      1000     12     46             333        70       10       ultra   \n",
       "8      1001     11     59             430         0       18       smart   \n",
       "9      1001     12     63             414         0       14       smart   \n",
       "10     1002      6     15             117         4       11       smart   \n",
       "11     1002      7     26             214        11       18       smart   \n",
       "12     1002      8     42             289        13       20       smart   \n",
       "13     1002      9     36             206         4       17       smart   \n",
       "14     1002     10     33             212        10       14       smart   \n",
       "\n",
       "    messages_included  gb_per_month_included  minutes_included  \\\n",
       "0                1000                     30              3000   \n",
       "1                1000                     30              3000   \n",
       "2                1000                     30              3000   \n",
       "3                1000                     30              3000   \n",
       "4                1000                     30              3000   \n",
       "5                1000                     30              3000   \n",
       "6                1000                     30              3000   \n",
       "7                1000                     30              3000   \n",
       "8                  50                     15               500   \n",
       "9                  50                     15               500   \n",
       "10                 50                     15               500   \n",
       "11                 50                     15               500   \n",
       "12                 50                     15               500   \n",
       "13                 50                     15               500   \n",
       "14                 50                     15               500   \n",
       "\n",
       "    rub_monthly_fee  rub_per_gb  rub_per_message  rub_per_minute  \n",
       "0              1950         150                1               1  \n",
       "1              1950         150                1               1  \n",
       "2              1950         150                1               1  \n",
       "3              1950         150                1               1  \n",
       "4              1950         150                1               1  \n",
       "5              1950         150                1               1  \n",
       "6              1950         150                1               1  \n",
       "7              1950         150                1               1  \n",
       "8               550         200                3               3  \n",
       "9               550         200                3               3  \n",
       "10              550         200                3               3  \n",
       "11              550         200                3               3  \n",
       "12              550         200                3               3  \n",
       "13              550         200                3               3  \n",
       "14              550         200                3               3  "
      ]
     },
     "execution_count": 23,
     "metadata": {},
     "output_type": "execute_result"
    }
   ],
   "source": [
    "month_inf = month_inf.merge(tariffs, on='tariff_name', how='left')\n",
    "\n",
    "month_inf.head(15)"
   ]
  },
  {
   "cell_type": "markdown",
   "id": "82791481",
   "metadata": {},
   "source": [
    "Теперь в одной таблице собрана и подготовлена вся необходимая информация для расчёта помесячной выручки. Напишем функцию её расчёта:"
   ]
  },
  {
   "cell_type": "code",
   "execution_count": 24,
   "id": "0f333bd4",
   "metadata": {
    "scrolled": false
   },
   "outputs": [
    {
     "data": {
      "text/html": [
       "<div>\n",
       "<style scoped>\n",
       "    .dataframe tbody tr th:only-of-type {\n",
       "        vertical-align: middle;\n",
       "    }\n",
       "\n",
       "    .dataframe tbody tr th {\n",
       "        vertical-align: top;\n",
       "    }\n",
       "\n",
       "    .dataframe thead th {\n",
       "        text-align: right;\n",
       "    }\n",
       "</style>\n",
       "<table border=\"1\" class=\"dataframe\">\n",
       "  <thead>\n",
       "    <tr style=\"text-align: right;\">\n",
       "      <th></th>\n",
       "      <th>user_id</th>\n",
       "      <th>month</th>\n",
       "      <th>calls</th>\n",
       "      <th>calls_duration</th>\n",
       "      <th>messages</th>\n",
       "      <th>gb_used</th>\n",
       "      <th>tariff_name</th>\n",
       "      <th>messages_included</th>\n",
       "      <th>gb_per_month_included</th>\n",
       "      <th>minutes_included</th>\n",
       "      <th>rub_monthly_fee</th>\n",
       "      <th>rub_per_gb</th>\n",
       "      <th>rub_per_message</th>\n",
       "      <th>rub_per_minute</th>\n",
       "      <th>monthly_revenue</th>\n",
       "    </tr>\n",
       "  </thead>\n",
       "  <tbody>\n",
       "    <tr>\n",
       "      <th>0</th>\n",
       "      <td>1000</td>\n",
       "      <td>5</td>\n",
       "      <td>22</td>\n",
       "      <td>159</td>\n",
       "      <td>22</td>\n",
       "      <td>3</td>\n",
       "      <td>ultra</td>\n",
       "      <td>1000</td>\n",
       "      <td>30</td>\n",
       "      <td>3000</td>\n",
       "      <td>1950</td>\n",
       "      <td>150</td>\n",
       "      <td>1</td>\n",
       "      <td>1</td>\n",
       "      <td>1950</td>\n",
       "    </tr>\n",
       "    <tr>\n",
       "      <th>1</th>\n",
       "      <td>1000</td>\n",
       "      <td>6</td>\n",
       "      <td>43</td>\n",
       "      <td>172</td>\n",
       "      <td>60</td>\n",
       "      <td>23</td>\n",
       "      <td>ultra</td>\n",
       "      <td>1000</td>\n",
       "      <td>30</td>\n",
       "      <td>3000</td>\n",
       "      <td>1950</td>\n",
       "      <td>150</td>\n",
       "      <td>1</td>\n",
       "      <td>1</td>\n",
       "      <td>1950</td>\n",
       "    </tr>\n",
       "    <tr>\n",
       "      <th>2</th>\n",
       "      <td>1000</td>\n",
       "      <td>7</td>\n",
       "      <td>47</td>\n",
       "      <td>340</td>\n",
       "      <td>75</td>\n",
       "      <td>14</td>\n",
       "      <td>ultra</td>\n",
       "      <td>1000</td>\n",
       "      <td>30</td>\n",
       "      <td>3000</td>\n",
       "      <td>1950</td>\n",
       "      <td>150</td>\n",
       "      <td>1</td>\n",
       "      <td>1</td>\n",
       "      <td>1950</td>\n",
       "    </tr>\n",
       "    <tr>\n",
       "      <th>3</th>\n",
       "      <td>1000</td>\n",
       "      <td>8</td>\n",
       "      <td>52</td>\n",
       "      <td>408</td>\n",
       "      <td>81</td>\n",
       "      <td>14</td>\n",
       "      <td>ultra</td>\n",
       "      <td>1000</td>\n",
       "      <td>30</td>\n",
       "      <td>3000</td>\n",
       "      <td>1950</td>\n",
       "      <td>150</td>\n",
       "      <td>1</td>\n",
       "      <td>1</td>\n",
       "      <td>1950</td>\n",
       "    </tr>\n",
       "    <tr>\n",
       "      <th>4</th>\n",
       "      <td>1000</td>\n",
       "      <td>9</td>\n",
       "      <td>58</td>\n",
       "      <td>466</td>\n",
       "      <td>57</td>\n",
       "      <td>15</td>\n",
       "      <td>ultra</td>\n",
       "      <td>1000</td>\n",
       "      <td>30</td>\n",
       "      <td>3000</td>\n",
       "      <td>1950</td>\n",
       "      <td>150</td>\n",
       "      <td>1</td>\n",
       "      <td>1</td>\n",
       "      <td>1950</td>\n",
       "    </tr>\n",
       "    <tr>\n",
       "      <th>5</th>\n",
       "      <td>1000</td>\n",
       "      <td>10</td>\n",
       "      <td>57</td>\n",
       "      <td>350</td>\n",
       "      <td>73</td>\n",
       "      <td>15</td>\n",
       "      <td>ultra</td>\n",
       "      <td>1000</td>\n",
       "      <td>30</td>\n",
       "      <td>3000</td>\n",
       "      <td>1950</td>\n",
       "      <td>150</td>\n",
       "      <td>1</td>\n",
       "      <td>1</td>\n",
       "      <td>1950</td>\n",
       "    </tr>\n",
       "    <tr>\n",
       "      <th>6</th>\n",
       "      <td>1000</td>\n",
       "      <td>11</td>\n",
       "      <td>43</td>\n",
       "      <td>338</td>\n",
       "      <td>58</td>\n",
       "      <td>15</td>\n",
       "      <td>ultra</td>\n",
       "      <td>1000</td>\n",
       "      <td>30</td>\n",
       "      <td>3000</td>\n",
       "      <td>1950</td>\n",
       "      <td>150</td>\n",
       "      <td>1</td>\n",
       "      <td>1</td>\n",
       "      <td>1950</td>\n",
       "    </tr>\n",
       "    <tr>\n",
       "      <th>7</th>\n",
       "      <td>1000</td>\n",
       "      <td>12</td>\n",
       "      <td>46</td>\n",
       "      <td>333</td>\n",
       "      <td>70</td>\n",
       "      <td>10</td>\n",
       "      <td>ultra</td>\n",
       "      <td>1000</td>\n",
       "      <td>30</td>\n",
       "      <td>3000</td>\n",
       "      <td>1950</td>\n",
       "      <td>150</td>\n",
       "      <td>1</td>\n",
       "      <td>1</td>\n",
       "      <td>1950</td>\n",
       "    </tr>\n",
       "    <tr>\n",
       "      <th>8</th>\n",
       "      <td>1001</td>\n",
       "      <td>11</td>\n",
       "      <td>59</td>\n",
       "      <td>430</td>\n",
       "      <td>0</td>\n",
       "      <td>18</td>\n",
       "      <td>smart</td>\n",
       "      <td>50</td>\n",
       "      <td>15</td>\n",
       "      <td>500</td>\n",
       "      <td>550</td>\n",
       "      <td>200</td>\n",
       "      <td>3</td>\n",
       "      <td>3</td>\n",
       "      <td>1150</td>\n",
       "    </tr>\n",
       "    <tr>\n",
       "      <th>9</th>\n",
       "      <td>1001</td>\n",
       "      <td>12</td>\n",
       "      <td>63</td>\n",
       "      <td>414</td>\n",
       "      <td>0</td>\n",
       "      <td>14</td>\n",
       "      <td>smart</td>\n",
       "      <td>50</td>\n",
       "      <td>15</td>\n",
       "      <td>500</td>\n",
       "      <td>550</td>\n",
       "      <td>200</td>\n",
       "      <td>3</td>\n",
       "      <td>3</td>\n",
       "      <td>550</td>\n",
       "    </tr>\n",
       "    <tr>\n",
       "      <th>10</th>\n",
       "      <td>1002</td>\n",
       "      <td>6</td>\n",
       "      <td>15</td>\n",
       "      <td>117</td>\n",
       "      <td>4</td>\n",
       "      <td>11</td>\n",
       "      <td>smart</td>\n",
       "      <td>50</td>\n",
       "      <td>15</td>\n",
       "      <td>500</td>\n",
       "      <td>550</td>\n",
       "      <td>200</td>\n",
       "      <td>3</td>\n",
       "      <td>3</td>\n",
       "      <td>550</td>\n",
       "    </tr>\n",
       "    <tr>\n",
       "      <th>11</th>\n",
       "      <td>1002</td>\n",
       "      <td>7</td>\n",
       "      <td>26</td>\n",
       "      <td>214</td>\n",
       "      <td>11</td>\n",
       "      <td>18</td>\n",
       "      <td>smart</td>\n",
       "      <td>50</td>\n",
       "      <td>15</td>\n",
       "      <td>500</td>\n",
       "      <td>550</td>\n",
       "      <td>200</td>\n",
       "      <td>3</td>\n",
       "      <td>3</td>\n",
       "      <td>1150</td>\n",
       "    </tr>\n",
       "    <tr>\n",
       "      <th>12</th>\n",
       "      <td>1002</td>\n",
       "      <td>8</td>\n",
       "      <td>42</td>\n",
       "      <td>289</td>\n",
       "      <td>13</td>\n",
       "      <td>20</td>\n",
       "      <td>smart</td>\n",
       "      <td>50</td>\n",
       "      <td>15</td>\n",
       "      <td>500</td>\n",
       "      <td>550</td>\n",
       "      <td>200</td>\n",
       "      <td>3</td>\n",
       "      <td>3</td>\n",
       "      <td>1550</td>\n",
       "    </tr>\n",
       "    <tr>\n",
       "      <th>13</th>\n",
       "      <td>1002</td>\n",
       "      <td>9</td>\n",
       "      <td>36</td>\n",
       "      <td>206</td>\n",
       "      <td>4</td>\n",
       "      <td>17</td>\n",
       "      <td>smart</td>\n",
       "      <td>50</td>\n",
       "      <td>15</td>\n",
       "      <td>500</td>\n",
       "      <td>550</td>\n",
       "      <td>200</td>\n",
       "      <td>3</td>\n",
       "      <td>3</td>\n",
       "      <td>950</td>\n",
       "    </tr>\n",
       "    <tr>\n",
       "      <th>14</th>\n",
       "      <td>1002</td>\n",
       "      <td>10</td>\n",
       "      <td>33</td>\n",
       "      <td>212</td>\n",
       "      <td>10</td>\n",
       "      <td>14</td>\n",
       "      <td>smart</td>\n",
       "      <td>50</td>\n",
       "      <td>15</td>\n",
       "      <td>500</td>\n",
       "      <td>550</td>\n",
       "      <td>200</td>\n",
       "      <td>3</td>\n",
       "      <td>3</td>\n",
       "      <td>550</td>\n",
       "    </tr>\n",
       "  </tbody>\n",
       "</table>\n",
       "</div>"
      ],
      "text/plain": [
       "    user_id  month  calls  calls_duration  messages  gb_used tariff_name  \\\n",
       "0      1000      5     22             159        22        3       ultra   \n",
       "1      1000      6     43             172        60       23       ultra   \n",
       "2      1000      7     47             340        75       14       ultra   \n",
       "3      1000      8     52             408        81       14       ultra   \n",
       "4      1000      9     58             466        57       15       ultra   \n",
       "5      1000     10     57             350        73       15       ultra   \n",
       "6      1000     11     43             338        58       15       ultra   \n",
       "7      1000     12     46             333        70       10       ultra   \n",
       "8      1001     11     59             430         0       18       smart   \n",
       "9      1001     12     63             414         0       14       smart   \n",
       "10     1002      6     15             117         4       11       smart   \n",
       "11     1002      7     26             214        11       18       smart   \n",
       "12     1002      8     42             289        13       20       smart   \n",
       "13     1002      9     36             206         4       17       smart   \n",
       "14     1002     10     33             212        10       14       smart   \n",
       "\n",
       "    messages_included  gb_per_month_included  minutes_included  \\\n",
       "0                1000                     30              3000   \n",
       "1                1000                     30              3000   \n",
       "2                1000                     30              3000   \n",
       "3                1000                     30              3000   \n",
       "4                1000                     30              3000   \n",
       "5                1000                     30              3000   \n",
       "6                1000                     30              3000   \n",
       "7                1000                     30              3000   \n",
       "8                  50                     15               500   \n",
       "9                  50                     15               500   \n",
       "10                 50                     15               500   \n",
       "11                 50                     15               500   \n",
       "12                 50                     15               500   \n",
       "13                 50                     15               500   \n",
       "14                 50                     15               500   \n",
       "\n",
       "    rub_monthly_fee  rub_per_gb  rub_per_message  rub_per_minute  \\\n",
       "0              1950         150                1               1   \n",
       "1              1950         150                1               1   \n",
       "2              1950         150                1               1   \n",
       "3              1950         150                1               1   \n",
       "4              1950         150                1               1   \n",
       "5              1950         150                1               1   \n",
       "6              1950         150                1               1   \n",
       "7              1950         150                1               1   \n",
       "8               550         200                3               3   \n",
       "9               550         200                3               3   \n",
       "10              550         200                3               3   \n",
       "11              550         200                3               3   \n",
       "12              550         200                3               3   \n",
       "13              550         200                3               3   \n",
       "14              550         200                3               3   \n",
       "\n",
       "    monthly_revenue  \n",
       "0              1950  \n",
       "1              1950  \n",
       "2              1950  \n",
       "3              1950  \n",
       "4              1950  \n",
       "5              1950  \n",
       "6              1950  \n",
       "7              1950  \n",
       "8              1150  \n",
       "9               550  \n",
       "10              550  \n",
       "11             1150  \n",
       "12             1550  \n",
       "13              950  \n",
       "14              550  "
      ]
     },
     "execution_count": 24,
     "metadata": {},
     "output_type": "execute_result"
    }
   ],
   "source": [
    "def count_monthly_revenue(row):\n",
    "    monthly_fee = row['rub_monthly_fee']\n",
    "    if (row['calls_duration']-row['minutes_included']) > 0:\n",
    "        extra_calls = (row['calls_duration']-row['minutes_included'])*row['rub_per_minute']\n",
    "    else:\n",
    "        extra_calls = 0\n",
    "    if (row['messages']-row['messages_included']) > 0:\n",
    "        extra_messages = (row['messages']-row['messages_included'])*row['rub_per_message']\n",
    "    else:\n",
    "        extra_messages = 0\n",
    "    if (row['gb_used']-row['gb_per_month_included']) > 0:\n",
    "        extra_gb = (row['gb_used']-row['gb_per_month_included'])*row['rub_per_gb']\n",
    "    else:\n",
    "        extra_gb = 0\n",
    "    return monthly_fee + extra_calls + extra_messages + extra_gb\n",
    "\n",
    "# Создадим столбец с помесячной выручкой по каждому пользвателю:\n",
    "month_inf['monthly_revenue'] = month_inf.apply(count_monthly_revenue, axis=1)\n",
    "\n",
    "month_inf.head(15)"
   ]
  },
  {
   "cell_type": "markdown",
   "id": "d5dc6d8e",
   "metadata": {},
   "source": [
    "Отлично, появился столбец, показывающий месячную выручку компании с каждого пользователя. Теперь удалим вспомогательные столбцы, чтобы не загромождать таблицу:"
   ]
  },
  {
   "cell_type": "code",
   "execution_count": 25,
   "id": "867b28fa",
   "metadata": {
    "scrolled": false
   },
   "outputs": [
    {
     "data": {
      "text/html": [
       "<div>\n",
       "<style scoped>\n",
       "    .dataframe tbody tr th:only-of-type {\n",
       "        vertical-align: middle;\n",
       "    }\n",
       "\n",
       "    .dataframe tbody tr th {\n",
       "        vertical-align: top;\n",
       "    }\n",
       "\n",
       "    .dataframe thead th {\n",
       "        text-align: right;\n",
       "    }\n",
       "</style>\n",
       "<table border=\"1\" class=\"dataframe\">\n",
       "  <thead>\n",
       "    <tr style=\"text-align: right;\">\n",
       "      <th></th>\n",
       "      <th>user_id</th>\n",
       "      <th>month</th>\n",
       "      <th>calls</th>\n",
       "      <th>calls_duration</th>\n",
       "      <th>messages</th>\n",
       "      <th>gb_used</th>\n",
       "      <th>tariff_name</th>\n",
       "      <th>monthly_revenue</th>\n",
       "    </tr>\n",
       "  </thead>\n",
       "  <tbody>\n",
       "    <tr>\n",
       "      <th>0</th>\n",
       "      <td>1000</td>\n",
       "      <td>5</td>\n",
       "      <td>22</td>\n",
       "      <td>159</td>\n",
       "      <td>22</td>\n",
       "      <td>3</td>\n",
       "      <td>ultra</td>\n",
       "      <td>1950</td>\n",
       "    </tr>\n",
       "    <tr>\n",
       "      <th>1</th>\n",
       "      <td>1000</td>\n",
       "      <td>6</td>\n",
       "      <td>43</td>\n",
       "      <td>172</td>\n",
       "      <td>60</td>\n",
       "      <td>23</td>\n",
       "      <td>ultra</td>\n",
       "      <td>1950</td>\n",
       "    </tr>\n",
       "    <tr>\n",
       "      <th>2</th>\n",
       "      <td>1000</td>\n",
       "      <td>7</td>\n",
       "      <td>47</td>\n",
       "      <td>340</td>\n",
       "      <td>75</td>\n",
       "      <td>14</td>\n",
       "      <td>ultra</td>\n",
       "      <td>1950</td>\n",
       "    </tr>\n",
       "    <tr>\n",
       "      <th>3</th>\n",
       "      <td>1000</td>\n",
       "      <td>8</td>\n",
       "      <td>52</td>\n",
       "      <td>408</td>\n",
       "      <td>81</td>\n",
       "      <td>14</td>\n",
       "      <td>ultra</td>\n",
       "      <td>1950</td>\n",
       "    </tr>\n",
       "    <tr>\n",
       "      <th>4</th>\n",
       "      <td>1000</td>\n",
       "      <td>9</td>\n",
       "      <td>58</td>\n",
       "      <td>466</td>\n",
       "      <td>57</td>\n",
       "      <td>15</td>\n",
       "      <td>ultra</td>\n",
       "      <td>1950</td>\n",
       "    </tr>\n",
       "    <tr>\n",
       "      <th>5</th>\n",
       "      <td>1000</td>\n",
       "      <td>10</td>\n",
       "      <td>57</td>\n",
       "      <td>350</td>\n",
       "      <td>73</td>\n",
       "      <td>15</td>\n",
       "      <td>ultra</td>\n",
       "      <td>1950</td>\n",
       "    </tr>\n",
       "    <tr>\n",
       "      <th>6</th>\n",
       "      <td>1000</td>\n",
       "      <td>11</td>\n",
       "      <td>43</td>\n",
       "      <td>338</td>\n",
       "      <td>58</td>\n",
       "      <td>15</td>\n",
       "      <td>ultra</td>\n",
       "      <td>1950</td>\n",
       "    </tr>\n",
       "    <tr>\n",
       "      <th>7</th>\n",
       "      <td>1000</td>\n",
       "      <td>12</td>\n",
       "      <td>46</td>\n",
       "      <td>333</td>\n",
       "      <td>70</td>\n",
       "      <td>10</td>\n",
       "      <td>ultra</td>\n",
       "      <td>1950</td>\n",
       "    </tr>\n",
       "    <tr>\n",
       "      <th>8</th>\n",
       "      <td>1001</td>\n",
       "      <td>11</td>\n",
       "      <td>59</td>\n",
       "      <td>430</td>\n",
       "      <td>0</td>\n",
       "      <td>18</td>\n",
       "      <td>smart</td>\n",
       "      <td>1150</td>\n",
       "    </tr>\n",
       "    <tr>\n",
       "      <th>9</th>\n",
       "      <td>1001</td>\n",
       "      <td>12</td>\n",
       "      <td>63</td>\n",
       "      <td>414</td>\n",
       "      <td>0</td>\n",
       "      <td>14</td>\n",
       "      <td>smart</td>\n",
       "      <td>550</td>\n",
       "    </tr>\n",
       "    <tr>\n",
       "      <th>10</th>\n",
       "      <td>1002</td>\n",
       "      <td>6</td>\n",
       "      <td>15</td>\n",
       "      <td>117</td>\n",
       "      <td>4</td>\n",
       "      <td>11</td>\n",
       "      <td>smart</td>\n",
       "      <td>550</td>\n",
       "    </tr>\n",
       "    <tr>\n",
       "      <th>11</th>\n",
       "      <td>1002</td>\n",
       "      <td>7</td>\n",
       "      <td>26</td>\n",
       "      <td>214</td>\n",
       "      <td>11</td>\n",
       "      <td>18</td>\n",
       "      <td>smart</td>\n",
       "      <td>1150</td>\n",
       "    </tr>\n",
       "    <tr>\n",
       "      <th>12</th>\n",
       "      <td>1002</td>\n",
       "      <td>8</td>\n",
       "      <td>42</td>\n",
       "      <td>289</td>\n",
       "      <td>13</td>\n",
       "      <td>20</td>\n",
       "      <td>smart</td>\n",
       "      <td>1550</td>\n",
       "    </tr>\n",
       "    <tr>\n",
       "      <th>13</th>\n",
       "      <td>1002</td>\n",
       "      <td>9</td>\n",
       "      <td>36</td>\n",
       "      <td>206</td>\n",
       "      <td>4</td>\n",
       "      <td>17</td>\n",
       "      <td>smart</td>\n",
       "      <td>950</td>\n",
       "    </tr>\n",
       "    <tr>\n",
       "      <th>14</th>\n",
       "      <td>1002</td>\n",
       "      <td>10</td>\n",
       "      <td>33</td>\n",
       "      <td>212</td>\n",
       "      <td>10</td>\n",
       "      <td>14</td>\n",
       "      <td>smart</td>\n",
       "      <td>550</td>\n",
       "    </tr>\n",
       "  </tbody>\n",
       "</table>\n",
       "</div>"
      ],
      "text/plain": [
       "    user_id  month  calls  calls_duration  messages  gb_used tariff_name  \\\n",
       "0      1000      5     22             159        22        3       ultra   \n",
       "1      1000      6     43             172        60       23       ultra   \n",
       "2      1000      7     47             340        75       14       ultra   \n",
       "3      1000      8     52             408        81       14       ultra   \n",
       "4      1000      9     58             466        57       15       ultra   \n",
       "5      1000     10     57             350        73       15       ultra   \n",
       "6      1000     11     43             338        58       15       ultra   \n",
       "7      1000     12     46             333        70       10       ultra   \n",
       "8      1001     11     59             430         0       18       smart   \n",
       "9      1001     12     63             414         0       14       smart   \n",
       "10     1002      6     15             117         4       11       smart   \n",
       "11     1002      7     26             214        11       18       smart   \n",
       "12     1002      8     42             289        13       20       smart   \n",
       "13     1002      9     36             206         4       17       smart   \n",
       "14     1002     10     33             212        10       14       smart   \n",
       "\n",
       "    monthly_revenue  \n",
       "0              1950  \n",
       "1              1950  \n",
       "2              1950  \n",
       "3              1950  \n",
       "4              1950  \n",
       "5              1950  \n",
       "6              1950  \n",
       "7              1950  \n",
       "8              1150  \n",
       "9               550  \n",
       "10              550  \n",
       "11             1150  \n",
       "12             1550  \n",
       "13              950  \n",
       "14              550  "
      ]
     },
     "execution_count": 25,
     "metadata": {},
     "output_type": "execute_result"
    }
   ],
   "source": [
    "month_inf.drop(\n",
    "    ['messages_included', 'gb_per_month_included', 'minutes_included', 'rub_monthly_fee', 'rub_per_gb', 'rub_per_message', 'rub_per_minute'],\n",
    "    axis=1, inplace=True\n",
    ")\n",
    "\n",
    "month_inf.head(15)"
   ]
  },
  {
   "cell_type": "markdown",
   "id": "3bc3c617",
   "metadata": {},
   "source": [
    "Таблица стала понятнее.\n",
    "\n",
    "Все необходимые показатели найдены, а значит, можно приступать к анализу данных."
   ]
  },
  {
   "cell_type": "markdown",
   "id": "9ffce7a3",
   "metadata": {},
   "source": [
    "## Анализ данных"
   ]
  },
  {
   "cell_type": "markdown",
   "id": "97882993",
   "metadata": {},
   "source": [
    "Перед началом анализа проверим, что все пользователи вошли в таблицу `month_inf`:"
   ]
  },
  {
   "cell_type": "code",
   "execution_count": 26,
   "id": "efe56179",
   "metadata": {},
   "outputs": [
    {
     "data": {
      "text/plain": [
       "498"
      ]
     },
     "execution_count": 26,
     "metadata": {},
     "output_type": "execute_result"
    }
   ],
   "source": [
    "len(month_inf['user_id'].unique())"
   ]
  },
  {
   "cell_type": "markdown",
   "id": "0f80eed5",
   "metadata": {},
   "source": [
    "Так, в таблице `month_inf` пользователей было на 2 меньше, чем в изначальной выборке. Возможно, это связано с тем, что два клиента выбрали тарифный план, но не осуществляли никаких действий по нему в 2018 г. Проверим эту гипотезу:"
   ]
  },
  {
   "cell_type": "code",
   "execution_count": 27,
   "id": "95422e4c",
   "metadata": {},
   "outputs": [
    {
     "data": {
      "text/plain": [
       "[1128, 1371]"
      ]
     },
     "execution_count": 27,
     "metadata": {},
     "output_type": "execute_result"
    }
   ],
   "source": [
    "invisible_clients = []\n",
    "\n",
    "for index in range(len(users)):\n",
    "    if users.loc[index, 'user_id'] not in month_inf['user_id'].unique():\n",
    "        invisible_clients.append(users.loc[index, 'user_id'])\n",
    "\n",
    "invisible_clients"
   ]
  },
  {
   "cell_type": "markdown",
   "id": "e2413d2f",
   "metadata": {},
   "source": [
    "Мы нашли двух пользователей, о которых нет информации в `month_inf`. Посмотрим, делали ли они звонки, писали ли смс и пользовались ли интернетом хотя бы в одном месяце в 2018 г.:"
   ]
  },
  {
   "cell_type": "code",
   "execution_count": 28,
   "id": "ba1e7818",
   "metadata": {},
   "outputs": [
    {
     "data": {
      "text/plain": [
       "user_id                      1128\n",
       "churn_date    2018-12-23 00:00:00\n",
       "reg_date      2018-12-15 00:00:00\n",
       "Name: 128, dtype: object"
      ]
     },
     "metadata": {},
     "output_type": "display_data"
    },
    {
     "data": {
      "text/plain": [
       "user_id                      1371\n",
       "churn_date    2018-12-30 00:00:00\n",
       "reg_date      2018-12-25 00:00:00\n",
       "Name: 371, dtype: object"
      ]
     },
     "metadata": {},
     "output_type": "display_data"
    }
   ],
   "source": [
    "for value in data[:-1]:\n",
    "    for index in range(len(value)):\n",
    "        if value.loc[index, 'user_id'] in invisible_clients:\n",
    "            display(value.loc[index, ['user_id', 'churn_date', 'reg_date']])\n",
    "            display()"
   ]
  },
  {
   "cell_type": "markdown",
   "id": "f49e1b5d",
   "metadata": {},
   "source": [
    "Так, данные об этих клиентах встречаются только в самой таблице `users`, что означает, что никакими услугами связи они не пользовались. Более того, как видно из полученных данных, оба пользователя подключили тариф в декабре 2018 г. и прекратили его использовать через 5-7 дней.\n",
    "\n",
    "Таким образом, таблица `month_inf` составлены корректно.\n",
    "\n",
    "Построим гистраграммы плотностей для человеко-месяцев по каждому тарифу и рассчитаем показатели характеристики положения:"
   ]
  },
  {
   "cell_type": "code",
   "execution_count": 29,
   "id": "04259d9a",
   "metadata": {
    "scrolled": false
   },
   "outputs": [
    {
     "data": {
      "text/plain": [
       "'CALLS'"
      ]
     },
     "metadata": {},
     "output_type": "display_data"
    },
    {
     "data": {
      "image/png": "[encoded data removed]",
      "text/plain": [
       "<Figure size 432x288 with 1 Axes>"
      ]
     },
     "metadata": {
      "needs_background": "light"
     },
     "output_type": "display_data"
    },
    {
     "data": {
      "text/plain": [
       "'Среднее значение:'"
      ]
     },
     "metadata": {},
     "output_type": "display_data"
    },
    {
     "data": {
      "text/html": [
       "<div>\n",
       "<style scoped>\n",
       "    .dataframe tbody tr th:only-of-type {\n",
       "        vertical-align: middle;\n",
       "    }\n",
       "\n",
       "    .dataframe tbody tr th {\n",
       "        vertical-align: top;\n",
       "    }\n",
       "\n",
       "    .dataframe thead th {\n",
       "        text-align: right;\n",
       "    }\n",
       "</style>\n",
       "<table border=\"1\" class=\"dataframe\">\n",
       "  <thead>\n",
       "    <tr style=\"text-align: right;\">\n",
       "      <th></th>\n",
       "      <th>calls</th>\n",
       "    </tr>\n",
       "    <tr>\n",
       "      <th>tariff_name</th>\n",
       "      <th></th>\n",
       "    </tr>\n",
       "  </thead>\n",
       "  <tbody>\n",
       "    <tr>\n",
       "      <th>smart</th>\n",
       "      <td>58.46</td>\n",
       "    </tr>\n",
       "    <tr>\n",
       "      <th>ultra</th>\n",
       "      <td>73.39</td>\n",
       "    </tr>\n",
       "  </tbody>\n",
       "</table>\n",
       "</div>"
      ],
      "text/plain": [
       "             calls\n",
       "tariff_name       \n",
       "smart        58.46\n",
       "ultra        73.39"
      ]
     },
     "metadata": {},
     "output_type": "display_data"
    },
    {
     "data": {
      "text/plain": [
       "'Дисперсия:'"
      ]
     },
     "metadata": {},
     "output_type": "display_data"
    },
    {
     "data": {
      "text/html": [
       "<div>\n",
       "<style scoped>\n",
       "    .dataframe tbody tr th:only-of-type {\n",
       "        vertical-align: middle;\n",
       "    }\n",
       "\n",
       "    .dataframe tbody tr th {\n",
       "        vertical-align: top;\n",
       "    }\n",
       "\n",
       "    .dataframe thead th {\n",
       "        text-align: right;\n",
       "    }\n",
       "</style>\n",
       "<table border=\"1\" class=\"dataframe\">\n",
       "  <thead>\n",
       "    <tr style=\"text-align: right;\">\n",
       "      <th></th>\n",
       "      <th>calls</th>\n",
       "    </tr>\n",
       "    <tr>\n",
       "      <th>tariff_name</th>\n",
       "      <th></th>\n",
       "    </tr>\n",
       "  </thead>\n",
       "  <tbody>\n",
       "    <tr>\n",
       "      <th>smart</th>\n",
       "      <td>672.88</td>\n",
       "    </tr>\n",
       "    <tr>\n",
       "      <th>ultra</th>\n",
       "      <td>1928.69</td>\n",
       "    </tr>\n",
       "  </tbody>\n",
       "</table>\n",
       "</div>"
      ],
      "text/plain": [
       "               calls\n",
       "tariff_name         \n",
       "smart         672.88\n",
       "ultra        1928.69"
      ]
     },
     "metadata": {},
     "output_type": "display_data"
    },
    {
     "data": {
      "text/plain": [
       "'Стандартное отклонение:'"
      ]
     },
     "metadata": {},
     "output_type": "display_data"
    },
    {
     "data": {
      "text/html": [
       "<div>\n",
       "<style scoped>\n",
       "    .dataframe tbody tr th:only-of-type {\n",
       "        vertical-align: middle;\n",
       "    }\n",
       "\n",
       "    .dataframe tbody tr th {\n",
       "        vertical-align: top;\n",
       "    }\n",
       "\n",
       "    .dataframe thead th {\n",
       "        text-align: right;\n",
       "    }\n",
       "</style>\n",
       "<table border=\"1\" class=\"dataframe\">\n",
       "  <thead>\n",
       "    <tr style=\"text-align: right;\">\n",
       "      <th></th>\n",
       "      <th>calls</th>\n",
       "    </tr>\n",
       "    <tr>\n",
       "      <th>tariff_name</th>\n",
       "      <th></th>\n",
       "    </tr>\n",
       "  </thead>\n",
       "  <tbody>\n",
       "    <tr>\n",
       "      <th>smart</th>\n",
       "      <td>25.94</td>\n",
       "    </tr>\n",
       "    <tr>\n",
       "      <th>ultra</th>\n",
       "      <td>43.92</td>\n",
       "    </tr>\n",
       "  </tbody>\n",
       "</table>\n",
       "</div>"
      ],
      "text/plain": [
       "             calls\n",
       "tariff_name       \n",
       "smart        25.94\n",
       "ultra        43.92"
      ]
     },
     "metadata": {},
     "output_type": "display_data"
    },
    {
     "data": {
      "text/plain": [
       "'CALLS_DURATION'"
      ]
     },
     "metadata": {},
     "output_type": "display_data"
    },
    {
     "data": {
      "image/png": "[encoded data removed]",
      "text/plain": [
       "<Figure size 432x288 with 1 Axes>"
      ]
     },
     "metadata": {
      "needs_background": "light"
     },
     "output_type": "display_data"
    },
    {
     "data": {
      "text/plain": [
       "'Среднее значение:'"
      ]
     },
     "metadata": {},
     "output_type": "display_data"
    },
    {
     "data": {
      "text/html": [
       "<div>\n",
       "<style scoped>\n",
       "    .dataframe tbody tr th:only-of-type {\n",
       "        vertical-align: middle;\n",
       "    }\n",
       "\n",
       "    .dataframe tbody tr th {\n",
       "        vertical-align: top;\n",
       "    }\n",
       "\n",
       "    .dataframe thead th {\n",
       "        text-align: right;\n",
       "    }\n",
       "</style>\n",
       "<table border=\"1\" class=\"dataframe\">\n",
       "  <thead>\n",
       "    <tr style=\"text-align: right;\">\n",
       "      <th></th>\n",
       "      <th>calls_duration</th>\n",
       "    </tr>\n",
       "    <tr>\n",
       "      <th>tariff_name</th>\n",
       "      <th></th>\n",
       "    </tr>\n",
       "  </thead>\n",
       "  <tbody>\n",
       "    <tr>\n",
       "      <th>smart</th>\n",
       "      <td>417.93</td>\n",
       "    </tr>\n",
       "    <tr>\n",
       "      <th>ultra</th>\n",
       "      <td>526.62</td>\n",
       "    </tr>\n",
       "  </tbody>\n",
       "</table>\n",
       "</div>"
      ],
      "text/plain": [
       "             calls_duration\n",
       "tariff_name                \n",
       "smart                417.93\n",
       "ultra                526.62"
      ]
     },
     "metadata": {},
     "output_type": "display_data"
    },
    {
     "data": {
      "text/plain": [
       "'Дисперсия:'"
      ]
     },
     "metadata": {},
     "output_type": "display_data"
    },
    {
     "data": {
      "text/html": [
       "<div>\n",
       "<style scoped>\n",
       "    .dataframe tbody tr th:only-of-type {\n",
       "        vertical-align: middle;\n",
       "    }\n",
       "\n",
       "    .dataframe tbody tr th {\n",
       "        vertical-align: top;\n",
       "    }\n",
       "\n",
       "    .dataframe thead th {\n",
       "        text-align: right;\n",
       "    }\n",
       "</style>\n",
       "<table border=\"1\" class=\"dataframe\">\n",
       "  <thead>\n",
       "    <tr style=\"text-align: right;\">\n",
       "      <th></th>\n",
       "      <th>calls_duration</th>\n",
       "    </tr>\n",
       "    <tr>\n",
       "      <th>tariff_name</th>\n",
       "      <th></th>\n",
       "    </tr>\n",
       "  </thead>\n",
       "  <tbody>\n",
       "    <tr>\n",
       "      <th>smart</th>\n",
       "      <td>36219.32</td>\n",
       "    </tr>\n",
       "    <tr>\n",
       "      <th>ultra</th>\n",
       "      <td>100873.63</td>\n",
       "    </tr>\n",
       "  </tbody>\n",
       "</table>\n",
       "</div>"
      ],
      "text/plain": [
       "             calls_duration\n",
       "tariff_name                \n",
       "smart              36219.32\n",
       "ultra             100873.63"
      ]
     },
     "metadata": {},
     "output_type": "display_data"
    },
    {
     "data": {
      "text/plain": [
       "'Стандартное отклонение:'"
      ]
     },
     "metadata": {},
     "output_type": "display_data"
    },
    {
     "data": {
      "text/html": [
       "<div>\n",
       "<style scoped>\n",
       "    .dataframe tbody tr th:only-of-type {\n",
       "        vertical-align: middle;\n",
       "    }\n",
       "\n",
       "    .dataframe tbody tr th {\n",
       "        vertical-align: top;\n",
       "    }\n",
       "\n",
       "    .dataframe thead th {\n",
       "        text-align: right;\n",
       "    }\n",
       "</style>\n",
       "<table border=\"1\" class=\"dataframe\">\n",
       "  <thead>\n",
       "    <tr style=\"text-align: right;\">\n",
       "      <th></th>\n",
       "      <th>calls_duration</th>\n",
       "    </tr>\n",
       "    <tr>\n",
       "      <th>tariff_name</th>\n",
       "      <th></th>\n",
       "    </tr>\n",
       "  </thead>\n",
       "  <tbody>\n",
       "    <tr>\n",
       "      <th>smart</th>\n",
       "      <td>190.31</td>\n",
       "    </tr>\n",
       "    <tr>\n",
       "      <th>ultra</th>\n",
       "      <td>317.61</td>\n",
       "    </tr>\n",
       "  </tbody>\n",
       "</table>\n",
       "</div>"
      ],
      "text/plain": [
       "             calls_duration\n",
       "tariff_name                \n",
       "smart                190.31\n",
       "ultra                317.61"
      ]
     },
     "metadata": {},
     "output_type": "display_data"
    },
    {
     "data": {
      "text/plain": [
       "'MESSAGES'"
      ]
     },
     "metadata": {},
     "output_type": "display_data"
    },
    {
     "data": {
      "image/png": "[encoded data removed]",
      "text/plain": [
       "<Figure size 432x288 with 1 Axes>"
      ]
     },
     "metadata": {
      "needs_background": "light"
     },
     "output_type": "display_data"
    },
    {
     "data": {
      "text/plain": [
       "'Среднее значение:'"
      ]
     },
     "metadata": {},
     "output_type": "display_data"
    },
    {
     "data": {
      "text/html": [
       "<div>\n",
       "<style scoped>\n",
       "    .dataframe tbody tr th:only-of-type {\n",
       "        vertical-align: middle;\n",
       "    }\n",
       "\n",
       "    .dataframe tbody tr th {\n",
       "        vertical-align: top;\n",
       "    }\n",
       "\n",
       "    .dataframe thead th {\n",
       "        text-align: right;\n",
       "    }\n",
       "</style>\n",
       "<table border=\"1\" class=\"dataframe\">\n",
       "  <thead>\n",
       "    <tr style=\"text-align: right;\">\n",
       "      <th></th>\n",
       "      <th>messages</th>\n",
       "    </tr>\n",
       "    <tr>\n",
       "      <th>tariff_name</th>\n",
       "      <th></th>\n",
       "    </tr>\n",
       "  </thead>\n",
       "  <tbody>\n",
       "    <tr>\n",
       "      <th>smart</th>\n",
       "      <td>33.38</td>\n",
       "    </tr>\n",
       "    <tr>\n",
       "      <th>ultra</th>\n",
       "      <td>49.36</td>\n",
       "    </tr>\n",
       "  </tbody>\n",
       "</table>\n",
       "</div>"
      ],
      "text/plain": [
       "             messages\n",
       "tariff_name          \n",
       "smart           33.38\n",
       "ultra           49.36"
      ]
     },
     "metadata": {},
     "output_type": "display_data"
    },
    {
     "data": {
      "text/plain": [
       "'Дисперсия:'"
      ]
     },
     "metadata": {},
     "output_type": "display_data"
    },
    {
     "data": {
      "text/html": [
       "<div>\n",
       "<style scoped>\n",
       "    .dataframe tbody tr th:only-of-type {\n",
       "        vertical-align: middle;\n",
       "    }\n",
       "\n",
       "    .dataframe tbody tr th {\n",
       "        vertical-align: top;\n",
       "    }\n",
       "\n",
       "    .dataframe thead th {\n",
       "        text-align: right;\n",
       "    }\n",
       "</style>\n",
       "<table border=\"1\" class=\"dataframe\">\n",
       "  <thead>\n",
       "    <tr style=\"text-align: right;\">\n",
       "      <th></th>\n",
       "      <th>messages</th>\n",
       "    </tr>\n",
       "    <tr>\n",
       "      <th>tariff_name</th>\n",
       "      <th></th>\n",
       "    </tr>\n",
       "  </thead>\n",
       "  <tbody>\n",
       "    <tr>\n",
       "      <th>smart</th>\n",
       "      <td>796.81</td>\n",
       "    </tr>\n",
       "    <tr>\n",
       "      <th>ultra</th>\n",
       "      <td>2285.27</td>\n",
       "    </tr>\n",
       "  </tbody>\n",
       "</table>\n",
       "</div>"
      ],
      "text/plain": [
       "             messages\n",
       "tariff_name          \n",
       "smart          796.81\n",
       "ultra         2285.27"
      ]
     },
     "metadata": {},
     "output_type": "display_data"
    },
    {
     "data": {
      "text/plain": [
       "'Стандартное отклонение:'"
      ]
     },
     "metadata": {},
     "output_type": "display_data"
    },
    {
     "data": {
      "text/html": [
       "<div>\n",
       "<style scoped>\n",
       "    .dataframe tbody tr th:only-of-type {\n",
       "        vertical-align: middle;\n",
       "    }\n",
       "\n",
       "    .dataframe tbody tr th {\n",
       "        vertical-align: top;\n",
       "    }\n",
       "\n",
       "    .dataframe thead th {\n",
       "        text-align: right;\n",
       "    }\n",
       "</style>\n",
       "<table border=\"1\" class=\"dataframe\">\n",
       "  <thead>\n",
       "    <tr style=\"text-align: right;\">\n",
       "      <th></th>\n",
       "      <th>messages</th>\n",
       "    </tr>\n",
       "    <tr>\n",
       "      <th>tariff_name</th>\n",
       "      <th></th>\n",
       "    </tr>\n",
       "  </thead>\n",
       "  <tbody>\n",
       "    <tr>\n",
       "      <th>smart</th>\n",
       "      <td>28.23</td>\n",
       "    </tr>\n",
       "    <tr>\n",
       "      <th>ultra</th>\n",
       "      <td>47.80</td>\n",
       "    </tr>\n",
       "  </tbody>\n",
       "</table>\n",
       "</div>"
      ],
      "text/plain": [
       "             messages\n",
       "tariff_name          \n",
       "smart           28.23\n",
       "ultra           47.80"
      ]
     },
     "metadata": {},
     "output_type": "display_data"
    },
    {
     "data": {
      "text/plain": [
       "'GB_USED'"
      ]
     },
     "metadata": {},
     "output_type": "display_data"
    },
    {
     "data": {
      "image/png": "[encoded data removed]",
      "text/plain": [
       "<Figure size 432x288 with 1 Axes>"
      ]
     },
     "metadata": {
      "needs_background": "light"
     },
     "output_type": "display_data"
    },
    {
     "data": {
      "text/plain": [
       "'Среднее значение:'"
      ]
     },
     "metadata": {},
     "output_type": "display_data"
    },
    {
     "data": {
      "text/html": [
       "<div>\n",
       "<style scoped>\n",
       "    .dataframe tbody tr th:only-of-type {\n",
       "        vertical-align: middle;\n",
       "    }\n",
       "\n",
       "    .dataframe tbody tr th {\n",
       "        vertical-align: top;\n",
       "    }\n",
       "\n",
       "    .dataframe thead th {\n",
       "        text-align: right;\n",
       "    }\n",
       "</style>\n",
       "<table border=\"1\" class=\"dataframe\">\n",
       "  <thead>\n",
       "    <tr style=\"text-align: right;\">\n",
       "      <th></th>\n",
       "      <th>gb_used</th>\n",
       "    </tr>\n",
       "    <tr>\n",
       "      <th>tariff_name</th>\n",
       "      <th></th>\n",
       "    </tr>\n",
       "  </thead>\n",
       "  <tbody>\n",
       "    <tr>\n",
       "      <th>smart</th>\n",
       "      <td>16.33</td>\n",
       "    </tr>\n",
       "    <tr>\n",
       "      <th>ultra</th>\n",
       "      <td>19.49</td>\n",
       "    </tr>\n",
       "  </tbody>\n",
       "</table>\n",
       "</div>"
      ],
      "text/plain": [
       "             gb_used\n",
       "tariff_name         \n",
       "smart          16.33\n",
       "ultra          19.49"
      ]
     },
     "metadata": {},
     "output_type": "display_data"
    },
    {
     "data": {
      "text/plain": [
       "'Дисперсия:'"
      ]
     },
     "metadata": {},
     "output_type": "display_data"
    },
    {
     "data": {
      "text/html": [
       "<div>\n",
       "<style scoped>\n",
       "    .dataframe tbody tr th:only-of-type {\n",
       "        vertical-align: middle;\n",
       "    }\n",
       "\n",
       "    .dataframe tbody tr th {\n",
       "        vertical-align: top;\n",
       "    }\n",
       "\n",
       "    .dataframe thead th {\n",
       "        text-align: right;\n",
       "    }\n",
       "</style>\n",
       "<table border=\"1\" class=\"dataframe\">\n",
       "  <thead>\n",
       "    <tr style=\"text-align: right;\">\n",
       "      <th></th>\n",
       "      <th>gb_used</th>\n",
       "    </tr>\n",
       "    <tr>\n",
       "      <th>tariff_name</th>\n",
       "      <th></th>\n",
       "    </tr>\n",
       "  </thead>\n",
       "  <tbody>\n",
       "    <tr>\n",
       "      <th>smart</th>\n",
       "      <td>33.03</td>\n",
       "    </tr>\n",
       "    <tr>\n",
       "      <th>ultra</th>\n",
       "      <td>97.09</td>\n",
       "    </tr>\n",
       "  </tbody>\n",
       "</table>\n",
       "</div>"
      ],
      "text/plain": [
       "             gb_used\n",
       "tariff_name         \n",
       "smart          33.03\n",
       "ultra          97.09"
      ]
     },
     "metadata": {},
     "output_type": "display_data"
    },
    {
     "data": {
      "text/plain": [
       "'Стандартное отклонение:'"
      ]
     },
     "metadata": {},
     "output_type": "display_data"
    },
    {
     "data": {
      "text/html": [
       "<div>\n",
       "<style scoped>\n",
       "    .dataframe tbody tr th:only-of-type {\n",
       "        vertical-align: middle;\n",
       "    }\n",
       "\n",
       "    .dataframe tbody tr th {\n",
       "        vertical-align: top;\n",
       "    }\n",
       "\n",
       "    .dataframe thead th {\n",
       "        text-align: right;\n",
       "    }\n",
       "</style>\n",
       "<table border=\"1\" class=\"dataframe\">\n",
       "  <thead>\n",
       "    <tr style=\"text-align: right;\">\n",
       "      <th></th>\n",
       "      <th>gb_used</th>\n",
       "    </tr>\n",
       "    <tr>\n",
       "      <th>tariff_name</th>\n",
       "      <th></th>\n",
       "    </tr>\n",
       "  </thead>\n",
       "  <tbody>\n",
       "    <tr>\n",
       "      <th>smart</th>\n",
       "      <td>5.75</td>\n",
       "    </tr>\n",
       "    <tr>\n",
       "      <th>ultra</th>\n",
       "      <td>9.85</td>\n",
       "    </tr>\n",
       "  </tbody>\n",
       "</table>\n",
       "</div>"
      ],
      "text/plain": [
       "             gb_used\n",
       "tariff_name         \n",
       "smart           5.75\n",
       "ultra           9.85"
      ]
     },
     "metadata": {},
     "output_type": "display_data"
    }
   ],
   "source": [
    "# Создадим список столбцов, по которым будем стоить гистограммы плотностей:\n",
    "columns_for_hists = month_inf.columns[2:-2]\n",
    "\n",
    "for column in columns_for_hists:\n",
    "    display(column.upper())\n",
    "    month_inf.loc[month_inf['tariff_name'] == 'ultra', column].hist(bins=50, alpha=0.6, color='purple', label='ultra', density=True)\n",
    "    month_inf.loc[month_inf['tariff_name'] == 'smart', column].hist(bins=50, alpha=0.6, color='cyan', label='smart', density=True)\n",
    "    plt.legend()\n",
    "    plt.show()\n",
    "    display('Среднее значение:')\n",
    "    display(round(month_inf.pivot_table(index='tariff_name', values=column), 2))\n",
    "    display('Дисперсия:')\n",
    "    display(round(month_inf.pivot_table(index='tariff_name', values=column, aggfunc = lambda x : np.var(x, ddof=1)), 2))\n",
    "    display('Стандартное отклонение:')\n",
    "    display(round(month_inf.pivot_table(index='tariff_name', values=column, aggfunc = lambda x : np.std(x, ddof=1)), 2))"
   ]
  },
  {
   "cell_type": "markdown",
   "id": "7255ba34",
   "metadata": {},
   "source": [
    "Проанализируем и сравним поведение пользователей разных тарифных планов по следующим критериям:\n",
    "* помесячная количество звонков,\n",
    "* помесячное количество минут разговора,\n",
    "* количество отправленных за месяц сообщений,\n",
    "* помесячный Интернет-трафик.\n",
    "\n",
    "1. *Помесячная количество звонков:* как видно из первой пары гистограмм, в среднем пользователи тарифного плана \"Ультра\" делают больше звонков за месяц, чем пользователи тарифного плана \"Смарт\" (74 против 59). Однако дисперсия и стандартное отклонение выборок по тарифным планам указывают на то, что разброс количества звонков у пользователей тарифа \"Ультра\" существенно больше, чем у пользователей тарифа \"Смарт\" (стандартное отклонение больше в 1.7 раз). Кроме того, стоит отметить, что разброс данных достаточно существенный в обоих случаях.\n",
    "2. *Помесячное количество минут разговора:* оценка данной метрики показала те же результаты, что и оценка количества звонков: в среднем пользователи тарифного плана \"Ультра\" говорят по телефону в месяц дольше, чем пользователи тарифа \"Смарт\" (в среднем 527 и 418 минут соответственно, что в обоих случаях находится в пределах лимита по абонентской плате). Тем не менее разброс данных по выборке из пользователей тарифа \"Ультра\" гораздо больше: так, в данной выборке существует пик около нуля (т. е. некоторые пользователи тарифа \"Ультра\" почти не говорят по телефону), при этом несколько пользователей тарифа говорят по телефону в среднем 20 часов в месяц. Абсолютное большиство значений выборки пользователей тарифа \"Смарт\" варьируется примерно от 120 до 780 минут (2-13 часов).\n",
    "3. *Количество отправленных за месяц сообщений:* в среднем пользователи тарифа \"Ультра\" отправляют в месяц существенно больше сообщений, чем пользователи тарифа \"Смарт\" (50 против 34, что в обоих случаях в пределах лимита по абонентской плате). Однако конфигурации гистограмм частот по выборкам для каждого тарифа в данном случае похожи (это распредление Пуассона): из них видно, что существенная часть пользователей обоих тарифов почти не отправляет сообщения, в то время как отправляют разное количество сообщений в месяц более-менее равные группы людей. Значительное различие в средних по выборкам связано с более существенным разбросом данных в выборке пользователей тарифа \"Ультра\" (некоторые пользователи данного тарифного плана отправляют в месяц более 200 сообщений, в то время как среди пользователей тарифа \"Смарт\" максимальное значение ниже 150 сообщений).\n",
    "4. *Помесячный Интернет-трафик:* разница в средних значения помесячного трафика, используемого пользователями разных тарифных планов, уже менее существенная и составляет 3 гигабайта. При этом среднее значение по выборке пользователей тарифа \"Ультра\" выше среднего значения по выборке пользователей тарифа \"Смарт\" (20 против 17, что только в случае пользователей тарифа \"Смарт\" является превышением лимита по абонентской плате). Тем не менее разброс данных по выборке пользователей тарифа \"Ультра\" опять же гораздо более значительный (стандратное отклонение больше в 1.7 раз)."
   ]
  },
  {
   "cell_type": "markdown",
   "id": "95532bbe",
   "metadata": {},
   "source": [
    "Посмотрим распределение пользователей из предоставленной выборки по тарифным планам (за вычетом двух клиентов, которые не пользовались услугами):"
   ]
  },
  {
   "cell_type": "code",
   "execution_count": 30,
   "id": "dbe5d217",
   "metadata": {},
   "outputs": [
    {
     "data": {
      "text/plain": [
       "(0.30647168637212197, 0.693528313627878)"
      ]
     },
     "execution_count": 30,
     "metadata": {},
     "output_type": "execute_result"
    }
   ],
   "source": [
    "len(month_inf[month_inf['tariff_name'] == 'ultra'])/len(month_inf), len(month_inf[month_inf['tariff_name'] == 'smart'])/len(month_inf)"
   ]
  },
  {
   "cell_type": "markdown",
   "id": "b3b843ca",
   "metadata": {},
   "source": [
    "Так, только 30% операций проходит в рамках тарифного плана \"Ультра\", основная клиентская база \"Мегалайна\" предпочитает тариф \"Смарт\"."
   ]
  },
  {
   "cell_type": "markdown",
   "id": "1e947a89",
   "metadata": {},
   "source": [
    "Учитывая всё вышеизложенное, можно сделать следующие основные выводы о поведении и составе пользователей каждого тарифного плана:\n",
    "1. Большинство клиентов \"Мегалайна\" (70%) предпочитают тариф \"Смарт\".\n",
    "2. В среднем клиенты, выбравшие тарифный план \"Ультра\", пользуются всеми услугами больше, чем клиенты с тарифным планом \"Смарт\".\n",
    "3. Разброс данных для выборки пользователей тарифа \"Ультра\" гораздо больше, чем для выборки пользователей тарифа \"Смарт\", то есть паттерны их поведения менее однородны.\n",
    "4. В среднем пользователь тарифного плана \"Ультра\" платит только абонентскую плату, в то время как пользователь тарифного плана \"Смарт\" доплачивает только за дополнительные гигабайты Интернета.\n",
    "5. Меньше всего клиенты обоих тарифных планов пользуются услугой отправки сообщений.\n",
    "\n",
    "Теперь для определения более выгодного тарифного плана для компании \"Мегалайн\", проверим несколько гипотез."
   ]
  },
  {
   "cell_type": "markdown",
   "id": "21abbc1f",
   "metadata": {},
   "source": [
    "## Проверка гипотез"
   ]
  },
  {
   "cell_type": "markdown",
   "id": "24c02eed",
   "metadata": {},
   "source": [
    "### Сравнение выручки от разных тарифных планов"
   ]
  },
  {
   "cell_type": "markdown",
   "id": "7b722cda",
   "metadata": {},
   "source": [
    "Сначала проверим, различается ли средняя выручка от пользователей тарифа \"Ультра\" и тарифа \"Смарт\". Для этого надо понять, с какими данными мы работаем. Была предоставлена выборка из 500 клиентов компании \"Мегалайн\" (генеральная совокупность - клиенты компании \"Мегалайн\"). Теперь необходимо сравнить, приносят ли клиенты, пользующиеся тарифом \"Ультра\" и тарифом \"Смарт\", одинаковую среднюю выручку. До этого для анализа поведения клиентов каждого тарифного плана мы разбили изначальную выборку на две - по тарифному плану. Генеральной совокупностью для каждой из получившихся выборок является множество клиентов компании \"Мегалайн\", использующих соответствующий тарифный план. Таким образом, пытаясь выснить, различается ли средняя выручка от пользователей тарифа \"Ультра\" и тарифа \"Смарт\", мы по сути проверяем гипотезу о равенстве средних двух генеральных совокупностей (потому что рассматриваем не всех клиентов компании в целом, а делим их на группы по тарифам).\n",
    "\n",
    "Сформулируем нулевую и альтернативную гипотезы:\n",
    "* H0: `month_inf.loc[month_inf['tariff_name'] == 'ultra', 'monthly_revenue'].mean() == month_inf.loc[month_inf['tariff_name'] == 'smart', 'monthly_revenue'].mean()` (средние выручки от пользователей тарифа \"Ультра\" и тарифа \"Смарт\" равны)\n",
    "* H1: `month_inf.loc[month_inf['tariff_name'] == 'ultra', 'monthly_revenue'].mean() != month_inf.loc[month_inf['tariff_name'] == 'smart', 'monthly_revenue'].mean()` (средние выручки от пользователей тарифа \"Ультра\" и тарифа \"Смарт\" не равны)\n",
    "\n",
    "Стоит отметить, что, учитывая различия в поведении пользователей разных тарифных планов, есть основания полагать, что дисперсия в выборках не будет равна, поэтому стоит установить `equal_var=False`.\n",
    "\n",
    "Два другие условия проведения t-теста (независимость генеральных совокупностей и нормальное распределение выборочных средних) выполняются, значит можно проводить t-тест. Уровень значимости примем равным 5%."
   ]
  },
  {
   "cell_type": "code",
   "execution_count": 31,
   "id": "aaabbfed",
   "metadata": {},
   "outputs": [
    {
     "data": {
      "text/plain": [
       "'P-значение: 4.2606313931076085e-250'"
      ]
     },
     "metadata": {},
     "output_type": "display_data"
    },
    {
     "data": {
      "text/plain": [
       "'Отвергаем нулевую гипотезу'"
      ]
     },
     "metadata": {},
     "output_type": "display_data"
    }
   ],
   "source": [
    "alpha = .05\n",
    "\n",
    "result_test1 = st.ttest_ind(\n",
    "    month_inf.loc[month_inf['tariff_name'] == 'ultra', 'monthly_revenue'],\n",
    "    month_inf.loc[month_inf['tariff_name'] == 'smart', 'monthly_revenue'],\n",
    "    equal_var=False\n",
    ")\n",
    "\n",
    "display(f'P-значение: {result_test1.pvalue}')\n",
    "\n",
    "if result_test1.pvalue < alpha:\n",
    "    display('Отвергаем нулевую гипотезу')\n",
    "else:\n",
    "    display('Нулевую гипотезу отвергнуть не получилось')"
   ]
  },
  {
   "cell_type": "markdown",
   "id": "a9272330",
   "metadata": {},
   "source": [
    "P-значение (означает вероятность получить такую или большую разницу в выборочных средних при условии, что нулевая гипотеза верна) вышло очень маленьким, следовательно, средняя выручка от пользователя тарифов \"Ультра\" и \"Смарт\" значимо различается при уровне значимости 5% (хотя в данном случае даже при уровне значимости 0.1%).\n",
    "\n",
    "Тогда посмотрим среднюю выручку по выборкам пользователей и общий доход от каждой группы пользователей за 2018 г.:"
   ]
  },
  {
   "cell_type": "code",
   "execution_count": 32,
   "id": "15953c38",
   "metadata": {},
   "outputs": [
    {
     "data": {
      "text/plain": [
       "'УЛЬТРА'"
      ]
     },
     "metadata": {},
     "output_type": "display_data"
    },
    {
     "data": {
      "text/plain": [
       "'Средняя выручка с пользователя:'"
      ]
     },
     "metadata": {},
     "output_type": "display_data"
    },
    {
     "data": {
      "text/plain": [
       "2070.15"
      ]
     },
     "metadata": {},
     "output_type": "display_data"
    },
    {
     "data": {
      "text/plain": [
       "'Выручка за год:'"
      ]
     },
     "metadata": {},
     "output_type": "display_data"
    },
    {
     "data": {
      "text/plain": [
       "2039100"
      ]
     },
     "metadata": {},
     "output_type": "display_data"
    },
    {
     "data": {
      "text/plain": [
       "'СМАРТ'"
      ]
     },
     "metadata": {},
     "output_type": "display_data"
    },
    {
     "data": {
      "text/plain": [
       "'Средняя выручка с пользователя:'"
      ]
     },
     "metadata": {},
     "output_type": "display_data"
    },
    {
     "data": {
      "text/plain": [
       "1289.97"
      ]
     },
     "metadata": {},
     "output_type": "display_data"
    },
    {
     "data": {
      "text/plain": [
       "'Выручка за год:'"
      ]
     },
     "metadata": {},
     "output_type": "display_data"
    },
    {
     "data": {
      "text/plain": [
       "2875351"
      ]
     },
     "metadata": {},
     "output_type": "display_data"
    },
    {
     "data": {
      "text/plain": [
       "'Отношение средней выручки с пользователя по тарифу \"Ультра\" к тарифу \"Смарт\":'"
      ]
     },
     "metadata": {},
     "output_type": "display_data"
    },
    {
     "data": {
      "text/plain": [
       "1.6"
      ]
     },
     "metadata": {},
     "output_type": "display_data"
    },
    {
     "data": {
      "text/plain": [
       "'Отношение выручки за год по тарифу \"Ультра\" к тарифу \"Смарт\":'"
      ]
     },
     "metadata": {},
     "output_type": "display_data"
    },
    {
     "data": {
      "text/plain": [
       "0.71"
      ]
     },
     "metadata": {},
     "output_type": "display_data"
    }
   ],
   "source": [
    "display('УЛЬТРА')\n",
    "display('Средняя выручка с пользователя:', round(month_inf.loc[month_inf['tariff_name'] == 'ultra', 'monthly_revenue'].mean(), 2))\n",
    "display('Выручка за год:', month_inf.loc[month_inf['tariff_name'] == 'ultra', 'monthly_revenue'].sum())\n",
    "\n",
    "display('СМАРТ')\n",
    "display('Средняя выручка с пользователя:', round(month_inf.loc[month_inf['tariff_name'] == 'smart', 'monthly_revenue'].mean(), 2))\n",
    "display('Выручка за год:', month_inf.loc[month_inf['tariff_name'] == 'smart', 'monthly_revenue'].sum())\n",
    "\n",
    "display('Отношение средней выручки с пользователя по тарифу \"Ультра\" к тарифу \"Смарт\":', round(\n",
    "    month_inf.loc[month_inf['tariff_name'] == 'ultra', 'monthly_revenue'].mean()/month_inf.loc[month_inf['tariff_name'] == 'smart', 'monthly_revenue'].mean(), 2))\n",
    "display('Отношение выручки за год по тарифу \"Ультра\" к тарифу \"Смарт\":', round(\n",
    "    month_inf.loc[month_inf['tariff_name'] == 'ultra', 'monthly_revenue'].sum()/month_inf.loc[month_inf['tariff_name'] == 'smart', 'monthly_revenue'].sum(), 2))"
   ]
  },
  {
   "cell_type": "markdown",
   "id": "04e99443",
   "metadata": {},
   "source": [
    "Таким образом, выходит, что средняя выручка с пользователя тарифа \"Ультра\" составляет 2070 рублей, что лишь немного больше абонентской платы (1950 рублей), в то время как средняя выручка с пользователя тарифа \"Смарт\" равна 1290 рублям, что значительно выше абонентской платы по тарифу (550 рублей). Однако средняя выручка с клиента больше всё равно по тарифному плану \"Ультра\".\n",
    "\n",
    "При этом суммарная выручка с выборки пользователей тарифа \"Ультра\" составляет лишь 70% от выручки с тарифа \"Смарт\", поскольку тариф \"Смарт\" выбирает больше клиентов."
   ]
  },
  {
   "cell_type": "markdown",
   "id": "814cb353",
   "metadata": {},
   "source": [
    "Так, средняя выручка с пользователей тарифов \"Ультра\" и \"Смарт\" значимо различаются, при этом в предоставленных выборках средняя выручка с пользователя по тарифу \"Ультра\" гораздо выше, чем по тарифу \"Смарт\", значит рекламировать в первую очередь стоит тариф \"Ультра\"."
   ]
  },
  {
   "cell_type": "markdown",
   "id": "2fd6986a",
   "metadata": {},
   "source": [
    "### Выручка с пользователей из Москвы"
   ]
  },
  {
   "cell_type": "markdown",
   "id": "f0aa7b14",
   "metadata": {},
   "source": [
    "Теперь посмотрим, отличается ли средняя выручка с пользователей из Москвы от выручки с пользователей из других регионов. Для этого добавим информацию о городе проживания каждого клиента из таблицы `users`:"
   ]
  },
  {
   "cell_type": "code",
   "execution_count": 33,
   "id": "4f3cc852",
   "metadata": {},
   "outputs": [
    {
     "data": {
      "text/html": [
       "<div>\n",
       "<style scoped>\n",
       "    .dataframe tbody tr th:only-of-type {\n",
       "        vertical-align: middle;\n",
       "    }\n",
       "\n",
       "    .dataframe tbody tr th {\n",
       "        vertical-align: top;\n",
       "    }\n",
       "\n",
       "    .dataframe thead th {\n",
       "        text-align: right;\n",
       "    }\n",
       "</style>\n",
       "<table border=\"1\" class=\"dataframe\">\n",
       "  <thead>\n",
       "    <tr style=\"text-align: right;\">\n",
       "      <th></th>\n",
       "      <th>user_id</th>\n",
       "      <th>month</th>\n",
       "      <th>calls</th>\n",
       "      <th>calls_duration</th>\n",
       "      <th>messages</th>\n",
       "      <th>gb_used</th>\n",
       "      <th>tariff_name</th>\n",
       "      <th>monthly_revenue</th>\n",
       "      <th>city</th>\n",
       "    </tr>\n",
       "  </thead>\n",
       "  <tbody>\n",
       "    <tr>\n",
       "      <th>0</th>\n",
       "      <td>1000</td>\n",
       "      <td>5</td>\n",
       "      <td>22</td>\n",
       "      <td>159</td>\n",
       "      <td>22</td>\n",
       "      <td>3</td>\n",
       "      <td>ultra</td>\n",
       "      <td>1950</td>\n",
       "      <td>Краснодар</td>\n",
       "    </tr>\n",
       "    <tr>\n",
       "      <th>1</th>\n",
       "      <td>1000</td>\n",
       "      <td>6</td>\n",
       "      <td>43</td>\n",
       "      <td>172</td>\n",
       "      <td>60</td>\n",
       "      <td>23</td>\n",
       "      <td>ultra</td>\n",
       "      <td>1950</td>\n",
       "      <td>Краснодар</td>\n",
       "    </tr>\n",
       "    <tr>\n",
       "      <th>2</th>\n",
       "      <td>1000</td>\n",
       "      <td>7</td>\n",
       "      <td>47</td>\n",
       "      <td>340</td>\n",
       "      <td>75</td>\n",
       "      <td>14</td>\n",
       "      <td>ultra</td>\n",
       "      <td>1950</td>\n",
       "      <td>Краснодар</td>\n",
       "    </tr>\n",
       "    <tr>\n",
       "      <th>3</th>\n",
       "      <td>1000</td>\n",
       "      <td>8</td>\n",
       "      <td>52</td>\n",
       "      <td>408</td>\n",
       "      <td>81</td>\n",
       "      <td>14</td>\n",
       "      <td>ultra</td>\n",
       "      <td>1950</td>\n",
       "      <td>Краснодар</td>\n",
       "    </tr>\n",
       "    <tr>\n",
       "      <th>4</th>\n",
       "      <td>1000</td>\n",
       "      <td>9</td>\n",
       "      <td>58</td>\n",
       "      <td>466</td>\n",
       "      <td>57</td>\n",
       "      <td>15</td>\n",
       "      <td>ultra</td>\n",
       "      <td>1950</td>\n",
       "      <td>Краснодар</td>\n",
       "    </tr>\n",
       "    <tr>\n",
       "      <th>5</th>\n",
       "      <td>1000</td>\n",
       "      <td>10</td>\n",
       "      <td>57</td>\n",
       "      <td>350</td>\n",
       "      <td>73</td>\n",
       "      <td>15</td>\n",
       "      <td>ultra</td>\n",
       "      <td>1950</td>\n",
       "      <td>Краснодар</td>\n",
       "    </tr>\n",
       "    <tr>\n",
       "      <th>6</th>\n",
       "      <td>1000</td>\n",
       "      <td>11</td>\n",
       "      <td>43</td>\n",
       "      <td>338</td>\n",
       "      <td>58</td>\n",
       "      <td>15</td>\n",
       "      <td>ultra</td>\n",
       "      <td>1950</td>\n",
       "      <td>Краснодар</td>\n",
       "    </tr>\n",
       "    <tr>\n",
       "      <th>7</th>\n",
       "      <td>1000</td>\n",
       "      <td>12</td>\n",
       "      <td>46</td>\n",
       "      <td>333</td>\n",
       "      <td>70</td>\n",
       "      <td>10</td>\n",
       "      <td>ultra</td>\n",
       "      <td>1950</td>\n",
       "      <td>Краснодар</td>\n",
       "    </tr>\n",
       "    <tr>\n",
       "      <th>8</th>\n",
       "      <td>1001</td>\n",
       "      <td>11</td>\n",
       "      <td>59</td>\n",
       "      <td>430</td>\n",
       "      <td>0</td>\n",
       "      <td>18</td>\n",
       "      <td>smart</td>\n",
       "      <td>1150</td>\n",
       "      <td>Москва</td>\n",
       "    </tr>\n",
       "    <tr>\n",
       "      <th>9</th>\n",
       "      <td>1001</td>\n",
       "      <td>12</td>\n",
       "      <td>63</td>\n",
       "      <td>414</td>\n",
       "      <td>0</td>\n",
       "      <td>14</td>\n",
       "      <td>smart</td>\n",
       "      <td>550</td>\n",
       "      <td>Москва</td>\n",
       "    </tr>\n",
       "    <tr>\n",
       "      <th>10</th>\n",
       "      <td>1002</td>\n",
       "      <td>6</td>\n",
       "      <td>15</td>\n",
       "      <td>117</td>\n",
       "      <td>4</td>\n",
       "      <td>11</td>\n",
       "      <td>smart</td>\n",
       "      <td>550</td>\n",
       "      <td>Стерлитамак</td>\n",
       "    </tr>\n",
       "    <tr>\n",
       "      <th>11</th>\n",
       "      <td>1002</td>\n",
       "      <td>7</td>\n",
       "      <td>26</td>\n",
       "      <td>214</td>\n",
       "      <td>11</td>\n",
       "      <td>18</td>\n",
       "      <td>smart</td>\n",
       "      <td>1150</td>\n",
       "      <td>Стерлитамак</td>\n",
       "    </tr>\n",
       "    <tr>\n",
       "      <th>12</th>\n",
       "      <td>1002</td>\n",
       "      <td>8</td>\n",
       "      <td>42</td>\n",
       "      <td>289</td>\n",
       "      <td>13</td>\n",
       "      <td>20</td>\n",
       "      <td>smart</td>\n",
       "      <td>1550</td>\n",
       "      <td>Стерлитамак</td>\n",
       "    </tr>\n",
       "    <tr>\n",
       "      <th>13</th>\n",
       "      <td>1002</td>\n",
       "      <td>9</td>\n",
       "      <td>36</td>\n",
       "      <td>206</td>\n",
       "      <td>4</td>\n",
       "      <td>17</td>\n",
       "      <td>smart</td>\n",
       "      <td>950</td>\n",
       "      <td>Стерлитамак</td>\n",
       "    </tr>\n",
       "    <tr>\n",
       "      <th>14</th>\n",
       "      <td>1002</td>\n",
       "      <td>10</td>\n",
       "      <td>33</td>\n",
       "      <td>212</td>\n",
       "      <td>10</td>\n",
       "      <td>14</td>\n",
       "      <td>smart</td>\n",
       "      <td>550</td>\n",
       "      <td>Стерлитамак</td>\n",
       "    </tr>\n",
       "  </tbody>\n",
       "</table>\n",
       "</div>"
      ],
      "text/plain": [
       "    user_id  month  calls  calls_duration  messages  gb_used tariff_name  \\\n",
       "0      1000      5     22             159        22        3       ultra   \n",
       "1      1000      6     43             172        60       23       ultra   \n",
       "2      1000      7     47             340        75       14       ultra   \n",
       "3      1000      8     52             408        81       14       ultra   \n",
       "4      1000      9     58             466        57       15       ultra   \n",
       "5      1000     10     57             350        73       15       ultra   \n",
       "6      1000     11     43             338        58       15       ultra   \n",
       "7      1000     12     46             333        70       10       ultra   \n",
       "8      1001     11     59             430         0       18       smart   \n",
       "9      1001     12     63             414         0       14       smart   \n",
       "10     1002      6     15             117         4       11       smart   \n",
       "11     1002      7     26             214        11       18       smart   \n",
       "12     1002      8     42             289        13       20       smart   \n",
       "13     1002      9     36             206         4       17       smart   \n",
       "14     1002     10     33             212        10       14       smart   \n",
       "\n",
       "    monthly_revenue         city  \n",
       "0              1950    Краснодар  \n",
       "1              1950    Краснодар  \n",
       "2              1950    Краснодар  \n",
       "3              1950    Краснодар  \n",
       "4              1950    Краснодар  \n",
       "5              1950    Краснодар  \n",
       "6              1950    Краснодар  \n",
       "7              1950    Краснодар  \n",
       "8              1150       Москва  \n",
       "9               550       Москва  \n",
       "10              550  Стерлитамак  \n",
       "11             1150  Стерлитамак  \n",
       "12             1550  Стерлитамак  \n",
       "13              950  Стерлитамак  \n",
       "14              550  Стерлитамак  "
      ]
     },
     "execution_count": 33,
     "metadata": {},
     "output_type": "execute_result"
    }
   ],
   "source": [
    "month_inf = month_inf.merge(users[['user_id', 'city']], on='user_id', how='left')\n",
    "\n",
    "month_inf.head(15)"
   ]
  },
  {
   "cell_type": "markdown",
   "id": "ae092f42",
   "metadata": {},
   "source": [
    "Полученные данные можно разбить на другие две выборки, отражающие две другие генеральные совокупности, - пользователи \"Мегалайн\", проживающие в Москве и в других городах.\n",
    "\n",
    "Сформулируем нулевую и альтернативную гипотезы:\n",
    "* H0: `month_inf.loc[month_inf['city'] == 'Москва', 'monthly_revenue'].mean() == month_inf.loc[month_inf['city'] != 'Москва', 'monthly_revenue'].mean()` (средние выручки с пользователей из Москвы и других регионов равны)\n",
    "* H1: `month_inf.loc[month_inf['city'] == 'Москва', 'monthly_revenue'].mean() != month_inf.loc[month_inf['city'] != 'Москва', 'monthly_revenue'].mean()` (средние выручки с пользователей из Москвы и других регионов не равны)\n",
    "\n",
    "Поскольку, в данном случае мы ничего не знаем о выборках и разбросе данных в них оставим `equal_var=True`."
   ]
  },
  {
   "cell_type": "code",
   "execution_count": 34,
   "id": "177546bc",
   "metadata": {},
   "outputs": [
    {
     "data": {
      "text/plain": [
       "'P-значение: 0.5440152911670224'"
      ]
     },
     "metadata": {},
     "output_type": "display_data"
    },
    {
     "data": {
      "text/plain": [
       "'Нулевую гипотезу отвергнуть не получилось'"
      ]
     },
     "metadata": {},
     "output_type": "display_data"
    }
   ],
   "source": [
    "result_test2 = st.ttest_ind(\n",
    "    month_inf.loc[month_inf['city'] == 'Москва', 'monthly_revenue'],\n",
    "    month_inf.loc[month_inf['city'] != 'Москва', 'monthly_revenue']\n",
    ")\n",
    "\n",
    "display(f'P-значение: {result_test2.pvalue}')\n",
    "\n",
    "if result_test2.pvalue < alpha:\n",
    "    display('Отвергаем нулевую гипотезу')\n",
    "else:\n",
    "    display('Нулевую гипотезу отвергнуть не получилось')"
   ]
  },
  {
   "cell_type": "markdown",
   "id": "f59cdc71",
   "metadata": {},
   "source": [
    "В данном случае P-значение большое (более 54%), поэтому мы принимаем нулевую гипотезу и делаем вывод, что есть основания полагать, что средние выручки с пользователей из Москвы и из других регионов значимо не различаются. Получается, что рекламировать для пользователей из Москвы и других регионов можно тарифы со схожими условиями.\n",
    "\n",
    "Посмотрим, чему равны средние выручки по выборкам пользователей из Москвы и других регионов:"
   ]
  },
  {
   "cell_type": "code",
   "execution_count": 35,
   "id": "83c400eb",
   "metadata": {},
   "outputs": [
    {
     "data": {
      "text/plain": [
       "'Москва:'"
      ]
     },
     "metadata": {},
     "output_type": "display_data"
    },
    {
     "data": {
      "text/plain": [
       "1546.7135842880523"
      ]
     },
     "metadata": {},
     "output_type": "display_data"
    },
    {
     "data": {
      "text/plain": [
       "'Другие регионы:'"
      ]
     },
     "metadata": {},
     "output_type": "display_data"
    },
    {
     "data": {
      "text/plain": [
       "1524.9362274298885"
      ]
     },
     "execution_count": 35,
     "metadata": {},
     "output_type": "execute_result"
    }
   ],
   "source": [
    "display('Москва:')\n",
    "display(month_inf[month_inf['city'] == 'Москва']['monthly_revenue'].mean())\n",
    "\n",
    "display('Другие регионы:')\n",
    "month_inf[month_inf['city'] != 'Москва']['monthly_revenue'].mean()"
   ]
  },
  {
   "cell_type": "markdown",
   "id": "641e31cb",
   "metadata": {},
   "source": [
    "Так, для каждой группы пользователей среднемесячные расходы на связь составляют в районе 1500 рублей. Это меньше, чем абонентская плата за тариф \"Ультра\", однако реклама может простимулировать его покупку."
   ]
  },
  {
   "cell_type": "markdown",
   "id": "611bab3f",
   "metadata": {},
   "source": [
    "## Выводы"
   ]
  },
  {
   "cell_type": "markdown",
   "id": "411afa88",
   "metadata": {},
   "source": [
    "Перед началом исследования была проведена преодобработка полученной выборки из 500 пользователей \"Мегалайна\" и их активности за 2018 г. В ходе предобработки были выполнены следующие действия:\n",
    "* Был удалён столбец, дублирующий индексы, в таблице `internet`.\n",
    "* Тип данных в столбцах, содержащих дату, был изменён с object на datetime.\n",
    "* Длительность каждого звонка была округлена до минут в сторону повышения, что соответсвует политики \"Мегалайна\".\n",
    "* Лимит на Интернет-трафик по абонентской плате в таблице `tariffs` был переведён из мегабайт в гигабайты.\n",
    "* Дубликатов обнаружено не было, пропуски были обнаружены только в столбце `churn_date` таблицы `users`, где таким образом обозначается действие тарифа на момент выгрузки данных.\n",
    "* Были рассчитаны необходимые показатели: количество сделанных звонков и израсходованных минут разговора по месяцам, количество отправленных сообщений по месяцам, объем израсходованного интернет-трафика по месяцам, помесячная выручка с каждого пользователя.\n",
    "\n",
    "Анализ данных позволил выделить следующие характеристики выборки и паттерны поведения пользователей каждого из тарифных планов:\n",
    "1. **70% клиентов** \"Мегалайна\" выбирают тариф **\"Смарт\"**.\n",
    "2. *Пользователи тарифа \"Ультра\" в среднем больше пользуются услугами связи в месяц*, чем пользователи тарифа \"Смарт\", однако *клиенты, выбравшие \"Смарт\", гораздо чаще платят сверх абонентской платы*.\n",
    "3. *Поведение пользователей тарифа \"Смарт\" гораздо более единообразно*, чем поведение пользователей тарифа \"Ультра\" (разброс данных в первом случае значительно меньше).\n",
    "4. Меньше всего клиентов обоих тарифных планов интересует услуга отправки сообщений.\n",
    "5. Среднее значение по пользованию услугой *превышает лимит по абонентской плате только в одном случае*: это средний объём помесячного Интернет-трафика пользователей тарифного плана \"Смарт\" (**17 Гб против лимита в 15 Гб**).\n",
    "\n",
    "\n",
    "Ниже в таблице приведены средние значения использования услуг связи клиентами каждого тарифного плана:\n",
    "\n",
    "|Услуга       |\"Ультра\"  |\"Смарт\"  |\n",
    "|-------------|----------|---------|\n",
    "|звонки (мин) |    527   |   418   | \n",
    "|смс (шт)     |     50   |    34   |\n",
    "|Интернет (Гб)|     20   |    17   |\n",
    "\n",
    "\n",
    "Проверка гипотез показала, что:\n",
    "1. **Средние выручки с пользователя по тарифу \"Ультра\" и \"Смарт\" значимо различаются.** Клиенты, подключившие тарифный план **\"Ультра\"**, в среднем **платят за услуги связи больше на 60%**.\n",
    "2. **Средние выручки с клиентов, проживающих в Москве и других регионах, значимо не различаются.**\n",
    "\n",
    "\n",
    "Таким образом, более выгодным тарифным планом для компании \"Мегалайн\" является **тариф \"Ультра\"**, в пользу которого и следует перераспределить рекламный бюджет. Учитывая, что средняя месячная плата за услуги связи в Москве примерно такая же, как и по другим городам, целесообразно рекламировать тариф \"Ультра\" как в столице, так и в других регионах."
   ]
  }
 ],
 "metadata": {
  "ExecuteTimeLog": [
   {
    "duration": 42,
    "start_time": "2022-06-17T12:45:24.092Z"
   },
   {
    "duration": 46,
    "start_time": "2022-06-17T12:46:10.651Z"
   },
   {
    "duration": 7,
    "start_time": "2022-06-17T12:46:21.153Z"
   },
   {
    "duration": 39,
    "start_time": "2022-06-17T12:46:30.343Z"
   },
   {
    "duration": 28,
    "start_time": "2022-06-17T12:46:38.609Z"
   },
   {
    "duration": 4,
    "start_time": "2022-06-17T12:46:42.941Z"
   },
   {
    "duration": 7,
    "start_time": "2022-06-17T12:47:26.517Z"
   },
   {
    "duration": 949,
    "start_time": "2022-06-17T12:47:30.491Z"
   },
   {
    "duration": 87,
    "start_time": "2022-06-17T12:47:31.442Z"
   },
   {
    "duration": 14,
    "start_time": "2022-06-17T12:47:31.530Z"
   },
   {
    "duration": 403,
    "start_time": "2022-06-17T12:47:31.546Z"
   },
   {
    "duration": 33,
    "start_time": "2022-06-17T12:47:31.951Z"
   },
   {
    "duration": 530,
    "start_time": "2022-06-17T12:47:31.986Z"
   },
   {
    "duration": 372,
    "start_time": "2022-06-17T12:47:32.518Z"
   },
   {
    "duration": 317,
    "start_time": "2022-06-17T12:47:32.892Z"
   },
   {
    "duration": 46,
    "start_time": "2022-06-17T12:47:33.211Z"
   },
   {
    "duration": 129,
    "start_time": "2022-06-17T12:47:33.259Z"
   },
   {
    "duration": 186,
    "start_time": "2022-06-17T12:47:33.390Z"
   },
   {
    "duration": 7,
    "start_time": "2022-06-17T12:47:33.577Z"
   },
   {
    "duration": 131,
    "start_time": "2022-06-17T12:47:33.585Z"
   },
   {
    "duration": 10,
    "start_time": "2022-06-17T12:47:33.718Z"
   },
   {
    "duration": 13,
    "start_time": "2022-06-17T12:47:33.730Z"
   },
   {
    "duration": 71,
    "start_time": "2022-06-17T12:47:33.745Z"
   },
   {
    "duration": 39,
    "start_time": "2022-06-17T12:47:33.818Z"
   },
   {
    "duration": 50,
    "start_time": "2022-06-17T12:47:33.859Z"
   },
   {
    "duration": 4,
    "start_time": "2022-06-17T12:47:33.911Z"
   },
   {
    "duration": 26,
    "start_time": "2022-06-17T12:47:33.916Z"
   },
   {
    "duration": 21,
    "start_time": "2022-06-17T12:47:33.944Z"
   },
   {
    "duration": 8,
    "start_time": "2022-06-17T12:47:33.967Z"
   },
   {
    "duration": 30,
    "start_time": "2022-06-17T12:47:33.977Z"
   },
   {
    "duration": 15,
    "start_time": "2022-06-17T12:47:34.010Z"
   },
   {
    "duration": 126,
    "start_time": "2022-06-17T12:47:34.026Z"
   },
   {
    "duration": 11,
    "start_time": "2022-06-17T12:47:34.153Z"
   },
   {
    "duration": 46,
    "start_time": "2022-06-17T12:47:34.165Z"
   },
   {
    "duration": 4,
    "start_time": "2022-06-17T12:47:34.215Z"
   },
   {
    "duration": 9,
    "start_time": "2022-06-17T12:47:34.221Z"
   },
   {
    "duration": 57,
    "start_time": "2022-06-17T12:47:34.232Z"
   },
   {
    "duration": 4842,
    "start_time": "2022-06-17T12:47:34.291Z"
   },
   {
    "duration": 2379,
    "start_time": "2022-06-17T12:47:39.136Z"
   },
   {
    "duration": 4,
    "start_time": "2022-06-17T12:47:41.517Z"
   },
   {
    "duration": 546,
    "start_time": "2022-06-17T12:47:41.523Z"
   },
   {
    "duration": 29,
    "start_time": "2022-06-17T12:47:42.071Z"
   },
   {
    "duration": 29,
    "start_time": "2022-06-17T12:47:42.101Z"
   },
   {
    "duration": 9,
    "start_time": "2022-06-17T12:47:42.132Z"
   },
   {
    "duration": 52,
    "start_time": "2022-06-17T12:47:42.143Z"
   },
   {
    "duration": 13,
    "start_time": "2022-06-17T13:00:09.730Z"
   },
   {
    "duration": 243,
    "start_time": "2022-06-17T13:01:17.122Z"
   }
  ],
  "kernelspec": {
   "display_name": "Python 3 (ipykernel)",
   "language": "python",
   "name": "python3"
  },
  "language_info": {
   "codemirror_mode": {
    "name": "ipython",
    "version": 3
   },
   "file_extension": ".py",
   "mimetype": "text/x-python",
   "name": "python",
   "nbconvert_exporter": "python",
   "pygments_lexer": "ipython3",
   "version": "3.9.7"
  },
  "toc": {
   "base_numbering": 1,
   "nav_menu": {},
   "number_sections": true,
   "sideBar": true,
   "skip_h1_title": true,
   "title_cell": "Table of Contents",
   "title_sidebar": "Contents",
   "toc_cell": true,
   "toc_position": {
    "height": "calc(100% - 180px)",
    "left": "10px",
    "top": "150px",
    "width": "257px"
   },
   "toc_section_display": true,
   "toc_window_display": true
  }
 },
 "nbformat": 4,
 "nbformat_minor": 5
}
