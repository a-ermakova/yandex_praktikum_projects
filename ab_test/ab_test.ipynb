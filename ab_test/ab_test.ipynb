{
 "cells": [
  {
   "cell_type": "markdown",
   "id": "9562d289",
   "metadata": {
    "toc": true
   },
   "source": [
    "<h1>Table of Contents<span class=\"tocSkip\"></span></h1>\n",
    "<div class=\"toc\"><ul class=\"toc-item\"><li><span><a href=\"#Приоритизация-гипотез\" data-toc-modified-id=\"Приоритизация-гипотез-1\"><span class=\"toc-item-num\">1&nbsp;&nbsp;</span>Приоритизация гипотез</a></span><ul class=\"toc-item\"><li><span><a href=\"#Обзор-и-предобработка-данных\" data-toc-modified-id=\"Обзор-и-предобработка-данных-1.1\"><span class=\"toc-item-num\">1.1&nbsp;&nbsp;</span>Обзор и предобработка данных</a></span></li><li><span><a href=\"#Приоритизация-гипотез-с-помощью-фреймворка-ICE\" data-toc-modified-id=\"Приоритизация-гипотез-с-помощью-фреймворка-ICE-1.2\"><span class=\"toc-item-num\">1.2&nbsp;&nbsp;</span>Приоритизация гипотез с помощью фреймворка <code>ICE</code></a></span></li><li><span><a href=\"#Приоритизация-гипотез-с-помощью-фреймворка-RICE\" data-toc-modified-id=\"Приоритизация-гипотез-с-помощью-фреймворка-RICE-1.3\"><span class=\"toc-item-num\">1.3&nbsp;&nbsp;</span>Приоритизация гипотез с помощью фреймворка <code>RICE</code></a></span></li><li><span><a href=\"#Выводы\" data-toc-modified-id=\"Выводы-1.4\"><span class=\"toc-item-num\">1.4&nbsp;&nbsp;</span>Выводы</a></span></li></ul></li><li><span><a href=\"#A/B-тест\" data-toc-modified-id=\"A/B-тест-2\"><span class=\"toc-item-num\">2&nbsp;&nbsp;</span>A/B-тест</a></span><ul class=\"toc-item\"><li><span><a href=\"#Обзор-и-предобработка-данных\" data-toc-modified-id=\"Обзор-и-предобработка-данных-2.1\"><span class=\"toc-item-num\">2.1&nbsp;&nbsp;</span>Обзор и предобработка данных</a></span></li><li><span><a href=\"#Анализ-кумулятивных-показателей\" data-toc-modified-id=\"Анализ-кумулятивных-показателей-2.2\"><span class=\"toc-item-num\">2.2&nbsp;&nbsp;</span>Анализ кумулятивных показателей</a></span></li><li><span><a href=\"#Анализ-выборосов\" data-toc-modified-id=\"Анализ-выборосов-2.3\"><span class=\"toc-item-num\">2.3&nbsp;&nbsp;</span>Анализ выборосов</a></span></li><li><span><a href=\"#Подсчёт-статистической-значимости-различий-в-показателях-между-группами-по-«сырым»-данным\" data-toc-modified-id=\"Подсчёт-статистической-значимости-различий-в-показателях-между-группами-по-«сырым»-данным-2.4\"><span class=\"toc-item-num\">2.4&nbsp;&nbsp;</span>Подсчёт статистической значимости различий в показателях между группами по «сырым» данным</a></span></li><li><span><a href=\"#Подсчёт-статистической-значимости-различий-в-показателях-между-группами-по-«очищенным»-данным\" data-toc-modified-id=\"Подсчёт-статистической-значимости-различий-в-показателях-между-группами-по-«очищенным»-данным-2.5\"><span class=\"toc-item-num\">2.5&nbsp;&nbsp;</span>Подсчёт статистической значимости различий в показателях между группами по «очищенным» данным</a></span></li><li><span><a href=\"#Решение-по-результатам-A/B-теста\" data-toc-modified-id=\"Решение-по-результатам-A/B-теста-2.6\"><span class=\"toc-item-num\">2.6&nbsp;&nbsp;</span>Решение по результатам A/B-теста</a></span></li></ul></li><li><span><a href=\"#Выводы\" data-toc-modified-id=\"Выводы-3\"><span class=\"toc-item-num\">3&nbsp;&nbsp;</span>Выводы</a></span></li></ul></div>"
   ]
  },
  {
   "cell_type": "markdown",
   "id": "42f715cd",
   "metadata": {},
   "source": [
    "# Приоритизация гипотез и A/B-тест"
   ]
  },
  {
   "cell_type": "markdown",
   "id": "730dcdb7",
   "metadata": {},
   "source": [
    "Данный проект состоит из двух частей.\n",
    "\n",
    "**Часть 1**\n",
    "\n",
    "**Задача** - для крупного Интернет-магазина надо *приоритизировать гипотезы для увеличения выручки* с применением фреймворков `ICE` и `RICE`.\n",
    "\n",
    "Описание данных (таблица `hypothesis`):\n",
    "* `Hypothesis` — краткое описание гипотезы\n",
    "* `Reach` — охват пользователей по 10-балльной шкале\n",
    "* `Impact` — влияние на пользователей по 10-балльной шкале\n",
    "* `Confidence` — уверенность в гипотезе по 10-балльной шкале\n",
    "* `Efforts` — затраты ресурсов на проверку гипотезы по 10-балльной шкале\n",
    "\n",
    "**Часть 2**\n",
    "\n",
    "**Задача** - *проанализировать результаты A/B-теста и принять решение по его результатам*.\n",
    "\n",
    "Описание данных:\n",
    "1. Таблица `orders`:\n",
    "* `transactionId` — идентификатор заказа\n",
    "* `visitorId` — идентификатор пользователя, совершившего заказ\n",
    "* `date` — дата, когда был совершён заказ\n",
    "* `revenue` — выручка заказа\n",
    "* `group` — группа A/B-теста, в которую попал заказ\n",
    "\n",
    "2. Таблица `visitors`:\n",
    "* `date` — дата\n",
    "* `group` — группа A/B-теста\n",
    "* `visitors` — количество пользователей в указанную дату в указанной группе A/B-теста\n",
    "\n",
    "**Ход исследования:**\n",
    "* Приоритизация гипотез:\n",
    "    * Обзор и предобработка данных\n",
    "    * Приоритизация гипотез с помощью фреймворка `ICE`\n",
    "    * Приоритизация гипотез с помощью фреймворка `RICE`\n",
    "    * Выводы\n",
    "* A/B-тест:\n",
    "    * Обзор и предобработка данных\n",
    "    * Анализ кумулятивных показателей\n",
    "    * Анализ выборосов\n",
    "    * Подсчёт статистической значимости различий в показателях между группами по «сырым» данным\n",
    "    * Подсчёт статистической значимости различий в показателях между группами по «очищенным» данным\n",
    "    * Решение по результатам A/B-теста\n",
    "* Выводы"
   ]
  },
  {
   "cell_type": "markdown",
   "id": "32b781e5",
   "metadata": {},
   "source": [
    "## Приоритизация гипотез"
   ]
  },
  {
   "cell_type": "markdown",
   "id": "ff0f8423",
   "metadata": {},
   "source": [
    "### Обзор и предобработка данных"
   ]
  },
  {
   "cell_type": "markdown",
   "id": "ec3c24ad",
   "metadata": {},
   "source": [
    "Для начала загрузим необходимые для исследования библитеки:"
   ]
  },
  {
   "cell_type": "code",
   "execution_count": 1,
   "id": "6df0137f",
   "metadata": {},
   "outputs": [],
   "source": [
    "import pandas as pd\n",
    "import datetime as dt\n",
    "import scipy.stats as st\n",
    "import numpy as np\n",
    "import matplotlib.pyplot as plt\n",
    "from pandas.plotting import register_matplotlib_converters\n",
    "\n",
    "register_matplotlib_converters()\n",
    "%matplotlib inline"
   ]
  },
  {
   "cell_type": "markdown",
   "id": "025a7d48",
   "metadata": {},
   "source": [
    "Загрузим таблицу `hypothesis` и отроем её первые пять строк и информацию о данных в ней."
   ]
  },
  {
   "cell_type": "code",
   "execution_count": 2,
   "id": "9de5e7fb",
   "metadata": {},
   "outputs": [
    {
     "name": "stdout",
     "output_type": "stream",
     "text": [
      "<class 'pandas.core.frame.DataFrame'>\n",
      "RangeIndex: 9 entries, 0 to 8\n",
      "Data columns (total 5 columns):\n",
      " #   Column      Non-Null Count  Dtype \n",
      "---  ------      --------------  ----- \n",
      " 0   Hypothesis  9 non-null      object\n",
      " 1   Reach       9 non-null      int64 \n",
      " 2   Impact      9 non-null      int64 \n",
      " 3   Confidence  9 non-null      int64 \n",
      " 4   Efforts     9 non-null      int64 \n",
      "dtypes: int64(4), object(1)\n",
      "memory usage: 488.0+ bytes\n"
     ]
    },
    {
     "data": {
      "text/html": [
       "<div>\n",
       "<style scoped>\n",
       "    .dataframe tbody tr th:only-of-type {\n",
       "        vertical-align: middle;\n",
       "    }\n",
       "\n",
       "    .dataframe tbody tr th {\n",
       "        vertical-align: top;\n",
       "    }\n",
       "\n",
       "    .dataframe thead th {\n",
       "        text-align: right;\n",
       "    }\n",
       "</style>\n",
       "<table border=\"1\" class=\"dataframe\">\n",
       "  <thead>\n",
       "    <tr style=\"text-align: right;\">\n",
       "      <th></th>\n",
       "      <th>Hypothesis</th>\n",
       "      <th>Reach</th>\n",
       "      <th>Impact</th>\n",
       "      <th>Confidence</th>\n",
       "      <th>Efforts</th>\n",
       "    </tr>\n",
       "  </thead>\n",
       "  <tbody>\n",
       "    <tr>\n",
       "      <th>0</th>\n",
       "      <td>Добавить два новых канала привлечения трафика, что позволит привлекать на 30% больше пользователей</td>\n",
       "      <td>3</td>\n",
       "      <td>10</td>\n",
       "      <td>8</td>\n",
       "      <td>6</td>\n",
       "    </tr>\n",
       "    <tr>\n",
       "      <th>1</th>\n",
       "      <td>Запустить собственную службу доставки, что сократит срок доставки заказов</td>\n",
       "      <td>2</td>\n",
       "      <td>5</td>\n",
       "      <td>4</td>\n",
       "      <td>10</td>\n",
       "    </tr>\n",
       "    <tr>\n",
       "      <th>2</th>\n",
       "      <td>Добавить блоки рекомендаций товаров на сайт интернет магазина, чтобы повысить конверсию и средний чек заказа</td>\n",
       "      <td>8</td>\n",
       "      <td>3</td>\n",
       "      <td>7</td>\n",
       "      <td>3</td>\n",
       "    </tr>\n",
       "    <tr>\n",
       "      <th>3</th>\n",
       "      <td>Изменить структура категорий, что увеличит конверсию, т.к. пользователи быстрее найдут нужный товар</td>\n",
       "      <td>8</td>\n",
       "      <td>3</td>\n",
       "      <td>3</td>\n",
       "      <td>8</td>\n",
       "    </tr>\n",
       "    <tr>\n",
       "      <th>4</th>\n",
       "      <td>Изменить цвет фона главной страницы, чтобы увеличить вовлеченность пользователей</td>\n",
       "      <td>3</td>\n",
       "      <td>1</td>\n",
       "      <td>1</td>\n",
       "      <td>1</td>\n",
       "    </tr>\n",
       "  </tbody>\n",
       "</table>\n",
       "</div>"
      ],
      "text/plain": [
       "                                                                                                     Hypothesis  \\\n",
       "0            Добавить два новых канала привлечения трафика, что позволит привлекать на 30% больше пользователей   \n",
       "1                                     Запустить собственную службу доставки, что сократит срок доставки заказов   \n",
       "2  Добавить блоки рекомендаций товаров на сайт интернет магазина, чтобы повысить конверсию и средний чек заказа   \n",
       "3           Изменить структура категорий, что увеличит конверсию, т.к. пользователи быстрее найдут нужный товар   \n",
       "4                              Изменить цвет фона главной страницы, чтобы увеличить вовлеченность пользователей   \n",
       "\n",
       "   Reach  Impact  Confidence  Efforts  \n",
       "0      3      10           8        6  \n",
       "1      2       5           4       10  \n",
       "2      8       3           7        3  \n",
       "3      8       3           3        8  \n",
       "4      3       1           1        1  "
      ]
     },
     "execution_count": 2,
     "metadata": {},
     "output_type": "execute_result"
    }
   ],
   "source": [
    "hypothesis = pd.read_csv('//censored//')\n",
    "pd.set_option(\"max_colwidth\", 1100)\n",
    "\n",
    "hypothesis.info()\n",
    "hypothesis.head()"
   ]
  },
  {
   "cell_type": "markdown",
   "id": "3ecc9125",
   "metadata": {},
   "source": [
    "В таблице 9 гипотез, по каждой гипотезе есть значения всех нужных параметров. Все типы данных в столбцах соответствуют необходимым. Единственный недочёт - использование заглавных букв в заголовках. Исправим это:"
   ]
  },
  {
   "cell_type": "code",
   "execution_count": 3,
   "id": "ad06a849",
   "metadata": {},
   "outputs": [
    {
     "data": {
      "text/plain": [
       "Index(['hypothesis', 'reach', 'impact', 'confidence', 'efforts'], dtype='object')"
      ]
     },
     "execution_count": 3,
     "metadata": {},
     "output_type": "execute_result"
    }
   ],
   "source": [
    "hypothesis.columns = hypothesis.columns.str.lower()\n",
    "\n",
    "hypothesis.columns"
   ]
  },
  {
   "cell_type": "markdown",
   "id": "e12d6bc2",
   "metadata": {},
   "source": [
    "Теперь можно работать с гипотезами."
   ]
  },
  {
   "cell_type": "markdown",
   "id": "0ee5d121",
   "metadata": {},
   "source": [
    "### Приоритизация гипотез с помощью фреймворка `ICE`"
   ]
  },
  {
   "cell_type": "markdown",
   "id": "868a633c",
   "metadata": {},
   "source": [
    "Применим к гипотезам фраймворк `ICE` и добавим в таблицу новый столбец, отражающий результаты данного метода:"
   ]
  },
  {
   "cell_type": "code",
   "execution_count": 4,
   "id": "2497bfb1",
   "metadata": {
    "scrolled": true
   },
   "outputs": [
    {
     "data": {
      "text/html": [
       "<div>\n",
       "<style scoped>\n",
       "    .dataframe tbody tr th:only-of-type {\n",
       "        vertical-align: middle;\n",
       "    }\n",
       "\n",
       "    .dataframe tbody tr th {\n",
       "        vertical-align: top;\n",
       "    }\n",
       "\n",
       "    .dataframe thead th {\n",
       "        text-align: right;\n",
       "    }\n",
       "</style>\n",
       "<table border=\"1\" class=\"dataframe\">\n",
       "  <thead>\n",
       "    <tr style=\"text-align: right;\">\n",
       "      <th></th>\n",
       "      <th>hypothesis</th>\n",
       "      <th>reach</th>\n",
       "      <th>impact</th>\n",
       "      <th>confidence</th>\n",
       "      <th>efforts</th>\n",
       "      <th>ice</th>\n",
       "    </tr>\n",
       "  </thead>\n",
       "  <tbody>\n",
       "    <tr>\n",
       "      <th>8</th>\n",
       "      <td>Запустить акцию, дающую скидку на товар в день рождения</td>\n",
       "      <td>1</td>\n",
       "      <td>9</td>\n",
       "      <td>9</td>\n",
       "      <td>5</td>\n",
       "      <td>16.200000</td>\n",
       "    </tr>\n",
       "    <tr>\n",
       "      <th>0</th>\n",
       "      <td>Добавить два новых канала привлечения трафика, что позволит привлекать на 30% больше пользователей</td>\n",
       "      <td>3</td>\n",
       "      <td>10</td>\n",
       "      <td>8</td>\n",
       "      <td>6</td>\n",
       "      <td>13.333333</td>\n",
       "    </tr>\n",
       "    <tr>\n",
       "      <th>7</th>\n",
       "      <td>Добавить форму подписки на все основные страницы, чтобы собрать базу клиентов для email-рассылок</td>\n",
       "      <td>10</td>\n",
       "      <td>7</td>\n",
       "      <td>8</td>\n",
       "      <td>5</td>\n",
       "      <td>11.200000</td>\n",
       "    </tr>\n",
       "    <tr>\n",
       "      <th>6</th>\n",
       "      <td>Показать на главной странице баннеры с актуальными акциями и распродажами, чтобы увеличить конверсию</td>\n",
       "      <td>5</td>\n",
       "      <td>3</td>\n",
       "      <td>8</td>\n",
       "      <td>3</td>\n",
       "      <td>8.000000</td>\n",
       "    </tr>\n",
       "    <tr>\n",
       "      <th>2</th>\n",
       "      <td>Добавить блоки рекомендаций товаров на сайт интернет магазина, чтобы повысить конверсию и средний чек заказа</td>\n",
       "      <td>8</td>\n",
       "      <td>3</td>\n",
       "      <td>7</td>\n",
       "      <td>3</td>\n",
       "      <td>7.000000</td>\n",
       "    </tr>\n",
       "    <tr>\n",
       "      <th>1</th>\n",
       "      <td>Запустить собственную службу доставки, что сократит срок доставки заказов</td>\n",
       "      <td>2</td>\n",
       "      <td>5</td>\n",
       "      <td>4</td>\n",
       "      <td>10</td>\n",
       "      <td>2.000000</td>\n",
       "    </tr>\n",
       "    <tr>\n",
       "      <th>5</th>\n",
       "      <td>Добавить страницу отзывов клиентов о магазине, что позволит увеличить количество заказов</td>\n",
       "      <td>3</td>\n",
       "      <td>2</td>\n",
       "      <td>2</td>\n",
       "      <td>3</td>\n",
       "      <td>1.333333</td>\n",
       "    </tr>\n",
       "    <tr>\n",
       "      <th>3</th>\n",
       "      <td>Изменить структура категорий, что увеличит конверсию, т.к. пользователи быстрее найдут нужный товар</td>\n",
       "      <td>8</td>\n",
       "      <td>3</td>\n",
       "      <td>3</td>\n",
       "      <td>8</td>\n",
       "      <td>1.125000</td>\n",
       "    </tr>\n",
       "    <tr>\n",
       "      <th>4</th>\n",
       "      <td>Изменить цвет фона главной страницы, чтобы увеличить вовлеченность пользователей</td>\n",
       "      <td>3</td>\n",
       "      <td>1</td>\n",
       "      <td>1</td>\n",
       "      <td>1</td>\n",
       "      <td>1.000000</td>\n",
       "    </tr>\n",
       "  </tbody>\n",
       "</table>\n",
       "</div>"
      ],
      "text/plain": [
       "                                                                                                     hypothesis  \\\n",
       "8                                                       Запустить акцию, дающую скидку на товар в день рождения   \n",
       "0            Добавить два новых канала привлечения трафика, что позволит привлекать на 30% больше пользователей   \n",
       "7              Добавить форму подписки на все основные страницы, чтобы собрать базу клиентов для email-рассылок   \n",
       "6          Показать на главной странице баннеры с актуальными акциями и распродажами, чтобы увеличить конверсию   \n",
       "2  Добавить блоки рекомендаций товаров на сайт интернет магазина, чтобы повысить конверсию и средний чек заказа   \n",
       "1                                     Запустить собственную службу доставки, что сократит срок доставки заказов   \n",
       "5                      Добавить страницу отзывов клиентов о магазине, что позволит увеличить количество заказов   \n",
       "3           Изменить структура категорий, что увеличит конверсию, т.к. пользователи быстрее найдут нужный товар   \n",
       "4                              Изменить цвет фона главной страницы, чтобы увеличить вовлеченность пользователей   \n",
       "\n",
       "   reach  impact  confidence  efforts        ice  \n",
       "8      1       9           9        5  16.200000  \n",
       "0      3      10           8        6  13.333333  \n",
       "7     10       7           8        5  11.200000  \n",
       "6      5       3           8        3   8.000000  \n",
       "2      8       3           7        3   7.000000  \n",
       "1      2       5           4       10   2.000000  \n",
       "5      3       2           2        3   1.333333  \n",
       "3      8       3           3        8   1.125000  \n",
       "4      3       1           1        1   1.000000  "
      ]
     },
     "metadata": {},
     "output_type": "display_data"
    }
   ],
   "source": [
    "hypothesis['ice'] = hypothesis['impact'] * hypothesis['confidence'] / hypothesis['efforts']\n",
    "\n",
    "# выведем отсортированные результаты на экран:\n",
    "display(hypothesis.sort_values(by='ice', ascending=False))"
   ]
  },
  {
   "cell_type": "markdown",
   "id": "4df27721",
   "metadata": {},
   "source": [
    "Так, наиболее перспективными, с точки зрения фреймворка `ICE`, являются следующие гипотезы: 1) запустить акцию, предоставляющую скидку на товар в День Рождения, 2) добавить два новых канала привленчия пользователей, 3) добавить форму подписки на все основные страницы.\n",
    "\n",
    "Далее посмотрим на градацию гипотез при применении фреймворка `RICE` и сравним результаты."
   ]
  },
  {
   "cell_type": "markdown",
   "id": "2f1747c0",
   "metadata": {},
   "source": [
    "### Приоритизация гипотез с помощью фреймворка `RICE`"
   ]
  },
  {
   "cell_type": "markdown",
   "id": "a549ccc5",
   "metadata": {},
   "source": [
    "Посмотрим, изменятся ли выводы, если добавить к расчёту по уже рассмотренным параметрам параметр охвата клиентов `Reach`:"
   ]
  },
  {
   "cell_type": "code",
   "execution_count": 5,
   "id": "477f790d",
   "metadata": {},
   "outputs": [
    {
     "data": {
      "text/html": [
       "<div>\n",
       "<style scoped>\n",
       "    .dataframe tbody tr th:only-of-type {\n",
       "        vertical-align: middle;\n",
       "    }\n",
       "\n",
       "    .dataframe tbody tr th {\n",
       "        vertical-align: top;\n",
       "    }\n",
       "\n",
       "    .dataframe thead th {\n",
       "        text-align: right;\n",
       "    }\n",
       "</style>\n",
       "<table border=\"1\" class=\"dataframe\">\n",
       "  <thead>\n",
       "    <tr style=\"text-align: right;\">\n",
       "      <th></th>\n",
       "      <th>hypothesis</th>\n",
       "      <th>reach</th>\n",
       "      <th>impact</th>\n",
       "      <th>confidence</th>\n",
       "      <th>efforts</th>\n",
       "      <th>ice</th>\n",
       "      <th>rice</th>\n",
       "    </tr>\n",
       "  </thead>\n",
       "  <tbody>\n",
       "    <tr>\n",
       "      <th>7</th>\n",
       "      <td>Добавить форму подписки на все основные страницы, чтобы собрать базу клиентов для email-рассылок</td>\n",
       "      <td>10</td>\n",
       "      <td>7</td>\n",
       "      <td>8</td>\n",
       "      <td>5</td>\n",
       "      <td>11.200000</td>\n",
       "      <td>112.0</td>\n",
       "    </tr>\n",
       "    <tr>\n",
       "      <th>2</th>\n",
       "      <td>Добавить блоки рекомендаций товаров на сайт интернет магазина, чтобы повысить конверсию и средний чек заказа</td>\n",
       "      <td>8</td>\n",
       "      <td>3</td>\n",
       "      <td>7</td>\n",
       "      <td>3</td>\n",
       "      <td>7.000000</td>\n",
       "      <td>56.0</td>\n",
       "    </tr>\n",
       "    <tr>\n",
       "      <th>0</th>\n",
       "      <td>Добавить два новых канала привлечения трафика, что позволит привлекать на 30% больше пользователей</td>\n",
       "      <td>3</td>\n",
       "      <td>10</td>\n",
       "      <td>8</td>\n",
       "      <td>6</td>\n",
       "      <td>13.333333</td>\n",
       "      <td>40.0</td>\n",
       "    </tr>\n",
       "    <tr>\n",
       "      <th>6</th>\n",
       "      <td>Показать на главной странице баннеры с актуальными акциями и распродажами, чтобы увеличить конверсию</td>\n",
       "      <td>5</td>\n",
       "      <td>3</td>\n",
       "      <td>8</td>\n",
       "      <td>3</td>\n",
       "      <td>8.000000</td>\n",
       "      <td>40.0</td>\n",
       "    </tr>\n",
       "    <tr>\n",
       "      <th>8</th>\n",
       "      <td>Запустить акцию, дающую скидку на товар в день рождения</td>\n",
       "      <td>1</td>\n",
       "      <td>9</td>\n",
       "      <td>9</td>\n",
       "      <td>5</td>\n",
       "      <td>16.200000</td>\n",
       "      <td>16.2</td>\n",
       "    </tr>\n",
       "    <tr>\n",
       "      <th>3</th>\n",
       "      <td>Изменить структура категорий, что увеличит конверсию, т.к. пользователи быстрее найдут нужный товар</td>\n",
       "      <td>8</td>\n",
       "      <td>3</td>\n",
       "      <td>3</td>\n",
       "      <td>8</td>\n",
       "      <td>1.125000</td>\n",
       "      <td>9.0</td>\n",
       "    </tr>\n",
       "    <tr>\n",
       "      <th>1</th>\n",
       "      <td>Запустить собственную службу доставки, что сократит срок доставки заказов</td>\n",
       "      <td>2</td>\n",
       "      <td>5</td>\n",
       "      <td>4</td>\n",
       "      <td>10</td>\n",
       "      <td>2.000000</td>\n",
       "      <td>4.0</td>\n",
       "    </tr>\n",
       "    <tr>\n",
       "      <th>5</th>\n",
       "      <td>Добавить страницу отзывов клиентов о магазине, что позволит увеличить количество заказов</td>\n",
       "      <td>3</td>\n",
       "      <td>2</td>\n",
       "      <td>2</td>\n",
       "      <td>3</td>\n",
       "      <td>1.333333</td>\n",
       "      <td>4.0</td>\n",
       "    </tr>\n",
       "    <tr>\n",
       "      <th>4</th>\n",
       "      <td>Изменить цвет фона главной страницы, чтобы увеличить вовлеченность пользователей</td>\n",
       "      <td>3</td>\n",
       "      <td>1</td>\n",
       "      <td>1</td>\n",
       "      <td>1</td>\n",
       "      <td>1.000000</td>\n",
       "      <td>3.0</td>\n",
       "    </tr>\n",
       "  </tbody>\n",
       "</table>\n",
       "</div>"
      ],
      "text/plain": [
       "                                                                                                     hypothesis  \\\n",
       "7              Добавить форму подписки на все основные страницы, чтобы собрать базу клиентов для email-рассылок   \n",
       "2  Добавить блоки рекомендаций товаров на сайт интернет магазина, чтобы повысить конверсию и средний чек заказа   \n",
       "0            Добавить два новых канала привлечения трафика, что позволит привлекать на 30% больше пользователей   \n",
       "6          Показать на главной странице баннеры с актуальными акциями и распродажами, чтобы увеличить конверсию   \n",
       "8                                                       Запустить акцию, дающую скидку на товар в день рождения   \n",
       "3           Изменить структура категорий, что увеличит конверсию, т.к. пользователи быстрее найдут нужный товар   \n",
       "1                                     Запустить собственную службу доставки, что сократит срок доставки заказов   \n",
       "5                      Добавить страницу отзывов клиентов о магазине, что позволит увеличить количество заказов   \n",
       "4                              Изменить цвет фона главной страницы, чтобы увеличить вовлеченность пользователей   \n",
       "\n",
       "   reach  impact  confidence  efforts        ice   rice  \n",
       "7     10       7           8        5  11.200000  112.0  \n",
       "2      8       3           7        3   7.000000   56.0  \n",
       "0      3      10           8        6  13.333333   40.0  \n",
       "6      5       3           8        3   8.000000   40.0  \n",
       "8      1       9           9        5  16.200000   16.2  \n",
       "3      8       3           3        8   1.125000    9.0  \n",
       "1      2       5           4       10   2.000000    4.0  \n",
       "5      3       2           2        3   1.333333    4.0  \n",
       "4      3       1           1        1   1.000000    3.0  "
      ]
     },
     "metadata": {},
     "output_type": "display_data"
    }
   ],
   "source": [
    "hypothesis['rice'] = hypothesis['reach'] * hypothesis['impact'] * hypothesis['confidence'] / hypothesis['efforts']\n",
    "\n",
    "# выведем отсортированные результаты на экран:\n",
    "display(hypothesis.sort_values(by='rice', ascending=False))\n"
   ]
  },
  {
   "cell_type": "markdown",
   "id": "7ddf9347",
   "metadata": {},
   "source": [
    "Так, приоритетность гипотез значительно изменилась. По фреймворку `RICE`, самыми перспективными являются следующие гипотезы: 1) добавить форму подписки на все основные страницы (занимала 3-е место при методе `ICE`), 2) добавить блоки рекомендаций товаров на сайт интернет магазина, 3) добавить два новых канала привленчия пользователей (2-ое место по методу `ICE`).\n",
    "\n",
    "Таким образом, самая приоритетная по `ICE` гипотеза о предоставлении скидое на День Рождения вообще не фигурирует в топе лидеров по `RICE` и опустилась на 5-ую строчку. Это связано с её низким охватом пользователей (`Reach` = 1), который не учитывается при расчёте `ICE`, но учитывается при расчёте `RICE`. `Reach` же гипотезы \"добавить форму подписки на все основные страницы\", напротив, максимально высок, поэтому данная гипотеза поднялась с 3-его места в рейтинге `ICE` на 1-ое в рейтинге `RICE`."
   ]
  },
  {
   "cell_type": "markdown",
   "id": "0d56829e",
   "metadata": {},
   "source": [
    "Визуализируем положения гипотез, исходя из двух методов:"
   ]
  },
  {
   "cell_type": "code",
   "execution_count": 6,
   "id": "5774d40d",
   "metadata": {
    "scrolled": false
   },
   "outputs": [
    {
     "data": {
      "image/png": "[encoded data removed]",
      "text/plain": [
       "<Figure size 720x720 with 1 Axes>"
      ]
     },
     "metadata": {
      "needs_background": "light"
     },
     "output_type": "display_data"
    }
   ],
   "source": [
    "y = hypothesis['ice'] \n",
    "z = hypothesis['rice']\n",
    "n = hypothesis.index \n",
    "\n",
    "fig, ax = plt.subplots()\n",
    "ax.scatter(z, y)\n",
    "\n",
    "for i, txt in enumerate(n):\n",
    "    ax.annotate(txt, (z[i], y[i]), size=30)\n",
    "\n",
    "plt.title(\"ICE and RICE гипотезы\") \n",
    "plt.xlabel(\"RICE\") \n",
    "plt.ylabel(\"ICE\")\n",
    "\n",
    "fig.set_figheight(10)\n",
    "fig.set_figwidth(10) \n",
    "plt.show() "
   ]
  },
  {
   "cell_type": "markdown",
   "id": "6ac01cf5",
   "metadata": {},
   "source": [
    "Так, исходя из наилучших мест по каждому методу можно выделить две гипотезы: 1) добавить форму подписки на все основные страницы, 2) добавить два новых канала привлечения пользователей"
   ]
  },
  {
   "cell_type": "markdown",
   "id": "243c9263",
   "metadata": {},
   "source": [
    "### Выводы"
   ]
  },
  {
   "cell_type": "markdown",
   "id": "7d161022",
   "metadata": {},
   "source": [
    "Поскольку результаты приоритизации гипотезы по фреймворкам `ICE`  и `RICE` различаются, предлагается следующее решение:\n",
    "* Выбирать для последующего тестирования следует одну из двух гипотез, находящихся в обоих топах, а именно: \"добавить два новых канала привлечения пользователей\" или \"добавить форму подписки на все основные страницы\".\n",
    "* Поскольку у одной из данных гипотез максимальный `Reach`, a у другой - максимальный `Impact` (другие параметры почти не различаются), необходимо сделать ставку на один из данных параметров. Это можно сделать на основе прошлых удачных опытов компании или общего исследования рынка и конкурентов. Или же просто руководствоваться методом, принятым в компании."
   ]
  },
  {
   "cell_type": "markdown",
   "id": "cddd585d",
   "metadata": {},
   "source": [
    "## A/B-тест"
   ]
  },
  {
   "cell_type": "markdown",
   "id": "aca907f0",
   "metadata": {},
   "source": [
    "### Обзор и предобработка данных"
   ]
  },
  {
   "cell_type": "markdown",
   "id": "72087424",
   "metadata": {},
   "source": [
    "Теперь проанализируем результаты A/B-теста. Но для начала откроем необходимые для этого файлы:"
   ]
  },
  {
   "cell_type": "code",
   "execution_count": 7,
   "id": "a7824568",
   "metadata": {},
   "outputs": [
    {
     "name": "stdout",
     "output_type": "stream",
     "text": [
      "<class 'pandas.core.frame.DataFrame'>\n",
      "RangeIndex: 1197 entries, 0 to 1196\n",
      "Data columns (total 5 columns):\n",
      " #   Column         Non-Null Count  Dtype \n",
      "---  ------         --------------  ----- \n",
      " 0   transactionId  1197 non-null   int64 \n",
      " 1   visitorId      1197 non-null   int64 \n",
      " 2   date           1197 non-null   object\n",
      " 3   revenue        1197 non-null   int64 \n",
      " 4   group          1197 non-null   object\n",
      "dtypes: int64(3), object(2)\n",
      "memory usage: 46.9+ KB\n"
     ]
    },
    {
     "data": {
      "text/html": [
       "<div>\n",
       "<style scoped>\n",
       "    .dataframe tbody tr th:only-of-type {\n",
       "        vertical-align: middle;\n",
       "    }\n",
       "\n",
       "    .dataframe tbody tr th {\n",
       "        vertical-align: top;\n",
       "    }\n",
       "\n",
       "    .dataframe thead th {\n",
       "        text-align: right;\n",
       "    }\n",
       "</style>\n",
       "<table border=\"1\" class=\"dataframe\">\n",
       "  <thead>\n",
       "    <tr style=\"text-align: right;\">\n",
       "      <th></th>\n",
       "      <th>transactionId</th>\n",
       "      <th>visitorId</th>\n",
       "      <th>date</th>\n",
       "      <th>revenue</th>\n",
       "      <th>group</th>\n",
       "    </tr>\n",
       "  </thead>\n",
       "  <tbody>\n",
       "    <tr>\n",
       "      <th>0</th>\n",
       "      <td>3667963787</td>\n",
       "      <td>3312258926</td>\n",
       "      <td>2019-08-15</td>\n",
       "      <td>1650</td>\n",
       "      <td>B</td>\n",
       "    </tr>\n",
       "    <tr>\n",
       "      <th>1</th>\n",
       "      <td>2804400009</td>\n",
       "      <td>3642806036</td>\n",
       "      <td>2019-08-15</td>\n",
       "      <td>730</td>\n",
       "      <td>B</td>\n",
       "    </tr>\n",
       "    <tr>\n",
       "      <th>2</th>\n",
       "      <td>2961555356</td>\n",
       "      <td>4069496402</td>\n",
       "      <td>2019-08-15</td>\n",
       "      <td>400</td>\n",
       "      <td>A</td>\n",
       "    </tr>\n",
       "    <tr>\n",
       "      <th>3</th>\n",
       "      <td>3797467345</td>\n",
       "      <td>1196621759</td>\n",
       "      <td>2019-08-15</td>\n",
       "      <td>9759</td>\n",
       "      <td>B</td>\n",
       "    </tr>\n",
       "    <tr>\n",
       "      <th>4</th>\n",
       "      <td>2282983706</td>\n",
       "      <td>2322279887</td>\n",
       "      <td>2019-08-15</td>\n",
       "      <td>2308</td>\n",
       "      <td>B</td>\n",
       "    </tr>\n",
       "  </tbody>\n",
       "</table>\n",
       "</div>"
      ],
      "text/plain": [
       "   transactionId   visitorId        date  revenue group\n",
       "0     3667963787  3312258926  2019-08-15     1650     B\n",
       "1     2804400009  3642806036  2019-08-15      730     B\n",
       "2     2961555356  4069496402  2019-08-15      400     A\n",
       "3     3797467345  1196621759  2019-08-15     9759     B\n",
       "4     2282983706  2322279887  2019-08-15     2308     B"
      ]
     },
     "execution_count": 7,
     "metadata": {},
     "output_type": "execute_result"
    }
   ],
   "source": [
    "orders = pd.read_csv('https://code.s3.yandex.net/datasets/orders.csv')\n",
    "\n",
    "orders.info()\n",
    "orders.head()"
   ]
  },
  {
   "cell_type": "markdown",
   "id": "acdaa223",
   "metadata": {},
   "source": [
    "Так, пропусков в таблице нет, однако необходимо: 1) привести названия столбцов `transactionId` и `visitorId` к \"змеиному регистру\", 2) изменить тип данных в столбце `date` с `object` на `datetime`, 3) проверить количество групп в столбце `group`."
   ]
  },
  {
   "cell_type": "code",
   "execution_count": 8,
   "id": "6adf18fd",
   "metadata": {},
   "outputs": [
    {
     "name": "stdout",
     "output_type": "stream",
     "text": [
      "<class 'pandas.core.frame.DataFrame'>\n",
      "RangeIndex: 1197 entries, 0 to 1196\n",
      "Data columns (total 5 columns):\n",
      " #   Column          Non-Null Count  Dtype         \n",
      "---  ------          --------------  -----         \n",
      " 0   transaction_id  1197 non-null   int64         \n",
      " 1   visitor_id      1197 non-null   int64         \n",
      " 2   date            1197 non-null   datetime64[ns]\n",
      " 3   revenue         1197 non-null   int64         \n",
      " 4   group           1197 non-null   object        \n",
      "dtypes: datetime64[ns](1), int64(3), object(1)\n",
      "memory usage: 46.9+ KB\n"
     ]
    }
   ],
   "source": [
    "# приводим столбцы к змеиному регистру:\n",
    "orders.columns = orders.columns.str.replace('Id', '_id')\n",
    "        \n",
    "# заменим тип данных в столбце date:\n",
    "orders['date'] = orders['date'].map(\n",
    "    lambda x: dt.datetime.strptime(x, '%Y-%m-%d')\n",
    ")\n",
    "\n",
    "# снова выведем информацию о таблице:\n",
    "orders.info()"
   ]
  },
  {
   "cell_type": "markdown",
   "id": "e0711974",
   "metadata": {},
   "source": [
    "Отлично, теперь проверим столбец `group` на артефакты:"
   ]
  },
  {
   "cell_type": "code",
   "execution_count": 9,
   "id": "271b4d98",
   "metadata": {},
   "outputs": [
    {
     "data": {
      "text/plain": [
       "array(['A', 'B'], dtype=object)"
      ]
     },
     "execution_count": 9,
     "metadata": {},
     "output_type": "execute_result"
    }
   ],
   "source": [
    "orders['group'].sort_values().unique()"
   ]
  },
  {
   "cell_type": "markdown",
   "id": "607e6ad3",
   "metadata": {},
   "source": [
    "Всё верно. Обратимся к таблице `visitors`:"
   ]
  },
  {
   "cell_type": "code",
   "execution_count": 10,
   "id": "cfa163c6",
   "metadata": {},
   "outputs": [
    {
     "name": "stdout",
     "output_type": "stream",
     "text": [
      "<class 'pandas.core.frame.DataFrame'>\n",
      "RangeIndex: 62 entries, 0 to 61\n",
      "Data columns (total 3 columns):\n",
      " #   Column    Non-Null Count  Dtype \n",
      "---  ------    --------------  ----- \n",
      " 0   date      62 non-null     object\n",
      " 1   group     62 non-null     object\n",
      " 2   visitors  62 non-null     int64 \n",
      "dtypes: int64(1), object(2)\n",
      "memory usage: 1.6+ KB\n"
     ]
    },
    {
     "data": {
      "text/html": [
       "<div>\n",
       "<style scoped>\n",
       "    .dataframe tbody tr th:only-of-type {\n",
       "        vertical-align: middle;\n",
       "    }\n",
       "\n",
       "    .dataframe tbody tr th {\n",
       "        vertical-align: top;\n",
       "    }\n",
       "\n",
       "    .dataframe thead th {\n",
       "        text-align: right;\n",
       "    }\n",
       "</style>\n",
       "<table border=\"1\" class=\"dataframe\">\n",
       "  <thead>\n",
       "    <tr style=\"text-align: right;\">\n",
       "      <th></th>\n",
       "      <th>date</th>\n",
       "      <th>group</th>\n",
       "      <th>visitors</th>\n",
       "    </tr>\n",
       "  </thead>\n",
       "  <tbody>\n",
       "    <tr>\n",
       "      <th>0</th>\n",
       "      <td>2019-08-01</td>\n",
       "      <td>A</td>\n",
       "      <td>719</td>\n",
       "    </tr>\n",
       "    <tr>\n",
       "      <th>1</th>\n",
       "      <td>2019-08-02</td>\n",
       "      <td>A</td>\n",
       "      <td>619</td>\n",
       "    </tr>\n",
       "    <tr>\n",
       "      <th>2</th>\n",
       "      <td>2019-08-03</td>\n",
       "      <td>A</td>\n",
       "      <td>507</td>\n",
       "    </tr>\n",
       "    <tr>\n",
       "      <th>3</th>\n",
       "      <td>2019-08-04</td>\n",
       "      <td>A</td>\n",
       "      <td>717</td>\n",
       "    </tr>\n",
       "    <tr>\n",
       "      <th>4</th>\n",
       "      <td>2019-08-05</td>\n",
       "      <td>A</td>\n",
       "      <td>756</td>\n",
       "    </tr>\n",
       "  </tbody>\n",
       "</table>\n",
       "</div>"
      ],
      "text/plain": [
       "         date group  visitors\n",
       "0  2019-08-01     A       719\n",
       "1  2019-08-02     A       619\n",
       "2  2019-08-03     A       507\n",
       "3  2019-08-04     A       717\n",
       "4  2019-08-05     A       756"
      ]
     },
     "execution_count": 10,
     "metadata": {},
     "output_type": "execute_result"
    }
   ],
   "source": [
    "visitors = pd.read_csv('https://code.s3.yandex.net/datasets/visitors.csv')\n",
    "\n",
    "visitors.info()\n",
    "visitors.head()"
   ]
  },
  {
   "cell_type": "markdown",
   "id": "9a263f2f",
   "metadata": {},
   "source": [
    "В данной таблице также надо изменить тип данных в столбце `date` на `datetime` и проверить столбец `group` на артефакты:"
   ]
  },
  {
   "cell_type": "code",
   "execution_count": 11,
   "id": "b989d29e",
   "metadata": {},
   "outputs": [
    {
     "data": {
      "text/plain": [
       "dtype('<M8[ns]')"
      ]
     },
     "metadata": {},
     "output_type": "display_data"
    },
    {
     "data": {
      "text/plain": [
       "array(['A', 'B'], dtype=object)"
      ]
     },
     "metadata": {},
     "output_type": "display_data"
    }
   ],
   "source": [
    "# изменяем тип данных в столбце date:\n",
    "visitors['date'] = visitors['date'].map(\n",
    "    lambda x: dt.datetime.strptime(x, '%Y-%m-%d')\n",
    ")\n",
    "# выведем новый тип данных в данном столбце:\n",
    "display(visitors['date'].dtype)\n",
    "\n",
    "# проверим столбец group на артефакты:\n",
    "display(visitors['group'].sort_values().unique())"
   ]
  },
  {
   "cell_type": "markdown",
   "id": "71fb39ef",
   "metadata": {},
   "source": [
    "Отлично, тип данных успешно изменён, артефактов нет.\n",
    "\n",
    "Перед началом анализа A/B-теста убедимся в том, что в таблицах нет дубликатов, а также, что каждый пользователь входит только в одну группу:"
   ]
  },
  {
   "cell_type": "code",
   "execution_count": 12,
   "id": "441fa4fc",
   "metadata": {},
   "outputs": [
    {
     "data": {
      "text/plain": [
       "0"
      ]
     },
     "metadata": {},
     "output_type": "display_data"
    },
    {
     "data": {
      "text/plain": [
       "0"
      ]
     },
     "metadata": {},
     "output_type": "display_data"
    },
    {
     "data": {
      "text/plain": [
       "58"
      ]
     },
     "execution_count": 12,
     "metadata": {},
     "output_type": "execute_result"
    }
   ],
   "source": [
    "# проверка на дубликаты:\n",
    "display(orders.duplicated().sum())\n",
    "display(visitors.duplicated().sum())\n",
    "\n",
    "# провека пользователей:\n",
    "len(orders.groupby('visitor_id').agg({'group':'nunique'}).query('group > 1'))"
   ]
  },
  {
   "cell_type": "markdown",
   "id": "e865168f",
   "metadata": {},
   "source": [
    "Дубликатов в таблицах нет. Однако есть 58 участников, которые попали в обе группы. Но датафрейм с визитами содержит кумулятивные данные. И если мы удалим таких пользователей из заказов, то не сможем удалить из посещений. Придётся оставить всё, как есть.\n",
    "\n",
    "Можно приступать к анализу."
   ]
  },
  {
   "cell_type": "markdown",
   "id": "0ff469f9",
   "metadata": {},
   "source": [
    "### Анализ кумулятивных показателей"
   ]
  },
  {
   "cell_type": "markdown",
   "id": "e05a32e0",
   "metadata": {},
   "source": [
    "Для начала посмотрим, в какие временные рамки производился тест:"
   ]
  },
  {
   "cell_type": "code",
   "execution_count": 13,
   "id": "aacce4d3",
   "metadata": {},
   "outputs": [
    {
     "data": {
      "text/plain": [
       "'Рамки исследования в таблице orders:'"
      ]
     },
     "metadata": {},
     "output_type": "display_data"
    },
    {
     "data": {
      "text/plain": [
       "Timestamp('2019-08-01 00:00:00')"
      ]
     },
     "metadata": {},
     "output_type": "display_data"
    },
    {
     "data": {
      "text/plain": [
       "Timestamp('2019-08-31 00:00:00')"
      ]
     },
     "metadata": {},
     "output_type": "display_data"
    },
    {
     "data": {
      "text/plain": [
       "'Рамки исследования в таблице visitors:'"
      ]
     },
     "metadata": {},
     "output_type": "display_data"
    },
    {
     "data": {
      "text/plain": [
       "Timestamp('2019-08-01 00:00:00')"
      ]
     },
     "metadata": {},
     "output_type": "display_data"
    },
    {
     "data": {
      "text/plain": [
       "Timestamp('2019-08-31 00:00:00')"
      ]
     },
     "metadata": {},
     "output_type": "display_data"
    }
   ],
   "source": [
    "display('Рамки исследования в таблице orders:', orders['date'].min(), orders['date'].max())\n",
    "display('Рамки исследования в таблице visitors:', visitors['date'].min(), visitors['date'].max())"
   ]
  },
  {
   "cell_type": "markdown",
   "id": "9f737b4f",
   "metadata": {},
   "source": [
    "Так, A/B-тест на данный момент охватывает август 2019 г.\n",
    "\n",
    "Чтобы оценить различие в поведении пользователей из разных групп теста, проведём анализ некоторых кумулятивных показателей, а именно: 1) выручки, 2) среднего чека, 3) конверсии.\n",
    "\n",
    "Начнём с рассмотрения кумулятивной выручки. Для этого создадим несколько вспомогательных датафреймов:"
   ]
  },
  {
   "cell_type": "code",
   "execution_count": 14,
   "id": "63f9da8f",
   "metadata": {},
   "outputs": [
    {
     "data": {
      "text/html": [
       "<div>\n",
       "<style scoped>\n",
       "    .dataframe tbody tr th:only-of-type {\n",
       "        vertical-align: middle;\n",
       "    }\n",
       "\n",
       "    .dataframe tbody tr th {\n",
       "        vertical-align: top;\n",
       "    }\n",
       "\n",
       "    .dataframe thead th {\n",
       "        text-align: right;\n",
       "    }\n",
       "</style>\n",
       "<table border=\"1\" class=\"dataframe\">\n",
       "  <thead>\n",
       "    <tr style=\"text-align: right;\">\n",
       "      <th></th>\n",
       "      <th>date</th>\n",
       "      <th>group</th>\n",
       "      <th>orders</th>\n",
       "      <th>buyers</th>\n",
       "      <th>revenue</th>\n",
       "      <th>visitors</th>\n",
       "    </tr>\n",
       "  </thead>\n",
       "  <tbody>\n",
       "    <tr>\n",
       "      <th>0</th>\n",
       "      <td>2019-08-01</td>\n",
       "      <td>A</td>\n",
       "      <td>24</td>\n",
       "      <td>20</td>\n",
       "      <td>148579</td>\n",
       "      <td>719</td>\n",
       "    </tr>\n",
       "    <tr>\n",
       "      <th>1</th>\n",
       "      <td>2019-08-01</td>\n",
       "      <td>B</td>\n",
       "      <td>21</td>\n",
       "      <td>20</td>\n",
       "      <td>101217</td>\n",
       "      <td>713</td>\n",
       "    </tr>\n",
       "    <tr>\n",
       "      <th>2</th>\n",
       "      <td>2019-08-02</td>\n",
       "      <td>A</td>\n",
       "      <td>44</td>\n",
       "      <td>38</td>\n",
       "      <td>242401</td>\n",
       "      <td>1338</td>\n",
       "    </tr>\n",
       "    <tr>\n",
       "      <th>3</th>\n",
       "      <td>2019-08-02</td>\n",
       "      <td>B</td>\n",
       "      <td>45</td>\n",
       "      <td>43</td>\n",
       "      <td>266748</td>\n",
       "      <td>1294</td>\n",
       "    </tr>\n",
       "    <tr>\n",
       "      <th>4</th>\n",
       "      <td>2019-08-03</td>\n",
       "      <td>A</td>\n",
       "      <td>68</td>\n",
       "      <td>62</td>\n",
       "      <td>354874</td>\n",
       "      <td>1845</td>\n",
       "    </tr>\n",
       "  </tbody>\n",
       "</table>\n",
       "</div>"
      ],
      "text/plain": [
       "        date group  orders  buyers  revenue  visitors\n",
       "0 2019-08-01     A      24      20   148579       719\n",
       "1 2019-08-01     B      21      20   101217       713\n",
       "2 2019-08-02     A      44      38   242401      1338\n",
       "3 2019-08-02     B      45      43   266748      1294\n",
       "4 2019-08-03     A      68      62   354874      1845"
      ]
     },
     "metadata": {},
     "output_type": "display_data"
    },
    {
     "data": {
      "text/plain": [
       "(Timestamp('2019-08-01 00:00:00'), Timestamp('2019-08-31 00:00:00'))"
      ]
     },
     "execution_count": 14,
     "metadata": {},
     "output_type": "execute_result"
    }
   ],
   "source": [
    "# создадим датафрйем с уникальными парами дат и групп:\n",
    "dates_groups = orders[['date', 'group']].drop_duplicates()\n",
    "\n",
    "# сделаем таблицу с агрегированными кумулятивными данными о заказах:\n",
    "orders_aggregated = dates_groups.apply(\n",
    "    lambda x: orders[np.logical_and(orders['date'] <= x['date'], orders['group'] == x['group'])].agg(\n",
    "        {'date':'max', 'group':'max', 'transaction_id':'nunique', 'visitor_id':'nunique', 'revenue':'sum'}\n",
    "    ), axis=1\n",
    ").sort_values(by=['date', 'group'])\n",
    "\n",
    "# создадим таблицу с агрегированными кумулятивными данными о посетителях:\n",
    "visitors_aggregated = dates_groups.apply(\n",
    "    lambda x: visitors[np.logical_and(visitors['date'] <= x['date'], visitors['group'] == x['group'])].agg(\n",
    "        {'date':'max', 'group':'max', 'visitors':'sum'}\n",
    "    ), axis=1\n",
    ").sort_values(by=['date', 'group'])\n",
    "\n",
    "# объединим две получившиеся таблицы в одну:\n",
    "cumulative_data = orders_aggregated.merge(visitors_aggregated, on=['date', 'group'])\n",
    "cumulative_data.columns = ['date', 'group', 'orders', 'buyers', 'revenue', 'visitors']\n",
    "\n",
    "# выведем первые пять строк получившейся таблицы:\n",
    "display(cumulative_data.head())\n",
    "\n",
    "# проверим корректность датафрейма cumulative_data:\n",
    "cumulative_data['date'].min(), cumulative_data['date'].max()"
   ]
  },
  {
   "cell_type": "markdown",
   "id": "9118b9f5",
   "metadata": {},
   "source": [
    "Отлично, минимальная и максимальная даты в таблице `cumulative_data` совпадают с изначальными данными, т.е. таблица корректна. Теперь можно строить график выручки."
   ]
  },
  {
   "cell_type": "code",
   "execution_count": 15,
   "id": "78b7316e",
   "metadata": {},
   "outputs": [
    {
     "data": {
      "text/plain": [
       "<matplotlib.legend.Legend at 0x10e11b310>"
      ]
     },
     "execution_count": 15,
     "metadata": {},
     "output_type": "execute_result"
    },
    {
     "data": {
      "image/png": "[encoded data removed]",
      "text/plain": [
       "<Figure size 648x432 with 1 Axes>"
      ]
     },
     "metadata": {
      "needs_background": "light"
     },
     "output_type": "display_data"
    }
   ],
   "source": [
    "# выделим заказы и выручку группы A в отдельный датафрейм:\n",
    "cumulative_revenue_a = cumulative_data[cumulative_data['group'] == 'A'][['date', 'revenue', 'orders']]\n",
    "\n",
    "# то же самое сделаем и для группы B:\n",
    "cumulative_revenue_b = cumulative_data[cumulative_data['group'] == 'B'][['date', 'revenue', 'orders']]\n",
    "\n",
    "# построим график выручки от группы A:\n",
    "plt.figure(figsize=(9, 6))\n",
    "plt.plot(cumulative_revenue_a['date'], cumulative_revenue_a['revenue'], label='A')\n",
    "\n",
    "# построим график выручки от группы B:\n",
    "plt.plot(cumulative_revenue_b['date'], cumulative_revenue_b['revenue'], label='B')\n",
    "\n",
    "plt.xticks(rotation=45)\n",
    "plt.title('График кумулятивных выручек групп A и B')\n",
    "plt.xlabel('Дата') \n",
    "plt.ylabel('Доход')\n",
    "plt.legend()"
   ]
  },
  {
   "cell_type": "markdown",
   "id": "e27feedf",
   "metadata": {},
   "source": [
    "Так, как видно по графику, группа B стабильно лидировала по кумулятивной выручке почти на всём протяжении теста, однако резкий скачое выручки в группе B в районе 21 августа может свидетельствовать о выбросах.\n",
    "\n",
    "Посмотрим на графики средних чеков:"
   ]
  },
  {
   "cell_type": "code",
   "execution_count": 16,
   "id": "835c945d",
   "metadata": {},
   "outputs": [
    {
     "data": {
      "text/plain": [
       "<matplotlib.legend.Legend at 0x12586ccd0>"
      ]
     },
     "execution_count": 16,
     "metadata": {},
     "output_type": "execute_result"
    },
    {
     "data": {
      "image/png": "[encoded data removed]",
      "text/plain": [
       "<Figure size 648x432 with 1 Axes>"
      ]
     },
     "metadata": {
      "needs_background": "light"
     },
     "output_type": "display_data"
    }
   ],
   "source": [
    "# построим график выручки от группы A:\n",
    "plt.figure(figsize=(9, 6))\n",
    "plt.plot(cumulative_revenue_a['date'], cumulative_revenue_a['revenue'] / cumulative_revenue_a['orders'], label='A')\n",
    "\n",
    "# построим график выручки от группы B:\n",
    "plt.plot(cumulative_revenue_b['date'], cumulative_revenue_b['revenue'] / cumulative_revenue_b['orders'], label='B')\n",
    "\n",
    "plt.xticks(rotation=45)\n",
    "plt.title('График кумулятивных средних чеков групп A и B')\n",
    "plt.xlabel('Дата') \n",
    "plt.ylabel('Средняя сумма заказа')\n",
    "plt.legend()"
   ]
  },
  {
   "cell_type": "markdown",
   "id": "9eae9975",
   "metadata": {},
   "source": [
    "Почти на всём протяжении теста средний чек для группы B был выше, однако, судя по резким всплескам (как, например, в районе 17 августа 2019 г.), данные могут быть подвержены влянию выбросов.\n",
    "\n",
    "Построим график относительного различия кумулятивного среднего чека группы B к группе A: <a id='bill'></a>"
   ]
  },
  {
   "cell_type": "code",
   "execution_count": 17,
   "id": "7f75a5c9",
   "metadata": {},
   "outputs": [
    {
     "data": {
      "text/plain": [
       "Text(0, 0.5, 'Прирост среднего чека группы B к группе A')"
      ]
     },
     "execution_count": 17,
     "metadata": {},
     "output_type": "execute_result"
    },
    {
     "data": {
      "image/png": "[encoded data removed]",
      "text/plain": [
       "<Figure size 648x432 with 1 Axes>"
      ]
     },
     "metadata": {
      "needs_background": "light"
     },
     "output_type": "display_data"
    }
   ],
   "source": [
    "# соединим данные в один датафрейм:\n",
    "cumulative_revenue_merged = cumulative_revenue_a.merge(cumulative_revenue_b, on='date', how='left', suffixes=['_a', '_b'])\n",
    "\n",
    "# строим график:\n",
    "plt.figure(figsize=(9, 6))\n",
    "plt.plot(\n",
    "    cumulative_revenue_merged['date'], (\n",
    "        cumulative_revenue_merged['revenue_b']/cumulative_revenue_merged['orders_b'])/(\n",
    "        cumulative_revenue_merged['revenue_a']/cumulative_revenue_merged['orders_a'])-1)\n",
    "# добавим ось x в нуле:\n",
    "plt.axhline(y=0, color='black', linestyle='--')\n",
    "plt.xticks(rotation=45)\n",
    "plt.title('График относительного различия кумулятивного среднего чека группы B к группе A')\n",
    "plt.xlabel('Дата') \n",
    "plt.ylabel('Прирост среднего чека группы B к группе A')"
   ]
  },
  {
   "cell_type": "markdown",
   "id": "ac5cd408",
   "metadata": {},
   "source": [
    "Видно, что линия графика меняется скачнообразно. Это означает, что будет необходимо проверить данные на выбросы.\n",
    "\n",
    "Пока построим график кумулятивной конверсии:"
   ]
  },
  {
   "cell_type": "code",
   "execution_count": 18,
   "id": "ffbddf8f",
   "metadata": {},
   "outputs": [
    {
     "data": {
      "text/plain": [
       "<matplotlib.legend.Legend at 0x125dd9ee0>"
      ]
     },
     "execution_count": 18,
     "metadata": {},
     "output_type": "execute_result"
    },
    {
     "data": {
      "image/png": "[encoded data removed]",
      "text/plain": [
       "<Figure size 648x432 with 1 Axes>"
      ]
     },
     "metadata": {
      "needs_background": "light"
     },
     "output_type": "display_data"
    }
   ],
   "source": [
    "# посчитаем конверсию:\n",
    "cumulative_data['conversion'] = cumulative_data['orders'] / cumulative_data['visitors']\n",
    "\n",
    "# сохраним данные по группам A и B в отдельные таблицы:\n",
    "cumulative_data_a = cumulative_data[cumulative_data['group'] == 'A']\n",
    "cumulative_data_b = cumulative_data[cumulative_data['group'] == 'B']\n",
    "\n",
    "# строим графики конверсии по каждой группе:\n",
    "plt.figure(figsize=(9, 6))\n",
    "plt.plot(cumulative_data_a['date'], cumulative_data_a['conversion'], label='A')\n",
    "plt.plot(cumulative_data_b['date'], cumulative_data_b['conversion'], label='B')\n",
    "\n",
    "plt.xticks(rotation=45)\n",
    "plt.title('График кумулятивной конверсии групп A и B')\n",
    "plt.xlabel('Дата') \n",
    "plt.ylabel('Конверсия')\n",
    "plt.legend()"
   ]
  },
  {
   "cell_type": "markdown",
   "id": "30cfaeb5",
   "metadata": {},
   "source": [
    "Конверсия групп менялась скачкообразно в начале A/B-теста, но после 5 августа стабилизировалась: конверсия группы B стабильно выше конверсии группы A.\n",
    "\n",
    "Построим график относительного изменения кумулятивной конверсии группы B к группе A: <a id='conversion'></a>"
   ]
  },
  {
   "cell_type": "code",
   "execution_count": 19,
   "id": "ae607424",
   "metadata": {},
   "outputs": [
    {
     "data": {
      "text/plain": [
       "Text(0, 0.5, 'Прирост конверсии группы B к группе A')"
      ]
     },
     "execution_count": 19,
     "metadata": {},
     "output_type": "execute_result"
    },
    {
     "data": {
      "image/png": "[encoded data removed]",
      "text/plain": [
       "<Figure size 648x432 with 1 Axes>"
      ]
     },
     "metadata": {
      "needs_background": "light"
     },
     "output_type": "display_data"
    }
   ],
   "source": [
    "# объединим конверсии обеих групп в новую таблицу:\n",
    "merged_cumulative_conversion = cumulative_data_a[['date', 'conversion']].merge(\n",
    "    cumulative_data_b[['date', 'conversion']], on='date', how='left', suffixes=['_a', '_b'])\n",
    "\n",
    "# построим график:\n",
    "plt.figure(figsize=(9, 6))\n",
    "plt.plot(\n",
    "    merged_cumulative_conversion['date'], merged_cumulative_conversion['conversion_b']/merged_cumulative_conversion['conversion_a']-1)\n",
    "# добавим оси x=0 и x=0.1:\n",
    "plt.axhline(y=0, color='black', linestyle='--')\n",
    "plt.axhline(y=0.1, color='grey', linestyle='--')\n",
    "plt.xticks(rotation=45)\n",
    "plt.title('График относительного изменения кумулятивной конверсии группы B к группе A')\n",
    "plt.xlabel('Дата') \n",
    "plt.ylabel('Прирост конверсии группы B к группе A')"
   ]
  },
  {
   "cell_type": "markdown",
   "id": "256ee839",
   "metadata": {},
   "source": [
    "Так, данный график подтверждает выводы по конверсии: до 5 августа конверсия менялась резко, однако после у группы B данный показатель был стабильно выше, чем у группы A. В конце наблюдения он стабилизировался, при этом в группе B фиксировались ежедневно около 10-13% прироста относительно группы A.\n",
    "\n",
    "Однако необходимо проверить данные на выбросы."
   ]
  },
  {
   "cell_type": "markdown",
   "id": "3f745bc9",
   "metadata": {},
   "source": [
    "### Анализ выборосов"
   ]
  },
  {
   "cell_type": "markdown",
   "id": "15b950ce",
   "metadata": {},
   "source": [
    "Сначала проверим на выбросы количество заказов. Для этого построим точечный график:"
   ]
  },
  {
   "cell_type": "code",
   "execution_count": 20,
   "id": "c4261572",
   "metadata": {},
   "outputs": [
    {
     "data": {
      "text/plain": [
       "Text(0, 0.5, 'Количество заказов')"
      ]
     },
     "execution_count": 20,
     "metadata": {},
     "output_type": "execute_result"
    },
    {
     "data": {
      "image/png": "[encoded data removed]",
      "text/plain": [
       "<Figure size 432x288 with 1 Axes>"
      ]
     },
     "metadata": {
      "needs_background": "light"
     },
     "output_type": "display_data"
    }
   ],
   "source": [
    "# создадим таблицу с количеством заказов для каждого посетителя:\n",
    "orders_by_users = orders.groupby('visitor_id', as_index=False).agg({'transaction_id':'nunique'})\n",
    "orders_by_users.columns = ['visitor_id', 'orders']\n",
    "\n",
    "# создадим серию из целых чисел от нуля до числа количества пользователей:\n",
    "x = pd.Series(range(0, len(orders_by_users)))\n",
    "\n",
    "# построим точечный график:\n",
    "plt.scatter(x, orders_by_users['orders'])\n",
    "plt.xlabel('Пользователи') \n",
    "plt.ylabel('Количество заказов')"
   ]
  },
  {
   "cell_type": "markdown",
   "id": "59e274c4",
   "metadata": {},
   "source": [
    "Судя по графику, большинство посетителей совершают один заказ, некоторые - два, а вот тех, кто делает больше заказов, совсем мало. Это могут быть выбросы. Вычислим 95-й и 99-й перцентили количества заказов на пользователя:"
   ]
  },
  {
   "cell_type": "code",
   "execution_count": 21,
   "id": "7a749551",
   "metadata": {},
   "outputs": [
    {
     "data": {
      "text/plain": [
       "array([2., 4.])"
      ]
     },
     "execution_count": 21,
     "metadata": {},
     "output_type": "execute_result"
    }
   ],
   "source": [
    "np.percentile(orders_by_users['orders'], [95, 99])"
   ]
  },
  {
   "cell_type": "markdown",
   "id": "e2f752d1",
   "metadata": {},
   "source": [
    "Так, не более 5% посетителей совершали более 2-х заказов, не более 1% - более 4-х заказов. Так, можно исключить из наблюдения 5% пользователей, совершивших более 2-х заказов.\n",
    "\n",
    "Теперь проверим всё то же самое для стоимости заказов:"
   ]
  },
  {
   "cell_type": "code",
   "execution_count": 22,
   "id": "13d3665c",
   "metadata": {},
   "outputs": [
    {
     "data": {
      "text/plain": [
       "Text(0, 0.5, 'Выручка')"
      ]
     },
     "execution_count": 22,
     "metadata": {},
     "output_type": "execute_result"
    },
    {
     "data": {
      "image/png": "[encoded data removed]",
      "text/plain": [
       "<Figure size 432x288 with 1 Axes>"
      ]
     },
     "metadata": {
      "needs_background": "light"
     },
     "output_type": "display_data"
    }
   ],
   "source": [
    "x = pd.Series(range(0, len(orders['revenue'])))\n",
    "plt.scatter(x, orders['revenue'])\n",
    "plt.xlabel('Заказы') \n",
    "plt.ylabel('Выручка')"
   ]
  },
  {
   "cell_type": "markdown",
   "id": "8d0555a7",
   "metadata": {},
   "source": [
    "По данному точечному графику кажется, что все заказы в общем стоят примерно одинаково, не считая двух явных выбросов. Однако такое впечателение может создадться из-за масштаба графика. \"Приблизим\" его:"
   ]
  },
  {
   "cell_type": "code",
   "execution_count": 23,
   "id": "a86036e0",
   "metadata": {},
   "outputs": [
    {
     "data": {
      "text/plain": [
       "Text(0, 0.5, 'Выручка')"
      ]
     },
     "execution_count": 23,
     "metadata": {},
     "output_type": "execute_result"
    },
    {
     "data": {
      "image/png": "[encoded data removed]",
      "text/plain": [
       "<Figure size 432x288 with 1 Axes>"
      ]
     },
     "metadata": {
      "needs_background": "light"
     },
     "output_type": "display_data"
    }
   ],
   "source": [
    "plt.scatter(x, orders['revenue'])\n",
    "plt.ylim(0, 0.3e+06)\n",
    "plt.xlabel('Заказы') \n",
    "plt.ylabel('Выручка')"
   ]
  },
  {
   "cell_type": "markdown",
   "id": "177a5d10",
   "metadata": {},
   "source": [
    "Так, теперь видно, что основное большинство посетителей заказывают менее, чем на примерно 30000. Тем не менее есть и те, у кого сумма заказа превышают эту отметку. Посмотрим на 95-й и 99-й перцентили стоимости заказов:"
   ]
  },
  {
   "cell_type": "code",
   "execution_count": 24,
   "id": "40f8851d",
   "metadata": {},
   "outputs": [
    {
     "data": {
      "text/plain": [
       "array([28000. , 58233.2])"
      ]
     },
     "execution_count": 24,
     "metadata": {},
     "output_type": "execute_result"
    }
   ],
   "source": [
    "np.percentile(orders['revenue'], [95, 99])"
   ]
  },
  {
   "cell_type": "markdown",
   "id": "7e07cb62",
   "metadata": {},
   "source": [
    "Итак, не более 5% заказов были дороже 28000, не более 1% - дороже 58233. В данном случае можно исключить заказы на сумму более 28000. Таким образом, мы удалим 5% пользователей с наибольшим числом заказов и 5% пользователей с самой крупной суммой заказа."
   ]
  },
  {
   "cell_type": "markdown",
   "id": "e4ad221f",
   "metadata": {},
   "source": [
    "Создадим таблицу пользователей с слишком большим числом заказов или очень крупной суммой заказа:"
   ]
  },
  {
   "cell_type": "code",
   "execution_count": 25,
   "id": "bfd58957",
   "metadata": {},
   "outputs": [
    {
     "data": {
      "text/plain": [
       "1099    148427295\n",
       "18      199603092\n",
       "928     204675465\n",
       "23      237748145\n",
       "37      249864742\n",
       "Name: visitor_id, dtype: int64"
      ]
     },
     "execution_count": 25,
     "metadata": {},
     "output_type": "execute_result"
    }
   ],
   "source": [
    "# сгруппируем количество заказов в группе A по пользователям:\n",
    "orders_by_users_a = orders[orders['group'] == 'A'].groupby('visitor_id', as_index=False).agg(\n",
    "    {'transaction_id':'nunique'})\n",
    "orders_by_users_a.columns = ['visitor_id', 'orders']\n",
    "\n",
    "# то же самое для группы B:\n",
    "orders_by_users_b = orders[orders['group'] == 'B'].groupby('visitor_id', as_index=False).agg(\n",
    "    {'transaction_id':'nunique'})\n",
    "orders_by_users_b.columns = ['visitor_id', 'orders']\n",
    "\n",
    "# объединяем пользователей из двух групп, совершивших более 2-х заказов:\n",
    "visitors_with_many_orders = pd.concat(\n",
    "    [\n",
    "       orders_by_users_a[orders_by_users_a['orders'] > np.percentile(orders_by_users['orders'], [95, 99])[0]]['visitor_id'],\n",
    "       orders_by_users_b[orders_by_users_b['orders'] > np.percentile(orders_by_users['orders'], [95, 99])[0]]['visitor_id'],\n",
    "    ],\n",
    "    axis=0\n",
    ")\n",
    "\n",
    "# ищем заказы дороже 30000:\n",
    "visitors_with_expensive_orders = orders[orders['revenue'] > np.percentile(orders['revenue'], [95, 99])[0]]['visitor_id']\n",
    "\n",
    "# объединяем всех необычных пользователей в одну таблицу:\n",
    "abnormal_visitors = (pd.concat([visitors_with_many_orders, visitors_with_expensive_orders], axis=0)\n",
    "                    .drop_duplicates().sort_values())\n",
    "\n",
    "abnormal_visitors.head()"
   ]
  },
  {
   "cell_type": "code",
   "execution_count": 26,
   "id": "ae1448e1",
   "metadata": {},
   "outputs": [
    {
     "data": {
      "text/plain": [
       "'Процент удалённых пользователей: 7.18%'"
      ]
     },
     "metadata": {},
     "output_type": "display_data"
    }
   ],
   "source": [
    "display('Процент удалённых пользователей: {}%'.format(\n",
    "    round(len(abnormal_visitors)/(len(orders['visitor_id'].unique()))*100, 2)))"
   ]
  },
  {
   "cell_type": "markdown",
   "id": "5d1777c6",
   "metadata": {},
   "source": [
    "Так, всего из выборки мы удалили немного более 7% пользователей, что в пределах допустимых значений. Можно проводить ститстические тесты."
   ]
  },
  {
   "cell_type": "markdown",
   "id": "ba20f591",
   "metadata": {},
   "source": [
    "### Подсчёт статистической значимости различий в показателях между группами по «сырым» данным"
   ]
  },
  {
   "cell_type": "markdown",
   "id": "8d7c7755",
   "metadata": {},
   "source": [
    "Для начала посмотрим на статистическую значимость в показателях двух групп, не исключая выбросы. Начнём с конверсии:\n",
    "* H0: Количество заказов на пользователя в группах A и B по \"сырым\" данным одинаковое.\n",
    "* H1: Между количеством заказов в группах A и B по \"сырым\" данным есть значимая разница."
   ]
  },
  {
   "cell_type": "code",
   "execution_count": 27,
   "id": "a0a892ce",
   "metadata": {},
   "outputs": [
    {
     "data": {
      "text/plain": [
       "'P-значение равно 0.016792355056752608'"
      ]
     },
     "metadata": {},
     "output_type": "display_data"
    },
    {
     "data": {
      "text/plain": [
       "'Отвергаем нулевую гипотезу: разница статистически значима'"
      ]
     },
     "metadata": {},
     "output_type": "display_data"
    },
    {
     "data": {
      "text/plain": [
       "'Относительный прирост среднего числа заказов группы B равен 0.138'"
      ]
     },
     "metadata": {},
     "output_type": "display_data"
    }
   ],
   "source": [
    "# датафрейм с данными по группе A:\n",
    "sample_a = pd.concat(\n",
    "    [\n",
    "        orders_by_users_a['orders'],\n",
    "        pd.Series(\n",
    "            0, index=np.arange(\n",
    "                cumulative_data[np.logical_and(\n",
    "                    cumulative_data['group'] == 'A', cumulative_data['date'] == '2019-08-31')]['visitors'].sum() - len(\n",
    "                    orders_by_users_a['orders'])\n",
    "        ),\n",
    "        name='orders')\n",
    "    ],\n",
    "    axis=0\n",
    ")\n",
    "\n",
    "# по группе B:\n",
    "sample_b = pd.concat(\n",
    "    [\n",
    "        orders_by_users_b['orders'],\n",
    "        pd.Series(\n",
    "            0, index=np.arange(\n",
    "                cumulative_data[np.logical_and(\n",
    "                    cumulative_data['group'] == 'B', cumulative_data['date'] == '2019-08-31')]['visitors'].sum() - len(\n",
    "                    orders_by_users_b['orders'])\n",
    "        ),\n",
    "        name='orders')\n",
    "    ],\n",
    "    axis=0\n",
    ")\n",
    "\n",
    "# вычисляем P-значение:\n",
    "alpha = .05\n",
    "pvalue = st.mannwhitneyu(sample_a, sample_b)[1]\n",
    "\n",
    "display('P-значение равно {}'.format(pvalue))\n",
    "\n",
    "# делаем вывод о нулевой гипотезе:\n",
    "if pvalue < alpha:\n",
    "    display('Отвергаем нулевую гипотезу: разница статистически значима')\n",
    "else:\n",
    "    display('Не вышло отвергнуть нулевую гипотезу: вывод о различии сделать нельзя')\n",
    "\n",
    "# считаем относительный прирост среднего числа заказов группы B:\n",
    "display('Относительный прирост среднего числа заказов группы B равен {0:.3f}'.format(\n",
    "    (sample_b.mean()/sample_a.mean()-1)\n",
    "))"
   ]
  },
  {
   "cell_type": "markdown",
   "id": "1512aa5d",
   "metadata": {},
   "source": [
    "Так, по итогам теста на \"сырых\" данных, между группами присутсвует статистически значимая разница в конверсии, нулевая гипотезу отвергается (хотя относительный прирост среднего числа заказов группы B составляет всего 13.8%).\n",
    "\n"
   ]
  },
  {
   "cell_type": "markdown",
   "id": "1dc09a4b",
   "metadata": {},
   "source": [
    "Посмотрим, какой вывод удастся сделать о наличии статистически значимых различий между группами в среднем чеке заказа:\n",
    "* H0: Группы выбираются из генеральных совокупностей с одинаковым распредлением среднего чека заказа.\n",
    "* H1: У генеральных совокупностей, из которых выбраны группы, распределения среднего чека заказа не одинаковы."
   ]
  },
  {
   "cell_type": "code",
   "execution_count": 28,
   "id": "342d0048",
   "metadata": {},
   "outputs": [
    {
     "data": {
      "text/plain": [
       "'P-значение равно 0.7292909855432458'"
      ]
     },
     "metadata": {},
     "output_type": "display_data"
    },
    {
     "data": {
      "text/plain": [
       "'Не вышло отвергнуть нулевую гипотезу: вывод о различии сделать нельзя'"
      ]
     },
     "metadata": {},
     "output_type": "display_data"
    },
    {
     "data": {
      "text/plain": [
       "'Относительный прирост среднего чека заказов группы B равен 0.259'"
      ]
     },
     "metadata": {},
     "output_type": "display_data"
    }
   ],
   "source": [
    "# вычисляем P-значение:\n",
    "pvalue = st.mannwhitneyu(orders[orders['group'] == 'A']['revenue'], orders[orders['group'] == 'B']['revenue'])[1]\n",
    "\n",
    "display('P-значение равно {}'.format(pvalue))\n",
    "\n",
    "# делаем вывод о нулевой гипотезе:\n",
    "if pvalue < alpha:\n",
    "    display('Отвергаем нулевую гипотезу: разница статистически значима')\n",
    "else:\n",
    "    display('Не вышло отвергнуть нулевую гипотезу: вывод о различии сделать нельзя')\n",
    "\n",
    "# считаем относительные различия в среднем чеке между группами:\n",
    "display('Относительный прирост среднего чека заказов группы B равен {0:.3f}'.format(\n",
    "    (orders[orders['group'] == 'B']['revenue'].mean()/orders[orders['group'] == 'A']['revenue'].mean()-1)\n",
    "))"
   ]
  },
  {
   "cell_type": "markdown",
   "id": "bb0b822d",
   "metadata": {},
   "source": [
    "Статистически значимых различий между группами в среднем чеке по \"сырым\" данным не выявлено, т.е. разница в 25.9% не является статистически значимой.\n",
    "\n",
    "Посмотрим, изменятся ли результаты при использовании \"очищенных\" от выбросов датафреймов."
   ]
  },
  {
   "cell_type": "markdown",
   "id": "3b7ade12",
   "metadata": {},
   "source": [
    "### Подсчёт статистической значимости различий в показателях между группами по «очищенным» данным"
   ]
  },
  {
   "cell_type": "markdown",
   "id": "8829d11c",
   "metadata": {},
   "source": [
    "Повторим тест на статистическую значимость различий в конверсии между группами для \"очищенных\" данных (гипотезы те же):"
   ]
  },
  {
   "cell_type": "code",
   "execution_count": 29,
   "id": "b5b12b57",
   "metadata": {},
   "outputs": [
    {
     "data": {
      "text/plain": [
       "'P-значение равно 0.013042592743036745'"
      ]
     },
     "metadata": {},
     "output_type": "display_data"
    },
    {
     "data": {
      "text/plain": [
       "'Отвергаем нулевую гипотезу: разница статистически значима'"
      ]
     },
     "metadata": {},
     "output_type": "display_data"
    },
    {
     "data": {
      "text/plain": [
       "'Относительный прирост среднего числа заказов группы B равен 0.173'"
      ]
     },
     "metadata": {},
     "output_type": "display_data"
    }
   ],
   "source": [
    "# датафрейм с \"очищенными\" данными по группе A:\n",
    "sample_a_filtered = pd.concat(\n",
    "    [\n",
    "        orders_by_users_a[np.logical_not(orders_by_users_a['visitor_id'].isin(abnormal_visitors))]['orders'],\n",
    "        pd.Series(\n",
    "            0, index=np.arange(\n",
    "                cumulative_data[np.logical_and(\n",
    "                    cumulative_data['group'] == 'A', cumulative_data['date'] == '2019-08-31')]['visitors'].sum() - len(\n",
    "                    orders_by_users_a['orders'])\n",
    "        ),\n",
    "        name='orders')\n",
    "    ],\n",
    "    axis=0\n",
    ")\n",
    "\n",
    "# по группе B:\n",
    "sample_b_filtered = pd.concat(\n",
    "    [\n",
    "        orders_by_users_b[np.logical_not(orders_by_users_b['visitor_id'].isin(abnormal_visitors))]['orders'],\n",
    "        pd.Series(\n",
    "            0, index=np.arange(\n",
    "                cumulative_data[np.logical_and(\n",
    "                    cumulative_data['group'] == 'B', cumulative_data['date'] == '2019-08-31')]['visitors'].sum() - len(\n",
    "                    orders_by_users_b['orders'])\n",
    "        ),\n",
    "        name='orders')\n",
    "    ],\n",
    "    axis=0\n",
    ")\n",
    "\n",
    "# вычисляем P-значение:\n",
    "pvalue = st.mannwhitneyu(sample_a_filtered, sample_b_filtered)[1]\n",
    "\n",
    "display('P-значение равно {}'.format(pvalue))\n",
    "\n",
    "# делаем вывод о нулевой гипотезе:\n",
    "if pvalue < alpha:\n",
    "    display('Отвергаем нулевую гипотезу: разница статистически значима')\n",
    "else:\n",
    "    display('Не вышло отвергнуть нулевую гипотезу: вывод о различии сделать нельзя')\n",
    "\n",
    "# считаем относительный прирост среднего числа заказов группы B:\n",
    "display('Относительный прирост среднего числа заказов группы B равен {0:.3f}'.format(\n",
    "    (sample_b_filtered.mean()/sample_a_filtered.mean()-1)\n",
    "))"
   ]
  },
  {
   "cell_type": "markdown",
   "id": "1fabadc5",
   "metadata": {},
   "source": [
    "По \"очищенным\" данным разница между группами в конверсии также статистически значима, нулевая гипотеза отвергается. При этом относительный прирост среднего числа заказов группы B немного вырос до 17.3%.\n",
    "\n",
    "Теперь повторим эксперимент для различий в среднем чеке заказа (гипотезы те же):"
   ]
  },
  {
   "cell_type": "code",
   "execution_count": 30,
   "id": "69b14bdd",
   "metadata": {},
   "outputs": [
    {
     "data": {
      "text/plain": [
       "'P-значение равно 0.738481751314565'"
      ]
     },
     "metadata": {},
     "output_type": "display_data"
    },
    {
     "data": {
      "text/plain": [
       "'Не вышло отвергнуть нулевую гипотезу: вывод о различии сделать нельзя'"
      ]
     },
     "metadata": {},
     "output_type": "display_data"
    },
    {
     "data": {
      "text/plain": [
       "'Относительный прирост среднего чека заказов группы B равен -0.020'"
      ]
     },
     "metadata": {},
     "output_type": "display_data"
    }
   ],
   "source": [
    "# вычисляем P-значение:\n",
    "pvalue = (st.mannwhitneyu(orders[np.logical_and(\n",
    "    orders['group'] == 'A', np.logical_not(orders['visitor_id'].isin(\n",
    "        abnormal_visitors)))]['revenue'], \n",
    "                          orders[np.logical_and(\n",
    "    orders['group'] == 'B', np.logical_not(orders['visitor_id'].isin(\n",
    "        abnormal_visitors)))]['revenue'])[1]\n",
    ")\n",
    "\n",
    "display('P-значение равно {}'.format(pvalue))\n",
    "\n",
    "# делаем вывод о нулевой гипотезе:\n",
    "if pvalue < alpha:\n",
    "    display('Отвергаем нулевую гипотезу: разница статистически значима')\n",
    "else:\n",
    "    display('Не вышло отвергнуть нулевую гипотезу: вывод о различии сделать нельзя')\n",
    "\n",
    "# считаем относительные различия в среднем чеке между группами:\n",
    "display('Относительный прирост среднего чека заказов группы B равен {0:.3f}'.format(\n",
    "    (orders[np.logical_and(\n",
    "    orders['group'] == 'B', np.logical_not(orders['visitor_id'].isin(\n",
    "        abnormal_visitors)))]['revenue'].mean() / orders[np.logical_and(\n",
    "    orders['group'] == 'A', np.logical_not(orders['visitor_id'].isin(\n",
    "        abnormal_visitors)))]['revenue'].mean() - 1)\n",
    "))"
   ]
  },
  {
   "cell_type": "markdown",
   "id": "00c7fe42",
   "metadata": {},
   "source": [
    "Так, выводы подтвердились и в данном случае: статистически значимые различия в среднем чеке между группами A и B не подтвердились и по \"очищенным\" данным."
   ]
  },
  {
   "cell_type": "markdown",
   "id": "1a758496",
   "metadata": {},
   "source": [
    "### Решение по результатам A/B-теста"
   ]
  },
  {
   "cell_type": "markdown",
   "id": "025f7523",
   "metadata": {},
   "source": [
    "В ходе анализа A/B-теста были получены следующие результаты:\n",
    "* Есть статистически значимое различие между группами по конверсии как по \"сырым\", так и по \"очищенным\" данным.\n",
    "* Статистически значимой разницы между группами по среднему чеку заказа не было выявлено ни при тестировании \"сырых\" данных, ни после их фильтрации от выбросов.\n",
    "* [График относительного различия кумулятивного среднего чека группы B к группе A](#bill) \"скачет\": с помощью него можно было понять, что в данных есть выбросы. Но никаких других выводов по нему сделать нельзя.\n",
    "* [График относительного изменения кумулятивной конверсии](#conversion) показывает, что конверсия у группы B стабильно выше, чем у группы A (в последние дни исследования - на 10-13%).\n",
    "\n",
    "Таким образом, учитывая, что группа B по сравнению с группой A показывает лучшие результаты, можно остановить тест, признав эксперимент успешным. Гипотезу можно внедрять на практике."
   ]
  },
  {
   "cell_type": "markdown",
   "id": "75a44898",
   "metadata": {},
   "source": [
    "## Выводы"
   ]
  },
  {
   "cell_type": "markdown",
   "id": "e505e39b",
   "metadata": {},
   "source": [
    "Для исследования были предоставлены три файла: одна таблица с гипотезами по увеличению выручки и две таблицы для анализа результатов A/B-теста, содержащих информацию о заказах и посетителях. Перед началом исследования была проведена предобработка данных, в ходе которой:\n",
    "* Стиль заголовков таблиц был приведён к \"змеиному регистру\".\n",
    "* Тип данных в столбцах, содержащих дату, был приведён к типу `datetime`.\n",
    "\n",
    "В ходе приоритизации гипотез с помощью фреймворков `ICE` и `RICE` были получены разные результаты, в связи с этим предлагается следующее решение:\n",
    "* Необходимо выбрать гипотезу для последующего тестированияиз двух, которые попали в топ по обоим методам, а именно: *1) \"Добавить два новых канала привлечения трафика, что позволит привлекать на 30% больше пользователей\", 2) \"Добавить форму подписки на все основные страницы, чтобы собрать базу клиентов для email-рассылок\"*.\n",
    "* У гипотезы №2 максимальное значение параметра `Reach`, a у гипотезы №1 - максимальный `Impact` (другие параметры почти одинаковы). В связи с этим надо выбрать, на какой параметр делать ставку. В этом могут помочь прошлые удачные эксперименты компании или исследование рынка и конкурентов.\n",
    "* Если в компании принято решать на основе одного из двух использованных фреймворков, следует просто выбрать самую перспективную гипотезу, с точки зрения данного фреймворка.\n",
    "\n",
    "Анализ A/B-теста показал следующие результаты:\n",
    "1. **Конверсия в группе B** стабильно и статистически значимо **выше**, чем в группе А (в конце исследования - **на 10-13%**).\n",
    "2. **Средний чек заказа** между двумя группами статистически значимо **не различается**.\n",
    "\n",
    "Однако, учитывая положительные результаты группы B относительно группы A, можно завершить A/B-тест и признать его успешным."
   ]
  }
 ],
 "metadata": {
  "ExecuteTimeLog": [
   {
    "duration": 1076,
    "start_time": "2022-08-20T08:53:43.048Z"
   },
   {
    "duration": 84,
    "start_time": "2022-08-20T08:53:44.126Z"
   },
   {
    "duration": 4,
    "start_time": "2022-08-20T08:53:44.212Z"
   },
   {
    "duration": 15,
    "start_time": "2022-08-20T08:53:44.219Z"
   },
   {
    "duration": 11,
    "start_time": "2022-08-20T08:53:44.236Z"
   },
   {
    "duration": 270,
    "start_time": "2022-08-20T08:53:44.249Z"
   },
   {
    "duration": 20,
    "start_time": "2022-08-20T08:53:44.521Z"
   },
   {
    "duration": 11,
    "start_time": "2022-08-20T08:53:44.542Z"
   },
   {
    "duration": 91,
    "start_time": "2022-08-20T08:53:44.554Z"
   },
   {
    "duration": 7,
    "start_time": "2022-08-20T08:53:44.648Z"
   },
   {
    "duration": 14,
    "start_time": "2022-08-20T08:53:44.656Z"
   },
   {
    "duration": 474,
    "start_time": "2022-08-20T08:53:44.671Z"
   },
   {
    "duration": 334,
    "start_time": "2022-08-20T08:53:45.146Z"
   },
   {
    "duration": 215,
    "start_time": "2022-08-20T08:53:45.482Z"
   },
   {
    "duration": 291,
    "start_time": "2022-08-20T08:53:45.699Z"
   },
   {
    "duration": 219,
    "start_time": "2022-08-20T08:53:45.992Z"
   },
   {
    "duration": 289,
    "start_time": "2022-08-20T08:53:46.213Z"
   },
   {
    "duration": 115,
    "start_time": "2022-08-20T08:53:46.503Z"
   },
   {
    "duration": 5,
    "start_time": "2022-08-20T08:53:46.620Z"
   },
   {
    "duration": 139,
    "start_time": "2022-08-20T08:53:46.626Z"
   },
   {
    "duration": 131,
    "start_time": "2022-08-20T08:53:46.767Z"
   },
   {
    "duration": 4,
    "start_time": "2022-08-20T08:53:46.900Z"
   },
   {
    "duration": 93,
    "start_time": "2022-08-20T08:53:46.905Z"
   },
   {
    "duration": 4,
    "start_time": "2022-08-20T08:53:46.999Z"
   },
   {
    "duration": 52,
    "start_time": "2022-08-20T08:53:47.005Z"
   },
   {
    "duration": 12,
    "start_time": "2022-08-20T08:53:47.059Z"
   },
   {
    "duration": 29,
    "start_time": "2022-08-20T08:53:47.073Z"
   },
   {
    "duration": 13,
    "start_time": "2022-08-20T08:53:47.104Z"
   },
   {
    "duration": 5,
    "start_time": "2022-08-20T09:24:15.286Z"
   },
   {
    "duration": 9,
    "start_time": "2022-08-20T09:24:43.883Z"
   },
   {
    "duration": 1540,
    "start_time": "2022-08-21T07:17:50.907Z"
   },
   {
    "duration": 133,
    "start_time": "2022-08-21T07:17:52.450Z"
   },
   {
    "duration": 5,
    "start_time": "2022-08-21T07:17:52.585Z"
   },
   {
    "duration": 34,
    "start_time": "2022-08-21T07:17:52.595Z"
   },
   {
    "duration": 20,
    "start_time": "2022-08-21T07:17:52.631Z"
   },
   {
    "duration": 235,
    "start_time": "2022-08-21T07:17:52.653Z"
   },
   {
    "duration": 260,
    "start_time": "2022-08-21T07:17:52.890Z"
   },
   {
    "duration": 25,
    "start_time": "2022-08-21T07:17:53.152Z"
   },
   {
    "duration": 8,
    "start_time": "2022-08-21T07:17:53.179Z"
   },
   {
    "duration": 159,
    "start_time": "2022-08-21T07:17:53.190Z"
   },
   {
    "duration": 10,
    "start_time": "2022-08-21T07:17:53.350Z"
   },
   {
    "duration": 13,
    "start_time": "2022-08-21T07:17:53.362Z"
   },
   {
    "duration": 11,
    "start_time": "2022-08-21T07:17:53.377Z"
   },
   {
    "duration": 350,
    "start_time": "2022-08-21T07:17:53.390Z"
   },
   {
    "duration": 352,
    "start_time": "2022-08-21T07:17:53.742Z"
   },
   {
    "duration": 247,
    "start_time": "2022-08-21T07:17:54.096Z"
   },
   {
    "duration": 394,
    "start_time": "2022-08-21T07:17:54.345Z"
   },
   {
    "duration": 299,
    "start_time": "2022-08-21T07:17:54.741Z"
   },
   {
    "duration": 354,
    "start_time": "2022-08-21T07:17:55.042Z"
   },
   {
    "duration": 165,
    "start_time": "2022-08-21T07:17:55.399Z"
   },
   {
    "duration": 5,
    "start_time": "2022-08-21T07:17:55.566Z"
   },
   {
    "duration": 174,
    "start_time": "2022-08-21T07:17:55.573Z"
   },
   {
    "duration": 262,
    "start_time": "2022-08-21T07:17:55.749Z"
   },
   {
    "duration": 6,
    "start_time": "2022-08-21T07:17:56.016Z"
   },
   {
    "duration": 34,
    "start_time": "2022-08-21T07:17:56.025Z"
   },
   {
    "duration": 4,
    "start_time": "2022-08-21T07:17:56.061Z"
   },
   {
    "duration": 60,
    "start_time": "2022-08-21T07:17:56.067Z"
   },
   {
    "duration": 14,
    "start_time": "2022-08-21T07:17:56.131Z"
   },
   {
    "duration": 70,
    "start_time": "2022-08-21T07:17:56.147Z"
   },
   {
    "duration": 17,
    "start_time": "2022-08-21T07:17:56.219Z"
   },
   {
    "duration": 156,
    "start_time": "2022-08-21T07:19:19.257Z"
   },
   {
    "duration": 10,
    "start_time": "2022-08-21T07:19:32.302Z"
   }
  ],
  "kernelspec": {
   "display_name": "Python 3 (ipykernel)",
   "language": "python",
   "name": "python3"
  },
  "language_info": {
   "codemirror_mode": {
    "name": "ipython",
    "version": 3
   },
   "file_extension": ".py",
   "mimetype": "text/x-python",
   "name": "python",
   "nbconvert_exporter": "python",
   "pygments_lexer": "ipython3",
   "version": "3.9.7"
  },
  "toc": {
   "base_numbering": 1,
   "nav_menu": {},
   "number_sections": true,
   "sideBar": true,
   "skip_h1_title": true,
   "title_cell": "Table of Contents",
   "title_sidebar": "Contents",
   "toc_cell": true,
   "toc_position": {},
   "toc_section_display": true,
   "toc_window_display": true
  }
 },
 "nbformat": 4,
 "nbformat_minor": 5
}
