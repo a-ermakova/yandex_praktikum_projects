{
 "cells": [
  {
   "cell_type": "markdown",
   "id": "864e64a8",
   "metadata": {
    "toc": true
   },
   "source": [
    "<h1>Table of Contents<span class=\"tocSkip\"></span></h1>\n",
    "<div class=\"toc\"><ul class=\"toc-item\"><li><span><a href=\"#Обзор-данных\" data-toc-modified-id=\"Обзор-данных-1\"><span class=\"toc-item-num\">1&nbsp;&nbsp;</span>Обзор данных</a></span></li><li><span><a href=\"#EDA\" data-toc-modified-id=\"EDA-2\"><span class=\"toc-item-num\">2&nbsp;&nbsp;</span>EDA</a></span><ul class=\"toc-item\"><li><span><a href=\"#Задача-1\" data-toc-modified-id=\"Задача-1-2.1\"><span class=\"toc-item-num\">2.1&nbsp;&nbsp;</span>Задача 1</a></span></li><li><span><a href=\"#Задача-2\" data-toc-modified-id=\"Задача-2-2.2\"><span class=\"toc-item-num\">2.2&nbsp;&nbsp;</span>Задача 2</a></span></li><li><span><a href=\"#Задача-3\" data-toc-modified-id=\"Задача-3-2.3\"><span class=\"toc-item-num\">2.3&nbsp;&nbsp;</span>Задача 3</a></span></li><li><span><a href=\"#Задача-4\" data-toc-modified-id=\"Задача-4-2.4\"><span class=\"toc-item-num\">2.4&nbsp;&nbsp;</span>Задача 4</a></span></li><li><span><a href=\"#Задача-5\" data-toc-modified-id=\"Задача-5-2.5\"><span class=\"toc-item-num\">2.5&nbsp;&nbsp;</span>Задача 5</a></span></li></ul></li><li><span><a href=\"#Выводы\" data-toc-modified-id=\"Выводы-3\"><span class=\"toc-item-num\">3&nbsp;&nbsp;</span>Выводы</a></span></li></ul></div>"
   ]
  },
  {
   "cell_type": "markdown",
   "id": "5bafdb93",
   "metadata": {},
   "source": [
    "# SQL"
   ]
  },
  {
   "cell_type": "markdown",
   "id": "0523dfdf",
   "metadata": {},
   "source": [
    "Компания купила крупный сервис для чтения книг по подписке.\n",
    "\n",
    "**Цель исследования** - проанализировать базу данных для формирования ценностного предложения для нового продукта.\n",
    "\n",
    "**Описание данных:**\n",
    "1. Таблица книг `books`:\n",
    "    * `book_id` — идентификатор книги (первичный ключ)\n",
    "    * `author_id` — идентификатор автора (внешний ключ)\n",
    "    * `title` — название книги\n",
    "    * `num_pages` — количество страниц\n",
    "    * `publication_date` — дата публикации книги\n",
    "    * `publisher_id` — идентификатор издателя (внешний ключ)\n",
    "\n",
    "\n",
    "2. Таблица авторов `authors`:\n",
    "    * `author_id` — идентификатор автора (первичный ключ)\n",
    "    * `author` — имя автора\n",
    "\n",
    "\n",
    "3. Таблица издательств `publishers`:\n",
    "    * `publisher_id` — идентификатор издательства (первичный ключ)\n",
    "    * `publisher` — название издательства\n",
    "\n",
    "\n",
    "4. Таблица пользовательских оценок книг `ratings`:\n",
    "    * `rating_id` — идентификатор оценки (первичный ключ)\n",
    "    * `book_id` — идентификатор книги (внешний ключ)\n",
    "    * `username` — имя пользователя, оставившего оценку\n",
    "    * `rating` — оценка книги\n",
    "\n",
    "\n",
    "5. Таблица пользовательских обзоров на книги `reviews`**\n",
    "    * `review_id` — идентификатор обзора (первичный ключ)\n",
    "    * `book_id` — идентификатор книги (внешний ключ)\n",
    "    * `username` — имя пользователя, написавшего обзор\n",
    "    * `text` — текст обзора\n",
    "    \n",
    "**Ход исследования:**\n",
    "1. Обзор данных\n",
    "2. EDA\n",
    "3. Выводы"
   ]
  },
  {
   "cell_type": "markdown",
   "id": "22483d64",
   "metadata": {},
   "source": [
    "## Обзор данных"
   ]
  },
  {
   "cell_type": "markdown",
   "id": "d751c699",
   "metadata": {},
   "source": [
    "Для начала загрузим необходимые библиотеки:"
   ]
  },
  {
   "cell_type": "code",
   "execution_count": 1,
   "id": "55efa586",
   "metadata": {},
   "outputs": [],
   "source": [
    "import pandas as pd\n",
    "from sqlalchemy import create_engine"
   ]
  },
  {
   "cell_type": "markdown",
   "id": "442a386f",
   "metadata": {},
   "source": [
    "Подключимся к базе данных:"
   ]
  },
  {
   "cell_type": "code",
   "execution_count": 2,
   "id": "b87bb4f5",
   "metadata": {},
   "outputs": [],
   "source": [
    "# устанавливаем параметры:\n",
    "db_config = {'user': '//censored//', # имя пользователя\n",
    "            'pwd': '//censored//', # пароль\n",
    "            'host': '//censored//',\n",
    "            'port': 6432, # порт подключения\n",
    "            'db': '//censored//'} # название базы данных\n",
    "\n",
    "connection_string = 'postgresql://{}:{}@{}:{}/{}'.format(db_config['user'],\n",
    "                                                        db_config['pwd'],\n",
    "                                                        db_config['host'],\n",
    "                                                        db_config['port'],\n",
    "                                                        db_config['db'])\n",
    "\n",
    "# сохраняем коннектор:\n",
    "engine = create_engine(connection_string, connect_args={'sslmode':'require'})"
   ]
  },
  {
   "cell_type": "markdown",
   "id": "4e80432c",
   "metadata": {},
   "source": [
    "Теперь перейдём к исследованию таблиц: выведем первые строки каждой из них."
   ]
  },
  {
   "cell_type": "code",
   "execution_count": 3,
   "id": "dbadbb41",
   "metadata": {},
   "outputs": [
    {
     "data": {
      "text/html": [
       "<div>\n",
       "<style scoped>\n",
       "    .dataframe tbody tr th:only-of-type {\n",
       "        vertical-align: middle;\n",
       "    }\n",
       "\n",
       "    .dataframe tbody tr th {\n",
       "        vertical-align: top;\n",
       "    }\n",
       "\n",
       "    .dataframe thead th {\n",
       "        text-align: right;\n",
       "    }\n",
       "</style>\n",
       "<table border=\"1\" class=\"dataframe\">\n",
       "  <thead>\n",
       "    <tr style=\"text-align: right;\">\n",
       "      <th></th>\n",
       "      <th>book_id</th>\n",
       "      <th>author_id</th>\n",
       "      <th>title</th>\n",
       "      <th>num_pages</th>\n",
       "      <th>publication_date</th>\n",
       "      <th>publisher_id</th>\n",
       "    </tr>\n",
       "  </thead>\n",
       "  <tbody>\n",
       "    <tr>\n",
       "      <th>0</th>\n",
       "      <td>1</td>\n",
       "      <td>546</td>\n",
       "      <td>'Salem's Lot</td>\n",
       "      <td>594</td>\n",
       "      <td>2005-11-01</td>\n",
       "      <td>93</td>\n",
       "    </tr>\n",
       "    <tr>\n",
       "      <th>1</th>\n",
       "      <td>2</td>\n",
       "      <td>465</td>\n",
       "      <td>1 000 Places to See Before You Die</td>\n",
       "      <td>992</td>\n",
       "      <td>2003-05-22</td>\n",
       "      <td>336</td>\n",
       "    </tr>\n",
       "    <tr>\n",
       "      <th>2</th>\n",
       "      <td>3</td>\n",
       "      <td>407</td>\n",
       "      <td>13 Little Blue Envelopes (Little Blue Envelope...</td>\n",
       "      <td>322</td>\n",
       "      <td>2010-12-21</td>\n",
       "      <td>135</td>\n",
       "    </tr>\n",
       "    <tr>\n",
       "      <th>3</th>\n",
       "      <td>4</td>\n",
       "      <td>82</td>\n",
       "      <td>1491: New Revelations of the Americas Before C...</td>\n",
       "      <td>541</td>\n",
       "      <td>2006-10-10</td>\n",
       "      <td>309</td>\n",
       "    </tr>\n",
       "    <tr>\n",
       "      <th>4</th>\n",
       "      <td>5</td>\n",
       "      <td>125</td>\n",
       "      <td>1776</td>\n",
       "      <td>386</td>\n",
       "      <td>2006-07-04</td>\n",
       "      <td>268</td>\n",
       "    </tr>\n",
       "    <tr>\n",
       "      <th>5</th>\n",
       "      <td>6</td>\n",
       "      <td>257</td>\n",
       "      <td>1st to Die (Women's Murder Club  #1)</td>\n",
       "      <td>424</td>\n",
       "      <td>2005-05-20</td>\n",
       "      <td>116</td>\n",
       "    </tr>\n",
       "    <tr>\n",
       "      <th>6</th>\n",
       "      <td>7</td>\n",
       "      <td>258</td>\n",
       "      <td>2nd Chance (Women's Murder Club  #2)</td>\n",
       "      <td>400</td>\n",
       "      <td>2005-05-20</td>\n",
       "      <td>116</td>\n",
       "    </tr>\n",
       "    <tr>\n",
       "      <th>7</th>\n",
       "      <td>8</td>\n",
       "      <td>260</td>\n",
       "      <td>4th of July (Women's Murder Club  #4)</td>\n",
       "      <td>448</td>\n",
       "      <td>2006-06-01</td>\n",
       "      <td>318</td>\n",
       "    </tr>\n",
       "    <tr>\n",
       "      <th>8</th>\n",
       "      <td>9</td>\n",
       "      <td>563</td>\n",
       "      <td>A Beautiful Mind</td>\n",
       "      <td>461</td>\n",
       "      <td>2002-02-04</td>\n",
       "      <td>104</td>\n",
       "    </tr>\n",
       "    <tr>\n",
       "      <th>9</th>\n",
       "      <td>10</td>\n",
       "      <td>445</td>\n",
       "      <td>A Bend in the Road</td>\n",
       "      <td>341</td>\n",
       "      <td>2005-04-01</td>\n",
       "      <td>116</td>\n",
       "    </tr>\n",
       "  </tbody>\n",
       "</table>\n",
       "</div>"
      ],
      "text/plain": [
       "   book_id  author_id                                              title  \\\n",
       "0        1        546                                       'Salem's Lot   \n",
       "1        2        465                 1 000 Places to See Before You Die   \n",
       "2        3        407  13 Little Blue Envelopes (Little Blue Envelope...   \n",
       "3        4         82  1491: New Revelations of the Americas Before C...   \n",
       "4        5        125                                               1776   \n",
       "5        6        257               1st to Die (Women's Murder Club  #1)   \n",
       "6        7        258               2nd Chance (Women's Murder Club  #2)   \n",
       "7        8        260              4th of July (Women's Murder Club  #4)   \n",
       "8        9        563                                   A Beautiful Mind   \n",
       "9       10        445                                 A Bend in the Road   \n",
       "\n",
       "   num_pages publication_date  publisher_id  \n",
       "0        594       2005-11-01            93  \n",
       "1        992       2003-05-22           336  \n",
       "2        322       2010-12-21           135  \n",
       "3        541       2006-10-10           309  \n",
       "4        386       2006-07-04           268  \n",
       "5        424       2005-05-20           116  \n",
       "6        400       2005-05-20           116  \n",
       "7        448       2006-06-01           318  \n",
       "8        461       2002-02-04           104  \n",
       "9        341       2005-04-01           116  "
      ]
     },
     "metadata": {},
     "output_type": "display_data"
    },
    {
     "data": {
      "text/html": [
       "<div>\n",
       "<style scoped>\n",
       "    .dataframe tbody tr th:only-of-type {\n",
       "        vertical-align: middle;\n",
       "    }\n",
       "\n",
       "    .dataframe tbody tr th {\n",
       "        vertical-align: top;\n",
       "    }\n",
       "\n",
       "    .dataframe thead th {\n",
       "        text-align: right;\n",
       "    }\n",
       "</style>\n",
       "<table border=\"1\" class=\"dataframe\">\n",
       "  <thead>\n",
       "    <tr style=\"text-align: right;\">\n",
       "      <th></th>\n",
       "      <th>total_number_of_books</th>\n",
       "    </tr>\n",
       "  </thead>\n",
       "  <tbody>\n",
       "    <tr>\n",
       "      <th>0</th>\n",
       "      <td>1000</td>\n",
       "    </tr>\n",
       "  </tbody>\n",
       "</table>\n",
       "</div>"
      ],
      "text/plain": [
       "   total_number_of_books\n",
       "0                   1000"
      ]
     },
     "execution_count": 3,
     "metadata": {},
     "output_type": "execute_result"
    }
   ],
   "source": [
    "query = '''\n",
    "            SELECT * FROM books\n",
    "            LIMIT 10\n",
    "        '''\n",
    "\n",
    "display(pd.io.sql.read_sql(query, con = engine))\n",
    "\n",
    "query = '''\n",
    "            SELECT COUNT(book_id) AS total_number_of_books\n",
    "            FROM books\n",
    "        '''\n",
    "\n",
    "pd.io.sql.read_sql(query, con = engine)"
   ]
  },
  {
   "cell_type": "markdown",
   "id": "ad319718",
   "metadata": {},
   "source": [
    "Так, первичным ключом таблицы `books` является идентификатор книги - `book_id`. В таблице также есть два внешних ключа - `author_id` для связи с таблицей `authors` и `publisher_id` для связи с таблицей `publishers`. Всего в таблице о книгах содержится записи о 1000 книг.\n",
    "\n",
    "Проверим, книги каких годов выпуска представлены в каталоге сервиса:"
   ]
  },
  {
   "cell_type": "code",
   "execution_count": 4,
   "id": "2389ecb4",
   "metadata": {
    "scrolled": false
   },
   "outputs": [
    {
     "data": {
      "text/html": [
       "<div>\n",
       "<style scoped>\n",
       "    .dataframe tbody tr th:only-of-type {\n",
       "        vertical-align: middle;\n",
       "    }\n",
       "\n",
       "    .dataframe tbody tr th {\n",
       "        vertical-align: top;\n",
       "    }\n",
       "\n",
       "    .dataframe thead th {\n",
       "        text-align: right;\n",
       "    }\n",
       "</style>\n",
       "<table border=\"1\" class=\"dataframe\">\n",
       "  <thead>\n",
       "    <tr style=\"text-align: right;\">\n",
       "      <th></th>\n",
       "      <th>min</th>\n",
       "      <th>max</th>\n",
       "    </tr>\n",
       "  </thead>\n",
       "  <tbody>\n",
       "    <tr>\n",
       "      <th>0</th>\n",
       "      <td>1952</td>\n",
       "      <td>2020</td>\n",
       "    </tr>\n",
       "  </tbody>\n",
       "</table>\n",
       "</div>"
      ],
      "text/plain": [
       "    min   max\n",
       "0  1952  2020"
      ]
     },
     "execution_count": 4,
     "metadata": {},
     "output_type": "execute_result"
    }
   ],
   "source": [
    "query = '''\n",
    "            SELECT CAST(MIN(EXTRACT(YEAR FROM CAST(publication_date AS timestamp))) AS int),\n",
    "                   CAST(MAX(EXTRACT(YEAR FROM CAST(publication_date AS timestamp))) AS int)\n",
    "            FROM books\n",
    "        '''\n",
    "\n",
    "pd.io.sql.read_sql(query, con = engine)"
   ]
  },
  {
   "cell_type": "markdown",
   "id": "104c97c8",
   "metadata": {},
   "source": [
    "Так, в сервисе представлены книги 1952 - 2020 гг. выпуска.\n",
    "\n",
    "Посмотрим информацию о таблице `authors`:"
   ]
  },
  {
   "cell_type": "code",
   "execution_count": 5,
   "id": "92f0e3a4",
   "metadata": {},
   "outputs": [
    {
     "data": {
      "text/html": [
       "<div>\n",
       "<style scoped>\n",
       "    .dataframe tbody tr th:only-of-type {\n",
       "        vertical-align: middle;\n",
       "    }\n",
       "\n",
       "    .dataframe tbody tr th {\n",
       "        vertical-align: top;\n",
       "    }\n",
       "\n",
       "    .dataframe thead th {\n",
       "        text-align: right;\n",
       "    }\n",
       "</style>\n",
       "<table border=\"1\" class=\"dataframe\">\n",
       "  <thead>\n",
       "    <tr style=\"text-align: right;\">\n",
       "      <th></th>\n",
       "      <th>author_id</th>\n",
       "      <th>author</th>\n",
       "    </tr>\n",
       "  </thead>\n",
       "  <tbody>\n",
       "    <tr>\n",
       "      <th>0</th>\n",
       "      <td>1</td>\n",
       "      <td>A.S. Byatt</td>\n",
       "    </tr>\n",
       "    <tr>\n",
       "      <th>1</th>\n",
       "      <td>2</td>\n",
       "      <td>Aesop/Laura Harris/Laura Gibbs</td>\n",
       "    </tr>\n",
       "    <tr>\n",
       "      <th>2</th>\n",
       "      <td>3</td>\n",
       "      <td>Agatha Christie</td>\n",
       "    </tr>\n",
       "    <tr>\n",
       "      <th>3</th>\n",
       "      <td>4</td>\n",
       "      <td>Alan Brennert</td>\n",
       "    </tr>\n",
       "    <tr>\n",
       "      <th>4</th>\n",
       "      <td>5</td>\n",
       "      <td>Alan Moore/David   Lloyd</td>\n",
       "    </tr>\n",
       "    <tr>\n",
       "      <th>5</th>\n",
       "      <td>6</td>\n",
       "      <td>Alan Paton</td>\n",
       "    </tr>\n",
       "    <tr>\n",
       "      <th>6</th>\n",
       "      <td>7</td>\n",
       "      <td>Albert Camus/Justin O'Brien</td>\n",
       "    </tr>\n",
       "    <tr>\n",
       "      <th>7</th>\n",
       "      <td>8</td>\n",
       "      <td>Aldous Huxley</td>\n",
       "    </tr>\n",
       "    <tr>\n",
       "      <th>8</th>\n",
       "      <td>9</td>\n",
       "      <td>Aldous Huxley/Christopher Hitchens</td>\n",
       "    </tr>\n",
       "    <tr>\n",
       "      <th>9</th>\n",
       "      <td>10</td>\n",
       "      <td>Aleksandr Solzhenitsyn/H.T. Willetts</td>\n",
       "    </tr>\n",
       "  </tbody>\n",
       "</table>\n",
       "</div>"
      ],
      "text/plain": [
       "   author_id                                author\n",
       "0          1                            A.S. Byatt\n",
       "1          2        Aesop/Laura Harris/Laura Gibbs\n",
       "2          3                       Agatha Christie\n",
       "3          4                         Alan Brennert\n",
       "4          5              Alan Moore/David   Lloyd\n",
       "5          6                            Alan Paton\n",
       "6          7           Albert Camus/Justin O'Brien\n",
       "7          8                         Aldous Huxley\n",
       "8          9    Aldous Huxley/Christopher Hitchens\n",
       "9         10  Aleksandr Solzhenitsyn/H.T. Willetts"
      ]
     },
     "metadata": {},
     "output_type": "display_data"
    },
    {
     "data": {
      "text/html": [
       "<div>\n",
       "<style scoped>\n",
       "    .dataframe tbody tr th:only-of-type {\n",
       "        vertical-align: middle;\n",
       "    }\n",
       "\n",
       "    .dataframe tbody tr th {\n",
       "        vertical-align: top;\n",
       "    }\n",
       "\n",
       "    .dataframe thead th {\n",
       "        text-align: right;\n",
       "    }\n",
       "</style>\n",
       "<table border=\"1\" class=\"dataframe\">\n",
       "  <thead>\n",
       "    <tr style=\"text-align: right;\">\n",
       "      <th></th>\n",
       "      <th>total_number_of_authors</th>\n",
       "    </tr>\n",
       "  </thead>\n",
       "  <tbody>\n",
       "    <tr>\n",
       "      <th>0</th>\n",
       "      <td>636</td>\n",
       "    </tr>\n",
       "  </tbody>\n",
       "</table>\n",
       "</div>"
      ],
      "text/plain": [
       "   total_number_of_authors\n",
       "0                      636"
      ]
     },
     "execution_count": 5,
     "metadata": {},
     "output_type": "execute_result"
    }
   ],
   "source": [
    "query = '''\n",
    "            SELECT * FROM authors\n",
    "            LIMIT 10\n",
    "        '''\n",
    "\n",
    "display(pd.io.sql.read_sql(query, con = engine))\n",
    "\n",
    "query = '''\n",
    "            SELECT COUNT(author_id) AS total_number_of_authors\n",
    "            FROM authors\n",
    "        '''\n",
    "\n",
    "pd.io.sql.read_sql(query, con = engine)"
   ]
  },
  {
   "cell_type": "markdown",
   "id": "7fd1f1c2",
   "metadata": {},
   "source": [
    "В таблице с авторами содержится информация о 636 авторах. В таблице всего два столбца - идентификатор автора (первичный ключ) и его имя.\n",
    "\n",
    "Перейдём к таблице издательств:"
   ]
  },
  {
   "cell_type": "code",
   "execution_count": 6,
   "id": "81b293a0",
   "metadata": {},
   "outputs": [
    {
     "data": {
      "text/html": [
       "<div>\n",
       "<style scoped>\n",
       "    .dataframe tbody tr th:only-of-type {\n",
       "        vertical-align: middle;\n",
       "    }\n",
       "\n",
       "    .dataframe tbody tr th {\n",
       "        vertical-align: top;\n",
       "    }\n",
       "\n",
       "    .dataframe thead th {\n",
       "        text-align: right;\n",
       "    }\n",
       "</style>\n",
       "<table border=\"1\" class=\"dataframe\">\n",
       "  <thead>\n",
       "    <tr style=\"text-align: right;\">\n",
       "      <th></th>\n",
       "      <th>publisher_id</th>\n",
       "      <th>publisher</th>\n",
       "    </tr>\n",
       "  </thead>\n",
       "  <tbody>\n",
       "    <tr>\n",
       "      <th>0</th>\n",
       "      <td>1</td>\n",
       "      <td>Ace</td>\n",
       "    </tr>\n",
       "    <tr>\n",
       "      <th>1</th>\n",
       "      <td>2</td>\n",
       "      <td>Ace Book</td>\n",
       "    </tr>\n",
       "    <tr>\n",
       "      <th>2</th>\n",
       "      <td>3</td>\n",
       "      <td>Ace Books</td>\n",
       "    </tr>\n",
       "    <tr>\n",
       "      <th>3</th>\n",
       "      <td>4</td>\n",
       "      <td>Ace Hardcover</td>\n",
       "    </tr>\n",
       "    <tr>\n",
       "      <th>4</th>\n",
       "      <td>5</td>\n",
       "      <td>Addison Wesley Publishing Company</td>\n",
       "    </tr>\n",
       "    <tr>\n",
       "      <th>5</th>\n",
       "      <td>6</td>\n",
       "      <td>Aladdin</td>\n",
       "    </tr>\n",
       "    <tr>\n",
       "      <th>6</th>\n",
       "      <td>7</td>\n",
       "      <td>Aladdin Paperbacks</td>\n",
       "    </tr>\n",
       "    <tr>\n",
       "      <th>7</th>\n",
       "      <td>8</td>\n",
       "      <td>Albin Michel</td>\n",
       "    </tr>\n",
       "    <tr>\n",
       "      <th>8</th>\n",
       "      <td>9</td>\n",
       "      <td>Alfred A. Knopf</td>\n",
       "    </tr>\n",
       "    <tr>\n",
       "      <th>9</th>\n",
       "      <td>10</td>\n",
       "      <td>Alfred A. Knopf Books for Young Readers</td>\n",
       "    </tr>\n",
       "  </tbody>\n",
       "</table>\n",
       "</div>"
      ],
      "text/plain": [
       "   publisher_id                                publisher\n",
       "0             1                                      Ace\n",
       "1             2                                 Ace Book\n",
       "2             3                                Ace Books\n",
       "3             4                            Ace Hardcover\n",
       "4             5        Addison Wesley Publishing Company\n",
       "5             6                                  Aladdin\n",
       "6             7                       Aladdin Paperbacks\n",
       "7             8                             Albin Michel\n",
       "8             9                          Alfred A. Knopf\n",
       "9            10  Alfred A. Knopf Books for Young Readers"
      ]
     },
     "metadata": {},
     "output_type": "display_data"
    },
    {
     "data": {
      "text/html": [
       "<div>\n",
       "<style scoped>\n",
       "    .dataframe tbody tr th:only-of-type {\n",
       "        vertical-align: middle;\n",
       "    }\n",
       "\n",
       "    .dataframe tbody tr th {\n",
       "        vertical-align: top;\n",
       "    }\n",
       "\n",
       "    .dataframe thead th {\n",
       "        text-align: right;\n",
       "    }\n",
       "</style>\n",
       "<table border=\"1\" class=\"dataframe\">\n",
       "  <thead>\n",
       "    <tr style=\"text-align: right;\">\n",
       "      <th></th>\n",
       "      <th>total_number_of_publishers</th>\n",
       "    </tr>\n",
       "  </thead>\n",
       "  <tbody>\n",
       "    <tr>\n",
       "      <th>0</th>\n",
       "      <td>340</td>\n",
       "    </tr>\n",
       "  </tbody>\n",
       "</table>\n",
       "</div>"
      ],
      "text/plain": [
       "   total_number_of_publishers\n",
       "0                         340"
      ]
     },
     "execution_count": 6,
     "metadata": {},
     "output_type": "execute_result"
    }
   ],
   "source": [
    "query = '''\n",
    "            SELECT * FROM publishers\n",
    "            LIMIT 10\n",
    "        '''\n",
    "\n",
    "display(pd.io.sql.read_sql(query, con = engine))\n",
    "\n",
    "query = '''\n",
    "            SELECT COUNT(publisher_id) AS total_number_of_publishers\n",
    "            FROM publishers\n",
    "        '''\n",
    "\n",
    "pd.io.sql.read_sql(query, con = engine)"
   ]
  },
  {
   "cell_type": "markdown",
   "id": "f836ea3e",
   "metadata": {},
   "source": [
    "В таблице `publishers` присутствует информация о 340 издательствах. Её структура похожа на структуру таблицы `authors`.\n",
    "\n",
    "Рассмотрим таблицы `ratings` и `reviews`:"
   ]
  },
  {
   "cell_type": "code",
   "execution_count": 7,
   "id": "57334208",
   "metadata": {},
   "outputs": [
    {
     "data": {
      "text/html": [
       "<div>\n",
       "<style scoped>\n",
       "    .dataframe tbody tr th:only-of-type {\n",
       "        vertical-align: middle;\n",
       "    }\n",
       "\n",
       "    .dataframe tbody tr th {\n",
       "        vertical-align: top;\n",
       "    }\n",
       "\n",
       "    .dataframe thead th {\n",
       "        text-align: right;\n",
       "    }\n",
       "</style>\n",
       "<table border=\"1\" class=\"dataframe\">\n",
       "  <thead>\n",
       "    <tr style=\"text-align: right;\">\n",
       "      <th></th>\n",
       "      <th>rating_id</th>\n",
       "      <th>book_id</th>\n",
       "      <th>username</th>\n",
       "      <th>rating</th>\n",
       "    </tr>\n",
       "  </thead>\n",
       "  <tbody>\n",
       "    <tr>\n",
       "      <th>0</th>\n",
       "      <td>1</td>\n",
       "      <td>1</td>\n",
       "      <td>ryanfranco</td>\n",
       "      <td>4</td>\n",
       "    </tr>\n",
       "    <tr>\n",
       "      <th>1</th>\n",
       "      <td>2</td>\n",
       "      <td>1</td>\n",
       "      <td>grantpatricia</td>\n",
       "      <td>2</td>\n",
       "    </tr>\n",
       "    <tr>\n",
       "      <th>2</th>\n",
       "      <td>3</td>\n",
       "      <td>1</td>\n",
       "      <td>brandtandrea</td>\n",
       "      <td>5</td>\n",
       "    </tr>\n",
       "    <tr>\n",
       "      <th>3</th>\n",
       "      <td>4</td>\n",
       "      <td>2</td>\n",
       "      <td>lorichen</td>\n",
       "      <td>3</td>\n",
       "    </tr>\n",
       "    <tr>\n",
       "      <th>4</th>\n",
       "      <td>5</td>\n",
       "      <td>2</td>\n",
       "      <td>mariokeller</td>\n",
       "      <td>2</td>\n",
       "    </tr>\n",
       "    <tr>\n",
       "      <th>5</th>\n",
       "      <td>6</td>\n",
       "      <td>3</td>\n",
       "      <td>johnsonamanda</td>\n",
       "      <td>4</td>\n",
       "    </tr>\n",
       "    <tr>\n",
       "      <th>6</th>\n",
       "      <td>7</td>\n",
       "      <td>3</td>\n",
       "      <td>scotttamara</td>\n",
       "      <td>5</td>\n",
       "    </tr>\n",
       "    <tr>\n",
       "      <th>7</th>\n",
       "      <td>8</td>\n",
       "      <td>3</td>\n",
       "      <td>lesliegibbs</td>\n",
       "      <td>5</td>\n",
       "    </tr>\n",
       "    <tr>\n",
       "      <th>8</th>\n",
       "      <td>9</td>\n",
       "      <td>4</td>\n",
       "      <td>abbottjames</td>\n",
       "      <td>5</td>\n",
       "    </tr>\n",
       "    <tr>\n",
       "      <th>9</th>\n",
       "      <td>10</td>\n",
       "      <td>4</td>\n",
       "      <td>valenciaanne</td>\n",
       "      <td>4</td>\n",
       "    </tr>\n",
       "  </tbody>\n",
       "</table>\n",
       "</div>"
      ],
      "text/plain": [
       "   rating_id  book_id       username  rating\n",
       "0          1        1     ryanfranco       4\n",
       "1          2        1  grantpatricia       2\n",
       "2          3        1   brandtandrea       5\n",
       "3          4        2       lorichen       3\n",
       "4          5        2    mariokeller       2\n",
       "5          6        3  johnsonamanda       4\n",
       "6          7        3    scotttamara       5\n",
       "7          8        3    lesliegibbs       5\n",
       "8          9        4    abbottjames       5\n",
       "9         10        4   valenciaanne       4"
      ]
     },
     "metadata": {},
     "output_type": "display_data"
    },
    {
     "data": {
      "text/html": [
       "<div>\n",
       "<style scoped>\n",
       "    .dataframe tbody tr th:only-of-type {\n",
       "        vertical-align: middle;\n",
       "    }\n",
       "\n",
       "    .dataframe tbody tr th {\n",
       "        vertical-align: top;\n",
       "    }\n",
       "\n",
       "    .dataframe thead th {\n",
       "        text-align: right;\n",
       "    }\n",
       "</style>\n",
       "<table border=\"1\" class=\"dataframe\">\n",
       "  <thead>\n",
       "    <tr style=\"text-align: right;\">\n",
       "      <th></th>\n",
       "      <th>total_number_of_ratings</th>\n",
       "    </tr>\n",
       "  </thead>\n",
       "  <tbody>\n",
       "    <tr>\n",
       "      <th>0</th>\n",
       "      <td>6456</td>\n",
       "    </tr>\n",
       "  </tbody>\n",
       "</table>\n",
       "</div>"
      ],
      "text/plain": [
       "   total_number_of_ratings\n",
       "0                     6456"
      ]
     },
     "metadata": {},
     "output_type": "display_data"
    },
    {
     "data": {
      "text/html": [
       "<div>\n",
       "<style scoped>\n",
       "    .dataframe tbody tr th:only-of-type {\n",
       "        vertical-align: middle;\n",
       "    }\n",
       "\n",
       "    .dataframe tbody tr th {\n",
       "        vertical-align: top;\n",
       "    }\n",
       "\n",
       "    .dataframe thead th {\n",
       "        text-align: right;\n",
       "    }\n",
       "</style>\n",
       "<table border=\"1\" class=\"dataframe\">\n",
       "  <thead>\n",
       "    <tr style=\"text-align: right;\">\n",
       "      <th></th>\n",
       "      <th>review_id</th>\n",
       "      <th>book_id</th>\n",
       "      <th>username</th>\n",
       "      <th>text</th>\n",
       "    </tr>\n",
       "  </thead>\n",
       "  <tbody>\n",
       "    <tr>\n",
       "      <th>0</th>\n",
       "      <td>1</td>\n",
       "      <td>1</td>\n",
       "      <td>brandtandrea</td>\n",
       "      <td>Mention society tell send professor analysis. ...</td>\n",
       "    </tr>\n",
       "    <tr>\n",
       "      <th>1</th>\n",
       "      <td>2</td>\n",
       "      <td>1</td>\n",
       "      <td>ryanfranco</td>\n",
       "      <td>Foot glass pretty audience hit themselves. Amo...</td>\n",
       "    </tr>\n",
       "    <tr>\n",
       "      <th>2</th>\n",
       "      <td>3</td>\n",
       "      <td>2</td>\n",
       "      <td>lorichen</td>\n",
       "      <td>Listen treat keep worry. Miss husband tax but ...</td>\n",
       "    </tr>\n",
       "    <tr>\n",
       "      <th>3</th>\n",
       "      <td>4</td>\n",
       "      <td>3</td>\n",
       "      <td>johnsonamanda</td>\n",
       "      <td>Finally month interesting blue could nature cu...</td>\n",
       "    </tr>\n",
       "    <tr>\n",
       "      <th>4</th>\n",
       "      <td>5</td>\n",
       "      <td>3</td>\n",
       "      <td>scotttamara</td>\n",
       "      <td>Nation purpose heavy give wait song will. List...</td>\n",
       "    </tr>\n",
       "    <tr>\n",
       "      <th>5</th>\n",
       "      <td>6</td>\n",
       "      <td>3</td>\n",
       "      <td>lesliegibbs</td>\n",
       "      <td>Analysis no several cause international.</td>\n",
       "    </tr>\n",
       "    <tr>\n",
       "      <th>6</th>\n",
       "      <td>7</td>\n",
       "      <td>4</td>\n",
       "      <td>valenciaanne</td>\n",
       "      <td>One there cost another. Say type save. With pe...</td>\n",
       "    </tr>\n",
       "    <tr>\n",
       "      <th>7</th>\n",
       "      <td>8</td>\n",
       "      <td>4</td>\n",
       "      <td>abbottjames</td>\n",
       "      <td>Within enough mother. There at system full rec...</td>\n",
       "    </tr>\n",
       "    <tr>\n",
       "      <th>8</th>\n",
       "      <td>9</td>\n",
       "      <td>5</td>\n",
       "      <td>npowers</td>\n",
       "      <td>Thank now focus realize economy focus fly. Ite...</td>\n",
       "    </tr>\n",
       "    <tr>\n",
       "      <th>9</th>\n",
       "      <td>10</td>\n",
       "      <td>5</td>\n",
       "      <td>staylor</td>\n",
       "      <td>Game push lot reduce where remember. Including...</td>\n",
       "    </tr>\n",
       "  </tbody>\n",
       "</table>\n",
       "</div>"
      ],
      "text/plain": [
       "   review_id  book_id       username  \\\n",
       "0          1        1   brandtandrea   \n",
       "1          2        1     ryanfranco   \n",
       "2          3        2       lorichen   \n",
       "3          4        3  johnsonamanda   \n",
       "4          5        3    scotttamara   \n",
       "5          6        3    lesliegibbs   \n",
       "6          7        4   valenciaanne   \n",
       "7          8        4    abbottjames   \n",
       "8          9        5        npowers   \n",
       "9         10        5        staylor   \n",
       "\n",
       "                                                text  \n",
       "0  Mention society tell send professor analysis. ...  \n",
       "1  Foot glass pretty audience hit themselves. Amo...  \n",
       "2  Listen treat keep worry. Miss husband tax but ...  \n",
       "3  Finally month interesting blue could nature cu...  \n",
       "4  Nation purpose heavy give wait song will. List...  \n",
       "5           Analysis no several cause international.  \n",
       "6  One there cost another. Say type save. With pe...  \n",
       "7  Within enough mother. There at system full rec...  \n",
       "8  Thank now focus realize economy focus fly. Ite...  \n",
       "9  Game push lot reduce where remember. Including...  "
      ]
     },
     "metadata": {},
     "output_type": "display_data"
    },
    {
     "data": {
      "text/html": [
       "<div>\n",
       "<style scoped>\n",
       "    .dataframe tbody tr th:only-of-type {\n",
       "        vertical-align: middle;\n",
       "    }\n",
       "\n",
       "    .dataframe tbody tr th {\n",
       "        vertical-align: top;\n",
       "    }\n",
       "\n",
       "    .dataframe thead th {\n",
       "        text-align: right;\n",
       "    }\n",
       "</style>\n",
       "<table border=\"1\" class=\"dataframe\">\n",
       "  <thead>\n",
       "    <tr style=\"text-align: right;\">\n",
       "      <th></th>\n",
       "      <th>total_number_of_reviews</th>\n",
       "    </tr>\n",
       "  </thead>\n",
       "  <tbody>\n",
       "    <tr>\n",
       "      <th>0</th>\n",
       "      <td>2793</td>\n",
       "    </tr>\n",
       "  </tbody>\n",
       "</table>\n",
       "</div>"
      ],
      "text/plain": [
       "   total_number_of_reviews\n",
       "0                     2793"
      ]
     },
     "execution_count": 7,
     "metadata": {},
     "output_type": "execute_result"
    }
   ],
   "source": [
    "query = '''\n",
    "            SELECT * FROM ratings\n",
    "            LIMIT 10\n",
    "        '''\n",
    "\n",
    "display(pd.io.sql.read_sql(query, con = engine))\n",
    "\n",
    "query = '''\n",
    "            SELECT COUNT(rating_id) AS total_number_of_ratings\n",
    "            FROM ratings\n",
    "        '''\n",
    "\n",
    "display(pd.io.sql.read_sql(query, con = engine))\n",
    "\n",
    "query = '''\n",
    "            SELECT * FROM reviews\n",
    "            LIMIT 10\n",
    "        '''\n",
    "\n",
    "display(pd.io.sql.read_sql(query, con = engine))\n",
    "\n",
    "query = '''\n",
    "            SELECT COUNT(review_id) AS total_number_of_reviews\n",
    "            FROM reviews\n",
    "        '''\n",
    "\n",
    "pd.io.sql.read_sql(query, con = engine)"
   ]
  },
  {
   "cell_type": "markdown",
   "id": "c0397183",
   "metadata": {},
   "source": [
    "В обеих таблицах есть внешний ключ `book_id`, отсылающий к таблице `books`. Всего пользователи оценили книги 6456 раз и написали 2793 обзора.\n",
    "\n",
    "Посмотрим, в каких пределах варьируются возможные значения рейтинга книги:"
   ]
  },
  {
   "cell_type": "code",
   "execution_count": 8,
   "id": "77359462",
   "metadata": {
    "scrolled": false
   },
   "outputs": [
    {
     "data": {
      "text/html": [
       "<div>\n",
       "<style scoped>\n",
       "    .dataframe tbody tr th:only-of-type {\n",
       "        vertical-align: middle;\n",
       "    }\n",
       "\n",
       "    .dataframe tbody tr th {\n",
       "        vertical-align: top;\n",
       "    }\n",
       "\n",
       "    .dataframe thead th {\n",
       "        text-align: right;\n",
       "    }\n",
       "</style>\n",
       "<table border=\"1\" class=\"dataframe\">\n",
       "  <thead>\n",
       "    <tr style=\"text-align: right;\">\n",
       "      <th></th>\n",
       "      <th>min</th>\n",
       "      <th>max</th>\n",
       "    </tr>\n",
       "  </thead>\n",
       "  <tbody>\n",
       "    <tr>\n",
       "      <th>0</th>\n",
       "      <td>1</td>\n",
       "      <td>5</td>\n",
       "    </tr>\n",
       "  </tbody>\n",
       "</table>\n",
       "</div>"
      ],
      "text/plain": [
       "   min  max\n",
       "0    1    5"
      ]
     },
     "execution_count": 8,
     "metadata": {},
     "output_type": "execute_result"
    }
   ],
   "source": [
    "query = '''\n",
    "            SELECT MIN(rating),\n",
    "                   MAX(rating)\n",
    "            FROM ratings\n",
    "        '''\n",
    "\n",
    "pd.io.sql.read_sql(query, con = engine)"
   ]
  },
  {
   "cell_type": "markdown",
   "id": "2a308045",
   "metadata": {},
   "source": [
    "Так, оценка пользователей может варьироваться в пределах от 1 до 5.\n",
    "\n",
    "Можно сделать вывод, что в сервисе представлена 1000 книг 1952-2020 гг. выпуска, написанных 636 разными авторами, опубликованная 340 издательствами. Пользователи сервиса поставили 6456 оценок от 1 до 5, написали 2793 обзора.\n",
    "\n",
    "Теперь, когда общее представление о каталоге сервиса получено, можно приступать к исследовательского анализу данных."
   ]
  },
  {
   "cell_type": "markdown",
   "id": "81c33ff0",
   "metadata": {},
   "source": [
    "## EDA"
   ]
  },
  {
   "cell_type": "markdown",
   "id": "9c76a314",
   "metadata": {},
   "source": [
    "### Задача 1"
   ]
  },
  {
   "cell_type": "markdown",
   "id": "0d5ed57f",
   "metadata": {},
   "source": [
    "Посчитаем, сколько книг вышло в XXI веке, т. е. после 1 января 2000 г. (включительно):"
   ]
  },
  {
   "cell_type": "code",
   "execution_count": 9,
   "id": "7dfef623",
   "metadata": {
    "scrolled": false
   },
   "outputs": [
    {
     "data": {
      "text/html": [
       "<div>\n",
       "<style scoped>\n",
       "    .dataframe tbody tr th:only-of-type {\n",
       "        vertical-align: middle;\n",
       "    }\n",
       "\n",
       "    .dataframe tbody tr th {\n",
       "        vertical-align: top;\n",
       "    }\n",
       "\n",
       "    .dataframe thead th {\n",
       "        text-align: right;\n",
       "    }\n",
       "</style>\n",
       "<table border=\"1\" class=\"dataframe\">\n",
       "  <thead>\n",
       "    <tr style=\"text-align: right;\">\n",
       "      <th></th>\n",
       "      <th>this_century_books</th>\n",
       "    </tr>\n",
       "  </thead>\n",
       "  <tbody>\n",
       "    <tr>\n",
       "      <th>0</th>\n",
       "      <td>821</td>\n",
       "    </tr>\n",
       "  </tbody>\n",
       "</table>\n",
       "</div>"
      ],
      "text/plain": [
       "   this_century_books\n",
       "0                 821"
      ]
     },
     "execution_count": 9,
     "metadata": {},
     "output_type": "execute_result"
    }
   ],
   "source": [
    "query = '''\n",
    "            SELECT COUNT(book_id) AS this_century_books\n",
    "            FROM books\n",
    "            WHERE CAST(publication_date AS timestamp) >= '2000-01-01'\n",
    "        '''\n",
    "\n",
    "pd.io.sql.read_sql(query, con = engine)"
   ]
  },
  {
   "cell_type": "markdown",
   "id": "5c2476b6",
   "metadata": {},
   "source": [
    "Так, из 1000 книг в каталоге 821 вышла в свет в XXI веке, т. е. в сервисе представлены в основном современная литература или переизданные произведения."
   ]
  },
  {
   "cell_type": "markdown",
   "id": "cdcee19e",
   "metadata": {},
   "source": [
    "### Задача 2"
   ]
  },
  {
   "cell_type": "markdown",
   "id": "cdb2cd18",
   "metadata": {},
   "source": [
    "Посчитаем для каждой книги количество обзоров и среднюю оценку:"
   ]
  },
  {
   "cell_type": "code",
   "execution_count": 10,
   "id": "e48f3805",
   "metadata": {
    "scrolled": false
   },
   "outputs": [
    {
     "data": {
      "text/html": [
       "<div>\n",
       "<style scoped>\n",
       "    .dataframe tbody tr th:only-of-type {\n",
       "        vertical-align: middle;\n",
       "    }\n",
       "\n",
       "    .dataframe tbody tr th {\n",
       "        vertical-align: top;\n",
       "    }\n",
       "\n",
       "    .dataframe thead th {\n",
       "        text-align: right;\n",
       "    }\n",
       "</style>\n",
       "<table border=\"1\" class=\"dataframe\">\n",
       "  <thead>\n",
       "    <tr style=\"text-align: right;\">\n",
       "      <th></th>\n",
       "      <th>book_id</th>\n",
       "      <th>title</th>\n",
       "      <th>reviews_number</th>\n",
       "      <th>avg_rating</th>\n",
       "    </tr>\n",
       "  </thead>\n",
       "  <tbody>\n",
       "    <tr>\n",
       "      <th>0</th>\n",
       "      <td>948</td>\n",
       "      <td>Twilight (Twilight  #1)</td>\n",
       "      <td>7</td>\n",
       "      <td>3.662500</td>\n",
       "    </tr>\n",
       "    <tr>\n",
       "      <th>1</th>\n",
       "      <td>302</td>\n",
       "      <td>Harry Potter and the Prisoner of Azkaban (Harr...</td>\n",
       "      <td>6</td>\n",
       "      <td>4.414634</td>\n",
       "    </tr>\n",
       "    <tr>\n",
       "      <th>2</th>\n",
       "      <td>299</td>\n",
       "      <td>Harry Potter and the Chamber of Secrets (Harry...</td>\n",
       "      <td>6</td>\n",
       "      <td>4.287500</td>\n",
       "    </tr>\n",
       "    <tr>\n",
       "      <th>3</th>\n",
       "      <td>656</td>\n",
       "      <td>The Book Thief</td>\n",
       "      <td>6</td>\n",
       "      <td>4.264151</td>\n",
       "    </tr>\n",
       "    <tr>\n",
       "      <th>4</th>\n",
       "      <td>734</td>\n",
       "      <td>The Glass Castle</td>\n",
       "      <td>6</td>\n",
       "      <td>4.206897</td>\n",
       "    </tr>\n",
       "    <tr>\n",
       "      <th>5</th>\n",
       "      <td>497</td>\n",
       "      <td>Outlander (Outlander  #1)</td>\n",
       "      <td>6</td>\n",
       "      <td>4.125000</td>\n",
       "    </tr>\n",
       "    <tr>\n",
       "      <th>6</th>\n",
       "      <td>750</td>\n",
       "      <td>The Hobbit  or There and Back Again</td>\n",
       "      <td>6</td>\n",
       "      <td>4.125000</td>\n",
       "    </tr>\n",
       "    <tr>\n",
       "      <th>7</th>\n",
       "      <td>695</td>\n",
       "      <td>The Curious Incident of the Dog in the Night-Time</td>\n",
       "      <td>6</td>\n",
       "      <td>4.081081</td>\n",
       "    </tr>\n",
       "    <tr>\n",
       "      <th>8</th>\n",
       "      <td>779</td>\n",
       "      <td>The Lightning Thief (Percy Jackson and the Oly...</td>\n",
       "      <td>6</td>\n",
       "      <td>4.080645</td>\n",
       "    </tr>\n",
       "    <tr>\n",
       "      <th>9</th>\n",
       "      <td>963</td>\n",
       "      <td>Water for Elephants</td>\n",
       "      <td>6</td>\n",
       "      <td>3.977273</td>\n",
       "    </tr>\n",
       "  </tbody>\n",
       "</table>\n",
       "</div>"
      ],
      "text/plain": [
       "   book_id                                              title  reviews_number  \\\n",
       "0      948                            Twilight (Twilight  #1)               7   \n",
       "1      302  Harry Potter and the Prisoner of Azkaban (Harr...               6   \n",
       "2      299  Harry Potter and the Chamber of Secrets (Harry...               6   \n",
       "3      656                                     The Book Thief               6   \n",
       "4      734                                   The Glass Castle               6   \n",
       "5      497                          Outlander (Outlander  #1)               6   \n",
       "6      750                The Hobbit  or There and Back Again               6   \n",
       "7      695  The Curious Incident of the Dog in the Night-Time               6   \n",
       "8      779  The Lightning Thief (Percy Jackson and the Oly...               6   \n",
       "9      963                                Water for Elephants               6   \n",
       "\n",
       "   avg_rating  \n",
       "0    3.662500  \n",
       "1    4.414634  \n",
       "2    4.287500  \n",
       "3    4.264151  \n",
       "4    4.206897  \n",
       "5    4.125000  \n",
       "6    4.125000  \n",
       "7    4.081081  \n",
       "8    4.080645  \n",
       "9    3.977273  "
      ]
     },
     "execution_count": 10,
     "metadata": {},
     "output_type": "execute_result"
    }
   ],
   "source": [
    "query = '''\n",
    "            WITH re AS\n",
    "            (SELECT book_id,\n",
    "                    COUNT(review_id) AS reviews_number\n",
    "            FROM reviews\n",
    "            GROUP BY book_id),\n",
    "            \n",
    "            ra AS \n",
    "            (SELECT book_id,\n",
    "                    AVG(rating) AS avg_rating\n",
    "            FROM ratings\n",
    "            GROUP BY book_id)\n",
    "            \n",
    "            -- выведем Топ-10 книг с наибольшим количеством обзоров: --\n",
    "            \n",
    "            SELECT b.book_id,\n",
    "                   b.title,\n",
    "                   re.reviews_number,\n",
    "                   ra.avg_rating\n",
    "            FROM books AS b\n",
    "            JOIN re ON re.book_id = b.book_id\n",
    "            JOIN ra ON ra.book_id = b.book_id\n",
    "            ORDER BY re.reviews_number DESC, ra.avg_rating DESC\n",
    "            LIMIT 10\n",
    "        '''\n",
    "\n",
    "pd.io.sql.read_sql(query, con = engine)"
   ]
  },
  {
   "cell_type": "markdown",
   "id": "c4fe419b",
   "metadata": {},
   "source": [
    "Так, у книг, на которые пользователи написали наибольшее количество рецензий, далеко не самые высокие средние рейтинги. Например, Топ-10 возглавляет первая книга из серии \"Сумерки\" с 7 рецензиями, средняя оценка которой равна 3.7. Однако все книги из рейтинга очень популярные: здесь присутствует много книг о Гарри Поттере, книги Толкиена и др. В целом можно сказать, что у наиболее популярных книг средний рейтинг не будет максимальным (поскольку среди большого количества читателей вероятность найти того, кому книга не понравилась, намного выше)."
   ]
  },
  {
   "cell_type": "markdown",
   "id": "73c9c93c",
   "metadata": {},
   "source": [
    "### Задача 3"
   ]
  },
  {
   "cell_type": "markdown",
   "id": "1a09dca7",
   "metadata": {},
   "source": [
    "Теперь посмотрим, какое издательство является самым крупным. Для этого найдём то, которое выпустило наибольшее число книг толще 50 страниц (исключаем из анализа брошюры):"
   ]
  },
  {
   "cell_type": "code",
   "execution_count": 11,
   "id": "376eab67",
   "metadata": {
    "scrolled": false
   },
   "outputs": [
    {
     "data": {
      "text/html": [
       "<div>\n",
       "<style scoped>\n",
       "    .dataframe tbody tr th:only-of-type {\n",
       "        vertical-align: middle;\n",
       "    }\n",
       "\n",
       "    .dataframe tbody tr th {\n",
       "        vertical-align: top;\n",
       "    }\n",
       "\n",
       "    .dataframe thead th {\n",
       "        text-align: right;\n",
       "    }\n",
       "</style>\n",
       "<table border=\"1\" class=\"dataframe\">\n",
       "  <thead>\n",
       "    <tr style=\"text-align: right;\">\n",
       "      <th></th>\n",
       "      <th>publisher</th>\n",
       "      <th>total_books</th>\n",
       "    </tr>\n",
       "  </thead>\n",
       "  <tbody>\n",
       "    <tr>\n",
       "      <th>0</th>\n",
       "      <td>Penguin Books</td>\n",
       "      <td>42</td>\n",
       "    </tr>\n",
       "  </tbody>\n",
       "</table>\n",
       "</div>"
      ],
      "text/plain": [
       "       publisher  total_books\n",
       "0  Penguin Books           42"
      ]
     },
     "execution_count": 11,
     "metadata": {},
     "output_type": "execute_result"
    }
   ],
   "source": [
    "query = '''\n",
    "            SELECT p.publisher,\n",
    "                   COUNT(b.book_id) AS total_books\n",
    "            FROM books AS b\n",
    "            JOIN publishers AS p ON b.publisher_id = p.publisher_id\n",
    "            WHERE b.num_pages > 50\n",
    "            GROUP BY p.publisher_id\n",
    "            ORDER BY total_books DESC\n",
    "            LIMIT 1\n",
    "        '''\n",
    "\n",
    "pd.io.sql.read_sql(query, con = engine)"
   ]
  },
  {
   "cell_type": "markdown",
   "id": "46941639",
   "metadata": {},
   "source": [
    "Наибольшее число книг (42) выпустило издательство Penguin Books, тем не менее это всё равно очень мало. Можно выделить две причины: 1) сервис сотрудничает только с маленькими издательствами (однако это маловероятно, поскольку в его коллекции присутствуют известные бестселлеры), 2) сервис закупает небольшое количество книг у разных издательств (это кажется наиболее вероятным). Такой подход говорит о том, что коллекция сервиса, хотя и небольшая, но разнообразная."
   ]
  },
  {
   "cell_type": "markdown",
   "id": "959265e3",
   "metadata": {},
   "source": [
    "### Задача 4"
   ]
  },
  {
   "cell_type": "markdown",
   "id": "441e2094",
   "metadata": {},
   "source": [
    "Определим автора с самой высокой средней оценкой книг (чтобы можно выделить более объективное мнение, будем учитывать только книги с 50 и более оценками):"
   ]
  },
  {
   "cell_type": "code",
   "execution_count": 12,
   "id": "73f65b26",
   "metadata": {
    "scrolled": true
   },
   "outputs": [
    {
     "data": {
      "text/html": [
       "<div>\n",
       "<style scoped>\n",
       "    .dataframe tbody tr th:only-of-type {\n",
       "        vertical-align: middle;\n",
       "    }\n",
       "\n",
       "    .dataframe tbody tr th {\n",
       "        vertical-align: top;\n",
       "    }\n",
       "\n",
       "    .dataframe thead th {\n",
       "        text-align: right;\n",
       "    }\n",
       "</style>\n",
       "<table border=\"1\" class=\"dataframe\">\n",
       "  <thead>\n",
       "    <tr style=\"text-align: right;\">\n",
       "      <th></th>\n",
       "      <th>author</th>\n",
       "      <th>avg_rating</th>\n",
       "    </tr>\n",
       "  </thead>\n",
       "  <tbody>\n",
       "    <tr>\n",
       "      <th>0</th>\n",
       "      <td>J.K. Rowling/Mary GrandPré</td>\n",
       "      <td>4.287097</td>\n",
       "    </tr>\n",
       "  </tbody>\n",
       "</table>\n",
       "</div>"
      ],
      "text/plain": [
       "                       author  avg_rating\n",
       "0  J.K. Rowling/Mary GrandPré    4.287097"
      ]
     },
     "execution_count": 12,
     "metadata": {},
     "output_type": "execute_result"
    }
   ],
   "source": [
    "query = '''\n",
    "            SELECT a.author,\n",
    "                   AVG(r.rating) AS avg_rating\n",
    "            FROM authors AS a\n",
    "            JOIN books AS b ON a.author_id = b.author_id\n",
    "            JOIN ratings AS r ON b.book_id = r.book_id\n",
    "            WHERE r.book_id IN (SELECT book_id\n",
    "                                FROM ratings\n",
    "                                GROUP BY book_id\n",
    "                                HAVING COUNT(rating_id) >= 50)\n",
    "            GROUP BY a.author_id\n",
    "            ORDER BY avg_rating DESC\n",
    "            LIMIT 1\n",
    "        '''\n",
    "\n",
    "pd.io.sql.read_sql(query, con = engine)"
   ]
  },
  {
   "cell_type": "markdown",
   "id": "39131bd6",
   "metadata": {},
   "source": [
    "Так, наиболее высокая средняя оценка в сервисе (4.3) принадлежит дуэту Джоан Роулинг и Мэри Грандпре, создавшим книги о Гарри Поттере."
   ]
  },
  {
   "cell_type": "markdown",
   "id": "7407a326",
   "metadata": {},
   "source": [
    "### Задача 5"
   ]
  },
  {
   "cell_type": "markdown",
   "id": "7c738b0e",
   "metadata": {},
   "source": [
    "Проанализируем поведение активных пользователей: посчитаем среднее количество обзоров от пользователей, которые поставили больше 50 оценок:"
   ]
  },
  {
   "cell_type": "code",
   "execution_count": 15,
   "id": "4e0a8c39",
   "metadata": {
    "scrolled": false
   },
   "outputs": [
    {
     "data": {
      "text/html": [
       "<div>\n",
       "<style scoped>\n",
       "    .dataframe tbody tr th:only-of-type {\n",
       "        vertical-align: middle;\n",
       "    }\n",
       "\n",
       "    .dataframe tbody tr th {\n",
       "        vertical-align: top;\n",
       "    }\n",
       "\n",
       "    .dataframe thead th {\n",
       "        text-align: right;\n",
       "    }\n",
       "</style>\n",
       "<table border=\"1\" class=\"dataframe\">\n",
       "  <thead>\n",
       "    <tr style=\"text-align: right;\">\n",
       "      <th></th>\n",
       "      <th>avg_reviews</th>\n",
       "    </tr>\n",
       "  </thead>\n",
       "  <tbody>\n",
       "    <tr>\n",
       "      <th>0</th>\n",
       "      <td>24.222222</td>\n",
       "    </tr>\n",
       "  </tbody>\n",
       "</table>\n",
       "</div>"
      ],
      "text/plain": [
       "   avg_reviews\n",
       "0    24.222222"
      ]
     },
     "execution_count": 15,
     "metadata": {},
     "output_type": "execute_result"
    }
   ],
   "source": [
    "query = '''\n",
    "            SELECT AVG(reviews_number) AS avg_reviews FROM (\n",
    "                                             SELECT DISTINCT username,\n",
    "                                                    COUNT(review_id) AS reviews_number\n",
    "                                             FROM reviews\n",
    "                                             WHERE username IN (SELECT username\n",
    "                                                                FROM ratings\n",
    "                                                                GROUP BY username\n",
    "                                                                HAVING COUNT(rating_id) >= 50) \n",
    "                                             GROUP BY username) re\n",
    "        '''\n",
    "\n",
    "pd.io.sql.read_sql(query, con = engine)"
   ]
  },
  {
   "cell_type": "markdown",
   "id": "ea5f97be",
   "metadata": {},
   "source": [
    "Так, в среднем такие пользователи пишут около 24 рецензий."
   ]
  },
  {
   "cell_type": "markdown",
   "id": "d228942f",
   "metadata": {},
   "source": [
    "## Выводы"
   ]
  },
  {
   "cell_type": "markdown",
   "id": "108e94fc",
   "metadata": {},
   "source": [
    "В сервисе представлена **1000 книг 1952-2020 гг. выпуска**, написанных **636 разными авторами**, опубликованная **340 издательствами**. Пользователи сервиса поставили **6456 оценок** от 1 до 5, написали **2793 обзора**.\n",
    "\n",
    "Кроме того, в ходе EDA было выяснено, что:\n",
    "* Более **80% книг**, представленных в сервисе, было **издано в XXI веке**.\n",
    "* Книги, на которые пользователи написали **наибольшее количество рецензий**, являются **мировыми бестселлерами**, но имеют **не максимальные средние рейтинги**.\n",
    "* В сервисе представлена **разнообразная литература**.\n",
    "* Автор с самым высоким средним рейтингом в сервисе - **Джоан Роулинг**.\n",
    "* Пользователи, которые ставят **много оценок** (больше 50), в среднем пишут **около 24 рецензий**."
   ]
  }
 ],
 "metadata": {
  "ExecuteTimeLog": [
   {
    "duration": 494,
    "start_time": "2022-11-08T10:46:29.437Z"
   },
   {
    "duration": 7747,
    "start_time": "2022-11-08T10:46:29.933Z"
   },
   {
    "duration": 78,
    "start_time": "2022-11-08T10:46:37.682Z"
   },
   {
    "duration": 12,
    "start_time": "2022-11-08T10:46:37.762Z"
   },
   {
    "duration": 21,
    "start_time": "2022-11-08T10:46:37.776Z"
   },
   {
    "duration": 19,
    "start_time": "2022-11-08T10:46:37.799Z"
   },
   {
    "duration": 41,
    "start_time": "2022-11-08T10:46:37.820Z"
   },
   {
    "duration": 11,
    "start_time": "2022-11-08T10:46:37.863Z"
   },
   {
    "duration": 24,
    "start_time": "2022-11-08T10:46:37.876Z"
   },
   {
    "duration": 24,
    "start_time": "2022-11-08T10:46:37.902Z"
   },
   {
    "duration": 12,
    "start_time": "2022-11-08T10:46:37.927Z"
   },
   {
    "duration": 16,
    "start_time": "2022-11-08T10:46:37.940Z"
   },
   {
    "duration": 20,
    "start_time": "2022-11-08T10:46:37.958Z"
   },
   {
    "duration": 69,
    "start_time": "2022-11-08T10:47:54.626Z"
   },
   {
    "duration": 537,
    "start_time": "2022-11-08T10:48:09.580Z"
   },
   {
    "duration": 8185,
    "start_time": "2022-11-08T10:48:10.119Z"
   },
   {
    "duration": 48,
    "start_time": "2022-11-08T10:48:18.306Z"
   },
   {
    "duration": 12,
    "start_time": "2022-11-08T10:48:18.356Z"
   },
   {
    "duration": 19,
    "start_time": "2022-11-08T10:48:18.370Z"
   },
   {
    "duration": 27,
    "start_time": "2022-11-08T10:48:18.391Z"
   },
   {
    "duration": 38,
    "start_time": "2022-11-08T10:48:18.420Z"
   },
   {
    "duration": 11,
    "start_time": "2022-11-08T10:48:18.459Z"
   },
   {
    "duration": 16,
    "start_time": "2022-11-08T10:48:18.471Z"
   },
   {
    "duration": 27,
    "start_time": "2022-11-08T10:48:18.497Z"
   },
   {
    "duration": 24,
    "start_time": "2022-11-08T10:48:18.526Z"
   },
   {
    "duration": 21,
    "start_time": "2022-11-08T10:48:18.552Z"
   },
   {
    "duration": 39,
    "start_time": "2022-11-08T10:48:18.575Z"
   },
   {
    "duration": 13,
    "start_time": "2022-11-08T10:48:45.435Z"
   },
   {
    "duration": 12,
    "start_time": "2022-11-08T10:48:48.587Z"
   },
   {
    "duration": 69,
    "start_time": "2022-11-08T10:56:34.470Z"
   },
   {
    "duration": 415,
    "start_time": "2022-11-08T20:56:57.783Z"
   },
   {
    "duration": 7491,
    "start_time": "2022-11-08T20:56:58.200Z"
   },
   {
    "duration": 76,
    "start_time": "2022-11-08T20:57:05.693Z"
   },
   {
    "duration": 10,
    "start_time": "2022-11-08T20:57:05.771Z"
   },
   {
    "duration": 23,
    "start_time": "2022-11-08T20:57:05.783Z"
   },
   {
    "duration": 16,
    "start_time": "2022-11-08T20:57:05.807Z"
   },
   {
    "duration": 34,
    "start_time": "2022-11-08T20:57:05.824Z"
   },
   {
    "duration": 11,
    "start_time": "2022-11-08T20:57:05.859Z"
   },
   {
    "duration": 13,
    "start_time": "2022-11-08T20:57:05.871Z"
   },
   {
    "duration": 33,
    "start_time": "2022-11-08T20:57:05.887Z"
   },
   {
    "duration": 10,
    "start_time": "2022-11-08T20:57:05.922Z"
   },
   {
    "duration": 17,
    "start_time": "2022-11-08T20:57:05.934Z"
   },
   {
    "duration": 19,
    "start_time": "2022-11-08T20:57:05.953Z"
   },
   {
    "duration": 37,
    "start_time": "2022-11-08T20:57:14.279Z"
   },
   {
    "duration": 19,
    "start_time": "2022-11-08T20:57:24.596Z"
   },
   {
    "duration": 28,
    "start_time": "2022-11-08T20:58:31.232Z"
   },
   {
    "duration": 27,
    "start_time": "2022-11-08T20:59:03.733Z"
   },
   {
    "duration": 30,
    "start_time": "2022-11-08T20:59:08.985Z"
   },
   {
    "duration": 18,
    "start_time": "2022-11-08T20:59:44.061Z"
   },
   {
    "duration": 18,
    "start_time": "2022-11-08T21:05:48.427Z"
   },
   {
    "duration": 27,
    "start_time": "2022-11-08T21:05:54.793Z"
   },
   {
    "duration": 28,
    "start_time": "2022-11-08T21:05:59.105Z"
   },
   {
    "duration": 17,
    "start_time": "2022-11-08T21:12:42.989Z"
   },
   {
    "duration": 19,
    "start_time": "2022-11-08T21:12:48.212Z"
   },
   {
    "duration": 29,
    "start_time": "2022-11-08T21:12:54.661Z"
   },
   {
    "duration": 29,
    "start_time": "2022-11-08T21:12:58.804Z"
   },
   {
    "duration": 27,
    "start_time": "2022-11-08T21:15:38.682Z"
   },
   {
    "duration": 19,
    "start_time": "2022-11-08T21:16:14.015Z"
   },
   {
    "duration": 29,
    "start_time": "2022-11-08T21:16:35.747Z"
   },
   {
    "duration": 23,
    "start_time": "2022-11-08T21:16:41.277Z"
   },
   {
    "duration": 21,
    "start_time": "2022-11-08T21:17:43.080Z"
   },
   {
    "duration": 20,
    "start_time": "2022-11-08T21:17:54.702Z"
   },
   {
    "duration": 31,
    "start_time": "2022-11-08T21:18:16.140Z"
   },
   {
    "duration": 22,
    "start_time": "2022-11-08T21:18:30.383Z"
   },
   {
    "duration": 21,
    "start_time": "2022-11-08T21:18:40.431Z"
   },
   {
    "duration": 37,
    "start_time": "2022-11-08T21:18:44.764Z"
   },
   {
    "duration": 27,
    "start_time": "2022-11-08T21:19:01.572Z"
   },
   {
    "duration": 35,
    "start_time": "2022-11-08T21:19:11.310Z"
   },
   {
    "duration": 23,
    "start_time": "2022-11-08T21:19:14.758Z"
   },
   {
    "duration": 35,
    "start_time": "2022-11-08T21:19:20.541Z"
   },
   {
    "duration": 36,
    "start_time": "2022-11-08T21:19:24.557Z"
   },
   {
    "duration": 36,
    "start_time": "2022-11-08T21:19:39.254Z"
   },
   {
    "duration": 36,
    "start_time": "2022-11-08T21:19:47.892Z"
   },
   {
    "duration": 29,
    "start_time": "2022-11-08T21:21:10.303Z"
   },
   {
    "duration": 33,
    "start_time": "2022-11-08T21:21:19.491Z"
   },
   {
    "duration": 31,
    "start_time": "2022-11-08T21:21:25.230Z"
   },
   {
    "duration": 36,
    "start_time": "2022-11-08T21:21:29.860Z"
   },
   {
    "duration": 34,
    "start_time": "2022-11-08T21:21:46.745Z"
   },
   {
    "duration": 35,
    "start_time": "2022-11-08T21:21:49.898Z"
   },
   {
    "duration": 32,
    "start_time": "2022-11-08T21:21:54.690Z"
   },
   {
    "duration": 28,
    "start_time": "2022-11-08T21:22:16.527Z"
   },
   {
    "duration": 19,
    "start_time": "2022-11-08T21:22:53.750Z"
   },
   {
    "duration": 28,
    "start_time": "2022-11-08T21:25:01.720Z"
   },
   {
    "duration": 31,
    "start_time": "2022-11-08T21:25:11.568Z"
   },
   {
    "duration": 33,
    "start_time": "2022-11-08T21:25:21.901Z"
   },
   {
    "duration": 17,
    "start_time": "2022-11-08T21:26:14.331Z"
   },
   {
    "duration": 19,
    "start_time": "2022-11-08T21:27:09.625Z"
   },
   {
    "duration": 20,
    "start_time": "2022-11-08T21:27:14.776Z"
   },
   {
    "duration": 17,
    "start_time": "2022-11-08T21:27:27.735Z"
   },
   {
    "duration": 34,
    "start_time": "2022-11-08T21:29:26.752Z"
   },
   {
    "duration": 33,
    "start_time": "2022-11-08T21:29:32.899Z"
   },
   {
    "duration": 35,
    "start_time": "2022-11-08T21:29:39.707Z"
   },
   {
    "duration": 13,
    "start_time": "2022-11-08T21:30:52.336Z"
   },
   {
    "duration": 14,
    "start_time": "2022-11-08T21:31:14.512Z"
   },
   {
    "duration": 14,
    "start_time": "2022-11-08T21:31:41.755Z"
   },
   {
    "duration": 15,
    "start_time": "2022-11-08T21:32:26.670Z"
   },
   {
    "duration": 30,
    "start_time": "2022-11-08T21:32:55.393Z"
   },
   {
    "duration": 30,
    "start_time": "2022-11-08T21:33:33.423Z"
   },
   {
    "duration": 16,
    "start_time": "2022-11-08T21:33:38.728Z"
   },
   {
    "duration": 24,
    "start_time": "2022-11-08T21:34:15.992Z"
   },
   {
    "duration": 158,
    "start_time": "2022-11-08T21:34:55.689Z"
   },
   {
    "duration": 225,
    "start_time": "2022-11-08T21:35:22.304Z"
   },
   {
    "duration": 612,
    "start_time": "2022-11-08T21:35:34.737Z"
   },
   {
    "duration": 16,
    "start_time": "2022-11-08T21:36:38.317Z"
   },
   {
    "duration": 15,
    "start_time": "2022-11-08T21:36:48.581Z"
   },
   {
    "duration": 14,
    "start_time": "2022-11-08T21:37:03.511Z"
   },
   {
    "duration": 87,
    "start_time": "2022-11-08T21:37:07.201Z"
   },
   {
    "duration": 16,
    "start_time": "2022-11-08T21:37:11.009Z"
   },
   {
    "duration": 18,
    "start_time": "2022-11-08T21:38:35.812Z"
   },
   {
    "duration": 93,
    "start_time": "2022-11-08T21:38:58.924Z"
   },
   {
    "duration": 90,
    "start_time": "2022-11-08T21:39:07.550Z"
   },
   {
    "duration": 15,
    "start_time": "2022-11-08T21:39:15.078Z"
   },
   {
    "duration": 15,
    "start_time": "2022-11-08T21:39:22.900Z"
   },
   {
    "duration": 108,
    "start_time": "2022-11-08T21:39:32.333Z"
   },
   {
    "duration": 105,
    "start_time": "2022-11-08T21:39:38.823Z"
   },
   {
    "duration": 13,
    "start_time": "2022-11-08T21:39:49.211Z"
   },
   {
    "duration": 510,
    "start_time": "2022-11-10T08:26:07.661Z"
   },
   {
    "duration": 5202,
    "start_time": "2022-11-10T08:26:08.173Z"
   },
   {
    "duration": 355,
    "start_time": "2022-11-10T08:26:13.376Z"
   },
   {
    "duration": 78,
    "start_time": "2022-11-10T08:26:13.734Z"
   },
   {
    "duration": 152,
    "start_time": "2022-11-10T08:26:13.814Z"
   },
   {
    "duration": 175,
    "start_time": "2022-11-10T08:26:13.967Z"
   },
   {
    "duration": 304,
    "start_time": "2022-11-10T08:26:14.144Z"
   },
   {
    "duration": 77,
    "start_time": "2022-11-10T08:26:14.450Z"
   },
   {
    "duration": 95,
    "start_time": "2022-11-10T08:26:14.528Z"
   },
   {
    "duration": 87,
    "start_time": "2022-11-10T08:26:14.625Z"
   },
   {
    "duration": 81,
    "start_time": "2022-11-10T08:26:14.713Z"
   },
   {
    "duration": 81,
    "start_time": "2022-11-10T08:26:14.796Z"
   },
   {
    "duration": 85,
    "start_time": "2022-11-10T08:26:14.879Z"
   },
   {
    "duration": 77,
    "start_time": "2022-11-10T08:26:37.984Z"
   },
   {
    "duration": 78,
    "start_time": "2022-11-10T08:32:02.043Z"
   }
  ],
  "kernelspec": {
   "display_name": "Python 3 (ipykernel)",
   "language": "python",
   "name": "python3"
  },
  "language_info": {
   "codemirror_mode": {
    "name": "ipython",
    "version": 3
   },
   "file_extension": ".py",
   "mimetype": "text/x-python",
   "name": "python",
   "nbconvert_exporter": "python",
   "pygments_lexer": "ipython3",
   "version": "3.9.7"
  },
  "toc": {
   "base_numbering": 1,
   "nav_menu": {},
   "number_sections": true,
   "sideBar": true,
   "skip_h1_title": true,
   "title_cell": "Table of Contents",
   "title_sidebar": "Contents",
   "toc_cell": true,
   "toc_position": {},
   "toc_section_display": true,
   "toc_window_display": true
  }
 },
 "nbformat": 4,
 "nbformat_minor": 5
}
